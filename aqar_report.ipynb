{
 "cells": [
  {
   "cell_type": "raw",
   "id": "4923c9f3",
   "metadata": {},
   "source": [
    "---\n",
    "title: Aqar Real Estate EDA\n",
    "subtitle: ''\n",
    "author: 'Turki Alsaedi, Yousef Alotaibi, Ahmed Almohammed, Lana Almorabah, Mohammed Alsalamah'\n",
    "author-title: Authors\n",
    "execute:\n",
    "  echo: false\n",
    "format:\n",
    "  html:\n",
    "    theme: pulse\n",
    "    toc: true\n",
    "    toc-title: Contents\n",
    "    toc-depth: 2\n",
    "    number-sections: true\n",
    "    code-fold: true\n",
    "    title-block-banner: data/header.jpg\n",
    "---"
   ]
  }
 ],
 "metadata": {
  "kernelspec": {
   "display_name": "Python 3 (ipykernel)",
   "language": "python",
   "name": "python3"
  }
 },
 "nbformat": 4,
 "nbformat_minor": 5
}
