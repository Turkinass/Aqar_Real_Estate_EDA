{
  "cells": [
    {
      "cell_type": "raw",
      "id": "59776db5",
      "metadata": {},
      "source": [
        "---\n",
        "title: Aqar Real Estate EDA\n",
        "format:\n",
        "  html:\n",
        "    theme: pulse\n",
        "    toc: true\n",
        "    toc-title: Contents\n",
        "    toc-depth: 3\n",
        "    number-sections: true\n",
        "    code-fold: true\n",
        "---"
      ]
    },
    {
      "cell_type": "markdown",
      "id": "07810ad0",
      "metadata": {},
      "source": [
        "# Overview of the dataset\n",
        "\n",
        "The Aqar Dataset was made based on 4 major cities in Saudi Arabia:\n",
        "\n",
        "- Riyadh\n",
        "- Jeddah\n",
        "- Dammam\n",
        "- Khobar\n",
        "\n",
        "The dataset is composed of over 3000 observations with 24 features as follows:\n",
        "\n",
        "Feature| Description\n",
        "---|----|\n",
        "city| city where house locate in\n",
        "district| district where house locate in\n",
        "front| What is the house front is north, west .. etc\n",
        "size| size in m^2\n",
        "propertyage| property age for the house \n",
        "bedrooms| number of bedrooms \n",
        "bathrooms| number of bathrooms \n",
        "livingrooms| number of livingrooms \n",
        "kitchen| show whether the house have a kitchen or not garage| show whether the house have a garage or not driverroom| show whether the house have a driverroom or not maidroom| show whether the house have a maid_room or not\n",
        "furnished| show whether the house is furnished or not\n",
        "ac| show whether the house have a ac or not\n",
        "roof| show whether the house have a space for roof on top or not\n",
        "pool| show whether the house have a pool or not\n",
        "frontyard| show whether the house have a frontyard or not\n",
        "basement| show whether the house have a basement or not\n",
        "duplex| show whether the house is a duplex or not\n",
        "stairs| show whether the house have a stairs or not\n",
        "elevator| show whether the house have an elevator or not\n",
        "fireplace| show whether the house have a fireplace or not\n",
        "price| show the price of the house\n",
        "details| shows any additional details from the house owner about the house\n"
      ]
    },
    {
      "cell_type": "code",
      "execution_count": null,
      "id": "abdf8979",
      "metadata": {
        "vscode": {
          "languageId": "python"
        }
      },
      "outputs": [],
      "source": [
        "#| echo: false\n",
        "\n",
        "import pandas as pd\n",
        "import numpy as np\n",
        "import matplotlib.pyplot as plt\n",
        "import seaborn as sns\n",
        "\n",
        "# support arabic plotting\n",
        "import arabic_reshaper # pip install arabic-reshaper\n",
        "from bidi.algorithm import get_display # pip install python-bidi\n",
        "\n",
        "data = pd.read_csv(\"SA_Aqar.csv\")\n",
        "\n",
        "# make a function to plot arabic labels\n",
        "def plot_arabic(labelsSeries: pd.Series):\n",
        "    \"\"\"\n",
        "    A function that plots arabic literals in their required format instead of just floating letters\n",
        "    \\nArgs:\n",
        "     - labelsSeries: a series of arabic labels \n",
        "    \\nReturns:\n",
        "     - result: a list of properly formatted arabic labels\n",
        "    \"\"\"\n",
        "\n",
        "    # apply the reshaping method\n",
        "    arabicLabels = labelsSeries.apply(arabic_reshaper.reshape)\n",
        "\n",
        "    # initiate the formatting process\n",
        "    result = []\n",
        "    for label in arabicLabels:\n",
        "        result.append(get_display(label))\n",
        "    \n",
        "    # return the formatted labels as a list if there are more than one value\n",
        "    if len(result) == 1:\n",
        "        return result[0]\n",
        "    else:\n",
        "        return result"
      ]
    },
    {
      "cell_type": "markdown",
      "id": "392add83",
      "metadata": {},
      "source": [
        "# EDA Process\n",
        "\n",
        "## Turki & Yousef"
      ]
    },
    {
      "cell_type": "code",
      "execution_count": null,
      "id": "Line-Chart",
      "metadata": {
        "vscode": {
          "languageId": "python"
        }
      },
      "outputs": [],
      "source": [
        "#| label: Line Chart\n",
        "#| fig-cap: Average price and size per city\n",
        "\n",
        "d_yousef = data[data['size'] < 80000]\n",
        "city_avg = d_yousef.groupby(plot_arabic(d_yousef['city'])).mean().sort_values('price', ascending = False)\n",
        "\n",
        "ax1 = plt.subplot()\n",
        "l1, = ax1.plot(city_avg['price'], color='red')\n",
        "plt.ylabel(plot_arabic(pd.Series(\"السعر\")))\n",
        "ax2 = ax1.twinx()\n",
        "l2, = ax2.plot(city_avg['size'], color='orange')\n",
        "\n",
        "plt.ylabel(plot_arabic(pd.Series(\"المساحة\")))\n",
        "plt.legend([l1, l2], plot_arabic(pd.Series([\"السعر\", \"المساحة\"])))"
      ]
    },
    {
      "cell_type": "markdown",
      "id": "676efa63",
      "metadata": {},
      "source": [
        "<br><br>"
      ]
    },
    {
      "cell_type": "code",
      "execution_count": null,
      "id": "Side-by-side-bar",
      "metadata": {
        "vscode": {
          "languageId": "python"
        }
      },
      "outputs": [],
      "source": [
        "#| label: Side-by-side bar\n",
        "#| fig-cap: Average price and size per distrit for Jeddah and Riyadh\n",
        "from IPython import display\n",
        "\n",
        "s = d_yousef.district.value_counts()\n",
        "repeated = set(s[s > 30].index.values)\n",
        "d_district = d_yousef[d_yousef.district.isin(repeated)]\n",
        "'''\n",
        "avg_size_dist = d_district.groupby(['city', 'district'])[['size', 'price']].mean().reset_index()\n",
        "riyadh = avg_size_dist.query(\"city == 'الرياض' & size < 500\")\n",
        "jeddah = avg_size_dist.query(\"city == 'جدة' & price < 160000\")\n",
        "\n",
        "plt.figure(figsize=(10,10))\n",
        "\n",
        "# RIYADH\n",
        "x = np.arange(len(riyadh))\n",
        "ax1 = plt.subplot(2,2,1)\n",
        "w = 0.3\n",
        "plt.title(plot_arabic(pd.Series('الرياض')))\n",
        "plt.xticks(x + w /2, plot_arabic(riyadh['district']), rotation='60')\n",
        "P =ax1.bar(x, riyadh['price'].sort_values(), width=w, color='r', align='center')\n",
        "plt.ylabel(plot_arabic(pd.Series(\"السعر\")))\n",
        "ax2 = ax1.twinx()\n",
        "S =ax2.bar(x + w, riyadh['size'].sort_values(), width=w,color='y',align='center')\n",
        "ax2.axes.yaxis.set_visible(False)\n",
        "plt.legend([P, S], plot_arabic(pd.Series(['متوسط السعر', 'متوسط المساحة'])))\n",
        "\n",
        "# JEDDAH\n",
        "x2 = np.arange(len(jeddah))\n",
        "ax3 = plt.subplot(2,2,2)\n",
        "w2 = 0.3\n",
        "plt.title(plot_arabic(pd.Series('جدة')))\n",
        "plt.xticks(x2 + w2 /2, plot_arabic(jeddah['district']), rotation='60')\n",
        "P =ax3.bar(x2, jeddah['price'].sort_values(), width=w2, color='r', align='center')\n",
        "ax3.axes.yaxis.set_visible(False)\n",
        "ax4 = ax3.twinx()\n",
        "S =ax4.bar(x2 + w2, jeddah['size'].sort_values(), width=w2,color='y',align='center')\n",
        "plt.ylabel(plot_arabic(pd.Series(\"المساحة\")))\n",
        "plt.legend([P, S], plot_arabic(pd.Series(['متوسط السعر', 'متوسط المساحة'])))\n",
        "\n",
        "plt.tight_layout()\n",
        "plt.show()\n",
        "'''\n",
        "display.Image(\"./side-by-side-bar.png\")"
      ]
    },
    {
      "cell_type": "markdown",
      "id": "22fe94e1",
      "metadata": {},
      "source": [
        "<br><br>"
      ]
    },
    {
      "cell_type": "code",
      "execution_count": null,
      "id": "Table",
      "metadata": {
        "vscode": {
          "languageId": "python"
        }
      },
      "outputs": [],
      "source": [
        "#| label: Table\n",
        "#| fig-cap: Highest average price districts\n",
        "\n",
        "d_district.groupby(['city', 'district'])['price'].mean().sort_values(ascending=False).to_frame().head(10).reset_index()"
      ]
    },
    {
      "cell_type": "markdown",
      "id": "0cc6efeb",
      "metadata": {},
      "source": [
        "## Ahmed\n",
        "\n",
        "The following questions were in mind during this part of the EDA:\n",
        "\n",
        "### Covariance: What is the factor that when present increases the price the most?\n"
      ]
    },
    {
      "cell_type": "code",
      "execution_count": null,
      "id": "corr",
      "metadata": {
        "vscode": {
          "languageId": "python"
        }
      },
      "outputs": [],
      "source": [
        "#| label: corr\n",
        "#| fig-cap: Covariance Heatmap\n",
        "corr = data.corr()\n",
        "fig, ax = plt.subplots(figsize=(8,5))\n",
        "sns.heatmap(ax=ax, data= data.corr(), cmap=\"Greens\");"
      ]
    },
    {
      "cell_type": "markdown",
      "id": "faa5a2de",
      "metadata": {},
      "source": [
        "As we can see in the @corr, we can observe that there are 4 major features that are considered higly correlated with price, these are:\n",
        "\n",
        "- `driver_room`\n",
        "- `pool`\n",
        "- `ac`\n",
        "- `basement`\n",
        "\n",
        "Interesting...\n",
        "\n",
        "How about a deep look at each feature with the price:\n"
      ]
    },
    {
      "cell_type": "code",
      "execution_count": null,
      "id": "featureplots",
      "metadata": {
        "vscode": {
          "languageId": "python"
        }
      },
      "outputs": [],
      "source": [
        "#| label: featureplots\n",
        "#| fig-cap: Visualizing the effect of the 4 features on the price\n",
        "# see how great the above 4 feature affect the price\n",
        "# creating the canvas\n",
        "fig, ((ax1,ax2), (ax3,ax4)) = plt.subplots(2,2, figsize=(15,10))\n",
        "\n",
        "# plotting ax1 data: `driver_room`\n",
        "ax1 = sns.barplot(ax=ax1, y=data[\"price\"], x=data[\"driver_room\"] ,data=data)\n",
        "\n",
        "# configure the plot\n",
        "ax1.set_title(\"Effect of Driver's room on price\")\n",
        "ax1.set_xlabel(\"\")\n",
        "labels = [item.get_text() for item in ax1.get_xticklabels()]\n",
        "labels[0] = \"Without Driver Room\"\n",
        "labels[1] = \"With Driver Room\"\n",
        "ax1.set_xticklabels(labels)\n",
        "ax1.set_ylabel(\"Price\")\n",
        "\n",
        "\n",
        "# plotting ax2 data: `ac`\n",
        "ax2 = sns.barplot(ax=ax2, y=data[\"price\"], x=data[\"ac\"] ,data=data)\n",
        "\n",
        "# configure the plot\n",
        "ax2.set_title(\"Effect of AC on price\")\n",
        "ax2.set_xlabel(\"\")\n",
        "labels = [item.get_text() for item in ax2.get_xticklabels()]\n",
        "labels[0] = \"Without AC\"\n",
        "labels[1] = \"With AC\"\n",
        "ax2.set_xticklabels(labels)\n",
        "ax2.set_ylabel(\"Price\")\n",
        "\n",
        "\n",
        "# plotting ax3 data: `pool`\n",
        "ax3 = sns.barplot(ax=ax3, y=data[\"price\"], x=data[\"pool\"] ,data=data)\n",
        "\n",
        "# configure the plot\n",
        "ax3.set_title(\"Effect of Pool on price\")\n",
        "ax3.set_xlabel(\"\")\n",
        "labels = [item.get_text() for item in ax3.get_xticklabels()]\n",
        "labels[0] = \"Without Pool\"\n",
        "labels[1] = \"With Pool\"\n",
        "ax3.set_xticklabels(labels)\n",
        "ax3.set_ylabel(\"Price\")\n",
        "\n",
        "# plotting ax4 data: `basement`\n",
        "ax4 = sns.barplot(ax=ax4,y=data[\"price\"], x=data[\"basement\"] ,data=data)\n",
        "\n",
        "# configure the plot\n",
        "ax4.set_title(\"Effect of Basement on price\")\n",
        "ax4.set_xlabel(\"\")\n",
        "labels = [item.get_text() for item in ax4.get_xticklabels()]\n",
        "labels[0] = \"Without Basement\"\n",
        "labels[1] = \"With Basement\"\n",
        "ax4.set_xticklabels(labels)\n",
        "ax4.set_ylabel(\"Price\");\n"
      ]
    },
    {
      "cell_type": "markdown",
      "id": "a3351294",
      "metadata": {},
      "source": [
        "We can conculde the following based on the @featureplots:\n",
        "\n",
        "::: {.callout}\n",
        "On average, villas with a basement room tend to be showcased at a higher rent rate.\n",
        ":::\n",
        "\n",
        "### Which has a higher impact on the rent prices: location or features?\n"
      ]
    },
    {
      "cell_type": "code",
      "execution_count": null,
      "id": "cityprice",
      "metadata": {
        "vscode": {
          "languageId": "python"
        }
      },
      "outputs": [],
      "source": [
        "#| label: cityprice\n",
        "#| fig-cap: Average price in each of the major cities\n",
        "# find the price range in the 4 major cities\n",
        "# create the canva\n",
        "fig, ax = plt.subplots(figsize=(8,5))\n",
        "\n",
        "# plot the data\n",
        "sns.barplot(ax=ax ,y = \"price\", x=plot_arabic(data[\"city\"]), data=data)\n",
        "\n",
        "# configure the plot    \n",
        "ax.set_title(plot_arabic(pd.Series(\"متوسط أسعار الأجار حسب المدينة\")))\n",
        "ax.set_ylabel(plot_arabic(pd.Series(\"الأسعار\")))\n",
        "ax.set_xlabel(plot_arabic(pd.Series(\"المدن\")));"
      ]
    },
    {
      "cell_type": "markdown",
      "id": "8d719d27",
      "metadata": {},
      "source": [
        "## Lana\n",
        "\n",
        "### what frontage appears the most and what is the most desired"
      ]
    },
    {
      "cell_type": "code",
      "execution_count": null,
      "id": "33c2599c",
      "metadata": {
        "vscode": {
          "languageId": "python"
        }
      },
      "outputs": [],
      "source": [
        "plt.figure(figsize=(10,8))\n",
        "plt.hist(x= plot_arabic(data['front']) , bins =20)\n",
        "plt.show()\n",
        "\n",
        "#insert price and frontage corr code"
      ]
    },
    {
      "cell_type": "markdown",
      "id": "61c9b65c",
      "metadata": {},
      "source": [
        "### what the ratio of bedrooms and living rooms to bathrooms and does it reflect the market demand \n"
      ]
    },
    {
      "cell_type": "code",
      "execution_count": null,
      "id": "deb768d7",
      "metadata": {
        "vscode": {
          "languageId": "python"
        }
      },
      "outputs": [],
      "source": [
        "ratio = data[['bedrooms', 'bathrooms']].apply(lambda data: (data['bedrooms']/data['bathrooms']), axis=1)\n",
        "ratio = ratio.mean()\n",
        "ratio"
      ]
    },
    {
      "cell_type": "markdown",
      "id": "88a72393",
      "metadata": {},
      "source": [
        "### investigate rental units without kitchen\n"
      ]
    },
    {
      "cell_type": "code",
      "execution_count": null,
      "id": "60e211de",
      "metadata": {
        "vscode": {
          "languageId": "python"
        }
      },
      "outputs": [],
      "source": [
        "nokit = data.groupby(['kitchen']).get_group(0)\n",
        "nokit\n",
        "\n",
        "sns.histplot(data=nokit, x=\"bedrooms\", kde=True)\n",
        "\n",
        "sns.histplot(data=nokit, x=\"bathrooms\", kde=True, color=\"orange\")"
      ]
    },
    {
      "cell_type": "markdown",
      "id": "f8d6f547",
      "metadata": {},
      "source": [
        "## Mohammed\n",
        "\n",
        "The location of a house may be the most significant factor in determining the price, we don't have that in the dataset. Perhaps we can create this attribute."
      ]
    },
    {
      "cell_type": "code",
      "execution_count": null,
      "id": "e774f5eb",
      "metadata": {
        "vscode": {
          "languageId": "python"
        }
      },
      "outputs": [],
      "source": [
        "data['district'].head(10)"
      ]
    },
    {
      "cell_type": "code",
      "execution_count": null,
      "id": "5a8185ab",
      "metadata": {
        "vscode": {
          "languageId": "python"
        }
      },
      "outputs": [],
      "source": [
        "# libraries to handel spacial data\n",
        "import geopandas as gpd\n",
        "import geopy"
      ]
    },
    {
      "cell_type": "code",
      "execution_count": null,
      "id": "bcd6f66d",
      "metadata": {
        "vscode": {
          "languageId": "python"
        }
      },
      "outputs": [],
      "source": [
        "#| echo: false\n",
        "from geopy.geocoders import Nominatim\n",
        "from geopy.extra.rate_limiter import RateLimiter\n",
        "import folium\n",
        "from folium.plugins import FastMarkerCluster"
      ]
    },
    {
      "cell_type": "markdown",
      "id": "6ec4ae0b",
      "metadata": {},
      "source": [
        "Calling an API requesting the coordinates of the address we provide"
      ]
    },
    {
      "cell_type": "code",
      "execution_count": null,
      "id": "37da27a0",
      "metadata": {
        "vscode": {
          "languageId": "python"
        }
      },
      "outputs": [],
      "source": [
        "#|eval:false\n",
        "# 0 - create a locator instance\n",
        "locator = Nominatim(user_agent=\"myGeocoder\")\n",
        "\n",
        "# 1 - conveneint function to delay between geocoding calls\n",
        "geocode = RateLimiter(locator.geocode, min_delay_seconds=0.1)\n",
        "\n",
        "# 2- - create location column\n",
        "data['location'] = data['district'].apply(geocode)\n",
        "\n",
        "# 3 - create longitude, laatitude and altitude from location column (returns tuple)\n",
        "data['point'] = data['location'].apply(lambda loc: tuple(loc.point) if loc else None)\n",
        "\n",
        "# 4 - split point column into latitude, longitude and altitude columns\n",
        "data[['latitude', 'longitude', 'altitude']] = pd.DataFrame(data['point'].tolist(), index=data.index)"
      ]
    },
    {
      "cell_type": "code",
      "execution_count": null,
      "id": "f20159bb",
      "metadata": {
        "vscode": {
          "languageId": "python"
        }
      },
      "outputs": [],
      "source": [
        "#|echo:false\n",
        "data = pd.read_csv(\"SA_Aqar_Added_Attributes.csv\")\n",
        "data['part_of_city'] = data['part_of_city'].astype('category')"
      ]
    },
    {
      "cell_type": "code",
      "execution_count": null,
      "id": "ebbf7f3f",
      "metadata": {
        "vscode": {
          "languageId": "python"
        }
      },
      "outputs": [],
      "source": [
        "#|echo: true\n",
        "data[['latitude', 'longitude', 'city']].head() "
      ]
    },
    {
      "cell_type": "code",
      "execution_count": null,
      "id": "0917af51",
      "metadata": {
        "vscode": {
          "languageId": "python"
        }
      },
      "outputs": [],
      "source": [
        "data['latitude'].isna().sum() / len(data['latitude'])"
      ]
    },
    {
      "cell_type": "markdown",
      "id": "2240d6a2",
      "metadata": {},
      "source": [
        "We need to process the data to turn it longitude and latitude (and city) into which part of the city a house belongs."
      ]
    },
    {
      "cell_type": "code",
      "execution_count": null,
      "id": "b0e18808",
      "metadata": {
        "vscode": {
          "languageId": "python"
        }
      },
      "outputs": [],
      "source": [
        "\n",
        "def convert_coord(latitude: pd.Series, longitude: pd.Series, cities: pd.Series):\n",
        "    \"\"\" given a latitude and longitude and cities, returns a single \n",
        "        attribute that encodes which part of the city a (latitude, longitude) \n",
        "        pair belongs to (e.g., north_east)\"\"\"\n",
        "\n",
        "    middles = middle_of_cities(latitude, longitude, cities)\n",
        "    part_of_city = assign_location(latitude, longitude, cities, middles)\n",
        "\n",
        "    return part_of_city\n",
        "\n",
        "\n",
        "def middle_of_cities(latitude: pd.Series, longitude: pd.Series, cities: pd.Series):\n",
        "    \"\"\"returns a dictionary containing four tuples where each tuple is \n",
        "        (latitude, longitude) of the middle of one of the cities \"\"\"\n",
        "\n",
        "    #store the produced middle values \n",
        "    middles = {}\n",
        "\n",
        "    for city in cities.unique():\n",
        "        indicies = cities == city\n",
        "        relevent_city = cities.loc[indicies]\n",
        "        relevent_latitude = latitude.loc[indicies]\n",
        "        relevent_longitude = longitude.loc[indicies]\n",
        "\n",
        "        # consider taking the trimmed median instead\n",
        "        middle_latitude = relevent_latitude.median()\n",
        "        middle_longitude = relevent_longitude.median()\n",
        "\n",
        "        middles[city] = (middle_latitude, middle_longitude)\n",
        "\n",
        "    return middles\n",
        "\n",
        "def assign_location(latitude: pd.Series, longitude: pd.Series, cities: pd.Series, middle_of_cities: dict):\n",
        "    \"\"\" creates a series of the same length as the original dataframe assigning each instance one of\n",
        "        north_east, north_west, south_east, south_west depending on where the latitude and longitude lie\n",
        "        relative to the relevent middle of city\"\"\"\n",
        "\n",
        "    location_4 = []\n",
        "   \n",
        "    for i in range(len(latitude)):\n",
        "        if latitude[i] is None:\n",
        "            location_4.append(None)\n",
        "            continue\n",
        "\n",
        "        relevent_city_middle = middle_of_cities[cities[i]]\n",
        "\n",
        "        if latitude[i] > relevent_city_middle[0]:\n",
        "            # north\n",
        "            if longitude[i] > relevent_city_middle[1]:\n",
        "                # east\n",
        "                location_4.append(\"شمال شرق\")\n",
        "            else:\n",
        "                location_4.append(\"شمال غرب\")\n",
        "        else:\n",
        "            # south\n",
        "            if longitude[i] > relevent_city_middle[1]:\n",
        "                # east\n",
        "                location_4.append(\"جنوب شرق\")\n",
        "            else:\n",
        "                location_4.append(\"جنوب غرب\")\n",
        "\n",
        "    return pd.Series(location_4)\n"
      ]
    },
    {
      "cell_type": "markdown",
      "id": "13fcb5a7",
      "metadata": {},
      "source": [
        "Run the functions "
      ]
    },
    {
      "cell_type": "code",
      "execution_count": null,
      "id": "d45a88b3",
      "metadata": {
        "vscode": {
          "languageId": "python"
        }
      },
      "outputs": [],
      "source": [
        "#|echo: true\n",
        "#|eval: false\n",
        "data['part_of_city'] = convert_coord(data.latitude, data.longitude, data.city)"
      ]
    },
    {
      "cell_type": "code",
      "execution_count": null,
      "id": "6ccd86c8",
      "metadata": {
        "vscode": {
          "languageId": "python"
        }
      },
      "outputs": [],
      "source": [
        "#|echo: true\n",
        "data[['city', 'part_of_city']].head(10)"
      ]
    },
    {
      "cell_type": "markdown",
      "id": "de83cbe0",
      "metadata": {},
      "source": [
        "Let's visualize some basic statistics "
      ]
    },
    {
      "cell_type": "code",
      "execution_count": null,
      "id": "b1062608",
      "metadata": {
        "vscode": {
          "languageId": "python"
        }
      },
      "outputs": [],
      "source": [
        "# Bar plot\n",
        "\n",
        "grouped_city = data.groupby('city')\n",
        "parts_order = pd.Series(['شمال شرق', 'شمال غرب', 'جنوب شرق', 'جنوب غرب'])\n",
        "\n",
        "fig, ((ax1,ax2), (ax3,ax4)) = plt.subplots(2,2, figsize=(12,9))\n",
        "\n",
        "plt.suptitle(\"The Number of Houses in Each Side of The Cities\")\n",
        "\n",
        "sns.countplot(ax=ax1, data=grouped_city.get_group('الرياض'), x=plot_arabic(grouped_city.get_group('الرياض')['part_of_city']), order=plot_arabic(parts_order))\n",
        "ax1.set_title(\"Riyadh\")\n",
        "ax1.set_ylabel(\"Number of Houses\")\n",
        "\n",
        "sns.countplot(ax=ax2, data=grouped_city.get_group('الخبر'), x=plot_arabic(grouped_city.get_group('الخبر')['part_of_city']), order=plot_arabic(parts_order))\n",
        "ax2.set_title('Khubar')\n",
        "ax2.set_ylabel(\"\")\n",
        "\n",
        "sns.countplot(ax=ax3, data=grouped_city.get_group('الدمام'), x=plot_arabic(grouped_city.get_group('الدمام')['part_of_city']), order=plot_arabic(parts_order))\n",
        "ax3.set_title('Dammam')\n",
        "ax3.set_ylabel(\"Number of Houses\")\n",
        "\n",
        "sns.countplot(ax=ax4, data=grouped_city.get_group('جدة'), x=plot_arabic(grouped_city.get_group('جدة')['part_of_city']), order=plot_arabic(parts_order))\n",
        "ax4.set_title('Jeddah')\n",
        "ax4.set_ylabel(\"\")"
      ]
    },
    {
      "cell_type": "markdown",
      "id": "b0ffc9d6",
      "metadata": {},
      "source": [
        "The north east is the most expensive part of every city! (Except in Riyadh it's a close second.)"
      ]
    },
    {
      "cell_type": "code",
      "execution_count": null,
      "id": "8c45d3fc",
      "metadata": {
        "vscode": {
          "languageId": "python"
        }
      },
      "outputs": [],
      "source": [
        "#| echo: false\n",
        "# Visualizing the mean price for each city and part within it\n",
        "\n",
        "grouped_city = data.groupby('city')\n",
        "# grouped_city.get_group('الرياض')\n",
        "# grouped_city.get_group('الخبر')\n",
        "# grouped_city.get_group('الدمام')\n",
        "# grouped_city.get_group('جدة')\n",
        "parts_order = pd.Series(['شمال شرق', 'شمال غرب', 'جنوب شرق', 'جنوب غرب'])\n",
        "\n",
        "fig, ((ax1,ax2), (ax3,ax4)) = plt.subplots(2,2, figsize=(12,9))\n",
        "\n",
        "plt.suptitle(\"The Median Price: Excluding Outliers (Top and Bottom %5)\")\n",
        "\n",
        "\n",
        "sns.barplot(ax=ax1, data=grouped_city.get_group('الرياض'), x=plot_arabic(pd.Series(grouped_city.get_group('الرياض')['part_of_city'].cat.categories)), \n",
        "  y=pd.Series(grouped_city.get_group('الرياض').groupby('part_of_city')['price'].mean()), order=plot_arabic(parts_order))\n",
        "ax1.set_title(\"Riyadh\")\n",
        "ax1.set_ylabel(\"Mean Price\")\n",
        "\n",
        "sns.barplot(ax=ax2, data=grouped_city.get_group('الخبر'), x=plot_arabic(pd.Series(grouped_city.get_group('الرياض')['part_of_city'].cat.categories)), \n",
        "  y=pd.Series(grouped_city.get_group('الخبر').groupby('part_of_city')['price'].mean()), order=plot_arabic(parts_order))\n",
        "ax2.set_title('Khubar')\n",
        "ax2.set_ylabel(\"\")\n",
        "\n",
        "sns.barplot(ax=ax3, data=grouped_city.get_group('الدمام'), x=plot_arabic(pd.Series(grouped_city.get_group('الرياض')['part_of_city'].cat.categories)), \n",
        "  y=pd.Series(grouped_city.get_group('الدمام').groupby('part_of_city')['price'].mean()), order=plot_arabic(parts_order))\n",
        "ax3.set_title('Dammam')\n",
        "ax3.set_ylabel(\"Mean Price\")\n",
        "\n",
        "sns.barplot(ax=ax4, data=grouped_city.get_group('جدة'), x=plot_arabic(pd.Series(grouped_city.get_group('الرياض')['part_of_city'].cat.categories)), \n",
        "  y=pd.Series(grouped_city.get_group('جدة').groupby('part_of_city')['price'].mean()), order=plot_arabic(parts_order))\n",
        "ax4.set_title('Jeddah')\n",
        "ax4.set_ylabel(\"\")"
      ]
    },
    {
      "cell_type": "code",
      "execution_count": null,
      "id": "cd35bd23",
      "metadata": {
        "vscode": {
          "languageId": "python"
        }
      },
      "outputs": [],
      "source": [
        "# Visualizing the median price for each city and part within it\n",
        "\n",
        "grouped_city = data.groupby('city')\n",
        "\n",
        "parts_order = pd.Series(['شمال شرق', 'شمال غرب', 'جنوب شرق', 'جنوب غرب'])\n",
        "\n",
        "fig, ((ax1,ax2), (ax3,ax4)) = plt.subplots(2,2, figsize=(12,9))\n",
        "\n",
        "plt.suptitle(\"The Median Price: Complete Dataset\")\n",
        "\n",
        "sns.barplot(ax=ax1, data=grouped_city.get_group('الرياض'), x=plot_arabic(pd.Series(grouped_city.get_group('الرياض')['part_of_city'].cat.categories)), \n",
        "  y=pd.Series(grouped_city.get_group('الرياض').groupby('part_of_city')['price'].median()), order=plot_arabic(parts_order))\n",
        "ax1.set_title(\"Riyadh\")\n",
        "ax1.set_ylabel(\"Median Price\")\n",
        "\n",
        "sns.barplot(ax=ax2, data=grouped_city.get_group('الخبر'), x=plot_arabic(pd.Series(grouped_city.get_group('الرياض')['part_of_city'].cat.categories)), \n",
        "  y=pd.Series(grouped_city.get_group('الخبر').groupby('part_of_city')['price'].median()), order=plot_arabic(parts_order))\n",
        "ax2.set_title('Khubar')\n",
        "ax2.set_ylabel(\"\")\n",
        "\n",
        "sns.barplot(ax=ax3, data=grouped_city.get_group('الدمام'), x=plot_arabic(pd.Series(grouped_city.get_group('الرياض')['part_of_city'].cat.categories)), \n",
        "  y=pd.Series(grouped_city.get_group('الدمام').groupby('part_of_city')['price'].median()), order=plot_arabic(parts_order))\n",
        "ax3.set_title('Dammam')\n",
        "ax3.set_ylabel(\"Median Price\")\n",
        "\n",
        "sns.barplot(ax=ax4, data=grouped_city.get_group('جدة'), x=plot_arabic(pd.Series(grouped_city.get_group('الرياض')['part_of_city'].cat.categories)), \n",
        "  y=pd.Series(grouped_city.get_group('جدة').groupby('part_of_city')['price'].median()), order=plot_arabic(parts_order))\n",
        "ax4.set_title('Jeddah')\n",
        "ax4.set_ylabel(\"\")\n"
      ]
    },
    {
      "cell_type": "code",
      "execution_count": null,
      "id": "d91dc900",
      "metadata": {
        "vscode": {
          "languageId": "python"
        }
      },
      "outputs": [],
      "source": [
        "#| echo: false\n",
        "# excluding the outlier values in price and size\n",
        "\n",
        "price_percentile_95th = np.percentile(data[\"price\"], 95)\n",
        "size_percentile_95th = np.percentile(data[\"size\"], 95)\n",
        "price_percentile_5th = np.percentile(data[\"price\"], 5)\n",
        "size_percentile_5th = np.percentile(data[\"size\"], 5)\n",
        "\n",
        "exc_outliers = data.loc[data[\"price\"] < price_percentile_95th]\n",
        "exc_outliers = exc_outliers.loc[data[\"size\"] < size_percentile_95th]\n",
        "exc_outliers = exc_outliers.loc[data[\"price\"] > price_percentile_5th]\n",
        "exc_outliers = exc_outliers.loc[data[\"size\"] > size_percentile_5th]"
      ]
    },
    {
      "cell_type": "markdown",
      "id": "ca77814d",
      "metadata": {},
      "source": [
        "How would the plots look if we chose the trimmed median instead of the median?"
      ]
    },
    {
      "cell_type": "code",
      "execution_count": null,
      "id": "78ac9aab",
      "metadata": {
        "vscode": {
          "languageId": "python"
        }
      },
      "outputs": [],
      "source": [
        "#| echo: false\n",
        "# Visualizing the median price for each city and part within it (Excluding outliers in price and size)\n",
        "\n",
        "grouped_city = exc_outliers.groupby('city')\n",
        "# grouped_city.get_group('الرياض')\n",
        "# grouped_city.get_group('الخبر')\n",
        "# grouped_city.get_group('الدمام')\n",
        "# grouped_city.get_group('جدة')\n",
        "parts_order = pd.Series(['شمال شرق', 'شمال غرب', 'جنوب شرق', 'جنوب غرب'])\n",
        "\n",
        "fig, ((ax1,ax2), (ax3,ax4)) = plt.subplots(2,2, figsize=(12,9))\n",
        "plt.suptitle(\"The Median Price: Complete Dataset\")\n",
        "\n",
        "\n",
        "sns.barplot(ax=ax1, data=grouped_city.get_group('الرياض'), x=plot_arabic(pd.Series(grouped_city.get_group('الرياض')['part_of_city'].cat.categories)), \n",
        "  y=pd.Series(grouped_city.get_group('الرياض').groupby('part_of_city')['price'].median()), order=plot_arabic(parts_order))\n",
        "ax1.set_title(\"Riyadh\")\n",
        "ax1.set_ylabel(\"Avg. Price\")\n",
        "\n",
        "sns.barplot(ax=ax2, data=grouped_city.get_group('الخبر'), x=plot_arabic(pd.Series(grouped_city.get_group('الرياض')['part_of_city'].cat.categories)), \n",
        "  y=pd.Series(grouped_city.get_group('الخبر').groupby('part_of_city')['price'].median()), order=plot_arabic(parts_order))\n",
        "ax2.set_title('Khubar')\n",
        "ax2.set_ylabel(\"\")\n",
        "\n",
        "sns.barplot(ax=ax3, data=grouped_city.get_group('الدمام'), x=plot_arabic(pd.Series(grouped_city.get_group('الرياض')['part_of_city'].cat.categories)), \n",
        "  y=pd.Series(grouped_city.get_group('الدمام').groupby('part_of_city')['price'].median()), order=plot_arabic(parts_order))\n",
        "ax3.set_title('Dammam')\n",
        "ax3.set_ylabel(\"Avg. Price\")\n",
        "\n",
        "sns.barplot(ax=ax4, data=grouped_city.get_group('جدة'), x=plot_arabic(pd.Series(grouped_city.get_group('الرياض')['part_of_city'].cat.categories)), \n",
        "  y=pd.Series(grouped_city.get_group('جدة').groupby('part_of_city')['price'].median()), order=plot_arabic(parts_order))\n",
        "ax4.set_title('Jeddah')\n",
        "ax4.set_ylabel(\"\")"
      ]
    },
    {
      "cell_type": "markdown",
      "id": "ab723f9e",
      "metadata": {},
      "source": [
        "Some cities have a greater variance in price than others."
      ]
    },
    {
      "cell_type": "code",
      "execution_count": null,
      "id": "c9317d56",
      "metadata": {
        "vscode": {
          "languageId": "python"
        }
      },
      "outputs": [],
      "source": [
        "#| echo: false\n",
        "# remove all the changes I made to the dataset\n",
        "data = pd.read_csv(\"SA_Aqar.csv\")"
      ]
    },
    {
      "cell_type": "markdown",
      "id": "51347051",
      "metadata": {},
      "source": [
        "# Overall Conclusion\n",
        "\n",
        "# Challenges Faced\n",
        "\n",
        "During this activity with the dataset, we overcame such great obstacles that include:\n",
        "\n",
        "* Plotting Arabic labels in the correct formatting\n",
        "* Genearating mutliple plots and interacting them with Seaborn plots\n",
        "* Conflicts with team working and collaboration"
      ]
    }
  ],
  "metadata": {
    "kernelspec": {
      "display_name": "Python 3",
      "language": "python",
      "name": "python3"
    }
  },
  "nbformat": 4,
  "nbformat_minor": 5
}
