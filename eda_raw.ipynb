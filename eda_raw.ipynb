{
 "cells": [
  {
   "cell_type": "code",
   "execution_count": 22,
   "metadata": {},
   "outputs": [],
   "source": [
    "# impoer the required libraries\n",
    "import pandas as pd\n",
    "import numpy as np\n",
    "import matplotlib.pyplot as plt\n",
    "import seaborn as sns\n",
    "from matplotlib import rcParams\n",
    "\n",
    "# arabic plotting\n",
    "import arabic_reshaper\n",
    "from bidi.algorithm import get_display\n"
   ]
  },
  {
   "cell_type": "code",
   "execution_count": 3,
   "metadata": {},
   "outputs": [],
   "source": [
    "## uncomment the following lines to install arabic_reshaper and bidi.algorithm\n",
    "# pip install arabic-reshaper\n",
    "# pip install python-bidi"
   ]
  },
  {
   "cell_type": "code",
   "execution_count": 4,
   "metadata": {},
   "outputs": [],
   "source": [
    "# read in the dataset\n",
    "\n",
    "data = pd.read_csv(\"SA_Aqar.csv\", encoding=\"UTF-8\")"
   ]
  },
  {
   "cell_type": "code",
   "execution_count": 5,
   "metadata": {},
   "outputs": [
    {
     "data": {
      "text/html": [
       "<div>\n",
       "<style scoped>\n",
       "    .dataframe tbody tr th:only-of-type {\n",
       "        vertical-align: middle;\n",
       "    }\n",
       "\n",
       "    .dataframe tbody tr th {\n",
       "        vertical-align: top;\n",
       "    }\n",
       "\n",
       "    .dataframe thead th {\n",
       "        text-align: right;\n",
       "    }\n",
       "</style>\n",
       "<table border=\"1\" class=\"dataframe\">\n",
       "  <thead>\n",
       "    <tr style=\"text-align: right;\">\n",
       "      <th></th>\n",
       "      <th>city</th>\n",
       "      <th>district</th>\n",
       "      <th>front</th>\n",
       "      <th>size</th>\n",
       "      <th>property_age</th>\n",
       "      <th>bedrooms</th>\n",
       "      <th>bathrooms</th>\n",
       "      <th>livingrooms</th>\n",
       "      <th>kitchen</th>\n",
       "      <th>garage</th>\n",
       "      <th>...</th>\n",
       "      <th>roof</th>\n",
       "      <th>pool</th>\n",
       "      <th>frontyard</th>\n",
       "      <th>basement</th>\n",
       "      <th>duplex</th>\n",
       "      <th>stairs</th>\n",
       "      <th>elevator</th>\n",
       "      <th>fireplace</th>\n",
       "      <th>price</th>\n",
       "      <th>details</th>\n",
       "    </tr>\n",
       "  </thead>\n",
       "  <tbody>\n",
       "    <tr>\n",
       "      <th>0</th>\n",
       "      <td>الرياض</td>\n",
       "      <td>حي العارض</td>\n",
       "      <td>شمال</td>\n",
       "      <td>250</td>\n",
       "      <td>0</td>\n",
       "      <td>5</td>\n",
       "      <td>5</td>\n",
       "      <td>1</td>\n",
       "      <td>1</td>\n",
       "      <td>1</td>\n",
       "      <td>...</td>\n",
       "      <td>0</td>\n",
       "      <td>0</td>\n",
       "      <td>1</td>\n",
       "      <td>0</td>\n",
       "      <td>1</td>\n",
       "      <td>1</td>\n",
       "      <td>0</td>\n",
       "      <td>0</td>\n",
       "      <td>80000</td>\n",
       "      <td>للايجار فيلا دبلكس في موقع ممتاز جدا بالقرب من...</td>\n",
       "    </tr>\n",
       "    <tr>\n",
       "      <th>1</th>\n",
       "      <td>الرياض</td>\n",
       "      <td>حي القادسية</td>\n",
       "      <td>جنوب</td>\n",
       "      <td>370</td>\n",
       "      <td>0</td>\n",
       "      <td>4</td>\n",
       "      <td>5</td>\n",
       "      <td>2</td>\n",
       "      <td>1</td>\n",
       "      <td>1</td>\n",
       "      <td>...</td>\n",
       "      <td>0</td>\n",
       "      <td>0</td>\n",
       "      <td>1</td>\n",
       "      <td>0</td>\n",
       "      <td>0</td>\n",
       "      <td>1</td>\n",
       "      <td>0</td>\n",
       "      <td>0</td>\n",
       "      <td>60000</td>\n",
       "      <td>*** فيلا درج مع الصالة جديدة ***\\n\\nعبارة عن م...</td>\n",
       "    </tr>\n",
       "    <tr>\n",
       "      <th>2</th>\n",
       "      <td>الرياض</td>\n",
       "      <td>حي القادسية</td>\n",
       "      <td>جنوب</td>\n",
       "      <td>380</td>\n",
       "      <td>0</td>\n",
       "      <td>4</td>\n",
       "      <td>5</td>\n",
       "      <td>1</td>\n",
       "      <td>1</td>\n",
       "      <td>1</td>\n",
       "      <td>...</td>\n",
       "      <td>1</td>\n",
       "      <td>0</td>\n",
       "      <td>1</td>\n",
       "      <td>0</td>\n",
       "      <td>0</td>\n",
       "      <td>1</td>\n",
       "      <td>0</td>\n",
       "      <td>0</td>\n",
       "      <td>60000</td>\n",
       "      <td>فيلا للايجار درج داخلي مشب خارجي مجلس مقلط وصا...</td>\n",
       "    </tr>\n",
       "    <tr>\n",
       "      <th>3</th>\n",
       "      <td>الرياض</td>\n",
       "      <td>حي المعيزلة</td>\n",
       "      <td>غرب</td>\n",
       "      <td>250</td>\n",
       "      <td>0</td>\n",
       "      <td>5</td>\n",
       "      <td>5</td>\n",
       "      <td>3</td>\n",
       "      <td>0</td>\n",
       "      <td>1</td>\n",
       "      <td>...</td>\n",
       "      <td>0</td>\n",
       "      <td>0</td>\n",
       "      <td>1</td>\n",
       "      <td>0</td>\n",
       "      <td>0</td>\n",
       "      <td>0</td>\n",
       "      <td>0</td>\n",
       "      <td>0</td>\n",
       "      <td>55000</td>\n",
       "      <td>فيلا للايجار        جديده لن تستخدم          ش...</td>\n",
       "    </tr>\n",
       "    <tr>\n",
       "      <th>4</th>\n",
       "      <td>الرياض</td>\n",
       "      <td>حي العليا</td>\n",
       "      <td>غرب</td>\n",
       "      <td>400</td>\n",
       "      <td>11</td>\n",
       "      <td>7</td>\n",
       "      <td>5</td>\n",
       "      <td>2</td>\n",
       "      <td>1</td>\n",
       "      <td>1</td>\n",
       "      <td>...</td>\n",
       "      <td>1</td>\n",
       "      <td>0</td>\n",
       "      <td>1</td>\n",
       "      <td>0</td>\n",
       "      <td>1</td>\n",
       "      <td>1</td>\n",
       "      <td>0</td>\n",
       "      <td>0</td>\n",
       "      <td>70000</td>\n",
       "      <td>فيلا للايجار حي العليا \\n\\nالارضي مجالس وغرفتي...</td>\n",
       "    </tr>\n",
       "  </tbody>\n",
       "</table>\n",
       "<p>5 rows × 24 columns</p>\n",
       "</div>"
      ],
      "text/plain": [
       "      city         district front  size  property_age  bedrooms  bathrooms  \\\n",
       "0   الرياض       حي العارض   شمال   250             0         5          5   \n",
       "1   الرياض     حي القادسية   جنوب   370             0         4          5   \n",
       "2   الرياض     حي القادسية   جنوب   380             0         4          5   \n",
       "3   الرياض     حي المعيزلة    غرب   250             0         5          5   \n",
       "4   الرياض       حي العليا    غرب   400            11         7          5   \n",
       "\n",
       "   livingrooms  kitchen  garage  ...  roof  pool  frontyard  basement  duplex  \\\n",
       "0            1        1       1  ...     0     0          1         0       1   \n",
       "1            2        1       1  ...     0     0          1         0       0   \n",
       "2            1        1       1  ...     1     0          1         0       0   \n",
       "3            3        0       1  ...     0     0          1         0       0   \n",
       "4            2        1       1  ...     1     0          1         0       1   \n",
       "\n",
       "   stairs  elevator  fireplace  price  \\\n",
       "0       1         0          0  80000   \n",
       "1       1         0          0  60000   \n",
       "2       1         0          0  60000   \n",
       "3       0         0          0  55000   \n",
       "4       1         0          0  70000   \n",
       "\n",
       "                                             details  \n",
       "0  للايجار فيلا دبلكس في موقع ممتاز جدا بالقرب من...  \n",
       "1  *** فيلا درج مع الصالة جديدة ***\\n\\nعبارة عن م...  \n",
       "2  فيلا للايجار درج داخلي مشب خارجي مجلس مقلط وصا...  \n",
       "3  فيلا للايجار        جديده لن تستخدم          ش...  \n",
       "4  فيلا للايجار حي العليا \\n\\nالارضي مجالس وغرفتي...  \n",
       "\n",
       "[5 rows x 24 columns]"
      ]
     },
     "execution_count": 5,
     "metadata": {},
     "output_type": "execute_result"
    }
   ],
   "source": [
    "# look at the head\n",
    "data.head()"
   ]
  },
  {
   "cell_type": "code",
   "execution_count": 6,
   "metadata": {},
   "outputs": [
    {
     "data": {
      "text/plain": [
       "(24,\n",
       " {'city': (4, [' الرياض', ' جدة', ' الدمام', ' الخبر']),\n",
       "  'district': 174,\n",
       "  'front': 10,\n",
       "  'size': 199,\n",
       "  'property_age': 36,\n",
       "  'bedrooms': 7,\n",
       "  'bathrooms': (5, [5, 4, 3, 2, 1]),\n",
       "  'livingrooms': (5, [1, 2, 3, 4, 5]),\n",
       "  'kitchen': (2, [1, 0]),\n",
       "  'garage': (2, [1, 0]),\n",
       "  'driver_room': (2, [0, 1]),\n",
       "  'maid_room': (2, [1, 0]),\n",
       "  'furnished': (2, [0, 1]),\n",
       "  'ac': (2, [0, 1]),\n",
       "  'roof': (2, [0, 1]),\n",
       "  'pool': (2, [0, 1]),\n",
       "  'frontyard': (2, [1, 0]),\n",
       "  'basement': (2, [0, 1]),\n",
       "  'duplex': (2, [1, 0]),\n",
       "  'stairs': (2, [1, 0]),\n",
       "  'elevator': (2, [0, 1]),\n",
       "  'fireplace': (2, [0, 1]),\n",
       "  'price': 113,\n",
       "  'details': 1429})"
      ]
     },
     "execution_count": 6,
     "metadata": {},
     "output_type": "execute_result"
    }
   ],
   "source": [
    "# a closer look at the features of the dataset\n",
    "data_columns = {}\n",
    "for column in data.columns:\n",
    "  key = column\n",
    "  if data[column].nunique() > 5:\n",
    "    value = data[column].nunique()\n",
    "  else:\n",
    "    value = (data[column].nunique(), list(data[column].unique()))\n",
    "  data_columns[key] = value\n",
    "\n",
    "len(data_columns), data_columns\n"
   ]
  },
  {
   "cell_type": "markdown",
   "metadata": {},
   "source": [
    "### Questions to ask:\n",
    "\n",
    "* Which city has the highest rent rate?\n",
    "* Does the district within a city play a role in increasing the rent rate?\n",
    "* Do the number of various features within a house increase its rent rate?\n",
    "* Which has a higher impact on the rent price: location or features?"
   ]
  },
  {
   "cell_type": "code",
   "execution_count": 7,
   "metadata": {},
   "outputs": [
    {
     "data": {
      "text/plain": [
       "(array([' الرياض', ' الرياض', ' الرياض', ..., ' الخبر', ' الخبر', ' الخبر'],\n",
       "       dtype=object),\n",
       " array(['   حي العارض ', '   حي القادسية ', '   حي القادسية ', ...,\n",
       "        '   حي اللؤلؤ ', '   حي الكورنيش ', '   حي الامواج '], dtype=object),\n",
       " array(['شمال', 'جنوب', 'جنوب', ..., 'غرب', 'جنوب', 'غرب'], dtype=object))"
      ]
     },
     "execution_count": 7,
     "metadata": {},
     "output_type": "execute_result"
    }
   ],
   "source": [
    "data[\"city\"].values, data[\"district\"].values, data[\"front\"].values"
   ]
  },
  {
   "cell_type": "code",
   "execution_count": 8,
   "metadata": {},
   "outputs": [
    {
     "name": "stdout",
     "output_type": "stream",
     "text": [
      "Number of observations with (الرياض ): 0\n",
      "Number of observations with ( حي العليا): 0\n",
      "Number of observations with (غرب): 771\n"
     ]
    }
   ],
   "source": [
    "# this works because we added the space in the words\n",
    "\n",
    "# city\n",
    "print(f'Number of observations with (الرياض ): {len(data[data[\"city\"] ==  \"الرياض\"])}')\n",
    "# district\n",
    "print(f'Number of observations with ( حي العليا): {len(data[data[\"district\"] == \"حي العليا\"])}')\n",
    "# front\n",
    "print(f'Number of observations with (غرب): {len(data[data[\"front\"] == \"غرب\"])}')\n"
   ]
  },
  {
   "cell_type": "code",
   "execution_count": 9,
   "metadata": {},
   "outputs": [
    {
     "name": "stdout",
     "output_type": "stream",
     "text": [
      "Number of observations with (الرياض): 0\n",
      "Number of observations with (حي العليا): 0\n",
      "Number of observations with (غرب): 771\n"
     ]
    }
   ],
   "source": [
    "# but this doesnt work for some because we didnt add the space\n",
    "\n",
    "# city\n",
    "print(f'Number of observations with (الرياض): {len(data[data[\"city\"] == \"الرياض\"])}')\n",
    "# district\n",
    "\n",
    "print(f'Number of observations with (حي العليا): {len(data[data[\"district\"] == \"حي العليا\"])}')\n",
    "# front\n",
    "print(f'Number of observations with (غرب): {len(data[data[\"front\"] == \"غرب\"])}')"
   ]
  },
  {
   "cell_type": "code",
   "execution_count": 10,
   "metadata": {},
   "outputs": [],
   "source": [
    "# fix the space surrounding the words\n",
    "\n",
    "data[\"city\"] = data[\"city\"].apply(lambda city: city.strip())\n",
    "data[\"district\"] = data[\"district\"].apply(lambda city: city.strip())\n",
    "data[\"front\"] = data[\"front\"].apply(lambda city: city.strip())\n"
   ]
  },
  {
   "cell_type": "code",
   "execution_count": 11,
   "metadata": {},
   "outputs": [
    {
     "name": "stdout",
     "output_type": "stream",
     "text": [
      "Number of observations with (الرياض): 960\n",
      "Number of observations with (حي العليا): 80\n",
      "Number of observations with (غرب): 771\n"
     ]
    }
   ],
   "source": [
    "# check if stripping the space worked\n",
    "\n",
    "# city\n",
    "print(f'Number of observations with (الرياض): {len(data[data[\"city\"] == \"الرياض\"])}')\n",
    "# district\n",
    "\n",
    "print(f'Number of observations with (حي العليا): {len(data[data[\"district\"] == \"حي العليا\"])}')\n",
    "# front\n",
    "print(f'Number of observations with (غرب): {len(data[data[\"front\"] == \"غرب\"])}')"
   ]
  },
  {
   "cell_type": "markdown",
   "metadata": {},
   "source": [
    "Great now we continue with exploring the data, lets study the effect a city has on its rent prices"
   ]
  },
  {
   "cell_type": "code",
   "execution_count": 12,
   "metadata": {},
   "outputs": [],
   "source": [
    "# make a function to plot arabic labels\n",
    "def plot_arabic(labelsSeries: pd.Series):\n",
    "    \"\"\"\n",
    "    A function that plots arabic literals in their required format instead of just floating letters\n",
    "    \\nArgs:\n",
    "     - labelsSeries: a series of arabic labels \n",
    "    \\nReturns:\n",
    "     - result: a list of properly formatted arabic labels\n",
    "    \"\"\"\n",
    "\n",
    "    # apply the reshaping method\n",
    "    arabicLabels = labelsSeries.apply(arabic_reshaper.reshape)\n",
    "\n",
    "    # initiate the formatting process\n",
    "    result = []\n",
    "    for label in arabicLabels:\n",
    "        result.append(get_display(label))\n",
    "    \n",
    "    # return the formatted labels as a list if there are more than one value\n",
    "    if len(result) == 1:\n",
    "        return result[0]\n",
    "    else:\n",
    "        return result"
   ]
  },
  {
   "cell_type": "code",
   "execution_count": 13,
   "metadata": {},
   "outputs": [],
   "source": [
    "# catplot\n",
    "# sns.catplot(y=\"price\", x=plot_arabic(data[\"city\"]), data=data, alpha=0.2)\n",
    "# plt.ylabel(plot_arabic(pd.Series(\"الأسعار\")))\n",
    "# plt.xlabel(plot_arabic(pd.Series(\"المدن\")))\n",
    "# plt.ylim(top=0.5e6)\n",
    "# plt.show();"
   ]
  },
  {
   "cell_type": "code",
   "execution_count": 14,
   "metadata": {},
   "outputs": [],
   "source": [
    "# data[\"city\"].head()\n",
    "# plot_arabic(data[\"city\"])"
   ]
  },
  {
   "cell_type": "code",
   "execution_count": 15,
   "metadata": {},
   "outputs": [],
   "source": [
    "# # scatter plt\n",
    "# plt.title(plot_arabic(pd.Series(\"الأسعار حسب المدينة\")))\n",
    "# sns.barplot(y = \"price\", x=plot_arabic(data[\"city\"]), data=data)\n",
    "# plt.ylabel(plot_arabic(pd.Series(\"الأسعار\")))\n",
    "# plt.xlabel(plot_arabic(pd.Series(\"المدن\")))\n",
    "# plt.show();"
   ]
  },
  {
   "cell_type": "code",
   "execution_count": 16,
   "metadata": {},
   "outputs": [],
   "source": [
    "# scatter plt\n",
    "# plt.title(plot_arabic(pd.Series(\"الأسعار حسب المدينة\")))\n",
    "# sns.boxplot(y = \"price\", x=plot_arabic(data[\"city\"]), data=data)\n",
    "# plt.ylabel(plot_arabic(pd.Series(\"الأسعار\")))\n",
    "# plt.xlabel(plot_arabic(pd.Series(\"المدن\")))\n",
    "# plt.ylim(top=0.5e6)\n",
    "# plt.show();"
   ]
  },
  {
   "cell_type": "code",
   "execution_count": 17,
   "metadata": {},
   "outputs": [],
   "source": [
    "# Visualization Formula\n",
    "\n",
    "# plt.___(data=,x=,y=)\n",
    "# plt.title(plot_arabic(pd.Series(\"\"))\n",
    "# plt.xlabel(plot_arabic(pd.Series(\"\")))\n",
    "# plt.ylabel(plot_arabic(pd.Series(\"\")))\n",
    "# plt.ylim(top=0.3e6)\n",
    "# plt.\n",
    "# # plt.show()\n",
    "\n"
   ]
  },
  {
   "cell_type": "code",
   "execution_count": 18,
   "metadata": {},
   "outputs": [
    {
     "data": {
      "text/html": [
       "<div>\n",
       "<style scoped>\n",
       "    .dataframe tbody tr th:only-of-type {\n",
       "        vertical-align: middle;\n",
       "    }\n",
       "\n",
       "    .dataframe tbody tr th {\n",
       "        vertical-align: top;\n",
       "    }\n",
       "\n",
       "    .dataframe thead th {\n",
       "        text-align: right;\n",
       "    }\n",
       "</style>\n",
       "<table border=\"1\" class=\"dataframe\">\n",
       "  <thead>\n",
       "    <tr style=\"text-align: right;\">\n",
       "      <th></th>\n",
       "      <th>avg_price</th>\n",
       "      <th>prop_to_max</th>\n",
       "    </tr>\n",
       "    <tr>\n",
       "      <th>city</th>\n",
       "      <th></th>\n",
       "      <th></th>\n",
       "    </tr>\n",
       "  </thead>\n",
       "  <tbody>\n",
       "    <tr>\n",
       "      <th>الدمام</th>\n",
       "      <td>63282.438479</td>\n",
       "      <td>0.560608</td>\n",
       "    </tr>\n",
       "    <tr>\n",
       "      <th>الخبر</th>\n",
       "      <td>79482.530738</td>\n",
       "      <td>0.704121</td>\n",
       "    </tr>\n",
       "    <tr>\n",
       "      <th>الرياض</th>\n",
       "      <td>94291.596875</td>\n",
       "      <td>0.835312</td>\n",
       "    </tr>\n",
       "    <tr>\n",
       "      <th>جدة</th>\n",
       "      <td>112881.875000</td>\n",
       "      <td>1.000000</td>\n",
       "    </tr>\n",
       "  </tbody>\n",
       "</table>\n",
       "</div>"
      ],
      "text/plain": [
       "            avg_price  prop_to_max\n",
       "city                              \n",
       "الدمام   63282.438479     0.560608\n",
       "الخبر    79482.530738     0.704121\n",
       "الرياض   94291.596875     0.835312\n",
       "جدة     112881.875000     1.000000"
      ]
     },
     "execution_count": 18,
     "metadata": {},
     "output_type": "execute_result"
    }
   ],
   "source": [
    "avg_city = data.groupby([\"city\"])[\"price\"].mean().sort_values().to_numpy()\n",
    "\n",
    "prop_city = (avg_city / avg_city.max())\n",
    "cities_by_price = data.groupby([\"city\"])[\"price\"].mean().sort_values().index\n",
    "\n",
    "df = pd.DataFrame({\"avg_price\": avg_city, \"prop_to_max\": prop_city}, index=cities_by_price)\n",
    "df\n",
    "\n",
    "\n"
   ]
  },
  {
   "cell_type": "code",
   "execution_count": 79,
   "metadata": {},
   "outputs": [
    {
     "data": {
      "image/png": "[encoded data removed]",
      "text/plain": [
       "<Figure size 432x288 with 1 Axes>"
      ]
     },
     "metadata": {
      "needs_background": "light"
     },
     "output_type": "display_data"
    }
   ],
   "source": [
    "\n",
    "plt.title(\"تأثيى وجود المسبح على السعر\")\n",
    "plt.xlabel(plot_arabic(pd.Series([\"وجود المسبح\"])))\n",
    "plt.ylabel(plot_arabic(pd.Series([\"السعر\"])))\n",
    "sns.boxplot(x=plot_arabic(data[\"pool\"].astype(str)),y=data[\"price\"], data=data)\n",
    "plt.ylim(top=0.5e6)  \n",
    "# plt.\n",
    "plt.show()\n",
    "\n",
    "\n",
    "\n",
    "\n",
    "\n"
   ]
  },
  {
   "cell_type": "code",
   "execution_count": 82,
   "metadata": {},
   "outputs": [
    {
     "data": {
      "text/plain": [
       "(-83950.0, 300000.0)"
      ]
     },
     "execution_count": 82,
     "metadata": {},
     "output_type": "execute_result"
    },
    {
     "data": {
      "image/png": "[encoded data removed]",
      "text/plain": [
       "<Figure size 432x288 with 1 Axes>"
      ]
     },
     "metadata": {
      "needs_background": "light"
     },
     "output_type": "display_data"
    }
   ],
   "source": [
    "# this plot leads me to question the quality of the data \n",
    "# in the attribute \"livingrooms\" \n",
    "\n",
    "sns.boxplot(data=data,x=\"livingrooms\",y=\"price\")\n",
    "plt.title(plot_arabic(pd.Series(\"تأثير غرف المعيشة على السعر\")))\n",
    "plt.xlabel(plot_arabic(pd.Series(\"عدد غرف المعيشة\")))\n",
    "plt.ylabel(plot_arabic(pd.Series(\"متوسط السعر\")))\n",
    "plt.ylim(top=0.3e6)\n",
    "# plt.\n",
    "# plt.show()\n",
    "\n",
    "\n",
    "\n",
    "\n",
    "\n"
   ]
  },
  {
   "cell_type": "code",
   "execution_count": null,
   "metadata": {},
   "outputs": [],
   "source": [
    "sns.___(data=data,x=data[\"garage\"].astype(str),y=\"price\")\n",
    "plt.title(plot_arabic(pd.Series(\"\"))\n",
    "plt.xlabel(plot_arabic(pd.Series(\"\")))\n",
    "plt.ylabel(plot_arabic(pd.Series(\"\")))\n",
    "plt.ylim(top=0.3e6)\n",
    "plt.\n",
    "# plt.show()\n",
    "\n",
    "\n"
   ]
  },
  {
   "cell_type": "code",
   "execution_count": 49,
   "metadata": {},
   "outputs": [
    {
     "name": "stdout",
     "output_type": "stream",
     "text": [
      "1300000\n",
      "1700000\n"
     ]
    }
   ],
   "source": [
    "\n",
    "\n",
    "\n",
    "\n",
    "# figure size in inches\n",
    "rcParams['figure.figsize'] = 8, 4\n",
    "\n",
    "# excluding outlier values in price (those greater than %95 of values)\n",
    "# this helps creating visualizations using sns.PairGrid\n",
    "price_percentile_95th = np.percentile(data[\"price\"], 95)\n",
    "size_percentile_95th = np.percentile(data[\"size\"], 95)\n",
    "\n",
    "exc_outliers = data.loc[data[\"price\"] < price_percentile_95th]\n",
    "exc_outliers = data.loc[data[\"size\"] < size_percentile_95th]\n",
    "\n",
    "\n",
    "print(exc_outliers[\"price\"].max())\n",
    "print(data[\"price\"].max())"
   ]
  },
  {
   "cell_type": "code",
   "execution_count": 34,
   "metadata": {},
   "outputs": [
    {
     "data": {
      "text/plain": [
       "179000"
      ]
     },
     "execution_count": 34,
     "metadata": {},
     "output_type": "execute_result"
    }
   ],
   "source": []
  },
  {
   "cell_type": "code",
   "execution_count": 45,
   "metadata": {},
   "outputs": [
    {
     "data": {
      "text/plain": [
       "<seaborn.axisgrid.PairGrid at 0x7fb974d60880>"
      ]
     },
     "execution_count": 45,
     "metadata": {},
     "output_type": "execute_result"
    },
    {
     "data": {
      "image/png": "[encoded data removed]",
      "text/plain": [
       "<Figure size 548x540 with 12 Axes>"
      ]
     },
     "metadata": {
      "needs_background": "light"
     },
     "output_type": "display_data"
    }
   ],
   "source": [
    "\n",
    "g = sns.PairGrid(exc_outliers[[\"price\", \"size\", \"property_age\"]])\n",
    "g.map_diag(sns.histplot)\n",
    "g.map_offdiag(sns.scatterplot)\n",
    "g.add_legend()\n",
    "\n"
   ]
  },
  {
   "cell_type": "code",
   "execution_count": null,
   "metadata": {},
   "outputs": [],
   "source": [
    "plt.___(data=data,x=,y=)\n",
    "plt.title(plot_arabic(pd.Series(\"\"))\n",
    "plt.xlabel(plot_arabic(pd.Series(\"\")))\n",
    "plt.ylabel(plot_arabic(pd.Series(\"\")))\n",
    "plt.ylim(top=0.3e6)\n",
    "plt.\n",
    "# plt.show()\n",
    "\n",
    "\n"
   ]
  }
 ],
 "metadata": {
  "kernelspec": {
   "display_name": "Python 3.8.8 ('base')",
   "language": "python",
   "name": "python3"
  },
  "language_info": {
   "codemirror_mode": {
    "name": "ipython",
    "version": 3
   },
   "file_extension": ".py",
   "mimetype": "text/x-python",
   "name": "python",
   "nbconvert_exporter": "python",
   "pygments_lexer": "ipython3",
   "version": "3.8.8"
  },
  "orig_nbformat": 4,
  "vscode": {
   "interpreter": {
    "hash": "f377678b927e69392be3d32c4a144c48b4fcf75b53b3b6aab14c8f5b0aeaa57a"
   }
  }
 },
 "nbformat": 4,
 "nbformat_minor": 2
}
