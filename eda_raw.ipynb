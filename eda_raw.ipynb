{
 "cells": [
  {
   "cell_type": "markdown",
   "metadata": {},
   "source": [
    "\n",
    "# Aqar Real Estate EDA\n",
    "\n",
    "\n",
    "By: Turki Alsaedi, Yousef Alotaibi, Ahmed Almohammed, Lana Almorabah, Mohammed Alsalamah\n",
    "\n",
    "---\n",
    "*Short description here*\n",
    "\n"
   ]
  },
  {
   "cell_type": "code",
   "execution_count": null,
   "metadata": {},
   "outputs": [],
   "source": [
    "import pandas as pd\n",
    "import numpy as np\n",
    "import matplotlib.pyplot as plt\n",
    "import seaborn as sns\n",
    "\n",
    "# support arabic plotting\n",
    "import arabic_reshaper # pip install arabic-reshaper\n",
    "from bidi.algorithm import get_display # pip install python-bidi\n"
   ]
  },
  {
   "cell_type": "code",
   "execution_count": 88,
   "metadata": {},
   "outputs": [],
   "source": [
    "# read in the dataset\n",
    "data = pd.read_csv(\"SA_Aqar.csv\")"
   ]
  },
  {
   "cell_type": "code",
   "execution_count": null,
   "metadata": {},
   "outputs": [],
   "source": [
    "# look at the head\n",
    "data.head()"
   ]
  },
  {
   "cell_type": "code",
   "execution_count": null,
   "metadata": {},
   "outputs": [],
   "source": [
    "data.describe()\n",
    "# how come there are apratements with size = 1"
   ]
  },
  {
   "cell_type": "code",
   "execution_count": null,
   "metadata": {},
   "outputs": [],
   "source": [
    "data[\"district\"].unique()"
   ]
  },
  {
   "cell_type": "code",
   "execution_count": null,
   "metadata": {},
   "outputs": [],
   "source": [
    "data.isna().sum()"
   ]
  },
  {
   "cell_type": "code",
   "execution_count": 89,
   "metadata": {},
   "outputs": [
    {
     "data": {
      "text/plain": [
       "(24,\n",
       " {'city': (4, [' الرياض', ' جدة', ' الدمام', ' الخبر']),\n",
       "  'district': 174,\n",
       "  'front': 10,\n",
       "  'size': 199,\n",
       "  'property_age': 36,\n",
       "  'bedrooms': 7,\n",
       "  'bathrooms': (5, [5, 4, 3, 2, 1]),\n",
       "  'livingrooms': (5, [1, 2, 3, 4, 5]),\n",
       "  'kitchen': (2, [1, 0]),\n",
       "  'garage': (2, [1, 0]),\n",
       "  'driver_room': (2, [0, 1]),\n",
       "  'maid_room': (2, [1, 0]),\n",
       "  'furnished': (2, [0, 1]),\n",
       "  'ac': (2, [0, 1]),\n",
       "  'roof': (2, [0, 1]),\n",
       "  'pool': (2, [0, 1]),\n",
       "  'frontyard': (2, [1, 0]),\n",
       "  'basement': (2, [0, 1]),\n",
       "  'duplex': (2, [1, 0]),\n",
       "  'stairs': (2, [1, 0]),\n",
       "  'elevator': (2, [0, 1]),\n",
       "  'fireplace': (2, [0, 1]),\n",
       "  'price': 113,\n",
       "  'details': 1429})"
      ]
     },
     "execution_count": 89,
     "metadata": {},
     "output_type": "execute_result"
    }
   ],
   "source": [
    "# a closer look at the features of the dataset\n",
    "data_columns = {}\n",
    "for column in data.columns:\n",
    "  key = column\n",
    "  if data[column].nunique() > 5:\n",
    "    value = data[column].nunique()\n",
    "  else:\n",
    "    value = (data[column].nunique(), list(data[column].unique()))\n",
    "  data_columns[key] = value\n",
    "\n",
    "len(data_columns), data_columns"
   ]
  },
  {
   "cell_type": "markdown",
   "metadata": {},
   "source": [
    "### Questions to ask:\n",
    "\n",
    "* Which city has the highest rent rate?\n",
    "* Does the district within a city play a role in increasing the rent rate?\n",
    "* Do the number of various features within a house increase its rent rate?\n",
    "* Which has a higher impact on the rent price: location or features?"
   ]
  },
  {
   "cell_type": "code",
   "execution_count": null,
   "metadata": {},
   "outputs": [],
   "source": [
    "data[\"city\"].values, data[\"district\"].values, data[\"front\"].values"
   ]
  },
  {
   "cell_type": "code",
   "execution_count": null,
   "metadata": {},
   "outputs": [],
   "source": [
    "# this works because we added the space in the words\n",
    "\n",
    "# city\n",
    "print(f'Number of observations with (الرياض ): {len(data[data[\"city\"] == \" الرياض\"])}')\n",
    "# district\n",
    "print(f'Number of observations with ( حي العليا): {len(data[data[\"district\"] == \"   حي العليا \"])}')\n",
    "# front\n",
    "print(f'Number of observations with (غرب): {len(data[data[\"front\"] == \"غرب\"])}')\n"
   ]
  },
  {
   "cell_type": "code",
   "execution_count": null,
   "metadata": {},
   "outputs": [],
   "source": [
    "# but this doesnt work for some because we didnt add the space\n",
    "\n",
    "# city\n",
    "print(f'Number of observations with (الرياض): {len(data[data[\"city\"] == \"الرياض\"])}')\n",
    "# district\n",
    "\n",
    "print(f'Number of observations with (حي العليا): {len(data[data[\"district\"] == \"حي العليا\"])}')\n",
    "# front\n",
    "print(f'Number of observations with (غرب): {len(data[data[\"front\"] == \"غرب\"])}')"
   ]
  },
  {
   "cell_type": "code",
   "execution_count": 90,
   "metadata": {},
   "outputs": [],
   "source": [
    "# fix the space surrounding the words\n",
    "nonnumeric_columns = [\"city\", \"district\", \"front\"]\n",
    "\n",
    "for column in nonnumeric_columns:\n",
    "    data[column] = data[column].apply(lambda x: x.strip())"
   ]
  },
  {
   "cell_type": "code",
   "execution_count": 91,
   "metadata": {},
   "outputs": [
    {
     "name": "stdout",
     "output_type": "stream",
     "text": [
      "Number of observations with (الرياض): 960\n",
      "Number of observations with (حي العليا): 80\n",
      "Number of observations with (غرب): 771\n"
     ]
    }
   ],
   "source": [
    "# check if stripping the space worked\n",
    "\n",
    "# city\n",
    "print(f'Number of observations with (الرياض): {len(data[data[\"city\"] == \"الرياض\"])}')\n",
    "# district\n",
    "print(f'Number of observations with (حي العليا): {len(data[data[\"district\"] == \"حي العليا\"])}')\n",
    "# front\n",
    "print(f'Number of observations with (غرب): {len(data[data[\"front\"] == \"غرب\"])}')"
   ]
  },
  {
   "cell_type": "markdown",
   "metadata": {},
   "source": [
    "Great now we continue with exploring the data, lets study the effect a city has on its rent prices"
   ]
  },
  {
   "cell_type": "code",
   "execution_count": 92,
   "metadata": {},
   "outputs": [],
   "source": [
    "# make a function to plot arabic labels\n",
    "def plot_arabic(labelsSeries: pd.Series):\n",
    "    \"\"\"\n",
    "    A function that plots arabic literals in their required format instead of just floating letters\n",
    "    \\nArgs:\n",
    "     - labelsSeries: a series of arabic labels \n",
    "    \\nReturns:\n",
    "     - result: a list of properly formatted arabic labels\n",
    "    \"\"\"\n",
    "\n",
    "    # apply the reshaping method\n",
    "    arabicLabels = labelsSeries.apply(arabic_reshaper.reshape)\n",
    "\n",
    "    # initiate the formatting process\n",
    "    result = []\n",
    "    for label in arabicLabels:\n",
    "        result.append(get_display(label))\n",
    "    \n",
    "    # return the formatted labels as a list if there are more than one value\n",
    "    if len(result) == 1:\n",
    "        return result[0]\n",
    "    else:\n",
    "        return result"
   ]
  },
  {
   "cell_type": "code",
   "execution_count": null,
   "metadata": {},
   "outputs": [],
   "source": [
    "# catplot\n",
    "sns.catplot(y=\"price\", x=plot_arabic(data[\"city\"]), data=data, alpha=0.2)\n",
    "plt.ylabel(plot_arabic(pd.Series(\"الأسعار (ر. س.)\")))\n",
    "plt.xlabel(plot_arabic(pd.Series(\"المدن\")))\n",
    "plt.title(plot_arabic(pd.Series(\"توزيع أسعار الأجار حسب المدينة\")))\n",
    "plt.ticklabel_format(style='plain', axis='y')"
   ]
  },
  {
   "cell_type": "code",
   "execution_count": null,
   "metadata": {},
   "outputs": [],
   "source": [
    "# catplot for prices < 250,000 SR\n",
    "d = data[data[\"price\"] < 250000]\n",
    "sns.catplot(y=\"price\", x=plot_arabic(d[\"city\"]), data=d, alpha=0.2)\n",
    "plt.ylabel(plot_arabic(pd.Series(\"الأسعار (ر. س.)\")))\n",
    "plt.xlabel(plot_arabic(pd.Series(\"المدن\")))\n",
    "plt.title(plot_arabic(pd.Series(\"توزيع أسعار الأجار حسب المدينة\")))\n",
    "plt.ticklabel_format(style='plain', axis='y')"
   ]
  },
  {
   "cell_type": "code",
   "execution_count": null,
   "metadata": {},
   "outputs": [],
   "source": [
    "# scatter plt\n",
    "plt.title(plot_arabic(pd.Series(\"متوسط أسعار الأجار حسب المدينة\")))\n",
    "sns.barplot(y = \"price\", x=plot_arabic(data[\"city\"]), data=data)\n",
    "plt.ylabel(plot_arabic(pd.Series(\"الأسعار\")))\n",
    "plt.xlabel(plot_arabic(pd.Series(\"المدن\")));\n"
   ]
  },
  {
   "cell_type": "code",
   "execution_count": null,
   "metadata": {},
   "outputs": [],
   "source": []
  },
  {
   "cell_type": "markdown",
   "metadata": {},
   "source": [
    "Mohammed"
   ]
  },
  {
   "cell_type": "code",
   "execution_count": null,
   "metadata": {},
   "outputs": [],
   "source": [
    "# handeling spacial data\n",
    "import geopandas as gpd\n",
    "import geopy\n",
    "from geopy.geocoders import Nominatim\n",
    "from geopy.extra.rate_limiter import RateLimiter\n",
    "import folium\n",
    "from folium.plugins import FastMarkerCluster"
   ]
  },
  {
   "cell_type": "code",
   "execution_count": null,
   "metadata": {},
   "outputs": [],
   "source": [
    "data_mohammed = pd.read_csv(\"SA_Aqar.csv\", encoding=\"UTF-8\")\n",
    "\n",
    "categorical = ['city', 'front', 'kitchen', 'garage',  'driver_room', 'maid_room',  'furnished',   \n",
    "'ac', 'roof', 'pool', 'frontyard',  'basement', 'duplex',  'stairs',  'elevator', 'fireplace']"
   ]
  },
  {
   "cell_type": "code",
   "execution_count": null,
   "metadata": {},
   "outputs": [],
   "source": [
    "# strip the string attributes from white space\n",
    "data_mohammed[\"city\"] = data_mohammed[\"city\"].apply(lambda city: city.strip())\n",
    "data_mohammed[\"district\"] = data_mohammed[\"district\"].apply(lambda city: city.strip())\n",
    "data_mohammed[\"front\"] = data_mohammed[\"front\"].apply(lambda city: city.strip())"
   ]
  },
  {
   "cell_type": "code",
   "execution_count": null,
   "metadata": {},
   "outputs": [],
   "source": [
    "# scatter plt\n",
    "plt.title(plot_arabic(pd.Series(\"الأسعار حسب المدينة\")))\n",
    "sns.boxplot(y = \"price\", x=plot_arabic(data_mohammed[\"city\"]), data=data_mohammed)\n",
    "plt.ylabel(plot_arabic(pd.Series(\"الأسعار\")))\n",
    "plt.xlabel(plot_arabic(pd.Series(\"المدن\")))\n",
    "plt.ylim(top=0.5e6)\n",
    "plt.show();"
   ]
  },
  {
   "cell_type": "code",
   "execution_count": null,
   "metadata": {},
   "outputs": [],
   "source": [
    "# create a dataframe to understand the average price in different cities\n",
    "avg_city = data_mohammed.groupby([\"city\"])[\"price\"].mean().sort_values().to_numpy()\n",
    "\n",
    "prop_city = (avg_city / avg_city.max())\n",
    "cities_by_price = data.groupby([\"city\"])[\"price\"].mean().sort_values().index\n",
    "\n",
    "df_mohammed = pd.DataFrame({\"avg_price\": avg_city, \"prop_to_max\": prop_city}, index=cities_by_price)\n",
    "df_mohammed"
   ]
  },
  {
   "cell_type": "code",
   "execution_count": null,
   "metadata": {},
   "outputs": [],
   "source": [
    "# this plot leads me to question the quality of the data \n",
    "# in the attribute \"livingrooms\" \n",
    "\n",
    "sns.boxplot(data=data_mohammed,x=\"livingrooms\",y=\"price\")\n",
    "plt.title(plot_arabic(pd.Series(\"تأثير غرف المعيشة على السعر\")))\n",
    "plt.xlabel(plot_arabic(pd.Series(\"عدد غرف المعيشة\")))\n",
    "plt.ylabel(plot_arabic(pd.Series(\"متوسط السعر\")))\n",
    "plt.ylim(top=0.3e6)\n",
    "# plt.\n",
    "# plt.show()"
   ]
  },
  {
   "cell_type": "code",
   "execution_count": null,
   "metadata": {},
   "outputs": [],
   "source": [
    "numerical = ['size', 'property_age', 'bedrooms', 'bathrooms', 'livingrooms', 'price']\n",
    "num_data = data_mohammed[numerical]\n",
    "\n",
    "num_mean = num_data.mean()\n",
    "num_median = num_data.median()\n",
    "num_mode = num_data.mode()\n",
    "num_std = num_data.std()"
   ]
  },
  {
   "cell_type": "code",
   "execution_count": null,
   "metadata": {},
   "outputs": [],
   "source": [
    "summary_statistics"
   ]
  },
  {
   "cell_type": "code",
   "execution_count": null,
   "metadata": {},
   "outputs": [],
   "source": [
    "# # using the geopy and geopandas packages to process the 'district'\n",
    "# # column and produce latitude and longitude columns. \n",
    "\n",
    "# # 0 - create a locator instance\n",
    "# locator = Nominatim(user_agent=\"myGeocoder\")\n",
    "# # 1 - conveneint function to delay between geocoding calls\n",
    "# geocode = RateLimiter(locator.geocode, min_delay_seconds=0.1)\n",
    "# # 2- - create location column\n",
    "# data_mohammed['location'] = data_mohammed['district'].apply(geocode)\n",
    "# # 3 - create longitude, laatitude and altitude from location column (returns tuple)\n",
    "# data_mohammed['point'] = data_mohammed['location'].apply(lambda loc: tuple(loc.point) if loc else None)\n",
    "# # 4 - split point column into latitude, longitude and altitude columns\n",
    "# data_mohammed[['latitude', 'longitude', 'altitude']] = pd.DataFrame(data_mohammed['point'].tolist(), index=data_mohammed.index)\n",
    "\n",
    "# # running the above lines takes about an hour to finish. To save your time, you can find \n",
    "# # the resulting columns appended to the original dataframe at \"SA_Aqar_Added_Attributes.csv\""
   ]
  },
  {
   "cell_type": "code",
   "execution_count": null,
   "metadata": {},
   "outputs": [],
   "source": [
    "def convert_coord(latitude: pd.Series, longitude: pd.Series, cities: pd.Series):\n",
    "    \"\"\" given a latitude and longitude and cities, returns a single \n",
    "        attribute that encodes which part of the city a (latitude, longitude) \n",
    "        pair belongs to (e.g., north_east)\"\"\"\n",
    "\n",
    "    middles = middle_of_cities(latitude, longitude, cities)\n",
    "    part_of_city = assign_location(latitude, longitude, cities, middles)\n",
    "\n",
    "    return part_of_city\n",
    "\n",
    "\n",
    "\n",
    "\n",
    "# returns a series containing four tuples where each tuple is (latitude, longitude) \n",
    "# of the middle of one of the cities in the order (Riyadh, Jeddah, Damam, Khobar)\n",
    "\n",
    "# the \"middle of the city\" is the median\n",
    "\n",
    "def middle_of_cities(latitude: pd.Series, longitude: pd.Series, cities: pd.Series):\n",
    "    \"\"\"returns a dictionary containing four tuples where each tuple is \n",
    "        (latitude, longitude) of the middle of one of the cities \"\"\"\n",
    "\n",
    "    #store the produced middle values \n",
    "    middles = {}\n",
    "\n",
    "    for city in cities.unique():\n",
    "        indicies = cities == city\n",
    "        relevent_city = cities.loc[indicies]\n",
    "        relevent_latitude = latitude.loc[indicies]\n",
    "        relevent_longitude = longitude.loc[indicies]\n",
    "\n",
    "        # consider taking the trimmed median instead\n",
    "        middle_latitude = relevent_latitude.median()\n",
    "        middle_longitude = relevent_longitude.median()\n",
    "\n",
    "        middles[city] = (middle_latitude, middle_longitude)\n",
    "\n",
    "    return middles\n",
    "\n",
    "\n",
    "#\n",
    "def assign_location(latitude: pd.Series, longitude: pd.Series, cities: pd.Series, middle_of_cities: dict):\n",
    "    \"\"\" creates a series of the same length as the original dataframe assigning each instance one of\n",
    "        north_east, north_west, south_east, south_west depending on where the latitude and longitude lie\n",
    "        relative to the relevent middle of city\"\"\"\n",
    "\n",
    "    location_4 = []\n",
    "   \n",
    "    for i in range(len(latitude)):\n",
    "        if latitude[i] is None:\n",
    "            location_4.append(None)\n",
    "            continue\n",
    "\n",
    "        relevent_city_middle = middle_of_cities[cities[i]]\n",
    "\n",
    "        if latitude[i] > relevent_city_middle[0]:\n",
    "            # north\n",
    "            if longitude[i] > relevent_city_middle[1]:\n",
    "                # east\n",
    "                location_4.append(\"شمال شرق\")\n",
    "            else:\n",
    "                location_4.append(\"شمال غرب\")\n",
    "        else:\n",
    "            # south\n",
    "            if longitude[i] > relevent_city_middle[1]:\n",
    "                # east\n",
    "                location_4.append(\"جنوب شرق\")\n",
    "            else:\n",
    "                location_4.append(\"جنوب غرب\")\n",
    "\n",
    "    return pd.Series(location_4)\n"
   ]
  },
  {
   "cell_type": "code",
   "execution_count": null,
   "metadata": {},
   "outputs": [],
   "source": [
    "# running the above functions and creating a new attribute\n",
    "# data_mohammed['part_of_city'] = convert_coord(data_mohammed.latitude, data_mohammed.longitude, data_mohammed.city)"
   ]
  },
  {
   "cell_type": "code",
   "execution_count": null,
   "metadata": {},
   "outputs": [],
   "source": [
    "data_mohammed = pd.read_csv(\"SA_Aqar_Added_Attributes.csv\")"
   ]
  },
  {
   "cell_type": "code",
   "execution_count": null,
   "metadata": {},
   "outputs": [],
   "source": [
    "grouped_city = data_mohammed.groupby('city')\n",
    "# grouped_city.get_group('الرياض')\n",
    "# grouped_city.get_group('الخبر')\n",
    "# grouped_city.get_group('الدمام')\n",
    "# grouped_city.get_group('جدة')\n",
    "parts_order = pd.Series(['شمال شرق', 'شمال غرب', 'جنوب شرق', 'جنوب غرب'])\n",
    "\n",
    "fig, ((ax1,ax2), (ax3,ax4)) = plt.subplots(2,2, figsize=(10,6))\n",
    "\n",
    "\n",
    "\n",
    "sns.barplot(ax=ax1, data=grouped_city.get_group('الرياض'), x=plot_arabic(grouped_city.get_group('الرياض')['part_of_city']), \n",
    "  y=grouped_city.get_group('الرياض')['price'], order=plot_arabic(parts_order))\n",
    "ax1.set_title(\"Riyadh\")\n",
    "\n",
    "sns.barplot(ax=ax2, data=grouped_city.get_group('الخبر'), x=plot_arabic(grouped_city.get_group('الخبر')['part_of_city']), \n",
    "    y=grouped_city.get_group('الخبر')['price'], order=plot_arabic(parts_order))\n",
    "ax2.set_title('Khubar')\n",
    "\n",
    "sns.barplot(ax=ax3, data=grouped_city.get_group('الدمام'), x=plot_arabic(grouped_city.get_group('الدمام')['part_of_city']), \n",
    "  y=grouped_city.get_group('الدمام')['price'], order=plot_arabic(parts_order))\n",
    "ax3.set_title('Dammam')\n",
    "\n",
    "sns.barplot(ax=ax4, data=grouped_city.get_group('جدة'), x=plot_arabic(grouped_city.get_group('جدة')['part_of_city']), \n",
    "  y=grouped_city.get_group('جدة')['price'], order=plot_arabic(parts_order))\n",
    "ax4.set_title('Jeddah')\n",
    "\n"
   ]
  },
  {
   "cell_type": "code",
   "execution_count": null,
   "metadata": {},
   "outputs": [],
   "source": [
    "avg_size_part_of_city = pd.DataFrame()"
   ]
  },
  {
   "cell_type": "markdown",
   "metadata": {},
   "source": [
    "Yousef"
   ]
  },
  {
   "cell_type": "code",
   "execution_count": null,
   "metadata": {},
   "outputs": [],
   "source": [
    "d_yousef = data[data['size'] < 80000]"
   ]
  },
  {
   "cell_type": "code",
   "execution_count": null,
   "metadata": {},
   "outputs": [],
   "source": [
    "d_yousef.groupby(data['city'])['price'].mean().sort_values().to_frame()\n",
    "# why is jeddah and riyadh the highest ?"
   ]
  },
  {
   "cell_type": "code",
   "execution_count": null,
   "metadata": {},
   "outputs": [],
   "source": [
    "city_avg = d_yousef.groupby(plot_arabic(d_yousef['city'])).mean().sort_values('price', ascending = False)\n",
    "\n",
    "# Line Chart using matplotlib & twinx method for y-axis for each line.\n",
    "\n",
    "ax1 = plt.subplot()\n",
    "l1, = ax1.plot(city_avg['price'], color='red')\n",
    "plt.ylabel(plot_arabic(pd.Series(\"السعر\")))\n",
    "ax2 = ax1.twinx()\n",
    "l2, = ax2.plot(city_avg['size'], color='orange')\n",
    "\n",
    "plt.ylabel(plot_arabic(pd.Series(\"المساحة\")))\n",
    "plt.legend([l1, l2], plot_arabic(pd.Series([\"السعر\", \"المساحة\"])))"
   ]
  },
  {
   "cell_type": "markdown",
   "metadata": {},
   "source": [
    "<p>An explanation for Jeddah and Riyadh being the highest avg prices is that that they have a high avg of house size, but we need to dig in more and find out what other reason can be behind this.\n",
    "<p>"
   ]
  },
  {
   "cell_type": "code",
   "execution_count": null,
   "metadata": {},
   "outputs": [],
   "source": [
    "s = d_yousef.district.value_counts()\n",
    "repeated = set(s[s > 30].index.values)\n",
    "d_district = d_yousef[d_yousef.district.isin(repeated)]\n"
   ]
  },
  {
   "cell_type": "code",
   "execution_count": null,
   "metadata": {},
   "outputs": [],
   "source": [
    "avg_size_dist = d_district.groupby(['city', 'district'])[['size', 'price']].mean().reset_index().sort_values('price')\n",
    "riyadh = avg_size_dist.query(\"city == 'الرياض' & size < 600\")\n",
    "jeddah = avg_size_dist.query(\"city == 'جدة' & price < 160000 & size < 600\")\n",
    "\n",
    "plt.figure(figsize=(10,10))\n",
    "\n",
    "# RIYADH\n",
    "x = np.arange(len(riyadh))\n",
    "ax1 = plt.subplot(2,2,1)\n",
    "w = 0.3\n",
    "plt.title(plot_arabic(pd.Series('الرياض')))\n",
    "plt.xticks(x + w /2, plot_arabic(riyadh['district']), rotation='60')\n",
    "P =ax1.bar(x, riyadh['price'], width=w, color='r', align='center')\n",
    "plt.ylabel(plot_arabic(pd.Series(\"السعر\")))\n",
    "ax2 = ax1.twinx()\n",
    "S =ax2.bar(x + w, riyadh['size'], width=w,color='y',align='center')\n",
    "\n",
    "plt.legend([P, S], plot_arabic(pd.Series(['متوسط السعر', 'متوسط المساحة'])))\n",
    "\n",
    "\n",
    "# JEDDAH\n",
    "x = np.arange(len(jeddah))\n",
    "ax1 = plt.subplot(2,2,2)\n",
    "w = 0.3\n",
    "plt.title(plot_arabic(pd.Series('جدة')))\n",
    "plt.xticks(x + w /2, plot_arabic(jeddah['district']), rotation='60')\n",
    "P =ax1.bar(x, jeddah['price'], width=w, color='r', align='center')\n",
    "\n",
    "ax2 = ax1.twinx()\n",
    "S =ax2.bar(x + w, jeddah['size'], width=w,color='y',align='center')\n",
    "plt.ylabel(plot_arabic(pd.Series(\"المساحة\")))\n",
    "plt.legend([P, S], plot_arabic(pd.Series(['متوسط السعر', 'متوسط المساحة'])))\n",
    "\n",
    "plt.tight_layout()\n",
    "plt.show()"
   ]
  },
  {
   "cell_type": "markdown",
   "metadata": {},
   "source": [
    "<P>It's fair too say that Riyadh districts tend to have high avg house sizes compared to it's price, as for Jeddah districts with high avg house sizes have a high avg price<P>"
   ]
  },
  {
   "cell_type": "code",
   "execution_count": null,
   "metadata": {},
   "outputs": [],
   "source": [
    "\n",
    "d_district.groupby(['city','district'])['price'].mean().sort_values(ascending=False).to_frame().reset_index().head(10)"
   ]
  },
  {
   "cell_type": "markdown",
   "metadata": {},
   "source": [
    "Turki"
   ]
  },
  {
   "cell_type": "code",
   "execution_count": null,
   "metadata": {},
   "outputs": [],
   "source": []
  },
  {
   "cell_type": "markdown",
   "metadata": {},
   "source": [
    "Ahmed"
   ]
  },
  {
   "cell_type": "code",
   "execution_count": null,
   "metadata": {},
   "outputs": [],
   "source": [
    "# Question: What is the factor that when present increases the price the most?\n",
    "# Question: Do the number of various features within a house increase its rent rate?\n",
    "# Question: Which has a higher impact on the rent prices: location or features?\n",
    "# What attributes have the greatest covariance with each other?"
   ]
  },
  {
   "cell_type": "code",
   "execution_count": 83,
   "metadata": {},
   "outputs": [
    {
     "data": {
      "text/html": [
       "<div>\n",
       "<style scoped>\n",
       "    .dataframe tbody tr th:only-of-type {\n",
       "        vertical-align: middle;\n",
       "    }\n",
       "\n",
       "    .dataframe tbody tr th {\n",
       "        vertical-align: top;\n",
       "    }\n",
       "\n",
       "    .dataframe thead th {\n",
       "        text-align: right;\n",
       "    }\n",
       "</style>\n",
       "<table border=\"1\" class=\"dataframe\">\n",
       "  <thead>\n",
       "    <tr style=\"text-align: right;\">\n",
       "      <th></th>\n",
       "      <th>city</th>\n",
       "      <th>district</th>\n",
       "      <th>front</th>\n",
       "      <th>size</th>\n",
       "      <th>property_age</th>\n",
       "      <th>bedrooms</th>\n",
       "      <th>bathrooms</th>\n",
       "      <th>livingrooms</th>\n",
       "      <th>kitchen</th>\n",
       "      <th>garage</th>\n",
       "      <th>...</th>\n",
       "      <th>roof</th>\n",
       "      <th>pool</th>\n",
       "      <th>frontyard</th>\n",
       "      <th>basement</th>\n",
       "      <th>duplex</th>\n",
       "      <th>stairs</th>\n",
       "      <th>elevator</th>\n",
       "      <th>fireplace</th>\n",
       "      <th>price</th>\n",
       "      <th>details</th>\n",
       "    </tr>\n",
       "  </thead>\n",
       "  <tbody>\n",
       "    <tr>\n",
       "      <th>1206</th>\n",
       "      <td>جدة</td>\n",
       "      <td>حي الروضة</td>\n",
       "      <td>شمال</td>\n",
       "      <td>2500</td>\n",
       "      <td>0</td>\n",
       "      <td>5</td>\n",
       "      <td>5</td>\n",
       "      <td>5</td>\n",
       "      <td>1</td>\n",
       "      <td>1</td>\n",
       "      <td>...</td>\n",
       "      <td>1</td>\n",
       "      <td>0</td>\n",
       "      <td>1</td>\n",
       "      <td>1</td>\n",
       "      <td>0</td>\n",
       "      <td>1</td>\n",
       "      <td>1</td>\n",
       "      <td>0</td>\n",
       "      <td>1700000</td>\n",
       "      <td>العقار فيه مميزات كثير له وله تراخيص جاهزه مجه...</td>\n",
       "    </tr>\n",
       "    <tr>\n",
       "      <th>1168</th>\n",
       "      <td>جدة</td>\n",
       "      <td>حي الحمدانية</td>\n",
       "      <td>3 شوارع</td>\n",
       "      <td>300</td>\n",
       "      <td>0</td>\n",
       "      <td>5</td>\n",
       "      <td>5</td>\n",
       "      <td>3</td>\n",
       "      <td>1</td>\n",
       "      <td>1</td>\n",
       "      <td>...</td>\n",
       "      <td>1</td>\n",
       "      <td>0</td>\n",
       "      <td>1</td>\n",
       "      <td>1</td>\n",
       "      <td>0</td>\n",
       "      <td>1</td>\n",
       "      <td>1</td>\n",
       "      <td>1</td>\n",
       "      <td>1300000</td>\n",
       "      <td>فيلا فاخرة حي الحمدانيه\\nمكونات المشروع دورين ...</td>\n",
       "    </tr>\n",
       "    <tr>\n",
       "      <th>1323</th>\n",
       "      <td>جدة</td>\n",
       "      <td>حي الخالدية</td>\n",
       "      <td>3 شوارع</td>\n",
       "      <td>5000</td>\n",
       "      <td>17</td>\n",
       "      <td>5</td>\n",
       "      <td>3</td>\n",
       "      <td>1</td>\n",
       "      <td>1</td>\n",
       "      <td>1</td>\n",
       "      <td>...</td>\n",
       "      <td>0</td>\n",
       "      <td>1</td>\n",
       "      <td>1</td>\n",
       "      <td>0</td>\n",
       "      <td>0</td>\n",
       "      <td>1</td>\n",
       "      <td>0</td>\n",
       "      <td>0</td>\n",
       "      <td>800000</td>\n",
       "      <td>مجمع سكني مكون من ١١ فيلا دوبلكس كل فيلا لها ح...</td>\n",
       "    </tr>\n",
       "    <tr>\n",
       "      <th>1116</th>\n",
       "      <td>جدة</td>\n",
       "      <td>حي الروضة</td>\n",
       "      <td>3 شوارع</td>\n",
       "      <td>500</td>\n",
       "      <td>23</td>\n",
       "      <td>5</td>\n",
       "      <td>4</td>\n",
       "      <td>3</td>\n",
       "      <td>1</td>\n",
       "      <td>1</td>\n",
       "      <td>...</td>\n",
       "      <td>0</td>\n",
       "      <td>0</td>\n",
       "      <td>1</td>\n",
       "      <td>0</td>\n",
       "      <td>0</td>\n",
       "      <td>1</td>\n",
       "      <td>0</td>\n",
       "      <td>0</td>\n",
       "      <td>700000</td>\n",
       "      <td>فيلا للاستثمار بموقع مميز على شارع صاري على ٣ ...</td>\n",
       "    </tr>\n",
       "    <tr>\n",
       "      <th>1371</th>\n",
       "      <td>جدة</td>\n",
       "      <td>حي الروضة</td>\n",
       "      <td>غرب</td>\n",
       "      <td>656</td>\n",
       "      <td>0</td>\n",
       "      <td>5</td>\n",
       "      <td>4</td>\n",
       "      <td>4</td>\n",
       "      <td>1</td>\n",
       "      <td>0</td>\n",
       "      <td>...</td>\n",
       "      <td>1</td>\n",
       "      <td>0</td>\n",
       "      <td>1</td>\n",
       "      <td>0</td>\n",
       "      <td>0</td>\n",
       "      <td>1</td>\n",
       "      <td>1</td>\n",
       "      <td>0</td>\n",
       "      <td>600000</td>\n",
       "      <td>مبنى  اداري فخم حي الروضة\\nالدور الأرضي652.80 ...</td>\n",
       "    </tr>\n",
       "  </tbody>\n",
       "</table>\n",
       "<p>5 rows × 24 columns</p>\n",
       "</div>"
      ],
      "text/plain": [
       "     city      district    front  size  property_age  bedrooms  bathrooms  \\\n",
       "1206  جدة     حي الروضة     شمال  2500             0         5          5   \n",
       "1168  جدة  حي الحمدانية  3 شوارع   300             0         5          5   \n",
       "1323  جدة   حي الخالدية  3 شوارع  5000            17         5          3   \n",
       "1116  جدة     حي الروضة  3 شوارع   500            23         5          4   \n",
       "1371  جدة     حي الروضة      غرب   656             0         5          4   \n",
       "\n",
       "      livingrooms  kitchen  garage  ...  roof  pool  frontyard  basement  \\\n",
       "1206            5        1       1  ...     1     0          1         1   \n",
       "1168            3        1       1  ...     1     0          1         1   \n",
       "1323            1        1       1  ...     0     1          1         0   \n",
       "1116            3        1       1  ...     0     0          1         0   \n",
       "1371            4        1       0  ...     1     0          1         0   \n",
       "\n",
       "      duplex  stairs  elevator  fireplace    price  \\\n",
       "1206       0       1         1          0  1700000   \n",
       "1168       0       1         1          1  1300000   \n",
       "1323       0       1         0          0   800000   \n",
       "1116       0       1         0          0   700000   \n",
       "1371       0       1         1          0   600000   \n",
       "\n",
       "                                                details  \n",
       "1206  العقار فيه مميزات كثير له وله تراخيص جاهزه مجه...  \n",
       "1168  فيلا فاخرة حي الحمدانيه\\nمكونات المشروع دورين ...  \n",
       "1323  مجمع سكني مكون من ١١ فيلا دوبلكس كل فيلا لها ح...  \n",
       "1116  فيلا للاستثمار بموقع مميز على شارع صاري على ٣ ...  \n",
       "1371  مبنى  اداري فخم حي الروضة\\nالدور الأرضي652.80 ...  \n",
       "\n",
       "[5 rows x 24 columns]"
      ]
     },
     "execution_count": 83,
     "metadata": {},
     "output_type": "execute_result"
    }
   ],
   "source": [
    "data[data[\"city\"] == \"جدة\"].sort_values(by=['price'], ascending=False).head()"
   ]
  },
  {
   "cell_type": "code",
<<<<<<< HEAD
   "execution_count": 5,
   "metadata": {},
   "outputs": [
    {
     "data": {
      "text/html": [
       "<div>\n",
       "<style scoped>\n",
       "    .dataframe tbody tr th:only-of-type {\n",
       "        vertical-align: middle;\n",
       "    }\n",
       "\n",
       "    .dataframe tbody tr th {\n",
       "        vertical-align: top;\n",
       "    }\n",
       "\n",
       "    .dataframe thead th {\n",
       "        text-align: right;\n",
       "    }\n",
       "</style>\n",
       "<table border=\"1\" class=\"dataframe\">\n",
       "  <thead>\n",
       "    <tr style=\"text-align: right;\">\n",
       "      <th></th>\n",
       "      <th>size</th>\n",
       "      <th>property_age</th>\n",
       "      <th>bedrooms</th>\n",
       "      <th>bathrooms</th>\n",
       "      <th>livingrooms</th>\n",
       "      <th>kitchen</th>\n",
       "      <th>garage</th>\n",
       "      <th>driver_room</th>\n",
       "      <th>maid_room</th>\n",
       "      <th>furnished</th>\n",
       "      <th>ac</th>\n",
       "      <th>roof</th>\n",
       "      <th>pool</th>\n",
       "      <th>frontyard</th>\n",
       "      <th>basement</th>\n",
       "      <th>duplex</th>\n",
       "      <th>stairs</th>\n",
       "      <th>elevator</th>\n",
       "      <th>fireplace</th>\n",
       "      <th>price</th>\n",
       "    </tr>\n",
       "  </thead>\n",
       "  <tbody>\n",
       "    <tr>\n",
       "      <th>count</th>\n",
       "      <td>3718.000000</td>\n",
       "      <td>3718.000000</td>\n",
       "      <td>3718.000000</td>\n",
       "      <td>3718.000000</td>\n",
       "      <td>3718.000000</td>\n",
       "      <td>3718.000000</td>\n",
       "      <td>3718.000000</td>\n",
       "      <td>3718.000000</td>\n",
       "      <td>3718.000000</td>\n",
       "      <td>3718.000000</td>\n",
       "      <td>3718.000000</td>\n",
       "      <td>3718.000000</td>\n",
       "      <td>3718.000000</td>\n",
       "      <td>3718.000000</td>\n",
       "      <td>3718.000000</td>\n",
       "      <td>3718.000000</td>\n",
       "      <td>3718.000000</td>\n",
       "      <td>3718.000000</td>\n",
       "      <td>3718.000000</td>\n",
       "      <td>3.718000e+03</td>\n",
       "    </tr>\n",
       "    <tr>\n",
       "      <th>mean</th>\n",
       "      <td>390.968531</td>\n",
       "      <td>5.064820</td>\n",
       "      <td>5.083916</td>\n",
       "      <td>4.606509</td>\n",
       "      <td>2.243948</td>\n",
       "      <td>0.909360</td>\n",
       "      <td>0.802044</td>\n",
       "      <td>0.495697</td>\n",
       "      <td>0.795320</td>\n",
       "      <td>0.123453</td>\n",
       "      <td>0.560785</td>\n",
       "      <td>0.521517</td>\n",
       "      <td>0.162453</td>\n",
       "      <td>0.802582</td>\n",
       "      <td>0.034158</td>\n",
       "      <td>0.499462</td>\n",
       "      <td>0.814416</td>\n",
       "      <td>0.080958</td>\n",
       "      <td>0.181280</td>\n",
       "      <td>8.738797e+04</td>\n",
       "    </tr>\n",
       "    <tr>\n",
       "      <th>std</th>\n",
       "      <td>1565.056135</td>\n",
       "      <td>7.590427</td>\n",
       "      <td>1.230040</td>\n",
       "      <td>0.703449</td>\n",
       "      <td>0.916436</td>\n",
       "      <td>0.287135</td>\n",
       "      <td>0.398512</td>\n",
       "      <td>0.500049</td>\n",
       "      <td>0.403522</td>\n",
       "      <td>0.329001</td>\n",
       "      <td>0.496358</td>\n",
       "      <td>0.499604</td>\n",
       "      <td>0.368915</td>\n",
       "      <td>0.398104</td>\n",
       "      <td>0.181660</td>\n",
       "      <td>0.500067</td>\n",
       "      <td>0.388823</td>\n",
       "      <td>0.272807</td>\n",
       "      <td>0.385302</td>\n",
       "      <td>7.063470e+04</td>\n",
       "    </tr>\n",
       "    <tr>\n",
       "      <th>min</th>\n",
       "      <td>1.000000</td>\n",
       "      <td>0.000000</td>\n",
       "      <td>1.000000</td>\n",
       "      <td>1.000000</td>\n",
       "      <td>1.000000</td>\n",
       "      <td>0.000000</td>\n",
       "      <td>0.000000</td>\n",
       "      <td>0.000000</td>\n",
       "      <td>0.000000</td>\n",
       "      <td>0.000000</td>\n",
       "      <td>0.000000</td>\n",
       "      <td>0.000000</td>\n",
       "      <td>0.000000</td>\n",
       "      <td>0.000000</td>\n",
       "      <td>0.000000</td>\n",
       "      <td>0.000000</td>\n",
       "      <td>0.000000</td>\n",
       "      <td>0.000000</td>\n",
       "      <td>0.000000</td>\n",
       "      <td>1.000000e+03</td>\n",
       "    </tr>\n",
       "    <tr>\n",
       "      <th>25%</th>\n",
       "      <td>280.000000</td>\n",
       "      <td>0.000000</td>\n",
       "      <td>4.000000</td>\n",
       "      <td>4.000000</td>\n",
       "      <td>2.000000</td>\n",
       "      <td>1.000000</td>\n",
       "      <td>1.000000</td>\n",
       "      <td>0.000000</td>\n",
       "      <td>1.000000</td>\n",
       "      <td>0.000000</td>\n",
       "      <td>0.000000</td>\n",
       "      <td>0.000000</td>\n",
       "      <td>0.000000</td>\n",
       "      <td>1.000000</td>\n",
       "      <td>0.000000</td>\n",
       "      <td>0.000000</td>\n",
       "      <td>1.000000</td>\n",
       "      <td>0.000000</td>\n",
       "      <td>0.000000</td>\n",
       "      <td>5.500000e+04</td>\n",
       "    </tr>\n",
       "    <tr>\n",
       "      <th>50%</th>\n",
       "      <td>330.000000</td>\n",
       "      <td>2.000000</td>\n",
       "      <td>5.000000</td>\n",
       "      <td>5.000000</td>\n",
       "      <td>2.000000</td>\n",
       "      <td>1.000000</td>\n",
       "      <td>1.000000</td>\n",
       "      <td>0.000000</td>\n",
       "      <td>1.000000</td>\n",
       "      <td>0.000000</td>\n",
       "      <td>1.000000</td>\n",
       "      <td>1.000000</td>\n",
       "      <td>0.000000</td>\n",
       "      <td>1.000000</td>\n",
       "      <td>0.000000</td>\n",
       "      <td>0.000000</td>\n",
       "      <td>1.000000</td>\n",
       "      <td>0.000000</td>\n",
       "      <td>0.000000</td>\n",
       "      <td>7.000000e+04</td>\n",
       "    </tr>\n",
       "    <tr>\n",
       "      <th>75%</th>\n",
       "      <td>400.000000</td>\n",
       "      <td>7.000000</td>\n",
       "      <td>6.000000</td>\n",
       "      <td>5.000000</td>\n",
       "      <td>3.000000</td>\n",
       "      <td>1.000000</td>\n",
       "      <td>1.000000</td>\n",
       "      <td>1.000000</td>\n",
       "      <td>1.000000</td>\n",
       "      <td>0.000000</td>\n",
       "      <td>1.000000</td>\n",
       "      <td>1.000000</td>\n",
       "      <td>0.000000</td>\n",
       "      <td>1.000000</td>\n",
       "      <td>0.000000</td>\n",
       "      <td>1.000000</td>\n",
       "      <td>1.000000</td>\n",
       "      <td>0.000000</td>\n",
       "      <td>0.000000</td>\n",
       "      <td>1.000000e+05</td>\n",
       "    </tr>\n",
       "    <tr>\n",
       "      <th>max</th>\n",
       "      <td>95000.000000</td>\n",
       "      <td>36.000000</td>\n",
       "      <td>7.000000</td>\n",
       "      <td>5.000000</td>\n",
       "      <td>5.000000</td>\n",
       "      <td>1.000000</td>\n",
       "      <td>1.000000</td>\n",
       "      <td>1.000000</td>\n",
       "      <td>1.000000</td>\n",
       "      <td>1.000000</td>\n",
       "      <td>1.000000</td>\n",
       "      <td>1.000000</td>\n",
       "      <td>1.000000</td>\n",
       "      <td>1.000000</td>\n",
       "      <td>1.000000</td>\n",
       "      <td>1.000000</td>\n",
       "      <td>1.000000</td>\n",
       "      <td>1.000000</td>\n",
       "      <td>1.000000</td>\n",
       "      <td>1.700000e+06</td>\n",
       "    </tr>\n",
       "  </tbody>\n",
       "</table>\n",
       "</div>"
      ],
      "text/plain": [
       "               size  property_age     bedrooms    bathrooms  livingrooms  \\\n",
       "count   3718.000000   3718.000000  3718.000000  3718.000000  3718.000000   \n",
       "mean     390.968531      5.064820     5.083916     4.606509     2.243948   \n",
       "std     1565.056135      7.590427     1.230040     0.703449     0.916436   \n",
       "min        1.000000      0.000000     1.000000     1.000000     1.000000   \n",
       "25%      280.000000      0.000000     4.000000     4.000000     2.000000   \n",
       "50%      330.000000      2.000000     5.000000     5.000000     2.000000   \n",
       "75%      400.000000      7.000000     6.000000     5.000000     3.000000   \n",
       "max    95000.000000     36.000000     7.000000     5.000000     5.000000   \n",
       "\n",
       "           kitchen       garage  driver_room    maid_room    furnished  \\\n",
       "count  3718.000000  3718.000000  3718.000000  3718.000000  3718.000000   \n",
       "mean      0.909360     0.802044     0.495697     0.795320     0.123453   \n",
       "std       0.287135     0.398512     0.500049     0.403522     0.329001   \n",
       "min       0.000000     0.000000     0.000000     0.000000     0.000000   \n",
       "25%       1.000000     1.000000     0.000000     1.000000     0.000000   \n",
       "50%       1.000000     1.000000     0.000000     1.000000     0.000000   \n",
       "75%       1.000000     1.000000     1.000000     1.000000     0.000000   \n",
       "max       1.000000     1.000000     1.000000     1.000000     1.000000   \n",
       "\n",
       "                ac         roof         pool    frontyard     basement  \\\n",
       "count  3718.000000  3718.000000  3718.000000  3718.000000  3718.000000   \n",
       "mean      0.560785     0.521517     0.162453     0.802582     0.034158   \n",
       "std       0.496358     0.499604     0.368915     0.398104     0.181660   \n",
       "min       0.000000     0.000000     0.000000     0.000000     0.000000   \n",
       "25%       0.000000     0.000000     0.000000     1.000000     0.000000   \n",
       "50%       1.000000     1.000000     0.000000     1.000000     0.000000   \n",
       "75%       1.000000     1.000000     0.000000     1.000000     0.000000   \n",
       "max       1.000000     1.000000     1.000000     1.000000     1.000000   \n",
       "\n",
       "            duplex       stairs     elevator    fireplace         price  \n",
       "count  3718.000000  3718.000000  3718.000000  3718.000000  3.718000e+03  \n",
       "mean      0.499462     0.814416     0.080958     0.181280  8.738797e+04  \n",
       "std       0.500067     0.388823     0.272807     0.385302  7.063470e+04  \n",
       "min       0.000000     0.000000     0.000000     0.000000  1.000000e+03  \n",
       "25%       0.000000     1.000000     0.000000     0.000000  5.500000e+04  \n",
       "50%       0.000000     1.000000     0.000000     0.000000  7.000000e+04  \n",
       "75%       1.000000     1.000000     0.000000     0.000000  1.000000e+05  \n",
       "max       1.000000     1.000000     1.000000     1.000000  1.700000e+06  "
      ]
     },
     "execution_count": 5,
     "metadata": {},
     "output_type": "execute_result"
    }
   ],
   "source": [
    "data.describe()\n",
    "# how come there are apratements with size = 1"
   ]
  },
  {
   "cell_type": "code",
   "execution_count": 6,
   "metadata": {},
   "outputs": [
    {
     "data": {
      "text/plain": [
       "array(['   حي العارض ', '   حي القادسية ', '   حي المعيزلة ',\n",
       "       '   حي العليا ', '   حي الازدهار ', '   حي المهدية ',\n",
       "       '   حي الحزم ', '   حي الصحافة ', '   حي بنبان ',\n",
       "       '   حي النسيم الغربي ', '   حي النرجس ', '   حي الملز ',\n",
       "       '   حي الياسمين ', '   حي المونسية ', '   حي السليمانية ',\n",
       "       '   حي العقيق ', '   حي المرسلات ', '   حي الرحمانية ',\n",
       "       '   حي الرمال ', '   حي طويق ', '   حي الملقا ', '   حي النزهة ',\n",
       "       '   حي الربيع ', '   حي ظهرة لبن ', '   حي الروضة ', '   حي عكاظ ',\n",
       "       '   حي الورود ', '   حي الفيحاء ', '   حي النموذجية ',\n",
       "       '   حي الربوة ', '   حي القيروان ', '   حي عليشة ',\n",
       "       '   حي الملك فيصل ', '   حي حطين ', '   حي المناخ ',\n",
       "       '   حي البديعة ', '   حي الشهداء ', '   حي قرطبة ',\n",
       "       '   حي العريجاء الغربية ', '   حي النفل ', '   حي القدس ',\n",
       "       '   حي الملك فهد ', '   حي العزيزية ', '   حي الواحة ',\n",
       "       '   حي النسيم الشرقي ', '   حي المصيف ', '   حي الزهرة ',\n",
       "       '   حي اليرموك ', '   حي الملك عبدالله ', '   حي المحمدية ',\n",
       "       '   حي ام سليم ', '   حي الاندلس ', '   حي المروج ',\n",
       "       '   حي المؤتمرات ', '   حي الرائد ', '   حي الروابي ',\n",
       "       '   حي اشبيلية ', '   حي الوشام ', '   حي الخليج ', '   حي الشرق ',\n",
       "       '   حي الجزيرة ', '   حي عرقة ', '   حي المنار ', '   حي النخيل ',\n",
       "       '   حي الوادي ', '   حي التعاون ', '   حي غرناطة ',\n",
       "       '   حي العريجاء الوسطى ', '   حي الدار البيضاء ', '   حي الهدا ',\n",
       "       '   حي السويدي ', '   حي الندى ', '   حي ام الحمام الشرقي ',\n",
       "       '   حي ظهرة البديعة ', '   حي السفارات ', '   حي الجنادرية ',\n",
       "       '   حي جرير ', '   حي السعادة ', '   حي أحد ',\n",
       "       '   حي السويدي الغربي ', '   حي ام الحمام الغربي ',\n",
       "       '   حي مطار الملك خالد الدولي ', '   حي الصفا ', '   حي بدر ',\n",
       "       '   حي النظيم ', '   حي ديراب ', '   حي النهضة ', '   حي الشفا ',\n",
       "       '   حي شبرا ', '   حي الضباط ', '   حي منفوحة الجديدة ',\n",
       "       '   حي الخزامى ', '   حي الحمراء ', '   حي لبن ', '   حي السلام ',\n",
       "       '   حي سلطانة ', '   حي الملك عبدالعزيز ', '   حي الاسكان ',\n",
       "       '   حي الخالدية ', '   حي الرفيعة ', '   حي العريجاء ',\n",
       "       '   حي غبيرة ', '   حي الوزارات ',\n",
       "       '   حي المدينة الصناعية الجديدة ', '   حي الفلاح ',\n",
       "       '   حي الحائر ', '   حي المنصورة ', '   حي طيبة ', '   حي الزمرد ',\n",
       "       '   حي الياقوت ', '   حي البساتين ', '   حي الزهراء ',\n",
       "       '   حي بريمان ', '   حي الشاطئ ', '   حي ابحر الشمالية ',\n",
       "       '   حي النعيم ', '   حي الصالحية ', '   حي المنتزه ',\n",
       "       '   حي الرياض ', '   حي الصوارى ', '   حي ابحر الجنوبية ',\n",
       "       '   حي المرجان ', '   حي السامر ', '   حي السلامة ',\n",
       "       '   حي ام حبلين ', '   حي الرحاب ', '   حي المروة ',\n",
       "       '   حي مشرفة ', '   حي الفيصلية ', '   حي الاجاويد ',\n",
       "       '   حي الكوثر ', '   حي الفردوس ', '   حي الامواج ',\n",
       "       '   حي الشراع ', '   حي الرويس ', '   حي البوادي ',\n",
       "       '   حي الريان ', '   حي بني مالك ', '   حي الحمدانية ',\n",
       "       '   حي اللؤلؤ ', '   حي الاصالة ', '   حي البغدادية الشرقية ',\n",
       "       '   حي الجامعة ', '   حي مريخ ', '   حي الامير فواز الشمالي ',\n",
       "       '   حي ضاحية الملك فهد ', '   حي السيف ', '   حي الشعلة ',\n",
       "       '   حي الخالدية الشمالية ', '   حي الفرسان ', '   حي الاثير ',\n",
       "       '   حي المدينة الصناعية الثانية ', '   حي الجوهرة ',\n",
       "       '   حي الشاطئ الغربي ', '   حي الشاطئ الشرقي ', '   حي الأمل ',\n",
       "       '   حي الانوار ', '   حي النورس ', '   حي المزروعية ',\n",
       "       '   حي جامعة الدمام ', '   حي الحزام الاخضر ', '   حي الصواري ',\n",
       "       '   حي الراكة الجنوبية ', '   حي التحلية ', '   حي البحيرة ',\n",
       "       '   حي مدينة العمال ', '   حي الكورنيش ',\n",
       "       '   حي المدينة الرياضية ', '   حي الجسر ', '   حي السفن ',\n",
       "       '   حي الحزام الذهبي ', '   حي العقربية ', '   حي الخبر الشمالية ',\n",
       "       '   حي الثقبة '], dtype=object)"
      ]
     },
     "execution_count": 6,
     "metadata": {},
     "output_type": "execute_result"
    }
   ],
   "source": [
    "data[\"district\"].unique()"
   ]
  },
  {
   "cell_type": "code",
   "execution_count": 7,
   "metadata": {},
   "outputs": [
    {
     "data": {
      "text/plain": [
       "city             0\n",
       "district         0\n",
       "front            0\n",
       "size             0\n",
       "property_age     0\n",
       "bedrooms         0\n",
       "bathrooms        0\n",
       "livingrooms      0\n",
       "kitchen          0\n",
       "garage           0\n",
       "driver_room      0\n",
       "maid_room        0\n",
       "furnished        0\n",
       "ac               0\n",
       "roof             0\n",
       "pool             0\n",
       "frontyard        0\n",
       "basement         0\n",
       "duplex           0\n",
       "stairs           0\n",
       "elevator         0\n",
       "fireplace        0\n",
       "price            0\n",
       "details         80\n",
       "dtype: int64"
      ]
     },
     "execution_count": 7,
     "metadata": {},
     "output_type": "execute_result"
    }
   ],
   "source": [
    "data.isna().sum()"
   ]
  },
  {
   "cell_type": "code",
   "execution_count": 8,
   "metadata": {},
   "outputs": [
    {
     "data": {
      "text/plain": [
       "(24,\n",
       " {'city': (4, [' الرياض', ' جدة', ' الدمام', ' الخبر']),\n",
       "  'district': 174,\n",
       "  'front': 10,\n",
       "  'size': 199,\n",
       "  'property_age': 36,\n",
       "  'bedrooms': 7,\n",
       "  'bathrooms': (5, [5, 4, 3, 2, 1]),\n",
       "  'livingrooms': (5, [1, 2, 3, 4, 5]),\n",
       "  'kitchen': (2, [1, 0]),\n",
       "  'garage': (2, [1, 0]),\n",
       "  'driver_room': (2, [0, 1]),\n",
       "  'maid_room': (2, [1, 0]),\n",
       "  'furnished': (2, [0, 1]),\n",
       "  'ac': (2, [0, 1]),\n",
       "  'roof': (2, [0, 1]),\n",
       "  'pool': (2, [0, 1]),\n",
       "  'frontyard': (2, [1, 0]),\n",
       "  'basement': (2, [0, 1]),\n",
       "  'duplex': (2, [1, 0]),\n",
       "  'stairs': (2, [1, 0]),\n",
       "  'elevator': (2, [0, 1]),\n",
       "  'fireplace': (2, [0, 1]),\n",
       "  'price': 113,\n",
       "  'details': 1429})"
      ]
     },
     "execution_count": 8,
     "metadata": {},
     "output_type": "execute_result"
    }
   ],
   "source": [
    "# a closer look at the features of the dataset\n",
    "data_columns = {}\n",
    "for column in data.columns:\n",
    "  key = column\n",
    "  if data[column].nunique() > 5:\n",
    "    value = data[column].nunique()\n",
    "  else:\n",
    "    value = (data[column].nunique(), list(data[column].unique()))\n",
    "  data_columns[key] = value\n",
    "\n",
    "len(data_columns), data_columns"
   ]
  },
  {
   "cell_type": "markdown",
   "metadata": {},
   "source": [
    "### Questions to ask:\n",
    "\n",
    "* Which city has the highest rent rate?\n",
    "* Does the district within a city play a role in increasing the rent rate?\n",
    "* Do the number of various features within a house increase its rent rate?\n",
    "* Which has a higher impact on the rent price: location or features?"
   ]
  },
  {
   "cell_type": "code",
   "execution_count": 9,
   "metadata": {},
   "outputs": [
    {
     "data": {
      "text/plain": [
       "(array([' الرياض', ' الرياض', ' الرياض', ..., ' الخبر', ' الخبر', ' الخبر'],\n",
       "       dtype=object),\n",
       " array(['   حي العارض ', '   حي القادسية ', '   حي القادسية ', ...,\n",
       "        '   حي اللؤلؤ ', '   حي الكورنيش ', '   حي الامواج '], dtype=object),\n",
       " array(['شمال', 'جنوب', 'جنوب', ..., 'غرب', 'جنوب', 'غرب'], dtype=object))"
      ]
     },
     "execution_count": 9,
     "metadata": {},
     "output_type": "execute_result"
    }
   ],
   "source": [
    "data[\"city\"].values, data[\"district\"].values, data[\"front\"].values"
   ]
  },
  {
   "cell_type": "code",
   "execution_count": 10,
   "metadata": {},
   "outputs": [
    {
     "name": "stdout",
     "output_type": "stream",
     "text": [
      "Number of observations with (الرياض ): 960\n",
      "Number of observations with ( حي العليا): 80\n",
      "Number of observations with (غرب): 771\n"
     ]
    }
   ],
   "source": [
    "# this works because we added the space in the words\n",
    "\n",
    "# city\n",
    "print(f'Number of observations with (الرياض ): {len(data[data[\"city\"] == \" الرياض\"])}')\n",
    "# district\n",
    "print(f'Number of observations with ( حي العليا): {len(data[data[\"district\"] == \"   حي العليا \"])}')\n",
    "# front\n",
    "print(f'Number of observations with (غرب): {len(data[data[\"front\"] == \"غرب\"])}')\n"
   ]
  },
  {
   "cell_type": "code",
   "execution_count": 11,
   "metadata": {},
   "outputs": [
    {
     "name": "stdout",
     "output_type": "stream",
     "text": [
      "Number of observations with (الرياض): 0\n",
      "Number of observations with (حي العليا): 0\n",
      "Number of observations with (غرب): 771\n"
     ]
    }
   ],
   "source": [
    "# but this doesnt work for some because we didnt add the space\n",
    "\n",
    "# city\n",
    "print(f'Number of observations with (الرياض): {len(data[data[\"city\"] == \"الرياض\"])}')\n",
    "# district\n",
    "\n",
    "print(f'Number of observations with (حي العليا): {len(data[data[\"district\"] == \"حي العليا\"])}')\n",
    "# front\n",
    "print(f'Number of observations with (غرب): {len(data[data[\"front\"] == \"غرب\"])}')"
   ]
  },
  {
   "cell_type": "code",
   "execution_count": 12,
   "metadata": {},
   "outputs": [],
   "source": [
    "# fix the space surrounding the words\n",
    "nonnumeric_columns = [\"city\", \"district\", \"front\"]\n",
    "\n",
    "for column in nonnumeric_columns:\n",
    "    data[column] = data[column].apply(lambda x: x.strip())"
   ]
  },
  {
   "cell_type": "code",
   "execution_count": 13,
   "metadata": {},
   "outputs": [
    {
     "name": "stdout",
     "output_type": "stream",
     "text": [
      "Number of observations with (الرياض): 960\n",
      "Number of observations with (حي العليا): 80\n",
      "Number of observations with (غرب): 771\n"
     ]
    }
   ],
   "source": [
    "# check if stripping the space worked\n",
    "\n",
    "# city\n",
    "print(f'Number of observations with (الرياض): {len(data[data[\"city\"] == \"الرياض\"])}')\n",
    "# district\n",
    "print(f'Number of observations with (حي العليا): {len(data[data[\"district\"] == \"حي العليا\"])}')\n",
    "# front\n",
    "print(f'Number of observations with (غرب): {len(data[data[\"front\"] == \"غرب\"])}')"
   ]
  },
  {
   "cell_type": "markdown",
   "metadata": {},
   "source": [
    "Great now we continue with exploring the data, lets study the effect a city has on its rent prices"
   ]
  },
  {
   "cell_type": "code",
   "execution_count": 14,
   "metadata": {},
   "outputs": [],
   "source": [
    "# make a function to plot arabic labels\n",
    "def plot_arabic(labelsSeries: pd.Series):\n",
    "    \"\"\"\n",
    "    A function that plots arabic literals in their required format instead of just floating letters\n",
    "    \\nArgs:\n",
    "     - labelsSeries: a series of arabic labels \n",
    "    \\nReturns:\n",
    "     - result: a list of properly formatted arabic labels\n",
    "    \"\"\"\n",
    "\n",
    "    # apply the reshaping method\n",
    "    arabicLabels = labelsSeries.apply(arabic_reshaper.reshape)\n",
    "\n",
    "    # initiate the formatting process\n",
    "    result = []\n",
    "    for label in arabicLabels:\n",
    "        result.append(get_display(label))\n",
    "    \n",
    "    # return the formatted labels as a list if there are more than one value\n",
    "    if len(result) == 1:\n",
    "        return result[0]\n",
    "    else:\n",
    "        return result"
   ]
  },
  {
   "cell_type": "code",
   "execution_count": 15,
   "metadata": {},
   "outputs": [
    {
     "data": {
      "image/png": "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",
      "text/plain": [
       "<Figure size 360x360 with 1 Axes>"
      ]
     },
     "metadata": {
      "needs_background": "light"
     },
     "output_type": "display_data"
    }
   ],
   "source": [
    "# catplot\n",
    "sns.catplot(y=\"price\", x=plot_arabic(data[\"city\"]), data=data, alpha=0.2)\n",
    "plt.ylabel(plot_arabic(pd.Series(\"الأسعار (ر. س.)\")))\n",
    "plt.xlabel(plot_arabic(pd.Series(\"المدن\")))\n",
    "plt.title(plot_arabic(pd.Series(\"توزيع أسعار الأجار حسب المدينة\")))\n",
    "plt.ticklabel_format(style='plain', axis='y')"
   ]
  },
  {
   "cell_type": "code",
   "execution_count": 16,
   "metadata": {},
   "outputs": [
    {
     "data": {
      "image/png": "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",
      "text/plain": [
       "<Figure size 360x360 with 1 Axes>"
      ]
     },
     "metadata": {
      "image/png": {
       "height": 370,
       "width": 355
      },
      "needs_background": "light"
     },
     "output_type": "display_data"
    }
   ],
   "source": [
    "# catplot for prices < 250,000 SR\n",
    "d = data[data[\"price\"] < 250000]\n",
    "sns.catplot(y=\"price\", x=plot_arabic(d[\"city\"]), data=d, alpha=0.2)\n",
    "plt.ylabel(plot_arabic(pd.Series(\"الأسعار (ر. س.)\")))\n",
    "plt.xlabel(plot_arabic(pd.Series(\"المدن\")))\n",
    "plt.title(plot_arabic(pd.Series(\"توزيع أسعار الأجار حسب المدينة\")))\n",
    "plt.ticklabel_format(style='plain', axis='y')"
   ]
  },
  {
   "cell_type": "code",
   "execution_count": 17,
   "metadata": {},
   "outputs": [
    {
     "data": {
      "image/png": "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",
      "text/plain": [
       "<Figure size 432x288 with 1 Axes>"
      ]
     },
     "metadata": {
      "image/png": {
       "height": 280,
       "width": 410
      },
      "needs_background": "light"
     },
     "output_type": "display_data"
    }
   ],
   "source": [
    "# scatter plt\n",
    "plt.title(plot_arabic(pd.Series(\"متوسط أسعار الأجار حسب المدينة\")))\n",
    "sns.barplot(y = \"price\", x=plot_arabic(data[\"city\"]), data=data)\n",
    "plt.ylabel(plot_arabic(pd.Series(\"الأسعار\")))\n",
    "plt.xlabel(plot_arabic(pd.Series(\"المدن\")));\n"
   ]
  },
  {
   "cell_type": "code",
   "execution_count": 17,
   "metadata": {},
   "outputs": [],
   "source": []
  },
  {
   "cell_type": "markdown",
   "metadata": {},
   "source": [
    "Mohammed"
   ]
  },
  {
   "cell_type": "code",
   "execution_count": 18,
   "metadata": {},
   "outputs": [],
   "source": []
  },
  {
   "cell_type": "markdown",
   "metadata": {},
   "source": [
    "Yousef"
   ]
  },
  {
   "cell_type": "code",
   "execution_count": 18,
   "metadata": {},
   "outputs": [],
   "source": [
    "d_yousef = data[data['size'] < 80000]"
   ]
  },
  {
   "cell_type": "code",
   "execution_count": 19,
   "metadata": {},
   "outputs": [
    {
     "data": {
      "text/html": [
       "<div>\n",
       "<style scoped>\n",
       "    .dataframe tbody tr th:only-of-type {\n",
       "        vertical-align: middle;\n",
       "    }\n",
       "\n",
       "    .dataframe tbody tr th {\n",
       "        vertical-align: top;\n",
       "    }\n",
       "\n",
       "    .dataframe thead th {\n",
       "        text-align: right;\n",
       "    }\n",
       "</style>\n",
       "<table border=\"1\" class=\"dataframe\">\n",
       "  <thead>\n",
       "    <tr style=\"text-align: right;\">\n",
       "      <th></th>\n",
       "      <th>price</th>\n",
       "    </tr>\n",
       "    <tr>\n",
       "      <th>city</th>\n",
       "      <th></th>\n",
       "    </tr>\n",
       "  </thead>\n",
       "  <tbody>\n",
       "    <tr>\n",
       "      <th>الدمام</th>\n",
       "      <td>63282.438479</td>\n",
       "    </tr>\n",
       "    <tr>\n",
       "      <th>الخبر</th>\n",
       "      <td>79482.530738</td>\n",
       "    </tr>\n",
       "    <tr>\n",
       "      <th>الرياض</th>\n",
       "      <td>94291.596875</td>\n",
       "    </tr>\n",
       "    <tr>\n",
       "      <th>جدة</th>\n",
       "      <td>112902.034949</td>\n",
       "    </tr>\n",
       "  </tbody>\n",
       "</table>\n",
       "</div>"
      ],
      "text/plain": [
       "                price\n",
       "city                 \n",
       "الدمام   63282.438479\n",
       "الخبر    79482.530738\n",
       "الرياض   94291.596875\n",
       "جدة     112902.034949"
      ]
     },
     "execution_count": 19,
     "metadata": {},
     "output_type": "execute_result"
    }
   ],
   "source": [
    "d_yousef.groupby(data['city'])['price'].mean().sort_values().to_frame()\n",
    "# why is jeddah and riyadh the highest ?"
   ]
  },
  {
   "cell_type": "code",
   "execution_count": 20,
   "metadata": {},
   "outputs": [
    {
     "data": {
      "text/plain": [
       "<matplotlib.legend.Legend at 0x7f8dc0819ca0>"
      ]
     },
     "execution_count": 20,
     "metadata": {},
     "output_type": "execute_result"
    },
    {
     "data": {
      "image/png": "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",
      "text/plain": [
       "<Figure size 640x480 with 2 Axes>"
      ]
     },
     "metadata": {},
     "output_type": "display_data"
    }
   ],
   "source": [
    "city_avg = d.groupby(plot_arabic(d['city'])).mean().sort_values('price', ascending = False)\n",
    "\n",
    "# Line Chart using matplotlib & twinx method for y-axis for each line.\n",
    "\n",
    "ax1 = plt.subplot()\n",
    "l1, = ax1.plot(city_avg['price'], color='red')\n",
    "plt.ylabel(plot_arabic(pd.Series(\"السعر\")))\n",
    "ax2 = ax1.twinx()\n",
    "l2, = ax2.plot(city_avg['size'], color='orange')\n",
    "\n",
    "plt.ylabel(plot_arabic(pd.Series(\"المساحة\")))\n",
    "plt.legend([l1, l2], plot_arabic(pd.Series([\"السعر\", \"المساحة\"])))"
   ]
  },
  {
   "cell_type": "markdown",
   "metadata": {},
   "source": [
    "<p>An explanation for Jeddah and Riyadh being the highest avg prices is that that they have a high avg of house size, but we need to dig in more and find out what other reason can be behind this.\n",
    "<p>"
   ]
  },
  {
   "cell_type": "code",
   "execution_count": 21,
   "metadata": {},
   "outputs": [],
   "source": [
    "s = d_yousef.district.value_counts()\n",
    "repeated = set(s[s > 30].index.values)\n",
    "d_district = d_yousef[d_yousef.district.isin(repeated)]\n"
   ]
  },
  {
   "cell_type": "code",
   "execution_count": 22,
   "metadata": {},
   "outputs": [
    {
     "data": {
      "image/png": "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",
      "text/plain": [
       "<Figure size 1000x1000 with 4 Axes>"
      ]
     },
     "metadata": {},
     "output_type": "display_data"
    }
   ],
   "source": [
    "avg_size_dist = d_district.groupby(['city', 'district'])[['size', 'price']].mean().reset_index()\n",
    "riyadh = avg_size_dist.query(\"city == 'الرياض' & size < 500\")\n",
    "jeddah = avg_size_dist.query(\"city == 'جدة' & price < 160000\")\n",
    "\n",
    "plt.figure(figsize=(10,10))\n",
    "\n",
    "# RIYADH\n",
    "x = np.arange(len(riyadh))\n",
    "ax1 = plt.subplot(2,2,1)\n",
    "w = 0.3\n",
    "plt.title(plot_arabic(pd.Series('الرياض')))\n",
    "plt.xticks(x + w /2, plot_arabic(riyadh['district']), rotation='60')\n",
    "P =ax1.bar(x, riyadh['price'].sort_values(), width=w, color='r', align='center')\n",
    "plt.ylabel(plot_arabic(pd.Series(\"السعر\")))\n",
    "ax2 = ax1.twinx()\n",
    "S =ax2.bar(x + w, riyadh['size'].sort_values(), width=w,color='y',align='center')\n",
    "ax2.axes.yaxis.set_visible(False)\n",
    "plt.legend([P, S], plot_arabic(pd.Series(['متوسط السعر', 'متوسط المساحة'])))\n",
    "\n",
    "\n",
    "# JEDDAH\n",
    "x = np.arange(len(jeddah))\n",
    "ax1 = plt.subplot(2,2,2)\n",
    "w = 0.3\n",
    "plt.title(plot_arabic(pd.Series('جدة')))\n",
    "plt.xticks(x + w /2, plot_arabic(jeddah['district']), rotation='60')\n",
    "P =ax1.bar(x, jeddah['price'].sort_values(), width=w, color='r', align='center')\n",
    "ax1.axes.yaxis.set_visible(False)\n",
    "ax2 = ax1.twinx()\n",
    "S =ax2.bar(x + w, jeddah['size'].sort_values(), width=w,color='y',align='center')\n",
    "plt.ylabel(plot_arabic(pd.Series(\"المساحة\")))\n",
    "plt.legend([P, S], plot_arabic(pd.Series(['متوسط السعر', 'متوسط المساحة'])))\n",
    "\n",
    "plt.tight_layout()\n",
    "plt.show()"
   ]
  },
  {
   "cell_type": "markdown",
   "metadata": {},
   "source": [
    "<P>It's fair too say that Riyadh districts tend to have high avg house sizes compared to it's price, as for Jeddah districts with high avg house sizes have a high avg price<P>"
   ]
  },
  {
   "cell_type": "code",
   "execution_count": 23,
=======
   "execution_count": 95,
>>>>>>> refs/remotes/origin/main
   "metadata": {},
   "outputs": [
    {
     "data": {
      "text/html": [
       "<div>\n",
       "<style scoped>\n",
       "    .dataframe tbody tr th:only-of-type {\n",
       "        vertical-align: middle;\n",
       "    }\n",
       "\n",
       "    .dataframe tbody tr th {\n",
       "        vertical-align: top;\n",
       "    }\n",
       "\n",
       "    .dataframe thead th {\n",
       "        text-align: right;\n",
       "    }\n",
       "</style>\n",
       "<table border=\"1\" class=\"dataframe\">\n",
       "  <thead>\n",
       "    <tr style=\"text-align: right;\">\n",
       "      <th></th>\n",
       "      <th>city</th>\n",
       "      <th>district</th>\n",
       "      <th>front</th>\n",
       "      <th>size</th>\n",
       "      <th>property_age</th>\n",
       "      <th>bedrooms</th>\n",
       "      <th>bathrooms</th>\n",
       "      <th>livingrooms</th>\n",
       "      <th>kitchen</th>\n",
       "      <th>garage</th>\n",
       "      <th>...</th>\n",
       "      <th>roof</th>\n",
       "      <th>pool</th>\n",
       "      <th>frontyard</th>\n",
       "      <th>basement</th>\n",
       "      <th>duplex</th>\n",
       "      <th>stairs</th>\n",
       "      <th>elevator</th>\n",
       "      <th>fireplace</th>\n",
       "      <th>price</th>\n",
       "      <th>details</th>\n",
       "    </tr>\n",
       "  </thead>\n",
       "  <tbody>\n",
       "    <tr>\n",
       "      <th>1323</th>\n",
       "      <td>جدة</td>\n",
       "      <td>حي الخالدية</td>\n",
       "      <td>3 شوارع</td>\n",
       "      <td>5000</td>\n",
       "      <td>17</td>\n",
       "      <td>5</td>\n",
       "      <td>3</td>\n",
       "      <td>1</td>\n",
       "      <td>1</td>\n",
       "      <td>1</td>\n",
       "      <td>...</td>\n",
       "      <td>0</td>\n",
       "      <td>1</td>\n",
       "      <td>1</td>\n",
       "      <td>0</td>\n",
       "      <td>0</td>\n",
       "      <td>1</td>\n",
       "      <td>0</td>\n",
       "      <td>0</td>\n",
       "      <td>800000</td>\n",
       "      <td>مجمع سكني مكون من ١١ فيلا دوبلكس كل فيلا لها ح...</td>\n",
       "    </tr>\n",
       "    <tr>\n",
       "      <th>1116</th>\n",
       "      <td>جدة</td>\n",
       "      <td>حي الروضة</td>\n",
       "      <td>3 شوارع</td>\n",
       "      <td>500</td>\n",
       "      <td>23</td>\n",
       "      <td>5</td>\n",
       "      <td>4</td>\n",
       "      <td>3</td>\n",
       "      <td>1</td>\n",
       "      <td>1</td>\n",
       "      <td>...</td>\n",
       "      <td>0</td>\n",
       "      <td>0</td>\n",
       "      <td>1</td>\n",
       "      <td>0</td>\n",
       "      <td>0</td>\n",
       "      <td>1</td>\n",
       "      <td>0</td>\n",
       "      <td>0</td>\n",
       "      <td>700000</td>\n",
       "      <td>فيلا للاستثمار بموقع مميز على شارع صاري على ٣ ...</td>\n",
       "    </tr>\n",
       "    <tr>\n",
       "      <th>1371</th>\n",
       "      <td>جدة</td>\n",
       "      <td>حي الروضة</td>\n",
       "      <td>غرب</td>\n",
       "      <td>656</td>\n",
       "      <td>0</td>\n",
       "      <td>5</td>\n",
       "      <td>4</td>\n",
       "      <td>4</td>\n",
       "      <td>1</td>\n",
       "      <td>0</td>\n",
       "      <td>...</td>\n",
       "      <td>1</td>\n",
       "      <td>0</td>\n",
       "      <td>1</td>\n",
       "      <td>0</td>\n",
       "      <td>0</td>\n",
       "      <td>1</td>\n",
       "      <td>1</td>\n",
       "      <td>0</td>\n",
       "      <td>600000</td>\n",
       "      <td>مبنى  اداري فخم حي الروضة\\nالدور الأرضي652.80 ...</td>\n",
       "    </tr>\n",
       "    <tr>\n",
       "      <th>1149</th>\n",
       "      <td>جدة</td>\n",
       "      <td>حي الخالدية</td>\n",
       "      <td>3 شوارع</td>\n",
       "      <td>2700</td>\n",
       "      <td>10</td>\n",
       "      <td>7</td>\n",
       "      <td>5</td>\n",
       "      <td>5</td>\n",
       "      <td>1</td>\n",
       "      <td>1</td>\n",
       "      <td>...</td>\n",
       "      <td>1</td>\n",
       "      <td>0</td>\n",
       "      <td>1</td>\n",
       "      <td>0</td>\n",
       "      <td>0</td>\n",
       "      <td>1</td>\n",
       "      <td>1</td>\n",
       "      <td>0</td>\n",
       "      <td>450000</td>\n",
       "      <td>قصر فاخر مفروش للإيجار مساحة ٢٧٠٠ متر عبارة عن...</td>\n",
       "    </tr>\n",
       "    <tr>\n",
       "      <th>1351</th>\n",
       "      <td>جدة</td>\n",
       "      <td>حي الشاطئ</td>\n",
       "      <td>جنوب غربي</td>\n",
       "      <td>700</td>\n",
       "      <td>0</td>\n",
       "      <td>5</td>\n",
       "      <td>5</td>\n",
       "      <td>3</td>\n",
       "      <td>1</td>\n",
       "      <td>1</td>\n",
       "      <td>...</td>\n",
       "      <td>1</td>\n",
       "      <td>1</td>\n",
       "      <td>0</td>\n",
       "      <td>1</td>\n",
       "      <td>0</td>\n",
       "      <td>1</td>\n",
       "      <td>1</td>\n",
       "      <td>0</td>\n",
       "      <td>400000</td>\n",
       "      <td>فيلا فاخره مودرن. للايجار</td>\n",
       "    </tr>\n",
       "  </tbody>\n",
       "</table>\n",
       "<p>5 rows × 24 columns</p>\n",
       "</div>"
      ],
      "text/plain": [
       "     city     district      front  size  property_age  bedrooms  bathrooms  \\\n",
       "1323  جدة  حي الخالدية    3 شوارع  5000            17         5          3   \n",
       "1116  جدة    حي الروضة    3 شوارع   500            23         5          4   \n",
       "1371  جدة    حي الروضة        غرب   656             0         5          4   \n",
       "1149  جدة  حي الخالدية    3 شوارع  2700            10         7          5   \n",
       "1351  جدة    حي الشاطئ  جنوب غربي   700             0         5          5   \n",
       "\n",
       "      livingrooms  kitchen  garage  ...  roof  pool  frontyard  basement  \\\n",
       "1323            1        1       1  ...     0     1          1         0   \n",
       "1116            3        1       1  ...     0     0          1         0   \n",
       "1371            4        1       0  ...     1     0          1         0   \n",
       "1149            5        1       1  ...     1     0          1         0   \n",
       "1351            3        1       1  ...     1     1          0         1   \n",
       "\n",
       "      duplex  stairs  elevator  fireplace   price  \\\n",
       "1323       0       1         0          0  800000   \n",
       "1116       0       1         0          0  700000   \n",
       "1371       0       1         1          0  600000   \n",
       "1149       0       1         1          0  450000   \n",
       "1351       0       1         1          0  400000   \n",
       "\n",
       "                                                details  \n",
       "1323  مجمع سكني مكون من ١١ فيلا دوبلكس كل فيلا لها ح...  \n",
       "1116  فيلا للاستثمار بموقع مميز على شارع صاري على ٣ ...  \n",
       "1371  مبنى  اداري فخم حي الروضة\\nالدور الأرضي652.80 ...  \n",
       "1149  قصر فاخر مفروش للإيجار مساحة ٢٧٠٠ متر عبارة عن...  \n",
       "1351                          فيلا فاخره مودرن. للايجار  \n",
       "\n",
       "[5 rows x 24 columns]"
      ]
     },
     "execution_count": 95,
     "metadata": {},
     "output_type": "execute_result"
    }
   ],
   "source": [
    "# drop the 2 extreme values\n",
    "data.drop(index=([1206, 1168]), axis=0, inplace=True)\n",
    "data[data[\"city\"] == \"جدة\"].sort_values(by=['price'], ascending=False).head()"
   ]
  },
  {
   "cell_type": "code",
<<<<<<< HEAD
   "execution_count": 132,
   "metadata": {},
   "outputs": [
    {
     "data": {
      "text/html": [
       "<div>\n",
       "<style scoped>\n",
       "    .dataframe tbody tr th:only-of-type {\n",
       "        vertical-align: middle;\n",
       "    }\n",
       "\n",
       "    .dataframe tbody tr th {\n",
       "        vertical-align: top;\n",
       "    }\n",
       "\n",
       "    .dataframe thead th {\n",
       "        text-align: right;\n",
       "    }\n",
       "</style>\n",
       "<table border=\"1\" class=\"dataframe\">\n",
       "  <thead>\n",
       "    <tr style=\"text-align: right;\">\n",
       "      <th></th>\n",
       "      <th>city</th>\n",
       "      <th>district</th>\n",
       "      <th>front</th>\n",
       "      <th>size</th>\n",
       "      <th>property_age</th>\n",
       "      <th>bedrooms</th>\n",
       "      <th>bathrooms</th>\n",
       "      <th>livingrooms</th>\n",
       "      <th>kitchen</th>\n",
       "      <th>garage</th>\n",
       "      <th>...</th>\n",
       "      <th>roof</th>\n",
       "      <th>pool</th>\n",
       "      <th>frontyard</th>\n",
       "      <th>basement</th>\n",
       "      <th>duplex</th>\n",
       "      <th>stairs</th>\n",
       "      <th>elevator</th>\n",
       "      <th>fireplace</th>\n",
       "      <th>price</th>\n",
       "      <th>details</th>\n",
       "    </tr>\n",
       "  </thead>\n",
       "  <tbody>\n",
       "    <tr>\n",
       "      <th>0</th>\n",
       "      <td>الرياض</td>\n",
       "      <td>حي العارض</td>\n",
       "      <td>شمال</td>\n",
       "      <td>250</td>\n",
       "      <td>0</td>\n",
       "      <td>5</td>\n",
       "      <td>5</td>\n",
       "      <td>1</td>\n",
       "      <td>1</td>\n",
       "      <td>1</td>\n",
       "      <td>...</td>\n",
       "      <td>0</td>\n",
       "      <td>0</td>\n",
       "      <td>1</td>\n",
       "      <td>0</td>\n",
       "      <td>1</td>\n",
       "      <td>1</td>\n",
       "      <td>0</td>\n",
       "      <td>0</td>\n",
       "      <td>80000</td>\n",
       "      <td>للايجار فيلا دبلكس في موقع ممتاز جدا بالقرب من...</td>\n",
       "    </tr>\n",
       "    <tr>\n",
       "      <th>1</th>\n",
       "      <td>الرياض</td>\n",
       "      <td>حي القادسية</td>\n",
       "      <td>جنوب</td>\n",
       "      <td>370</td>\n",
       "      <td>0</td>\n",
       "      <td>4</td>\n",
       "      <td>5</td>\n",
       "      <td>2</td>\n",
       "      <td>1</td>\n",
       "      <td>1</td>\n",
       "      <td>...</td>\n",
       "      <td>0</td>\n",
       "      <td>0</td>\n",
       "      <td>1</td>\n",
       "      <td>0</td>\n",
       "      <td>0</td>\n",
       "      <td>1</td>\n",
       "      <td>0</td>\n",
       "      <td>0</td>\n",
       "      <td>60000</td>\n",
       "      <td>*** فيلا درج مع الصالة جديدة ***\\n\\nعبارة عن م...</td>\n",
       "    </tr>\n",
       "  </tbody>\n",
       "</table>\n",
       "<p>2 rows × 24 columns</p>\n",
       "</div>"
      ],
      "text/plain": [
       "     city     district front  size  property_age  bedrooms  bathrooms  \\\n",
       "0  الرياض    حي العارض  شمال   250             0         5          5   \n",
       "1  الرياض  حي القادسية  جنوب   370             0         4          5   \n",
       "\n",
       "   livingrooms  kitchen  garage  ...  roof  pool  frontyard  basement  duplex  \\\n",
       "0            1        1       1  ...     0     0          1         0       1   \n",
       "1            2        1       1  ...     0     0          1         0       0   \n",
       "\n",
       "   stairs  elevator  fireplace  price  \\\n",
       "0       1         0          0  80000   \n",
       "1       1         0          0  60000   \n",
       "\n",
       "                                             details  \n",
       "0  للايجار فيلا دبلكس في موقع ممتاز جدا بالقرب من...  \n",
       "1  *** فيلا درج مع الصالة جديدة ***\\n\\nعبارة عن م...  \n",
       "\n",
       "[2 rows x 24 columns]"
      ]
     },
     "execution_count": 132,
     "metadata": {},
     "output_type": "execute_result"
    }
   ],
   "source": [
    "data.head(2)"
   ]
  },
  {
   "cell_type": "code",
   "execution_count": 168,
   "metadata": {},
   "outputs": [
    {
     "data": {
      "text/html": [
       "<div>\n",
       "<style scoped>\n",
       "    .dataframe tbody tr th:only-of-type {\n",
       "        vertical-align: middle;\n",
       "    }\n",
       "\n",
       "    .dataframe tbody tr th {\n",
       "        vertical-align: top;\n",
       "    }\n",
       "\n",
       "    .dataframe thead th {\n",
       "        text-align: right;\n",
       "    }\n",
       "</style>\n",
       "<table border=\"1\" class=\"dataframe\">\n",
       "  <thead>\n",
       "    <tr style=\"text-align: right;\">\n",
       "      <th></th>\n",
       "      <th>city</th>\n",
       "      <th>district</th>\n",
       "      <th>front</th>\n",
       "      <th>size</th>\n",
       "      <th>property_age</th>\n",
       "      <th>bedrooms</th>\n",
       "      <th>bathrooms</th>\n",
       "      <th>livingrooms</th>\n",
       "      <th>kitchen</th>\n",
       "      <th>garage</th>\n",
       "      <th>...</th>\n",
       "      <th>roof</th>\n",
       "      <th>pool</th>\n",
       "      <th>frontyard</th>\n",
       "      <th>basement</th>\n",
       "      <th>duplex</th>\n",
       "      <th>stairs</th>\n",
       "      <th>elevator</th>\n",
       "      <th>fireplace</th>\n",
       "      <th>price</th>\n",
       "      <th>details</th>\n",
       "    </tr>\n",
       "  </thead>\n",
       "  <tbody>\n",
       "    <tr>\n",
       "      <th>0</th>\n",
       "      <td>الرياض</td>\n",
       "      <td>حي العارض</td>\n",
       "      <td>شمال</td>\n",
       "      <td>250</td>\n",
       "      <td>0</td>\n",
       "      <td>5</td>\n",
       "      <td>5</td>\n",
       "      <td>1</td>\n",
       "      <td>1</td>\n",
       "      <td>1</td>\n",
       "      <td>...</td>\n",
       "      <td>0</td>\n",
       "      <td>0</td>\n",
       "      <td>1</td>\n",
       "      <td>0</td>\n",
       "      <td>1</td>\n",
       "      <td>1</td>\n",
       "      <td>0</td>\n",
       "      <td>0</td>\n",
       "      <td>80000</td>\n",
       "      <td>للايجار فيلا دبلكس في موقع ممتاز جدا بالقرب من...</td>\n",
       "    </tr>\n",
       "    <tr>\n",
       "      <th>4</th>\n",
       "      <td>الرياض</td>\n",
       "      <td>حي العليا</td>\n",
       "      <td>غرب</td>\n",
       "      <td>400</td>\n",
       "      <td>11</td>\n",
       "      <td>7</td>\n",
       "      <td>5</td>\n",
       "      <td>2</td>\n",
       "      <td>1</td>\n",
       "      <td>1</td>\n",
       "      <td>...</td>\n",
       "      <td>1</td>\n",
       "      <td>0</td>\n",
       "      <td>1</td>\n",
       "      <td>0</td>\n",
       "      <td>1</td>\n",
       "      <td>1</td>\n",
       "      <td>0</td>\n",
       "      <td>0</td>\n",
       "      <td>70000</td>\n",
       "      <td>فيلا للايجار حي العليا \\n\\nالارضي مجالس وغرفتي...</td>\n",
       "    </tr>\n",
       "    <tr>\n",
       "      <th>5</th>\n",
       "      <td>الرياض</td>\n",
       "      <td>حي الازدهار</td>\n",
       "      <td>شرق</td>\n",
       "      <td>250</td>\n",
       "      <td>25</td>\n",
       "      <td>5</td>\n",
       "      <td>4</td>\n",
       "      <td>1</td>\n",
       "      <td>1</td>\n",
       "      <td>0</td>\n",
       "      <td>...</td>\n",
       "      <td>0</td>\n",
       "      <td>0</td>\n",
       "      <td>1</td>\n",
       "      <td>0</td>\n",
       "      <td>1</td>\n",
       "      <td>1</td>\n",
       "      <td>0</td>\n",
       "      <td>0</td>\n",
       "      <td>45000</td>\n",
       "      <td>الفيلا في حي الازدهار \\nتتكون من مجلس رجال في ...</td>\n",
       "    </tr>\n",
       "    <tr>\n",
       "      <th>6</th>\n",
       "      <td>الرياض</td>\n",
       "      <td>حي المهدية</td>\n",
       "      <td>شمال</td>\n",
       "      <td>250</td>\n",
       "      <td>0</td>\n",
       "      <td>5</td>\n",
       "      <td>5</td>\n",
       "      <td>3</td>\n",
       "      <td>1</td>\n",
       "      <td>1</td>\n",
       "      <td>...</td>\n",
       "      <td>0</td>\n",
       "      <td>0</td>\n",
       "      <td>0</td>\n",
       "      <td>0</td>\n",
       "      <td>1</td>\n",
       "      <td>1</td>\n",
       "      <td>0</td>\n",
       "      <td>0</td>\n",
       "      <td>45000</td>\n",
       "      <td>دبلكس مساحه ٢٥٠\\nحي المهديه\\nدفع كل ٦ شهور</td>\n",
       "    </tr>\n",
       "    <tr>\n",
       "      <th>7</th>\n",
       "      <td>الرياض</td>\n",
       "      <td>حي العارض</td>\n",
       "      <td>شمال</td>\n",
       "      <td>250</td>\n",
       "      <td>0</td>\n",
       "      <td>5</td>\n",
       "      <td>5</td>\n",
       "      <td>1</td>\n",
       "      <td>1</td>\n",
       "      <td>1</td>\n",
       "      <td>...</td>\n",
       "      <td>0</td>\n",
       "      <td>0</td>\n",
       "      <td>1</td>\n",
       "      <td>0</td>\n",
       "      <td>1</td>\n",
       "      <td>1</td>\n",
       "      <td>0</td>\n",
       "      <td>0</td>\n",
       "      <td>80000</td>\n",
       "      <td>للايجار فيلا دبلكس في موقع ممتاز جدا بالقرب من...</td>\n",
       "    </tr>\n",
       "    <tr>\n",
       "      <th>...</th>\n",
       "      <td>...</td>\n",
       "      <td>...</td>\n",
       "      <td>...</td>\n",
       "      <td>...</td>\n",
       "      <td>...</td>\n",
       "      <td>...</td>\n",
       "      <td>...</td>\n",
       "      <td>...</td>\n",
       "      <td>...</td>\n",
       "      <td>...</td>\n",
       "      <td>...</td>\n",
       "      <td>...</td>\n",
       "      <td>...</td>\n",
       "      <td>...</td>\n",
       "      <td>...</td>\n",
       "      <td>...</td>\n",
       "      <td>...</td>\n",
       "      <td>...</td>\n",
       "      <td>...</td>\n",
       "      <td>...</td>\n",
       "      <td>...</td>\n",
       "    </tr>\n",
       "    <tr>\n",
       "      <th>3713</th>\n",
       "      <td>الخبر</td>\n",
       "      <td>حي اللؤلؤ</td>\n",
       "      <td>غرب</td>\n",
       "      <td>437</td>\n",
       "      <td>0</td>\n",
       "      <td>7</td>\n",
       "      <td>5</td>\n",
       "      <td>2</td>\n",
       "      <td>1</td>\n",
       "      <td>1</td>\n",
       "      <td>...</td>\n",
       "      <td>1</td>\n",
       "      <td>0</td>\n",
       "      <td>1</td>\n",
       "      <td>0</td>\n",
       "      <td>1</td>\n",
       "      <td>1</td>\n",
       "      <td>0</td>\n",
       "      <td>1</td>\n",
       "      <td>60000</td>\n",
       "      <td>للإيجار فيلا دورين وملحق في حي الأصداف\\n\\nالمس...</td>\n",
       "    </tr>\n",
       "    <tr>\n",
       "      <th>3714</th>\n",
       "      <td>الخبر</td>\n",
       "      <td>حي الصواري</td>\n",
       "      <td>جنوب</td>\n",
       "      <td>400</td>\n",
       "      <td>0</td>\n",
       "      <td>5</td>\n",
       "      <td>5</td>\n",
       "      <td>3</td>\n",
       "      <td>0</td>\n",
       "      <td>1</td>\n",
       "      <td>...</td>\n",
       "      <td>1</td>\n",
       "      <td>0</td>\n",
       "      <td>1</td>\n",
       "      <td>0</td>\n",
       "      <td>1</td>\n",
       "      <td>1</td>\n",
       "      <td>0</td>\n",
       "      <td>0</td>\n",
       "      <td>55000</td>\n",
       "      <td>دبلكس للأيجار حي الصواري ج ٤٣\\n\\nمجلس خارجي (د...</td>\n",
       "    </tr>\n",
       "    <tr>\n",
       "      <th>3715</th>\n",
       "      <td>الخبر</td>\n",
       "      <td>حي اللؤلؤ</td>\n",
       "      <td>غرب</td>\n",
       "      <td>330</td>\n",
       "      <td>0</td>\n",
       "      <td>6</td>\n",
       "      <td>4</td>\n",
       "      <td>2</td>\n",
       "      <td>1</td>\n",
       "      <td>0</td>\n",
       "      <td>...</td>\n",
       "      <td>1</td>\n",
       "      <td>0</td>\n",
       "      <td>1</td>\n",
       "      <td>0</td>\n",
       "      <td>1</td>\n",
       "      <td>0</td>\n",
       "      <td>0</td>\n",
       "      <td>1</td>\n",
       "      <td>37000</td>\n",
       "      <td>حوش مجلس خارجي مجلس رجال دورة مياة مجلط  صاله ...</td>\n",
       "    </tr>\n",
       "    <tr>\n",
       "      <th>3716</th>\n",
       "      <td>الخبر</td>\n",
       "      <td>حي الكورنيش</td>\n",
       "      <td>جنوب</td>\n",
       "      <td>300</td>\n",
       "      <td>13</td>\n",
       "      <td>6</td>\n",
       "      <td>5</td>\n",
       "      <td>2</td>\n",
       "      <td>1</td>\n",
       "      <td>1</td>\n",
       "      <td>...</td>\n",
       "      <td>0</td>\n",
       "      <td>0</td>\n",
       "      <td>1</td>\n",
       "      <td>0</td>\n",
       "      <td>1</td>\n",
       "      <td>1</td>\n",
       "      <td>0</td>\n",
       "      <td>0</td>\n",
       "      <td>90000</td>\n",
       "      <td>فيلا فاخرة في حي كورنيش الخبر. أفضل حي بالخبر....</td>\n",
       "    </tr>\n",
       "    <tr>\n",
       "      <th>3717</th>\n",
       "      <td>الخبر</td>\n",
       "      <td>حي الامواج</td>\n",
       "      <td>غرب</td>\n",
       "      <td>437</td>\n",
       "      <td>0</td>\n",
       "      <td>7</td>\n",
       "      <td>5</td>\n",
       "      <td>2</td>\n",
       "      <td>0</td>\n",
       "      <td>1</td>\n",
       "      <td>...</td>\n",
       "      <td>1</td>\n",
       "      <td>0</td>\n",
       "      <td>1</td>\n",
       "      <td>0</td>\n",
       "      <td>1</td>\n",
       "      <td>1</td>\n",
       "      <td>0</td>\n",
       "      <td>1</td>\n",
       "      <td>60000</td>\n",
       "      <td>للأيجار ڤيلا دورين و ملحق في حي الأصداف\\n\\nالم...</td>\n",
       "    </tr>\n",
       "  </tbody>\n",
       "</table>\n",
       "<p>1847 rows × 24 columns</p>\n",
       "</div>"
      ],
      "text/plain": [
       "        city     district front  size  property_age  bedrooms  bathrooms  \\\n",
       "0     الرياض    حي العارض  شمال   250             0         5          5   \n",
       "4     الرياض    حي العليا   غرب   400            11         7          5   \n",
       "5     الرياض  حي الازدهار   شرق   250            25         5          4   \n",
       "6     الرياض   حي المهدية  شمال   250             0         5          5   \n",
       "7     الرياض    حي العارض  شمال   250             0         5          5   \n",
       "...      ...          ...   ...   ...           ...       ...        ...   \n",
       "3713   الخبر    حي اللؤلؤ   غرب   437             0         7          5   \n",
       "3714   الخبر   حي الصواري  جنوب   400             0         5          5   \n",
       "3715   الخبر    حي اللؤلؤ   غرب   330             0         6          4   \n",
       "3716   الخبر  حي الكورنيش  جنوب   300            13         6          5   \n",
       "3717   الخبر   حي الامواج   غرب   437             0         7          5   \n",
       "\n",
       "      livingrooms  kitchen  garage  ...  roof  pool  frontyard  basement  \\\n",
       "0               1        1       1  ...     0     0          1         0   \n",
       "4               2        1       1  ...     1     0          1         0   \n",
       "5               1        1       0  ...     0     0          1         0   \n",
       "6               3        1       1  ...     0     0          0         0   \n",
       "7               1        1       1  ...     0     0          1         0   \n",
       "...           ...      ...     ...  ...   ...   ...        ...       ...   \n",
       "3713            2        1       1  ...     1     0          1         0   \n",
       "3714            3        0       1  ...     1     0          1         0   \n",
       "3715            2        1       0  ...     1     0          1         0   \n",
       "3716            2        1       1  ...     0     0          1         0   \n",
       "3717            2        0       1  ...     1     0          1         0   \n",
       "\n",
       "      duplex  stairs  elevator  fireplace  price  \\\n",
       "0          1       1         0          0  80000   \n",
       "4          1       1         0          0  70000   \n",
       "5          1       1         0          0  45000   \n",
       "6          1       1         0          0  45000   \n",
       "7          1       1         0          0  80000   \n",
       "...      ...     ...       ...        ...    ...   \n",
       "3713       1       1         0          1  60000   \n",
       "3714       1       1         0          0  55000   \n",
       "3715       1       0         0          1  37000   \n",
       "3716       1       1         0          0  90000   \n",
       "3717       1       1         0          1  60000   \n",
       "\n",
       "                                                details  \n",
       "0     للايجار فيلا دبلكس في موقع ممتاز جدا بالقرب من...  \n",
       "4     فيلا للايجار حي العليا \\n\\nالارضي مجالس وغرفتي...  \n",
       "5     الفيلا في حي الازدهار \\nتتكون من مجلس رجال في ...  \n",
       "6            دبلكس مساحه ٢٥٠\\nحي المهديه\\nدفع كل ٦ شهور  \n",
       "7     للايجار فيلا دبلكس في موقع ممتاز جدا بالقرب من...  \n",
       "...                                                 ...  \n",
       "3713  للإيجار فيلا دورين وملحق في حي الأصداف\\n\\nالمس...  \n",
       "3714  دبلكس للأيجار حي الصواري ج ٤٣\\n\\nمجلس خارجي (د...  \n",
       "3715  حوش مجلس خارجي مجلس رجال دورة مياة مجلط  صاله ...  \n",
       "3716  فيلا فاخرة في حي كورنيش الخبر. أفضل حي بالخبر....  \n",
       "3717  للأيجار ڤيلا دورين و ملحق في حي الأصداف\\n\\nالم...  \n",
       "\n",
       "[1847 rows x 24 columns]"
      ]
     },
     "execution_count": 168,
     "metadata": {},
     "output_type": "execute_result"
    }
   ],
   "source": [
    "d1 = data[(data['duplex'] == 1) & (data['size'] < 1000) & (data['price'] < 300000)]\n",
    "d1"
   ]
  },
  {
   "cell_type": "code",
   "execution_count": 173,
   "metadata": {},
   "outputs": [
    {
     "data": {
      "image/png": "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",
      "text/plain": [
       "<Figure size 433.875x360 with 1 Axes>"
      ]
     },
     "metadata": {
      "needs_background": "light"
     },
     "output_type": "display_data"
    }
   ],
   "source": [
    "test1 = sns.lmplot(x='size', y='price', data=d1, hue='city', fit_reg=False, scatter_kws={'alpha':0.3})\n",
    "plt.xlabel(plot_arabic(pd.Series(\"المساحة (م^٢)\")))\n",
    "plt.ylabel(plot_arabic(pd.Series(\"الأسعار (ر. س.)\")))\n",
    "plt.title(plot_arabic(pd.Series(\"توزيع أسعار أجار الدبلكس حسب المساحة لكل المدينة\")));"
   ]
  },
  {
   "cell_type": "markdown",
   "metadata": {},
   "source": [
    "- cropped few extreme values\n",
    "- condesed on x=[150 / 450], y=[25,000 / 100,000] \n",
    "- best value jeddah?\n",
    "- only riyadh and jeddah has duplexes with price +100,000"
   ]
  },
  {
   "cell_type": "code",
   "execution_count": 160,
   "metadata": {},
   "outputs": [
    {
     "data": {
      "image/png": "iVBORw0KGgoAAAANSUhEUgAAAaQAAAFzCAYAAABxd32iAAAAOXRFWHRTb2Z0d2FyZQBNYXRwbG90bGliIHZlcnNpb24zLjUuMiwgaHR0cHM6Ly9tYXRwbG90bGliLm9yZy8qNh9FAAAACXBIWXMAAAsTAAALEwEAmpwYAABnMUlEQVR4nO3deXxcd3no/88z+4xmtNqWbNnBjknieMliKxBIbjAmDiFAEyBpkl5KWG7T5Xahpbel9PaS0h8tpQXaUgqEQgkECCQsCTQJOCROiEmIHSfeYxLHTixZkhdtMxrN/v39cY6kGVnWGc2MNCP5eb9eeo3me7bvGUnz6JzvM89XjDEopZRS1eaqdgeUUkop0ICklFKqRmhAUkopVRM0ICmllKoJGpCUUkrVBA1ISilHInK7iLwoIouqdPyIiDwjIn9bjeOr2eGpdgeUUnPCFcC7gOEqHX818ABwT5WOr2aBXiEppYqRBD4PvKZKxz8BfAj47SodX80C0Q/GKhFxGWNy1e7H2WYuve4icgFw2BiTqtLxm4GgMaarGsdXs0OvkOYAETkiIh3293eIyL9Pc/utInLjhDYRkc0i8iPgz+y25SISq1S/Hfq0UUT25j0fO8f5TEQCIvJ+EXkGeJ3d9uci8vUS9jX2c7X3+ZNpbj+dbRYDO6e5/4KfcTmMMX3Atyb+Hqv5RceQzjIi4gd+D/gDIAV8AfhmVTt1FhCRNuBPgQ8CzwJ/BzxT1U4pVWM0IJ19/gXYANxujHm8yn05mzwG7ADeaIx5sdqdUaoW6S27MthpqH8gIh/Ka9sgIndWs18O6oADGoxmXR3wqAaj2lDM36mIXCEinxeRR+wxLDXDNCCV5zeAe4H/zmvbA3z0TBuIyOUi8rKIrJrpzp3BXwCbROR3Z+NgInKhiDwqIp0i8k0RiczGcafoz4dFZIn9/WoR6RGRAyKyRUQ+JiIXVeg4S0Tkw3lN7wM+JyLrS9jXrPzOiMhBETkkIk+KyGdE5M0iUrG7KCJyvYjsss/lb4rc5g4RCRWx3hq730dF5Esi4nPYZMq/U9sO4P8BvwUMFNNfVR4NSCUSETdwNVZA+nLeouXA5rz1bhCRN44+N8Y8Dfxf4IsT9rfUHqTeKyLvmal+G2N6gOuBT4vIxkrtV0QuEpEd9teb8hbdDqwCPgC8F3hzCfu+TUQunGL5n4rI3XnPl4vIH+Q9/2sRabSffhhYYn//IvB64FbgS8CVwC4R+cNp9O1mEbnY/n5F3nGX2McCwBizFesN8H57PGmqfRb1OzMDNgHvBD6JdTv/51T2cz93AK8AXwH+VkQaAETkEhH5Lfv7OhG5I2+bjwOOAQn4feBCrNfpd4HLRxecIah5gavy1nmfiBwXkadEpAXAGJPE+v04Z65kQ851GpBK92PgOuA7wLl57Rdh/XGMehd5fxy27wL/Q0QW5rV9Dngc603s7rw30FEVy883xuwE/h64T0RWTvc4o1cWE5q/ihWYPw/cIyJit/8r1u/Zt4AngYencyzbF4D4GfrixnrTWJrXvBIrgWA0iePvgHZ7mRd77NQYkzbGvGKMeR7wYb1BfZbpvQmfjxVsAdYD/2ficUYZY74E7AV+JCKBKfZZ7O8MTPP3QkQ+ICJfmmxbY0yXMWY/0AW8B/gJVkCYzv43i8joHYOJffsb4K3AnwP/ZIwZtNs3MP4atgMftwOT124rJtX8TqAB+DrW3+TTdn/EPoeJr3cS+LaInGNftX8ZK+B7Gf8ZAtwCvAk1KzQglcD+D2oj1n+SfcBaEbnG/o/vLcBq+xbCa7D+2Drt7YIisgD4a8AN/IlYJVHOB96G9Wb1IiDA74hISEReB7QB3UX067K8N5t8zcBVIlIvImG7D+dj/fx/LCLni0g9VoA9VsRL8BLQKlbacL2IXIH1ZrwX2Gf392b79QhgvcEtAA4DzWKVn7mmyGMBHAD+TkQuFZFGEVlk/1f9B1ipyJuADhG52P7Z/DawUkQ2AbdhvZ5/bN8ua8N6bVvsfV0sIv8KfAa4xhjzEWPMyck6IdZ4wicnNO8GbhWRtcDNwGvESk1+C9BuX+002K/7OVjp0+cDd4lIq4i0YwXCy0Tk3CJ/ZxrsK8YLp/EajurCTjcHeoB1InKe/Xu4UqzbjI8Cf2eM+Q1jzL5p7v8V4A15+19u/6wasP6pGAaagE4RabID7M3AG+wrzdEPvn4EK3h1GmOGijjuLUAU69baSazfzwbgHfYx+/NXNsZk7HWbsH4/vMBzwDeADSLSZv8sOrB/FmoWGGP0q4Qv4N3Av2PdIvhjrF/u/8L6g3wASGD9YTwGBOxttgJZrLTf3wB+gfVfZBrrTaAb67/BPcCQvc848I95x70D+Pcz9Okvgf+a0NaG9Qf5KnA073i/BFZgXcFEgR9hfRr+PUWc+wp7m277nBLAFvt8k8Dzdr+/jvVG8C9Yb8L32+v22325Mm+fR4COMxyvDes2z1G773GsoPgjrKvROuCf7X0b+/X7Y7s/XVhvcnvsPv8HVuDMARngZbutvYjzPgK8fkLbTfbPaQTYjjVWdMJ+vb+C9Q/L3Xa/ovb37VhXiim7H/vt1y9d5O/MYft1vpvxD7e/H/hJEedwG7DF/t4N/NDuhwF6gfuAyyfZbiOwt4j9vwl4Me/5f9ivjcH62/hd4H9gjc9k7fP/BfAP9uvzItat3cNYAe3tefvaCtx4huMOYF1ZrsS6wh20f85R4MOTrN9kn3ej/fz3sYK7yfvKYN21CFT7/eZs+dJKDfOIiNwMfAprnOZVrP+E/w243xgz8T/7co7zDWDYGPP7jivPIyKSBM4zxrya1/Yt4Igx5q+r17Pi2LemfgncaYz5/Azs3wM8BOw2xnyk0vt3OPYp4DJjzMtFrv8lYIUx5q0T2n8EPGOM+fvK91I50Vt2M0hmP230PuBB4CDWVcRdWG8+ZQcj+9bR1SLyM2Ad8LFy91lGX6ZVMaCCDgM3iYjLfj3+FOvWY0WTDUTkb0TkXRXc3wIRuQ3rCq6TwiScydZ/WEQWT2P/jSLybqxg1wx8opz+lui/sbIYl9t98orIW0TkIRH5kIh8yx6XerOIPAxci3W1NnoOK+1/tC7EuvOhqqHal2jz+QvwY90aWAS4ZvG4XqC5gvv7K6zbYc8AvwP4q/y6tlXpuG/Buu2UxLqdsw1YOwPHqceq21aJfW3BumW7BWucRYrYZiHgLnL/X7F/N35p/274qvSzacC6ZT4ExLBuf45mUdZh3apMY93G+whQb2/3Bbv/x7EyLRuq0X/9sr70lp1yJFbKbMJo6iswdusrZ4yp1lQMRRORsDFmxuoTikgdEDc18kYiIi6sq7RE/nnbWY1pY0x2wvqNWD/LYhIn1AzTgKSUUqom6BiSUkqpmqABSSmlVE3Qat8TXHvttebhhx92XlEppU4nzquoM9ErpAlOnpz0Q/pKKaVmmAYkpZRSNUEDklJKqZqgAUkppVRN0ICklFKqJmhAUkopVRM0ICmllKoJGpCUUkrVBA1ISimlasKMByQRWSYij4nIfhHZJyJ/YrffISJdIvK8/XVd3jZ/JSIvichBEXlrXvu1dttLIvLRvPYVIvIru/27IuKz2/3285fs5ctn+nyVUkqVZjZKB2WAjxhjdtpl+58VkS32ss8ZY/45f2URWY01b8saYAnwiIicby/+ArAZa5Kx7SLygDFmP/CP9r7usWeC/BDWpGkfAvqNMa8VkVvs9W6uxEmN3NGAL+95CgjeMViJXY8b7IKunRA/CaEF0L4eGtqLXz4bfVBKqQqZ8SskY0y3MWan/X0UOABM9Y52PXCPMSZpjDkMvIQ1FffrgJeMMS8bY1LAPcD1IiLAJqzZUsGaJfWGvH3dZX9/H/AWe/2yTAxGAD67vWIGu+Dgg5CJQ3iR9XjwQau9mOWz0QellKqgWR1Dsm+ZXQr8ym76QxHZLSJfE5Emu60dOJq3Wafddqb2FmDAGJOZ0F6wL3v5oL1+WSYGI6f2knTthEA9+OtBXNZjoN5qL2b5bPRBKaUqaNYCkoiEge8DH7ZnZ/wisBK4BOgGPjNbfZmkb7eLyA4R2XHixIlqdaNQ/CT4woVtvrDVXszy2eiDUkpV0KwEJBHxYgWjbxljfgBgjOk1xmTtabG/gnVLDqALWJa3+VK77Uztp4BGEfFMaC/Yl728wV6/gDHmTmNMhzGmY+HCheWebmWEFkBqwszTqZjVXszy2eiDUkpV0Gxk2QnwVeCAMeazee2L81Z7F7DX/v4B4BY7Q24FcB7wDLAdOM/OqPNhJT48YKw52B8DbrS3vw24P29ft9nf3wg8aiowZ3tqmu0laV8PiSFIDoHJWY+JIau9mOWz0QellKogqcD789QHELkS+AWwB8jZzR8DbsW6XWeAI8DvGmO67W3+GvggVobeh40xD9nt1wH/AriBrxljPmm3n4uV5NAMPAe81xiTFJEA8E2scas+4BZjzMtT9bejo8Ps2LHD8bw0y04pNQmdoK8MMx6Q5ppiA5JSSk1CA1IZtFKDUkqpmqABSSmlVE3QgKSUUqomaEBSSilVEzQgKaWUqgkakJRSStUEDUhKKaVqggYkpZRSNUEDklJKqZqgAUkppVRN0ICklFKqJmhAUkopVRM0ICmllKoJGpCUUkrVBA1ISimlaoIGJKWUUjVBA5JSSqmaoAFJKaVUTdCApJRSqiZoQFJKKVUTNCAppZSqCRqQlFJK1QQNSEoppWqCBiSllFI1QQOSUkqpmuCpdgfOaoNd0LUT4ichtADa10ND+9nXB6WUQq+QqmewCw4+CJk4hBdZjwcftNrPpj4opZRNA1K1dO2EQD3460Fc1mOg3mo/m/qglFI2DUjVEj8JvnBhmy9stZ9NfVBKKZsGpGoJLYBUrLAtFbPaz6Y+KKWUTQNStbSvh8QQJIfA5KzHxJDVfjb1QSmlbBqQqqWhHS64DjwhiB23Hi+4bnYz3GqhD0opZdO072pqaK/+m38t9EEppdArJKWUUjVCr5BK1D0wwq7OAfqGUzTX+bh4aSOLG4PV7pZSSs1ZeoVUgu6BEbbs72UklWVB2M9IKsuW/b10D4xUu2tKKTVnaUAqwa7OASIBD5GAF5cIkYCXSMDDrs6BandNKaXmLA1IJegbTlHnL7zbWef30DecqlKPlFJq7tOAVILmOh/DyUxB23AyQ3Odr0o9UkqpuU8DUgkuXtpINJEhmkiTM4ZoIk00keHipY3V7ppSSs1ZGpBKsLgxyObVrQR9bk7GkgR9bjavbtUsO6WUKoOmfZdocWNQA5BSSlWQXiEppZSqCRqQlFJK1QQNSEoppWqCBiSllFI1QQOSUkqpmjDjAUlElonIYyKyX0T2icif2O3NIrJFRF60H5vsdhGRfxORl0Rkt4isz9vXbfb6L4rIbXntG0Rkj73Nv4mITHUMpZRStUeMMTN7AJHFwGJjzE4RiQDPAjcA7wf6jDGfEpGPAk3GmL8UkeuAPwKuA14P/Ksx5vUi0gzsADoAY+9ngzGmX0SeAf4Y+BXwIPBvxpiHROTTkx1jqv52dHSYHTt2OJ5X79FDdO3bRjp6HG9kEe1rrqB12crpv0AzabALunZC/KQ1LXn7+tPnPipmnVroZ5VpdXdVJKl2B+ayGb9CMsZ0G2N22t9HgQNAO3A9cJe92l1YQQq7/RvG8jTQaAe1twJbjDF9xph+YAtwrb2s3hjztLGi6zcm7GuyY5Sl9+ghDm+7l2xyGF9DG9nkMIe33Uvv0UOV2H1lDHbBwQchE4fwIuvx4INW+3TWqYV+VplWd1dqdszqGJKILAcuxbqSaTXGdNuLeoBW+/t24GjeZp1221TtnZO0M8UxytK1bxvuYAPeukbE5cZb14g72EDXvm2V2H1ldO2EQD3460Fc1mOg3mqfzjq10M8q0+ruSs2OWQtIIhIGvg982BgzlL/MvrKZ0XuHUx1DRG4XkR0isuPEiROO+0pHj+MJRgraPMEI6ejxivS1IuInwRcubPOFrfbprDPTaqEPDrS6u1KzY1YCkoh4sYLRt4wxP7Cbe+3bbaPjTKPv5l3AsrzNl9ptU7UvnaR9qmMUMMbcaYzpMMZ0LFy40PF8vJFFZEaiBW2ZkSjeyCLHbWdNaAGkYoVtqZjVPp11Zlot9MGBVndXanbMRpadAF8FDhhjPpu36AFgNFPuNuD+vPb32dl2lwOD9m23nwLXiEiTnS13DfBTe9mQiFxuH+t9E/Y12THK0r7mCrIjg6SHBzC5LOnhAbIjg7SvuaISu6+M9vWQGILkEJic9ZgYstqns04t9LPKtLq7UrNjNrLsrgR+AewBcnbzx7DGkb4HnAO8AvymMabPDir/DlwLxIEPGGN22Pv6oL0twCeNMf9lt3cAXweCwEPAHxljjIi0THaMqfqrWXaaZTcZzbJTRdIsuzLMeECaa4oNSEopNQkNSGXQSg1KKaVqggYkpZRSNUEDklJKqZqgM8bWMB1IV0qdTfQKqUZpuRql1NlGA1KN0nI1SqmzjQakGqXlapRSZxsNSDVKy9Uopc42GpBqlJarUUqdbTTLrkYtbgyyeXUruzoHOBlL0lzn4/JzW6aXZTcHSvIopdQoDUg1bHFjsPQ079GJ7wL11sR3qZj1/ILrNCgppWqS3rKbr+bAxHdKKZVPA9J8NQcmvlNKqXwakOarOTDxnVJK5dMxpFLNRsKA0zGmWt6+Hp7/trUsmwa311rnkt+qaBe1vJFSqlL0CqkUg10MPvcjnj98jMe74PnDxxh87kdWgKjgMTj4IGTiVlJCJm49Hz2G0/IxMuGxcrS8kVKqkjQglaDvxafZfdIwIiHqQ35GJMTuk4a+F5+u3EGckhKKWd50Dpz7Jjhvs/XYdE5Fkxq0vJFSqpI0IJXgWNdRPMEIQZ8HESHo8+AJRjjWdbRyB3FKSih3eQVoeSOlVCVpQCrBKeqpk2RBW50kOUV95Q7ilJRQ7vIK0PJGSqlK0oBUgtziS8nFB3CnY2ByuNMxcvEBcosvrdxB2tdDYgiSQ2By1mNiyGqvxPIK0PJGSqlK0oBUglXnr+LFpquI5bx4R04Qy3l5sekqVp2/qnIHaWi3qip4QhA7bj3mV1kod3kFjJY3CvrcnIwlCfrcbF7dqll2SqmSiDGm2n2oKR0dHWbHjh2O62m6s1JqEpVPZz2L6OeQSlRWnTmllFKn0Vt2SimlaoIGJKWUUjVBb9nNZzofklJqDtErpPmq6NJCSilVGzQgzVc6H5JSao7RgDRf6XxISqk5RgPSfKXzISml5hgNSPPVLJQOUkqpStKANF/NQukgpZSqJE37ns8a2jUAKaXmDL1CUkopVRM0ICmllKoJGpCUUkrVBA1ISimlaoImNZRoNuZDcjyGQ6263qOH6Nq3jXT0ON7IItrXXEHrspWFB3nhIdj5TYj2QKQN1v82rHrb2OLU/2ki0ecjmxTcfkOgOYXvn/qnd4z5QOsCKjXj9AqpBN0DI2zZ38tIKsuCsJ+RVJYt+3vpHhiZvWM41KrrPXqIw9vuJZscxtfQRjY5zOFt99J79ND4QV54CLb+A6Sj1ptrOmo9f+EhwApGsa4AuSy4AzlyWYh1BUj9n6bijzEfaF1ApWaFBqQS7OocIBLwEAl4cYkQCXiJBDzs6hyYvWM41Krr2rcNd7ABb10j4nLjrWvEHWyga9+28YPs/CYEGyDUAm639RhssNqBRJ8Ply+H22sQAbfX4PLlSPT5ij/GfKB1AZWaFRqQStA3nKLOX3i3s87voW84NXvHcKhVl44exxOMFCz2BCOko8fHG6I94G8s3Ie/0WoHsknB5Smc4t7lMWSTUvwx5gOtC6jUrNCAVILmOh/DyUxB23AyQ3Odb/aO4VCrzhtZRGYkWrA4MxLFG1k03hBpg+RA4T6SA1Y74PYbchkpWJzLWGNJRR9jPtC6gErNCg1IJbh4aSPRRIZoIk3OGKKJNNFEhouXNs7eMRxq1bWvuYJYtI9DR4+x56j1GIv20b7mivGDrP9tGBmE+CnIZq3HkUGrHQg0p8ilXGTTgjGQTQu5lItAc2rsGNmRQdLDA5hclvTwANmRwcJjzAdaF1CpWaEBqQSLG4NsXt1K0OfmZCxJ0Odm8+rWimbZOR7DoVZdLrKEw41XkXYFiGT7SbsCHG68ilxkyfhBVr0NNv4VeCPWAL03Yj23s+x8/9RPuD2Byw3ZhAuXG8LtibEsu9ZlK1lxxU24/XWkBntw++tYccVN8y/LTusCKjUrxBjjvNZZpKOjw+zYsaPa3Sjbw3u7GUlliQS8Y23RRJqgz821axdXsWdKzWvivIo6E71CmqdmI/FCKaUqyfGDsSLywamWG2O+VrnuqEoZTYrIv0KqdOKFUkpVUjFXSMum+FrqtLGIfE1EjovI3ry2O0SkS0Set7+uy1v2VyLykogcFJG35rVfa7e9JCIfzWtfISK/stu/KyI+u91vP3/JXr68iHOdN2Yj8UIppSppxseQROQqIAZ8wxiz1m67A4gZY/55wrqrge8ArwOWAI8A59uLfw1sBjqB7cCtxpj9IvI94AfGmHtE5EvALmPMF0XkD4CLjDG/JyK3AO8yxtzs1N9ix5Ce3P4cu7dvxQyfQOoWctFlG7nyskuLeEXy3NEwSdvg2Lepnh4Se/aQ7evD3dxMYN06fG1t4+s6lP0pqryRU0mccpcX4cCqC09ru/CFA5U7hpb9UbOnZsaQROT3gLgx5hsi8n7gZ8aYY1Xu1pQcA5KIfCLvaQ7oAZ4wxuwv+iDW1clPighIfwVgjPkH+/lPgTvsxXcYY96avx7wKeAE0GaMyYjIG0bXG93WGPOUiHjsfi80DidcTEB6cvtz7Hr0HvBHEF8Yk4pBMsrFm24pPihNFozGlg2S6ukh9uijuMIRXKEQuXicXCxKeNMmKyiNlv0JNlgfZk0OWCnbeVlyjkZL4gTqrQ96pmJWOvNoBlm5y4swWTAadeELB8o/RgX6qNQ01ExAyiciW4E/N8bUdMZWMbfsDuV9HQHqgG+LyHdExF/Gsf9QRHbbt/Sa7LZ24GjeOp1225naW4ABY0xmQnvBvuzlg/b6Zdu9fSv4I7iCjYjbgyvYCP6I1V4hiT17cIUjuMNhxOXCHQ7jCkdI7NljreBQ9qcoTiVxyl1eCeUeQ8v+qLOEiLzPfk/dJSLftIdG/lxEbgQ6gG/ZQyRvF5Ef5W23WUR+WLWO53EMSMaYu0a/gOPAJqw3/hHgn6fc+My+CKwELgG6gc+UuJ+KEJHbRWSHiOw4ceKE4/pm+AQyoZSM+MKYYedti5Xt68MVChW0uUIhsn191hOHsj9FcSqJU+7ySij3GFr2R50FRGQN8H+BTcaYi4E/GV1mjLkP2AH8T2PMJcCDwCoRWWiv8gGgJpLTzhiQROQyEXmtiIRE5E9FZAdwDfBhY8w7gP8F3FDKQY0xvcaYrDEmB3wFa8wIoAsrWWLUUrvtTO2ngEb7llx+e8G+7OUN9vqT9edOY0yHMaZj4cKFk61SQOoWWrfp8veRiiF1ztsWy93cTC4eL2jLxeO4m5utJw5lf4riVBKn3OWVUO4xtOyPOjtsAu41xpwEMMb0nWlFe9jim8B7RaQReAPw0Gx00slUV0j/Cfw+sB5IARuNMR82xrwIYAeTvy3loCKS/8nMdwGjGXgPALfYGXIrgPOAZ7CSGM6zM+p8wC3AA/YL+xhwo739bcD9efu6zf7+RuBRp/GjYl102UZIRsmNDGCyGXIjA5CMWu0VEli3jtyJo2QPPoF5cQvZg0+QO3GUwLp11goOZX+K4lQSp9zllVDuMbTsj1KT+S/gvcCtWIEs47D+rJgqIF2PFUWfN8Z8wRgz9m+miLgAjDH/6XQAEfkO8BRwgYh0isiHgE+LyB4R2Q28GfhTe3/7gO8B+4GHgf9tX0llgD8EfgocAL5nrwvwl8CfichLWGNEX7Xbvwq02O1/Boylipfryssu5eJNtyC+OszwccRXN72EBijIppus3RfMEl6SwOXNWWV7vDnCSxL4gllrPYeyP0VxKolT7vIiFGTTTdZe7jG07I86OzwK3CQiLQAi0jxheRQYK81vZ9sdw7rN91+z1Ukn0077FpE/AT6M9aHaTxtjPj8D/aqamikdtP/H1kRw/vrxtuSQ9Ya6+p3V65dSaipVy7ITkduA/wNkgeewktBixph/FpH3AH+PNfb/BmPMiP1xmA8bYy6vVp8nmvYU5saYfwX+VUQCwMvAvApIs2nKzwnFT1qzk+bzha3/8pVSagI78eyuMyz7PvD9Cc1XYo3h14ySatmJyCexMjV+VtnunD0cpyjXwXil1AwRkWeBi4C7q92XfKUWV30FeAmrmoIqgeMU5ToYr5SaIcaYDcaYq4wxyWr3Jd+0b9mBlSYtIndjBaWzUlFleabQN5xiQbjwc8V1fg8nY/bvx+hgfNdO6zZdaAFccGXBYHxFSu44rNN79BBd+7aRjh7HG1lE+5orCuc7qkRZnloo7ePQh3J/3kopZ6XesnsS68OxD1S2O3OD4+22IhQ1DXpDu5XA0PEB69EhGBW0j5bMycStsahM3Ho+2DW+ssM6vUcPcXjbvWSTw/ga2sgmhzm87V56jx4q/hhOKrGPcjn0oRI/b6WUs1Jv2f1P4H1YH8Y66zjebivCjFfjLqZkjsM6Xfu24Q424K1rRFxuvHWNuIMNdO3bVvwxKtHPmebQh0r8vJVSzkoKSMaYV4wxPwHOqXB/5oRKTH4349OgF1Myx2GddPQ4nmCkYLEnGCEdPV78MSrRz5nm0Aed7FCp2THtMSQReRfwRqyc9sMV79EcUKnJ7xY3BmduHGI0Sy//c0wTs/Qc1vFGFpEZieKtaxxbnBmJ4o0sKv4YlejnTHPog052qNTsKOUK6f9hzVF0CPj3ynZnbpgTk98Vk6XnsE77mivIjgySHh7A5LKkhwfIjgzSvuaK4o9RiX7ONIc+zImft1J5RKRzimVfF5GrS9zvcjuHYEaUkmWXA5qAOBB2WHdeWtwY5K3LsnTte4J09DgLRrPPKn210/ks7L8fhrqhfjGsvh6WbgCsbLops+yKyNKjoZ3exZvsLLqjdhbdJlrtdVqXrYQrbqJr3zZSgz14I4s4Z/0141l2xRzDSSX2US6HPozeXt3VOcDJWJLmOh+Xn9uiWXaqIpZ/9L/bgcuARVgzKmw/8qm3z2JWT+0opXTQZmAD8G/AXmPMuTPRsWopqnTQbEz61vks/PLzEGqCQCMkBiDeD2/8o7GgVK7R7LFIwEOd38NwMkM0kansWJZSZ5dplQ6yg9H1wADWzNphoBG4v5ygJCKdxpilZ1j2deBuY8wjJex3ub3tlaX2bSrTvmVnjNlijPmUMSZOXrG+s8psZIbtv98KRqEWcNkT8IWarPYK0ewxparuMqxgFAWM/Thgt89JIjJp+aJiON6yE5EPnmHRMuDsnOVsNurMDXVD44R/cAKNMHDGW8PT5vjhXKXUTFsETJxVMwZMY2Kz8olIGIjb0wqNti3FmoboPKzpfv60mH0ZY24TkfXAZ4GFwF3GmE8Xs20xV0jLzvA1BJQ0MDbnzUadufrF1m26fIkBq71CivpwrlJqJh3n9LH4sN1eEfYccvk8QHpC278AE+euuQlriooLgFftoDXVcRpF5Bo7GH0Hq/L4BuB3nbbN79iUjDElTcI3r7WvZ8tDX+LHvb2cyGVY6PLwztZWNr/t9yp3jNXXW2NIUDiGdMl7i9+HQzmci5c2smV/L0DBGNLl57aM72OKxIp5RUsHqerYjjWGBIVjSI9XYuci8hbg/UD+zJ2rOP2q7CTW/HGNwJuNMT8EvgXciTX9+Z8ZY2IiMvZft4hsBK42xvxfu8lgBaITWLOJv4g1AaAXSBTT32mPIYlIUESeEZGXROQeETl/uvuY6/5zTzef7EkQNbDUZYga+GRPgv/c0125gyzdYCUw+CLWbTpfZHoJDUWU5HH8cO5oYkUqat0+TEWt553PVu48a4GWDlJVYicu3I+VtdxmP5aV0DBBAFgsIiH7CubjQNYYc3B0BRHxYwXFZ7Huer0ZwBhz3BhzA9bM4f88yb5/A9g94VgBrCzsh7GmJ3o38NZiZ6QtJe07hTXt+Ems6PdzEbl0dC73s8E9e54i7VlEt+9cRkNQOhXjnj1P8b+u7KjcgZZuKP1qJD/xAsYfu3YW/Oc/5Ydz8xMrYPxx//3z6yrJ4bXKT/4Axh53dQ7oVZIqmx18KprmnZdh9zBWibc9WFcp/w28FcYC0RuBTwKPGGP2iYgA/ygizwDDwBqsK6x/tfd7BGseJbCuiFbbM4hHgL8DHjfGXFdqv0uZoC/L+Iv3dRFpA27HqtxwVhhM9dPoK5whOOQOMpDqq1KPJlGJxItZSKyoCQ6vlSZ/qLnKfr/+iP01RkSuAL4K7AI+YYx52F5/r4h8APgA4Ab2Ae8wxrwwye4/i3VL7xBWuvujWMGrZCVNPzHB14EfcBYFpAZfE/HsCBH3+DhdPDtCg6+pir2aoBIleUYTK0J5Y0oVTqyoCVo6SJ1ljDHbsMaSJlv2hD0+NAz0nCEYYYzpAt5eyX6VWu17jDGmBzhagb7MGbesewOJTJxoKkY2myWaipHIxLll3Ruq3bVxlSjJs/p6K5EifgpyWesx3m+1zydaOkipAsaYTxhjPmOM+dZsHnfalRrmu6IqNQB/++Mn+NHBZ0jmovhdEW644HV8/J1XzUIPi+c4uV4xNMsO0Cw7VbRpVWpQhTQgTVBMQNr1aj93PnGYxjoPDQEvg4k0A8MZbr9qBRefUxu37bQskFJVoQGpDGXfsjsbPbi3m8Y6D00hPy6Xi6aQn8Y6Dw/urWDad5m0LJBSaq4pKqlBRALAO4D/ASwBRoC9wH8bY/bNXPdqU+9QgiUNhVcZDQEvxwZr53MpmhmmlJprHK+QRORvgW3AG4BfAV8GvgdkgE+JyBYRuWhGe1ljWusDDCYKK28MJtK01geq1KPTaVkgpdRcU8wV0jPGmI+fYdlnRWQRZ9lU5tetXcztd/2K3uHsWFtrnZs7b3v99HbklDBQxkD7xUsbue9HP6K1ewsNmeMMehbRu3gzN95wQ0EX9u3fz4GdW8lET+CJLOTC9RtZs3r1tF+TMzmy5U48O7+GL9VHytdMZv0HWb759sKVHM6zFpw48EuGnvs+Ej2GiSyh/tL3sPDCNxa/gxo4x1RPD4k9e8j29eFubiawbh2+tlmt4akmc0fDafMhccdgRT8oOxURuQfrs0RfNMZU9UOGjldIxpj/dlh+3BjjnJY2j3x568GCYATQO5zly1sPnmGLSTiV5SmznM3R3U+wtvObBHIx+lytBHIx1nZ+k6O7nxjrwr79+9nz6D3kknG89a3kknH2PHoP+/bvL+8Fsh3ZcieRp/4RTzZO0rcATzZO5Kl/5MiWO8dXKqLEUbWdOPBLoo99DpMcwtQvwySHiD72OU4c+GVxO6iBc0z19BB79FFyIwncLQvIjSSIPfooqZ6JJc3UrLKC0fVACKu+XAi43m6fESLyfhFZM/rcGHOLMeavqx2MoLRadnUickREjorI0/Ynfs8qW144hQB+j4x9id1eNKf5jhzmXHJKWji14z7SvgY84YU0hAN4wgtJ+xo4teO+sS4c2LkVV7AeT6gRcXnwhBpxBes5sHNrRV4nz86vkfbUkfY1gttD2tdI2lOHZ+fXxleajbmlyjT03PfJBRtxhRYgLjeu0AJywUaGnvt+cTuogXNM7NmDKxzBHQ4jLhfucBhXOEJiz55Z64Oa1IzMh2RPNf4zEfmpiPSKyIsicpO9+CngeyLiFRG/iDwiIjtF5DfLOWYllJJlFwfOM8YsAz6KdWJn1S27dA7cE5I73WK1F22o2yrDky/QaLWDdWvHN6Fiuy9stWMlLdT5C++41vk99A2nrF0lekl7Ggr77WkgkOgde56JnsAdKDyGOxAmEz0xjRM5M1+qj7S7cP9pdxhffoklh/OsBRI9hgQK0/kl0IREjxW3gxo4x2xfH65QqKDNFQqR7auhcldnp0VYVb7zxez2cnQCvwU0YJX32WiMuRfALqz6HHCN/dWDVVT190VkU5nHLUspM8YaY0za/n4r8P8BFZx3ofZ5XZCd8PGtrLHai+Y035HDnEtOSQuJQCvezGBhvzODJAKtY889kYVkE4XHyCZieCILp3EiZ5byNePNFu7fm42Ryq8DOBtzS5XJRJZgEv2FbYl+TGRJcTuogXN0NzeTi8cL2nLxOO7m5jNsoWbJjMyHZFfX/gfgy8aYv7HL/CAiHntuonOxAp8HSBhj+rCC1Joz7XM2VOJzSN8FNldgP3PG5lUtGCCVMWSzhlTGYOz2ojmV5SmznE1Lx43400N4kn2YbBZPsg9/eoiWjhvHunDh+o3kRobIxAcwuQyZ+AC5kSEuXL+xIq9TZv0H8WaG8aYGIJvBmxrAmxkmsz5vEuJKlDiaYfWXvgfXyAC5+ElMLksufhLXyAD1l76nuB3UwDkG1q0jF4uSjcUwuRzZWIxcLEpg3bpZ64Oa1Has+Y8iWB+qjdjPt1dg39cC3xCRdSIyWlz1ceAAVlXux7EKol4gIp3AcuDuChy3ZBWp1CAinzXG/FkF+lN1xZYO+quv/piBl5+lkSEGqKfx3A38w4feOb2DlZllt/vYEX52aDu9w6dorWvhmpWXcdGS5WPLn/vZt8nt/CZ16RMMexfiWv/bXHrNbxV0wTHLrszsMM2ys9XAOWqW3ayYfqWGGcqyE5FXgZWjd7TmgrICkojcYYy5o3Ldqb6iAtJo1lSg3hoLSMWs/3gvuG7W3mR6hnvYenQrYW+YkDdEPB0nlo6xcdlG2uraKtPHGjhPpeaYmikdJCJfwZqt9aPGmB47sy5ijHm6yl07o3Jv2c2zqUOLVANZU3tP7iXsDRP2hXGJi7AvTNgbZu/JvZXrYw2cp1KqZB8G+oDH7VtyX6OGAuZkygpIxpgfV6ojc0oNZE31J/oJeQuzpkLeEP2jg++V6GMNnKdSqjTGmGFjzJ8ZYy4wxiw1xrzeGPNUtfs1FS2uWooayJpqCjQRTxdmTcXTcZpG05Mr0ccaOE+l1NlDA1IpaiBrau2CtcTSMWKpGDmTI5aKEUvHWLtgbeX6WAPnqZQ6e1RiCvOzT0M7p1yLSD/1DVzDPeTq2vBueB8t0x3od8i82vVqPw/u7aZ3KEFrfYDr1i4em2+pra6Nte4VPLXnx/THe2kKtfKGNe+0EhrsPj53OANbv0BgeJBEXQNsvJVLXzeNPja0w5L1p2cCVjihoSITCSql5rxSSgd9XET+RkQ+ICJ1M9GpWnfiwC8ZfOZuYr5moouvIOZrZvCZu4uvbQaO9c1GJwGMJTMsaQgSS2a484nD7HrVGiPqPXqI2LOPcYm0s3nBm7hE2ok9+xi9Rw8BsP1H95D6ybeIZYP0NL6WWDZI6iffYvuP7pleH4/thLY1sPYG6/HYzorWYOs9eojD2+4lmxzG19BGNjnM4W33jp2HUursUcotu06gG1gJPFTZ7swNZdc2A8cMNqdJALv2bcMdbMBb14i43HjrGnEHG+jatw2A4Z9/l1SwjkxdI7g9ZOoaSQXrGP75dyvWx0pwOg+l1PTZWXVnWvZ1Ebl6mvvbKCIz/qHZUkoHfRX4KvAwZ9m0E6PKrm0GjhlsvUMJGgLegsUNAS+9QwkA0tHjeIKRguWeYIR01Ko4EoieIjOhTl0mECYQnUYB2FnIsnM6D6XU2aPUMaReoAW4o3JdmTtGa5tJXraZSfRDsbXNYDyDzV8/3paXwTY6CWBTaHzW1/xJAL2RRWRGonjrGseWZ0aieCNWTcZEpAVPImZdIdk8iRiJyDTKGzn0sRKczkOp+W7dXetOq9Sw57Y9tTP/yiwqKcvOGLMIWAH8fmW7MzeUXdsMHDPYrlu7mIHhDP3xJLlcjv54koHhDNettYqvtq+5guzIIOnhAUwuS3p4gOzIIO1rrNlA6t5yM76RYTzDA5DN4BkewDcyTN1bbq5YHyvB6TyUms/sYHTafEh2+4wTkWYR+YiIeJ3XnnklBSQRWQ3cDmREZHFlu1T7Fl74RiJv/lPEX48MHUX89UTe/KfTq23W0G6V4PGEIHbceswryXPxOU3cftUKwn4PxwZHCPs93H7VirEsu9ZlK1lxxU24/XWkBntw++tYccVNY9lpl91wC673/CFZf4jg0Amy/hCu9/whl91wS8X6WAlO56HUPDcj8yEVy67yXQeMzQouIkER+b6I7BeRD0y2XTHrlKKkWnYicj/wNNAO3AxcbYzZValOVVOxxVWVUmoS0yrNs+6udbdjXRnlvxEL0Lbntj13Tr5VEZ0Q6TTGLLW/9xljUnnL7ga+Ylf7RkRCwK/z1v8A8HbgfwKHjDFLRWQj8L+MMe890zql9jVfSWNIxpjrR78XkUeBv7c7p5RSqnij8yFF89rKng9plIi8BXg/8Nt5zauAHhHx2PMmrQUS9vo3Ajdi3Tr8NfCtSfbpuE6pKvHB2PuBz1ZgP0opdbbZjjWGBNaEeWGs+ZAer9D+A8Bi+yrIB/wJkDXGHBSRy0Xku1jBcHROmA8BnzbGPDbFPotZpyQllw4SkdH0rwbs6HqG9b4mIsdFZG9eW7OIbLHned8iIk12u4jIv4nISyKyW0TW521zm73+iyJyW177BhHZY2/zbyIiUx1DKaVqhZ1Ndz8QB9rsx/vLzbLLu4X2MLAL2ANswxovequ9ztPGmNcYY9YaYx611w9SePtwdH9bR2/XnWmdSijnCul5Efk1VrbdVJdsXwf+HfhGXttHgZ8bYz4lIh+1n/8l8DbgPPvr9cAXgdeLSDPWoFsH1gvxrIg8YIzpt9f5HeBXwINYsyQ+NMUxKuKFz72b1ww+hpccaVy80vBmVv3pD6a1D6fJ8aYqHQRwasf9pJ+dUL6o4/rxA7zwEOz8JkR7INIG638bVr1tmic69T5ST36HxM++QfZUH+6WZgLXvA/flbdO6xAjdzTgy3ueAoJ3DJ5p9dPNwuR33QMj7OocoG84RXOdj4uXNrK4MVjRY6izkx18ZiTN2xiTBT5if9W8coqrXowVJG42xvzdmVYyxjyBNSdHvuuBu+zv7wJuyGv/hrE8DTTaWXxvBbYYY/rsILQFuNZeVm9HeoMV9G5wOEbZXvjcuzlv8Oe47GDkIsd5gz/nhc+9u+h97Nu/nz2P3kMuGcdb30ouGWfPo/ewb/9+wLl00Kkd92O2/j2komTDSyAVxWz9e07tuN/u5EOw9R8gHbXenNNR6/kL0yiu4bCP1JPfIXb3Z8iNjOBeuJDcyAixuz9D6snvFH2IicEIrPsKI3c0FLcDhxJMldA9MMKW/b2MpLIsCPsZSWXZsr+X7oGRih1DqVpgjNlojNla7jqlKjkgGWNSxpjnjTEHSti81RjTbX/fA7Ta37cDR/PW67TbpmrvnKR9qmOU7TWDj5EBcvgADzl8ZOz2Yh3YuRVXsB5PqBFxefCEGnEF6zmwcyvgXDoo/ew3yPgbINiCuDwQbCHjbyD9rH0huvObEGyAUAu43dZjsMFqL5bDPhI/+wauSBh3fQPiduOub8AVCZP42TccdjxuYjByaj/NLJQ32tU5QCTgIRLw4hIhEvASCXjY1TlQsWMopcqcfkJEyv6rt69sZuR+ZLHHEJHbRWSHiOw4ceKE4/685MhNeOlyuPCSK7pPmegJ3BNK+7gDYTJR6/hOpYNcwz0Yf+FVhPE34BrusZ5Ee8DfWHhQf6PVXiyHfWRP9eGqKzwHV12Y7KmJF8QzaBbKG/UNp6jzF97drvN76BtOnWELpVQpyp0xttSP7PeOfqDWfhxNcewCluWtt9Rum6p96STtUx1jsvO40xjTYYzpWLhwoWPnR2/T5Ru9fVcsT2Qh2UTh5HfZRAxPxDr+aOmgfPmlg3J1bUiycJxFkoPkRqefiLRBcqDwoMkBq71YDvtwtzSTGy48h9xwDHdLc/HHKNcsTCLYXOdjOJkpaBtOZmiuK/o6TilVBMd30NGstXLXmeABYDRT7jasLJPR9vfZ2XaXA4P2bbefAteISJOdLXcN8FN72ZCdvijA+ybsa7JjlO2VhjfjyYGHFC5SeEjhyVntxbpw/UZyI0Nk4gOYXIZMfIDcyBAXrt8IWKWDegYS7Draz57OfnYd7adnIDFWOsi74X344ifwD7xIIHoY/8CL+OIn8G54n3WA9b9NKtrH8ePdvHIiyvHj3aSifVZSQr7BLtj/Y9jxX9Zj/tiLwz4C17yPXDRGdmgQk82SHRokF40RuOZ9Rb8OZ7rGKGifqo+zUN7o4qWNRBMZook0OWOIJtJEExkuXtpYsWMopYq7QnpMRP5IRAoqe4uIT0Q2ichdjL/xn0ZEvgM8BVwgIp0i8iHgU8BmEXkRuNp+DlaW3MvAS8BXgD+AsfIWf4eVs78d+ITdhr3Of9rbHGJ8SowzHaNsTTf+E4ddy8kB7hzkgMOu5TTd+E9F72PN6tWs23QLLn+I9FAvLn+IdZtuGcuyW1Qf4NxFYTwuYSSTxeMSzl0UZpF9hdRyXge+lVcibh8kY4jbh2/llbSc1wFAd9tGHl/yO6RcIepTvaRcIR5f8jt0t20c74RDQoDTPnxX3kr4vR/BFQySPXECVzBI+L0fmVaWXfCOwdOCUkGWnVPSwiyUN1rcGGTz6laCPjcnY0mCPjebV7dqlp1SFeZYOkhEAsAHsUpErMCqsxQA3MDPgP8wxjw3s92cPcWUDtr58DfIJocLKlSnhwdw++tYf23xVwdTeXhvNyOpLJG8caRoIk3Q5+batYutK4VMvLASd3LIekNe/U7n7aEy+5hpDn1UqsZM927RjMgvHTTJsq8DdxtjHpndXjlz/BySMSYB/AfwH3ZF2AXAiDFmYIb7VrPS0eP4GgrHYjzBCKnBaSQMOOgbTrEg7C9oq/N7OBlLWk/iJ60rhny+sHWVUMz2ldrHTHPoo1Jz3YFVF542/cSFLxzQ6SecGGPSxpjuszkYwfgcPvkqPYeP40C6w2B+UQPxldjHTJuFpAWlqsUORqdNP2G3n3XKyrI7W83GHD6OA+kOg/lFDcRXYh8zbRaSFpSqoqpOPwFWtW8R+Y/ZOt5UKlFc9azTumwle+obefngd0iaQfzSwLkX3DrtOXx+vq+b7+7opDeaoDUS4OaOpbxljTU2s7gxyMVLG04rHTQ2kN7QzrbMAp5/6jvE06cIeVu4ZN2tXGEP5i9uDPJ63xFO/epePPEewqE2Vl92E4sbl493oKEdlqyH/ffDUDfUL4bV148lBCxuDPLWZVm69j1BOnqcBZFFtK+5gta8wfzeo4fo2reNdPQ43tHlea+D03JwKB3U0E7v4k32Po7a+9hEa17SglNZnwOrLjzttb/whQmf53YoP6Slg9QMWYR1ZZQvhlXXbkbZBVd/BGSAS0TkWuBfjDH/5rDdrcATxpiuvLZ6Y8xQuX3SK6QSbPvlD3n20D0M+yO4w6sY9kd49tA9bPvlD4vex8/3dfPZR14ilsqwpD5ALJXhs4+8xM/3WZUYrDfAQVa11XPduiWsaqtnV+fgWLmaJ577BT/c/X16vC2k6jfQ423hh7u/zxPP/QKAEwd+ifeZL7AokKJlyUoWBVJ4n/kCJw78crwTg11wbCe0rYG1N1iPx3aOZ7ANdtHa/Sjrl/h5/boLWb/ET2v3o2PLe48e4vC2e8kmh/E1tJFNDnN42730Hj1U1HJwLh3UPTDCT4+6eWXRJgZXv5dXFm3ip0fdY6+DU1mfyYLRae1O2YZaOkjNnNHpJ/JVbPoJsDKiJzR5gDRWUeybsOLAD4HNwOftbe4SkU1n2OX7gddMaPuBiKwpt68akErw/J7v4HOHCfissj8BXyM+d5jn9xRfw+27OzppCNmlgdxumkJ+GkIevrvDqoTkVK7m8T33E/RFCPmbcLk9hPxNBH0RHt9jfdxq6Lnvkws24gotQFxuXKEF5IKNDD33/fFOOJXdcVjetW8b7mAD3rpGxOXGW9eIO9hA175tRS0H59JBTq9DRcr6OJynlg5SM2g71nQTEawMvYj9fHsldm7Ph/TVCc2rgB5jTA74Q+BXxpj/bYw5ZMbTrv1Ah4i47P24RWSdiHwOK7FtYirySaCl3P5qQCpBPH0Kv6fwnxq/J0w8faroffRGEzRMKEfT4PfQG7VKAzmVq4kmjhPwRAqWBzwRognrHyuJHkMChTNuSKAJiR7LOxGHsjsOy9PR43iChX3wBCOko8eLWl4Mp9ehImV9HM5TSwepmWJn0502/UQFs+zG5kMSkUYR+Tj2fEj28huBL0yy3UewZlfoFJFXsD7j+TngCHDVhBlom4GrsKa4KIuOIZUg5G0hmYkR8DWOtSUzMULe4v9BaI0EGExmaAq5x9oGkxlaI9YHX0cz3PI/A5Sf4RYJLCKRiRJyjwedRCZKJGBl+pnIEkyiH8nLRjOJfogsyTsRO4Mt/zM++RlsDstHsw3zP4+Vn23otLwYTq+D0/KiOJxnRY6h1BnYwaeiad4T5kPahBUsEsB/Y8+HNLoq1mdKJ27fBfzmVMcQkSBW0YF/BD5rz8RQFr1CKsEl624llY2RSFllfxKpAVLZGJesK75Cwc0dSxmMZ+iPJ8lls/THkwzGM9zcYf0eOWW4vWnd9YykosST/eSyGeLJfkZSUd60zpoPqf7S9+AaGSAXP4nJZcnFT+IaGaD+0veMd8Ipg81huVO2YTHZiE6lg5xeh4pkAs6FbEOlSmCMyRpjPmKMWWmMWWOM+YsJH9v5PvA1EVkOICLtInJl/j5E5AYRuWFC281Yt+3eDXzIGPPPleivY6WGs00xlRoAfv/Lf01n+jFS7hF82SBLvW/mi7/7yWkd6zMP7eM7O7oYTmao83u4taOdj7xtfFzQaYK+nasuPC07bX1e9pjjBH7gPLmdw3KnYxTTB6cJ+pwy3DTLTtWQmqjUUCwRcQN/jXU11AicAv6vMebHVemPBqRCxQSkP/rufTzS+33E1OHOBcm6RjAyzNWt7+HzN99Y1HFGs+waQh4a/B4GkxkG4xn+7OrX8pY1i8cyuyIBD3V+D8PJDNFEZqyG2oFVF5KdZL9u7Dfb0cyxQL01HpKKWf/1V7LOW+ez8MvPQ6gJAo2QGIB4P7zxj2DpBuflxexDqbllTgWkWqO37EqwtXsrYurwmDAibuvR1LG1e2vR+yg3y26yYFTQPgsT17H/fiuQhFrAZU/gF2qy2otZXuw6SqmzggakEqRdg7hzhbdr3LkgadfgGbY4XblZdo5mYeI6hrqtq5p8gUarvZjlxa6jlDoraEAqgTfXQNZV+KHIrGsEb67hDFucbjTLLt9kWXb5ppXZNRs14OoXW7fY8iUGrPZilhe7jlLqrKBp3yXYuHgjH/j4X+LLy5ZMkeW//vYfi97HzR1LueunT7MyfohF7ijHsxGez67k5rdeDliZXc/9932073+QQLSPRKSZw6uv4+K3W2NUbia/bTfWo/b1vPjkF9l+8iX6snGa3SEuW/Bazrvy96d3slMN9q++npEtf89Q4iCZjMHjEeoDQYKbPza2nMc/Df1HsP73yYHLB2/6i/H9r76e/kc+w6Hhfk5lgrR4RlhZl6Lp6vcW14didD57enmkaY5PzYekhvlwDmp+0yukEnzg439eEIwAfLj5wMf/vOh9vGVpjo+tfJl6T5ojiTD1njQfW/kyb1lqTY3ecvgXbNh+N970CMORFrzpETZsv5uWw1ZpoB/+xw2TTmz3w/+4AYC9xzv5wclDxE2GRW4/cZPhBycPsfd4Z/En6lBSp9c08qJpJ2vcBEiRNW5eNO30mkZr+0gbLDgPXF5Ix63HBecVTKO+K3cuX069nZgJstR1kpgJ8uXU29mVO7eoPjgaTZpIRaFxqfX4y89b7UWaD6WD5sM5qPlPr5BK4DtDwZsztU+qayerVixl1aoJE8917YSGdhKP3IO/qZFQw2iadz3ZwX4Sj9yD79Jr+PHRLfzwr/wE3OPzFSWySTxHt/Ax/oGn9v2YYKgNV6CJGNZ/HsFEP0/t+zFrz3t90X0cS4yA8Ue7j137tpFtuZDjdW8Y2yQ9PEDXvm1WAdWunbB4HSzPq4Ked44AD+7tJrZwHTtCHWOrRONJHtzbbaW4O/TBUX7SBIw/7r+/6Kuk/AQTYOxxV+fAnLnCmA/noOY/vUKqFoekg+yJ47gi9QWLXZF6siessjsjpPBMuErz4GbEvm7qj/dS5yvcvs5XT3+8t2J9dCwNVERiRe9Qgoa8CggADQEvvUOJovcxpQokTcyH0kHz4RzU/KcBqVockg7cCxeRixZWc89Fh3AvtMruBPGRmTCKlCFL0L5Kawq1Mpwq3H44NURTqLVifXScqLCIxIrW+gCDiXTBKoOJNK31gaL3MaUKJE3UxESFZZoP56DmPw1IJUidoeDNmdon5VCuJnD1LeSGBskO9mNyWbKD/eSGBglcfQsA71y2mTRZEtkkmWyGRDZJmizvXLYZgDeseSex5CCxhLV9LNFPLDnIG9a8s2J9dCwNVMTketetXczAsF1CKZejP55kYDjDdWsXF72PKa2+3vqgbfwU5LLWY7zfai/SfCgdNB/OQc1/WqlhgmJLB+1ctbxgzChFivUvHJnWsbqe/h6Hf/5tEn19BJqbWfGW36L98vF6hr0/vYvkI3fDQB80NuO/+r20vvW2seV//9MP8+OexxghRxAX72x7Mx9767+MLX98z0M8eOBeTiVP0uJfwHUX3sSb1r1tWn10ylBznIDvhYdg5zch2mMlM6z/bVhV2Icntz/H7u1bMcMnkLqFXHTZRq687NKx5evuWndat/bclldY2CkLr4g+OHEq4zQXaJbdrNBKDWXQgDRBMQHJsWxPEbp2/Zx9934ebySCL1xPKjZEOhplzU1/RPvFbxmb3M4dbMATjJAZiZIdGWTFFTdZb/gOpYF6hnvYenQrYW+YkDdEPB0nlo6xcdlG2uqKnIyy3PJDRZQFcjrPyYLRqD237XHuYwVKKDmVcVIqjwakMugtuxI4lu0pwuHH78MbieCvb0Jcbvz1TXgjEQ4/fh9QxOR2DqWB9p7cS9gbJuwL4xIXYV+YsDfM3pN7i+9kueWHiigLVMwkfmX1sQIllHSCPqVmhwakKkmcOo4vXJgF5wvXkzhV5OR2Dtln/Yl+Qt5QweKQN0R/YhpTlsxChlvZk/iVOclgMTRDTanZoQGpSgIti0jFCrPgUrEhAi2Fk9vlm04GW1OgiXg6XrA4no7TFJjGuMcsZLg5nme5faxACSXNUFNqdmhAKsFp0ys6tE9mxZtuJB2NkhyysuCSQ/2ko1FWvMkqDVRuBtvaBWuJpWPEUjFyJkcsFSOWjrF2wdriOzkLGW7FTOJXVh/LPQc0Q02p2aJJDRMUlWW347/Y+d5Pnz453t1/AR0fKPpYTll2B3ds5dT2e/HEe8iE2mi57CYu6Ng4vgOH7LE9L/+cLb/+AcdHjrMouIjN57+bdee+pej+AeVn2RVRR85pH45Zdk7HKKIWXs9wD3tP7qU/0U9ToIm1C9YWJH9ohtrZo8yftSY1lEED0gTFBKQffvYWug/uAo9YXxkDGcPiCy7mXX92T3EHcsj+csyyc8hg6+l+nq27vko40EDIV088NUQsMcjGiz9E2+JLZqePFeCY4VaBLLqKZCSqeaECGZUakMqgt+xKcPSVFxAPuHxuXC43Lp8b8VjtRXPI/nLMPnPIYNt76GHCgQbCgSZcLjfhQBPhQAN7Dz08e32sAMcMtwpk0VUkI1HNC5pRWV0akEogyTRpjw8QXCYHCGmPD0mmnTYdV0SduEGvYXv8II8OP8f2+EEGvWY8+8whg60/3ktoQi270GzXsqsAxwy3CmTRVSQjUc0LmlFZXRqQSpD1+zCZHEnxMeIKkBTredY/jawrh+yvaDDAs9G9pEyaBqkjZdI8G91LNGjXeHPIYGsKtRKfUMsuPtu17CrAMcOtAll0FclIVPOCZlRWl04/UYL6VdcysOVHvPZkhlAK4j54aQE0bn5H8TtpX8/A9/4f8T3PQzQBkQChdZfQ+JufAGBwcSP+A1l87gzi8+JLZ/CnswwubrS2X309/Pxv4eh2yKTA44NQM7zl4wCsXXktW5/+NERPEsokiXv8xCIL6Lj8Lwq6MeUAbvt6Uo/eSeLXh8kOxXHXhwicvwLfptutxWuu4NlffJ1XU4cY9hjqMsI56SAb1r9/bP+pnh4Se/aQ7evD3dxMYN06fG0TxmWmSDq4eGkjW/ZbV3X59/QvP7dlrI8cfND6vmAM6crxPvz6eRJPPkT2ZA/uBW0ErnwbvvMvGVu+dsFajm14c0GSSj2w5NnHiv5xOg6ElzvJYCX6oBw5/r6pGaVXSCV4tPNHXNgLniyMeKzHC3ut9mL1Pv0I0V9uh2QaifghmSb6y+30Pv0IALmwn3NWvwmX1096uB+X13qeC4/Pf8RoPopI4XOgLZtlY2yEgDGccnsIGMPG2Aht2fF6Ek6TtqV6TxDb/Sq5VBZ3xEculSW2+1VSvSeswzXX0bliERmPm7qRNBmPm84VizDNddb2PT3EHn2U3EgCd8sCciMJYo8+SqqnZ7yjDhPwLW4Msnl1K0Gfm5OxJEGfu3CAuaHdSmDwhCB23HrMS2hI/fp5Yvd9hVw8hrt1Cbl4jNh9XyH16+fHutC/4c1MfNsO2u3FcJz8rtxJBivRB1UUx983NaP0CqkEm3bDYB3E8oYdwnGrvVjJR+7G1EUwkQaroQ5MdNAqpvrW22gKNJHwJFi5cNPYNrFUjIDHvmW3/35YsBJCrxvfafzU+MRz+++nrWk5baGWyZfjPGlb4smHcLUswW1PEugGGOwn8eRD+M6/hL0n97Jk0QrCS8fTsmOpGHtP7qWtro3Enj24whHcYWuMZ/QxsWfP+FVSERPwLW4MTv2G0NB+xquNxJMP4apvHD8H+3H0HPJN53Nk+Rwnvyt3ksFK9EEVzfH3Tc0YvUIqQUsUYoHCtljAai/aQB+E6grbQnVWO0V8sNWpLE8RZXucBnCzJ3smnyTwpHWF45QMkO3rwxUqXO4Khcj29Y03VCApYSpO51AJs5F4UXYflJoDNCCV4FQEwonCtnDCai9aYzPEhwvb4sNWO9BW18bGZRsJeAKcGjlFwBMo/FyMU1meIsr2OA3guhe0TT5J4AKrD07JAO7mZnLxwuW5eBx3c/N4QwWSEqbidA6VMBuJF2X3Qak5QANSCR69COoS1m06ctZjXcJqL5b/6vci8TgmOojJZjDRQSQex3/1e8fWaatr4+rXXM1NF9zE1a+5uvBDmk5leYoo2+NUEidw5dvIDQ1MmCRwgMCVVjUIp6u4wLp15GJRsrEYJpcjG4uRi0UJrMurvFCB0j5TcTqHSnAsLTTD51hUH5SaA7RSwwTFT9B34emlg4qcC2mU0wR8XS/v5vDTW0ic7CWwoJUVl2+m/dzxqNfz0hb27vsu/fHjNIUWsXbNzbS9dvP48l3fYe/uu+lPnqLJ38Lai95L28W3FvThsUM7+MGLD3E83suiUCvvPu9tvHllx/h5OWSoOfXBaXuAYzt/xfFHHiB3sgfXgjYWXf0bLFn/+mm9llMppg8HVl142nbFzm0FsPvYEX52aDu9w6dorWvhmpWXcdGS5eMrzEKW3XyYRHAe0EoNZdCANEExAWliMBpVSlA6k66Xd7PvR1/HW9+Ir66e1PAQ6aEB1tzwftrPvcix3E0xpYP2nNjDXfvuosHXQL2/nqHkEIOpQW5bcxvrFp55YrwxThPwFVHWp/PgEfbe+2O8kQje+jDpoRjpaJS1N72TpRcsr8hrWRFTBJRaKD2kkwjWDA1IZdBbdiU40135St6tP/z0FlL+OroSbvb1ROlKuEn56zj89BbAudxNMaWDtryyhQZfA43BRlwuF43BRhp8DWx5ZUtxnXSagK+Isj6HnnwGv8sQ7u0k+PyzhHs78bsMh558pjIvZCU4pG3XQukhLXmj5gMNSDWq/9gxOkc8pHOGkM9NOmfoHPHQf+yYtdwhw62Y0kHH48ep9xeuU++v53i8yNI/Tpl8RWSXpY8cIdx9FEmnyIXDSDpFuPso6SNHiuvDbHAIrLVQekiz7NR8oAGpRg146/Gmh/F53IgIPo8bb3qYAa8VQJwy3IopHbQotIihZOE6Q8khFoWKLP3jlMlXRHZZXSpOKgfGHwARjD9AKme11wyHwFqJ0kPdAyM8vLebb//qFR7e2z3tD7Rqlp2aD/SDsSVIMfntuWn/L3pHwyRtgwCkl7+B+FNf4VB0BzFvinDax+JcC7L6dwArw23rr38IsROE0kniXj+x8EI6zn+XtXzltTzw7BfoHz5GSlz4TI4m4+Y3Ntw4dqjNr9nMl57/Ep3RTkQEYwwel4ffO+/3iuv/6uutMSQoHEO6xM4UbF8Pz3/byvDLpsDts27rXfJbY7toXbKIY7v34D3eg9+TIZnxkM6GaT1/xbReyhkVWkCqu4vEK/1kh2K468MEXtOEr9UKvGsXrGXr0a3WqnljSB1tHWfeZ5788Z8FYT/DyQxb9vdOa/xHS96o+UCvkEqWdXjuYLJglNfe3xTjseWDjHgNTcMeRryGx5YP0t9kXXG0ZbJsHB4hkDOc8rgJ5Awbh0doy9j9qG+DhRdgXF5Ij1iPCy+w2m0LQws5t/Fc3G43iWwCt9vNuY3nsjC0sLhzWLrBSmDwRWCg03ocTWgoYCY8jluwvIXlSzJ4PUIiLng9wvIlGRYsr5030pRnGbGndpGLDeFuCJOLDRF7ahcpzzKgiM+MOajE+I+WvFHzgV4hlcBHblrtpfh1/OckmhbS3drACbeQyRoSqUF+Hf858G7o2klbfTtt+WNAyaGxcjR7T+5lyYJVnL9k/L/0/LI+YA3GX9B8ARvaNpxxHUdLN0wSgGxdO6HpHGjLmzY9r48AgaYUmUg94aVNuIJ+ciNJcoP9BJpqZ+wj8coJXCtfhzvRA8kh3JF6WHg+iVdO4DvfWqetrq3kjLq+4RQL8msUYl3lnIwlp7UfLXmj5joNSCUxnH5x6YIKBqShTB/nNC4imsiQTOfweVyc07iAwbSdcBA/aWV85fOFrQKjWAPtLcHCq4yQN8SpkVNjz4tZpywOfQTwhTKE37iexEudZAeGcNeHCb1xPb5A7QSkbF8f7pal4DpnrM2Vy5E9VZnSP6PjP6P150DHf9TZSQNSSYTJg0/lPoKwMLSQeGqYxY2NY20DIwPjt9NGEwbyr5DyEgaaAk10DQ5wYhCiiQyRgIeFDbC4fnygfXQwPpw3YF/ReYAc+ji6js8Xx/eGvDIXySHwFGb/VdNoCaTR4rAwSQmkMuj4j1KWqo4hicgREdkjIs+LyA67rVlEtojIi/Zjk90uIvJvIvKSiOwWkfV5+7nNXv9FEbktr32Dvf+X7G0rEjFSZ3jZztReine/9t0MpYYYGBkgm80yMDLAUGqId7/23dYKDuVoFnlfy7NHjzGYjBEJuBlMxnj26DEWeV87dgzHAq7lKqZkziyU1SlXUSWQyqDjP0pZauEK6c3GmPx7Hx8Ffm6M+ZSIfNR+/pfA24Dz7K/XA18EXi8izcDHgQ6se2nPisgDxph+e53fAX4FPAhcCzxUbofX/+DT7Hz3H+HDx+ituhQp1v/g88Xv5I5Bev6umb0+H/1uF03ZHGtTKdr+xqqEvfGcjXDiJX7w6+/Sk46y0BvhveffbLXD+DxAXTutW2ChBdakdPbYzLE+PxdE6xh++X4SmT4inmbaFr6DY31+Llpi7WJ0MH7vyb2cGjlFU6CJjraOylUXaGgn1XjZ6WV78kvmNLTDkvXWh2mHuq2U8dXXV7ysTjl8bW0cvWADO7f8kuTJU/gXtLB+8xu5eOJEg2WoxPiPTtBXIbNQ5klNrqqlg0TkCNCRH5BE5CCw0RjTLSKLga3GmAtE5Mv299/JX2/0yxjzu3b7l4Gt9tdjxphVdvut+eudSTGlgx7//SWk9oZJ+yDrB3cSvCnwrY3xpi8eK+rcHcvNOJXlcfD1797Haw99nRFvPSlPPb7MEMH0EC+tfD/vv/lGx+0rYXSCPlc4gisUIhePk4tFCW/aND4fUhHlhapt16v93PnEYRrrPDQEvAwm0gwMZ7j9qhU1UytOSwdVSPm/j1o6qAzVTvs2wM9E5FkRud1uazXGjE7a0wOMfpKzHTiat22n3TZVe+ck7WWLHqkj54JgFhqi1mPOZbUXy7HcjFNZHgetXT8l7omQ9jUhLjdpXxNxT4TWrp8WrjjYBft/DDv+y3qs4Cym+RP0icuFOxzGFY6Q2LNnfKUiygtV24N7u2ms89AU8uNyuWgK+Wms8/Dg3m7njWeJlg6qkDnw+zifVTsgXWmMWY91O+5/i8hV+QuNdfk245dwInK7iOwQkR0nTpxwXD84JISS4B8BX8J6DCWt9mI5lpsZ6iZKmJeOR9nbOcBLx6NECRdMsDeVxuxJ4hIha18BZ40hLhEas3l3R2d4au1amKCvEnqHEjTkZcABNAS89A4lzrDF7NPSQRUyB34f57OqBiRjTJf9eBz4IfA6oNe+VYf9OJoj3AUsy9t8qd02VfvSSdon68edxpgOY0zHwoXOHwp1A4ER8KbBnbEeAyPTmwLbqdxM1L+Qru5jZLKGoN9DJmvo6j5G1F/ch1ZNeAkt7hHcCOlsDjdCi3sEE14yvtIM/zdYCxP0VUJrfYDBRLqgbTCRprU+cIYtZp+WDqqQOfD7OJ9VLSCJSJ2IREa/B64B9gIPAKOZcrcBo/eoHgDeZ2fbXQ4M2rf2fgpcIyJNdkbeNcBP7WVDInK5nV33vrx9laXelcadBTJ28ncG3FmrvVhOGW67699EXS5KKDeEmByh3BB1uSi7699U1P5bLruJYHaIJleMhSEPTa4YwewQLZfdNL7SDP83WAsT9FXCdWsXMzCcoT+eJJfL0R9PMjCc4bq1i503niU6QV+FzIHfx/msmll2rcAP7UxsD/BtY8zDIrId+J6IfAh4BfhNe/0HgeuAl4A48AEAY0yfiPwdsN1e7xPGmNF7Qn8AfB0IYmXXlZ1hBzDY9HoaTjxLEMG6LsqSwjDYVPykcm11bSxyXcp9u5/ixPApFta1cOOaN4xluL0SWEVs+W3UH3mQwMhhEsFFDC2/jVOBVVxRxP4v6NjIQeDU9nvxDB8jE2oj8sYPcEHHxvGVivmcUBl8bW2EN20isWcP2VMncTc3E3rdZeMJDeCYLVgLLj6niduvssaSjg2O0Fof4Dc3LCtIaKh2htto6viuzgFOxpI01/m4/NyWmktoqPbr5GgO/D7OZzpB3wTFZNntXrUS1yQ36HJkueiFQ0Udxylz6zu/eoXtR/ppqvMS8LhJZLL0D6e5bHkTt77+NSWd22nmQIbbXKAZbsU5S14nzbIrQ7WTGuakyYLRVO2Tcc7cMogAxv79NmI9r2SOx+h/g56Q9d+gJ6TBqASa4VYcfZ2Uk1r4YOxZqXcoQSTg5eUTUeLpLCGvm5awfyxzyyBctryJV0+NMJRIE/F7uWx5E7lKX9A2tGsAKlOliqPOd/o6KScakKok7PdwoHuIppCPkNdDOpvjQPcQq9oigJU1NZLKsv414+MU0USaoG86uXxqNmhx1OLo66ScaEAqQYpUXtkgwbqNZpUPKlZ7Y4A9XUOkMgaPy5DKGNJZQ3ujlUp88dJG7ttxlL54inTW4HULzSEfN3bkZbg7lDip+QHkOWTXq/08uLeb3qEErfUBrlu7eCypQYujFkdfJ+VEx5BK8MVb33haIdUULr546xuL3kdDyM/b1rYS8Lroi6cIeF28bW0rDaG8Wxqu0fFRM+E5jh9qHR1AHkllWRD2M5LKsmV/77Snxp4N5U7fPdNGE1BiyQxLGoLEkhnufOIwu161PsSsxVGLo6+TcqJXSCW48OCv+cVFHoaDbgzWNVLdSJYLD/666H001/kIet3c1DGecp1/S25X5wBhn4cRX4ZMwhD0uQn7rAHgxY3Bwg+1wvijPfld/gAyMPY4tr1t3V2nV6zec9ue09pmSiWm755p+QkowNjjg3u7x66SdHK84ujrpKaiAakE9cNJ1h/M4subtjwF7Lyg+MFZp9sXh08M82pfnJDfTX3ASyKT5de9URJp+5gOk98VM4A8WTAabZ+toFRs4Kym3qEESxoK+9IQ8HJssLau5JSa6/SWXQnWH8wwcRjWZ7cXy+n2xcBICpcLgl4PIkLQ68HlstoBxxInc6WUzFyowTYXSgcpNR/oFVIJzvSWPt23+qluXzQEvQyNZBhJZQl4XSTSOXI5qx2wEhgOPmgfOP9DrVcCc2cAeS5kXl23djF3PnEYoOBDzL+5YZnDlkqp6dCAVEW7jx3hZ4e20zt8ita6Fq5ZeRkXLVkOwLkLwxwdPMbjXbuJpQcIexu5rO0izh0t/trQTu/iTXTt20Y6ehRvZBHtazbRamfZLW4MsnRBkvv2bS0oTXTG22A5qnK9fPHSRu7b2UlfbIB0NofX7aI57OfG9UudN54lxZQOmioLTylVHA1IVbL72BG+9vxPaPDXszi8kMHkMF97/id8kHdw0ZLlxFIneLL7F4S9dSwLthJLD/Nk9y/YcE4TsNhKBjjqJrJoE3XLrCugvUczbI6MsLgxyO5jR3jgpS0srK/ntQuXM5gc5oGXtrAg7B8LegB5w2Dj38/2R53GPu0rE57XjovPaTpjgMkvA7WkIchgIs2dTxzm9qvQoKTUNOgYUgnONLoxnVGPnx3aToO/nqZgPS6Xm6ZgPQ3+en52yKoR++grO1kSaaTeFyGdM9T7IiyJNPLoK9bUEE5lWJz2D3BV/UdO73TKbq+QnuEeHnnlEe49eC+PvPIIPcM9Bct3dQ6wtDnEFa9dyMYLFnHFaxeytDk0p8rJzIUJ/JSaCzQgleC2v/BM9j7ObX9R/AVn7/ApGvyFM8w2+OvoHT4FwInhU4R9hcvDvjpO2MudkgF6h0/hcWU5Et3PCwPbORLdj8eVHds/wEBygNV1f8zi9B/QFL+dxek/YHXdHzOQHCj6PKYyOk17IpOgJdhCIpNg69GtBUFpLiQ1OJkLE/gpNRfoLbsSTSf4TKa1roXB5DBNwfHPIQ0mh2mts5IOIt5GXh3op8Ffj9/jJpuDVwf6WdbQCDgnA9T5vBwc3E1joIGgJ0w6l+Tg4G5eW792bH2fRAgEU7TVj/chlh4il42UdW6j8qdpB8Ye957cOzbNxlxIanAymoXXlPehZs3CU2r69AqpSq5ZeRmDySH6R4bI5bL0jwwxmBzimpWXAbCqaTXpXJxENkYuZ0hkY6RzcVY1rQacJ2Rb2hRk1+AjPN77fR7p/jaP936fXYOPsLRpPKnh8iWXMJgcZjgdJWdyDKejDCaHuXzJJRU5R8dp2os4j7lgLkzgp9RcoAGpSi5aspwPXvIOIr4g3bETRHxBPnjJO8YSDpY2LOHtK6/G7w4ykD6F3x3k7SuvZmmDNQW50+eY/nX3P0x63Pz231i3mg0Lr0Dw0Z84heBjw8Ir+I11qytyjk7TtBdzHnOBlYW3grDfw7HBEcJ+z9i8Vkqp4uktu1JYk8RO3j4NFy1ZXpjxlscqLbSUS9tXjLVNrPZdbhmWxY1B3v+6S9jVuXxGCrCuXbCWrUe3AtaVUTwdJ5aO0dHWcVo/5lIAmsxUWXhKqeJoQCrBuZ538DI/KQxKbqu9Umbrg60zGQza6trYuGwje0/u5dTIKZoCTXS0dYyNHymlVD4NSCW4dNFFpI55iLleJZ2L4nVFCHMOly6qzK0uGL+VtatzgJOxJM11Pi4/t2XOXUm01bVpAFJKFUUDUgmues16th99hQYuxUWAXC6BIcFVr1lf0ePMh1tZSilVLE1qKEEqVc81KzbxmqYm6usSvKapiWtWbCKVqnfeeJacqVr3bE4toZRS06FXSCXoG05x4aJzWNP6mrG2nDEFUzvUAg0+Sqm5RK+QSjBXpnZQSqm5RANSCebDhzmVUqrWaEAqwXz4MKdSStUaHUMqkWbAKaVUZWlAUlXXPTDCrs6BGakWoZSaO/SWnaqq7oERtuzvZSSVZUHYz0gqy5b9vXQPjFS7a0qpWaYBSVWV00SDSqmzhwYkVVXzYYI+pVRl6BjSHDYfxl7mwwR9SqnK0CukOWq+jL3oZ7qUUqP0CqlE1b46yR97AcYed3UOzKmrpPlS1VwpVT4NSCUYvTqJBDwsCPsZTmbYsr93Vj8c2zecYkHYX9BW5/fUXD29YuhnupRSoLfsSlILmWFaT08pNd9oQCpBLWSG6diLUmq+0YBUglq4OtF6ekqp+UbHkEpw8dJGtuzvBawro+Fkhmgiw+XntsxqP3TsRSk1n+gVUgn06kQppSpPr5BKpFcnSilVWRqQ5rGe4R72ntxLf6KfpkATaxespa2urdrdUkqpSektu3mqZ7iHrUe3ksgkaAm2kMgk2Hp0Kz3DPdXumlJKTUoD0jy19+Rewt4wYV8Yl7gI+8KEvWH2ntxb7a4ppdSk9JbdPNWf6KclWJj1F/KGODVyqqLHqXYJJaXU/KFXSPNUU6CJeDpe0BZPx2kKNFXsGPOlwKtSqjboFVIV9R49RNe+baSjx/FGFtG+5gpal62syL7XLljL1qNbAevKKJ6OE0vH6GjrqMj+Yf4UeFVK1QYNSKUa7IKunRA/CaEF0L4eGtqL3rz36CEOb7sXd7ABX0MbmZEoh7fdC1fcNB6UyjhGW10bG5dtZO/JvZwaOUVToImOto7pZ9lN0Yf5VOBVKVV98z4gici1wL8CbuA/jTGfKnung1307Pkue7NR+iVL0/CrrO17kbZ1NxcdMLr2bcMdbMBb1wgw9ti1b5sVkAa74OCDEKiH8CJIxaznF1w3raBUVpq3Qx8qNrlemcFdKTU/zOsxJBFxA18A3gasBm4VkdXl7rfn5UfZmuwm4fbQ4q0n4fawNdlNz8uPFr2PdPQ4nmCkoM0TjJCOHreedO20AoG/HsRlPQbqrfbZ4tCHihR4HQ16mbgV9DJx6/lg18yck1KqZs3rgAS8DnjJGPOyMSYF3ANcX+5O9/YfIOyvJ+wJ4BIh7AkQ9tezt/9A0fvwRhaRGYkWtGVGongji6wn8ZPgCxdu5Atb7bPFoQ8VKaFUC4FXKVUT5vstu3bgaN7zTuD15e603+WmJWcK2kI5wymXu/iOrbnCGjPCujLKjETJjgxyzvpr7B0usG6R+evHN0rFrPbZUkQfyi6hFD9pXRnl84Uhdrz0fSql5qT5foVUFBG5XUR2iMiOEydOOK7f1LqOeGIQ0nEwOUjHiScGaWpdV/QxW5etZMUVN+H215Ea7MHtr2NFfkJD+3pIDEFyyDpGcsh63r6+1NOcvtnow2jQyzfbgVcpVRPm+xVSF7As7/lSu62AMeZO4E6Ajo4OM3H5RGvPuYqtiVMQO0FoZIC4109s4WvpOOeqaXWuddnKM6d5N7RbyQNdO62rhdACuODK2R3sn40+tK+3xozAujJKxaygd8GVlTuGUmpOEGMc33/nLBHxAL8G3oIViLYDv2WM2XembTo6OsyOHTsc962FSytIs+zU/CHV7sBcNq+vkIwxGRH5Q+CnWGnfX5sqGE1H2SnValxDuwYgpdT8DkgAxpgHgQer3Q+llFJT06QGpZRSNUEDklJKqZqgAUkppVRN0ICklFKqJmhAUkopVRM0ICmllKoJGpCUUkrVBA1ISimlasK8Lh1UChE5AbwyjU0WALM4J0RJ5kIfYW70U/tYGfO1jyeNMdfORGfOBhqQyiQiO4wxHdXux1TmQh9hbvRT+1gZ2kc1Gb1lp5RSqiZoQFJKKVUTNCCV785qd6AIc6GPMDf6qX2sDO2jOo2OISmllKoJeoWklFKqJmhAKoOIXCsiB0XkJRH5aLX7MxkROSIie0TkeRFxngp3FojI10TkuIjszWtrFpEtIvKi/dhUg328Q0S67NfyeRG5rsp9XCYij4nIfhHZJyJ/YrfXzGs5RR9r7bUMiMgzIrLL7uff2u0rRORX9t/4d0XEV81+znd6y65EIuLGmh59M9CJNT36rcaY/VXt2AQicgToMMbUzGc+ROQqIAZ8wxiz1m77NNBnjPmUHdybjDF/WWN9vAOIGWP+uVr9yicii4HFxpidIhIBngVuAN5PjbyWU/TxN6mt11KAOmNMTES8wJPAnwB/BvzAGHOPiHwJ2GWM+WI1+zqf6RVS6V4HvGSMedkYkwLuAa6vcp/mBGPME0DfhObrgbvs7+/CetOqmjP0saYYY7qNMTvt76PAAaCdGnotp+hjTTGWmP3Ua38ZYBNwn91e9d/L+U4DUunagaN5zzupwT80rD+qn4nIsyJye7U7M4VWY0y3/X0P0FrNzkzhD0Vkt31Lr6q3FfOJyHLgUuBX1OhrOaGPUGOvpYi4ReR54DiwBTgEDBhjMvYqtfo3Pm9oQJr/rjTGrAfeBvxv+1ZUTTPWfeRavJf8RWAlcAnQDXymqr2xiUgY+D7wYWPMUP6yWnktJ+ljzb2WxpisMeYSYCnWHZBV1e3R2UcDUum6gGV5z5fabTXFGNNlPx4Hfoj1h1aLeu3xhtFxh+NV7s9pjDG99ptWDvgKNfBa2uMd3we+ZYz5gd1cU6/lZH2sxddylDFmAHgMeAPQKCIee1FN/o3PJxqQSrcdOM/OwvEBtwAPVLlPBUSkzh5IRkTqgGuAvVNvVTUPALfZ398G3F/Fvkxq9E3e9i6q/FraA/FfBQ4YYz6bt6hmXssz9bEGX8uFItJofx/ESlY6gBWYbrRXq8nfy/lEs+zKYKeq/gvgBr5mjPlkdXtUSETOxboqAvAA366FPorId4CNWNWUe4GPAz8Cvgecg1Vt/TeNMVVLKjhDHzdi3WIywBHgd/PGamadiFwJ/ALYA+Ts5o9hjdHUxGs5RR9vpbZey4uwkhbcWP+of88Y8wn7b+geoBl4DnivMSZZrX7OdxqQlFJK1QS9ZaeUUqomaEBSSilVEzQgKaWUqgkakJRSStUEDUhKKaVqggYkpZRSNUEDklJlEpGvi8jV9vdbReS11e6TUnORBiSllFI1QQOSUkqpmqABSSmlVE3QgKTUNIjIZ0Tk1yLysIi0Vbs/Ss0nGpCUyiMit4tISER8IvJtEXlJRP4kb5V3AN8B3ghoQFKqgjzOqyh1VnkzcAqr6rMB1gKdIvJjY8zLwEeBHwB3G2Oet7dZAgxWoa9KzSsakJSy2ROxbQAux5p24hXgBeAEsF1EmoFngbcD7xORl4EVwM+AnVXptFLziE4/oc56IuLHugX3CeBFY8wHq9wlpc5KGpDUWU1EbsYKRHuBe4wx91a5S0qdtTQgKaWUqgmaZaeUUqomaEBSSilVEzQgKaWUqgkakJRSStUEDUhKKaVqwv8PFEwibF0d4UMAAAAASUVORK5CYII=",
      "text/plain": [
       "<Figure size 433.875x360 with 1 Axes>"
      ]
     },
     "metadata": {
      "needs_background": "light"
     },
     "output_type": "display_data"
    }
   ],
   "source": [
    "sns.lmplot(x='property_age', y='price', data=d1, hue='city', fit_reg=False, scatter_kws={'alpha':0.3})\n",
    "plt.xlabel(plot_arabic(pd.Series(\"العمر\")))\n",
    "plt.ylabel(plot_arabic(pd.Series(\"الأسعار (ر. س.)\")))\n",
    "plt.title(plot_arabic(pd.Series(\"توزيع أسعار أجار الدبلكس حسب العمر لكل المدينة\")));"
   ]
  },
  {
   "cell_type": "markdown",
   "metadata": {},
   "source": [
    "- more 10 years has big decrease in price\n",
    "- most +15 are only in riyadh\n",
    "- "
   ]
  },
  {
   "cell_type": "code",
   "execution_count": 200,
   "metadata": {},
   "outputs": [
    {
     "data": {
      "text/plain": [
       "<seaborn.axisgrid.FacetGrid at 0x7f435b4ba890>"
      ]
     },
     "execution_count": 200,
     "metadata": {},
     "output_type": "execute_result"
    },
    {
     "data": {
      "image/png": "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",
      "text/plain": [
       "<Figure size 506x432 with 4 Axes>"
      ]
     },
     "metadata": {
      "needs_background": "light"
     },
     "output_type": "display_data"
    }
   ],
   "source": [
    "g = sns.FacetGrid(d1, col=\"city\" , hue=\"property_age\", col_wrap=2, palette=\"rocket_r\")\n",
    "g.map(sns.scatterplot, \"size\", \"price\")\n",
    "g.add_legend()\n",
    "# alpha?"
   ]
  },
  {
   "cell_type": "code",
   "execution_count": null,
   "metadata": {},
   "outputs": [],
   "source": []
  },
  {
   "cell_type": "code",
   "execution_count": null,
   "metadata": {},
   "outputs": [],
   "source": []
  },
  {
   "cell_type": "code",
   "execution_count": null,
   "metadata": {},
   "outputs": [],
   "source": []
  },
  {
   "cell_type": "markdown",
   "metadata": {},
   "source": [
    "Ahmed"
   ]
  },
  {
   "cell_type": "code",
   "execution_count": 21,
   "metadata": {},
   "outputs": [],
   "source": [
    "# Question: What is the factor that when present increases the price the most?\n",
    "# Question: Do the number of various features within a house increase its rent rate?\n",
    "# Question: Which has a higher impact on the rent prices: location or features?\n",
    "# What attributes have the greatest covariance with each other?"
   ]
  },
  {
   "cell_type": "code",
   "execution_count": 180,
=======
   "execution_count": 96,
>>>>>>> refs/remotes/origin/main
   "metadata": {},
   "outputs": [
    {
     "data": {
      "image/png": "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",
      "text/plain": [
       "<Figure size 720x504 with 1 Axes>"
      ]
     },
     "metadata": {
      "needs_background": "light"
     },
     "output_type": "display_data"
    }
   ],
   "source": [
    "# find the price range in the 4 major cities\n",
    "# create the canva\n",
    "fig, ax = plt.subplots(figsize=(10,7))\n",
    "\n",
    "# plot the data\n",
    "sns.barplot(ax=ax ,y = \"price\", x=plot_arabic(data[\"city\"]), data=data)\n",
    "\n",
    "# configure the plot    \n",
    "ax.set_title(plot_arabic(pd.Series(\"متوسط أسعار الأجار حسب المدينة\")))\n",
    "ax.set_ylabel(plot_arabic(pd.Series(\"الأسعار\")))\n",
    "ax.set_xlabel(plot_arabic(pd.Series(\"المدن\")));"
   ]
  },
  {
   "cell_type": "code",
   "execution_count": null,
   "metadata": {},
   "outputs": [],
   "source": [
    "data_columns"
   ]
  },
  {
   "cell_type": "code",
   "execution_count": 97,
   "metadata": {},
   "outputs": [
    {
     "data": {
      "image/png": "iVBORw0KGgoAAAANSUhEUgAAAmMAAAHXCAYAAADwe12DAAAAOXRFWHRTb2Z0d2FyZQBNYXRwbG90bGliIHZlcnNpb24zLjUuMSwgaHR0cHM6Ly9tYXRwbG90bGliLm9yZy/YYfK9AAAACXBIWXMAAAsTAAALEwEAmpwYAABeKklEQVR4nO3dd5xU9fX/8ddnF5AqWLGLGgQVFRU7GqzRaKJG7CZiCjExpvg1iYnGqCkaNTHRWEKMotEoiI0YY4kBscvSi6IGsWIHLICUvb8/zuf+9u4w2+bez86d2feTx33szJ07Z+4MuzNnzqe5KIoQERERkfKoKfcJiIiIiHRkSsZEREREykjJmIiIiEgZKRkTERERKSMlYyIiIiJlpGRMREREpIyUjImIiIh4zrkbnXPvOudmN3G7c85d5Zx72Tk30zm3a9rHVDImIiIi0mA0cFgztx8O9PfbSOC6tA+oZExERETEi6JoEvBhM4ccBdwSmWeAPs65jdM8Zqc0dxZwh2wWbAmD6WPuCRK3S02XIHE7uTC/Tquj1UHiAkSE+e9bUb8iSNyV9SuDxAXo3bl3kLirolVB4ob8vQj1u7xs9bIgcWtdbZC4AA4XJG6X2jDvQ6vqw/y+ATgX5rWoj+qDxF2+enmQuABD1t8nzIvRhEw/a//z5rexilZsVBRFo9oQYVPg9cT1N/y+haWekpIxERER6TB84tWW5Cs4JWMiIiKSb4GqkiV6E9g8cX0zv69k6jMmIiIi+VaT4ZbeeOBrflTlXsCSKIpKbqIEVcZERERE/j/n3O3AMGB959wbwC+BzgBRFF0PPAB8EXgZWAqcnvYxlYyJiIhIvrVjM2UURSe1cHsEnJnlY3a0ZsobgO3LfRIiIiLSBi7DLYc6WmXsm+U+AREREZGkaq6M9QD+BcwAZgMnABOBIcCXgel+mwe84u+zG/AYMAV4CEg1iZuIiIhkwLnsthyq5mTsMOAtYGdgEPBg4rbxwGC/zQCuwDrnXQ0Mx5KyG4HftNvZioiISHH5Gk2ZuWpuppwF/B74HXA/8HiRY34CLAOuwRK2QcAj/rZamphN1zk3knj23oF9YLMeGZ62iIiIdCTVnIy9COyKDT/9NfBowe0HA8cB+/vrDpgD7N1S4OTsvSGXQxIRERFy27yYlZwW7DKxCTb/x63A5VhiFtsSq4Ydh1XGwPqObUBDMtYZ2KFdzlRERESaptGUFWtHLAmrB1YC38H6hgGMANYD7vXX38IqaMOBq4De2GvzR6xaJiIiIhJENSdjD/ktaZj/WQdcVOQ+02lothQREZE8qMlpSSsj1ZyMiYiISDWo7lysqvuMiYiIiOSeKmMiIiKSb1U+mlLJmIiIiORbdediSsbSmj7mnmCxB59wTJC4M8fcFyRubW1tkLifrvo0SFyAJSsWB4k7aN2dg8T992sPBIkLsGmPMKt/7bDOjkHivr2s6JzMmei5Vq8wcTuHifvu8neCxAVYVb8ySNxt1t42SNw5i2YEiQvQt1uYv5FQ70MLPloQJC7AkPX3CRa7I1IyJiIiIvmm0ZQiIiIiZVTduZhGU4qIiIiUkypjIiIikm8aTVl2w4AVwFNlPg8REREphyrvM5ZVM2WYYXSWLA4DNGxDREREqlJrkrF+wAvAbcDzwDigO7AA+B0wFTgOOAmYBcz2+2OfAFdiC24/Cmzg928DPAhMAR4HBvr9o4HrgWeBscAZwI+wdSP3A14BOvtj1y64XuhbwGRgBnCXP+/4sZ/x5/trf46xH/v7zKT4+pUiIiLSnlyGWw61tjI2ALgW2A74CPiu3/8BsCswCUvADgQGA7sDR/tjemALc+8APAb80u8fBZwF7Aac4+PHNsOqYV/BErMrfdzHgYnAEf64E4G7gaYmwrnbn8vOWCL5Db//T37bEXgjcfyhQH9gD/94u6GFw0VERMrLuey2HGptMvY68KS/fCsw1F8e43/ujiVJ7wGrsCpanMTUJ46L79sTS7buxCpefwGSs+ndCaxu4lxuAE73l08HbmrmvAdhCdws4BQsIQTY2z8GwD8Sxx/qt2lYxW8glpyJiIiIBNHaZCxq4nopU6NH/nEXY9WneNsucUxzcZ/Emk6HYX3VZjdz7Gjge1gF7CKgawvn5oBLEuf0OeBvaxzk3EjnXJ1zrm7czeFm4BcRERHUTOltgVWTAE4Gnii4/Tng88D6WIJ0EtYkGT/G8IL7foT19TrO73dYU2IxHwOFa4jcglW0mquK4e+3EOtTdkpi/zPAsf7yiYn9DwFfxyp3AJsCGxYGjaJoVBRFQ6IoGjL8tDBLFomIiIhX47Lbcqi1ydg84Eys39U6wHUFty8EzgUmYJ3lpwDxAoifYn2wZmN9yi72+0/B+nDNwDr3H9XEY/8TOIaGDvxgzaDrALe3cN6/wAYCPIkNQoj9EDgb66T/OWCJ3/8wluQ9jTVtjmPNRFBERETaU5VXxlo7z9gq4NSCff0Krt9O08nR2UX2vQIcVmT/iILrLwI7FewbiiVKi5t4vNh1rJk4ArwJ7IU1mZ6IDVCIxZ37RURERIKrhElfC10NHA58MUWM3YA/YznyYqxpUkRERPIop6Mgs9KaZGwBNiqxVD1bPqRNziqy7xpg34J9f6LpPmWP03QfNREREcmTKl9JuxIrY8WcWe4TEBERESlFtSRjIiIiUq3UTCkiIiJSRtWdiykZS6tLTZdgsWeOua/lg0qw0wlNzSKSzrd+Nrzlg0pwwoBDg8QF2HG9wUHiPr7wsZYPKsEeG+4eJC7Aqx+/GiTu0tVLg8Ttv/bAlg8q0W0v3Rok7mkDTm/5oBJMePO/QeIC7NV3ryBx5yyaESTu0lVhft8AFi59M0jciW8+FSTuydseHySuZE/JmIiIiOSbmilFREREyqjKR1NW+dMTERERyTdVxkRERCTf1EwpIiIiUkbVnYu1WzNlP2yh8Pa+r4iIiEiuVXJlrBO2gLmIiIhUs5rqLo21Zwf+TsBtwPPAOKA7tmD3Y8AU4CFgY3/sbsAMvyWXOhoBjAf+CzwKrAvcC8wEngF28sc1tf9C4GZsbcpXga8AlwGzgAeBzv64S4G5/v5XpHvaIiIikopz2W051J7J2ADgWmA74CMsyboaGI4lXzcCv/HH3oQtCF5sMe9d/X0+D1wETMOSrZ8Dt/hjmtoPsA1wIPBl4FZgArAjsAw4AlgPOAbYwd//12metIiIiEhz2jMZex140l++FfgCMAh4BJgOnA9sBvTx2yR/7N8L4jwCfOgvD03c/l8skVq7mf0A/wZWYtWwWqwihr/eD1gCLAf+hlXO1pjO2Tk30jlX55yrGzt6XGueu4iIiJTKZbjlUHv2GYsKrn8MzAH2Ltjfp4U4n6Y8j8/8z3osKYsS1+N+aHsAB2EVuO9hlbT/L4qiUcAogOcXzyh8XiIiIpIhl9Pmxay0Z2VsCxoSr5OxvlwbJPZ1xpoGF/ttqN9/SjMxH0/cPgx4H2sCbWp/a/QEegMPAD+ieFOpiIiISCbaszI2D+sndiPWOf5qrNP+VVjy0wn4I1YtO90fFwEPNxPzQn/cTKw58bQW9rdGL+A+oCtW0Dy7DfcVERGRjFV7Zay9krEFwMAi+6cD+xfZP4XGFamf+J+j/Rb7EDi6yP2b2n9hwfWeTdy2R5H7ioiISBlUeS6mtSlFREREyqmSJ30VERGRDqCmyktjSsZEREQk16q9z5iaKUVERETKSJWxlDq5cC9hbW1tkLjf+tnwIHH/ekmYCXC7nB/mdQDYtk+xcSXprVy9Ikjcae9PCxIX4P1li4LE3bvvvkHivrf8nSBxAXp16REk7qr6lUHifrpyjbmpM/PRytbOCtQ27y9/P0jcd5eFiQvQr9cWQeIevuXBQeK+v/y9IHEBNu+xdbDYxVR7ZUzJmIiIiORatSdjaqYUERER8Zxzhznn5jnnXnbOnVvk9i2ccxOcc9OcczOdc19M+5hKxkRERCTXnMtua/5xXC1wDXA4sD1wknNu+4LDzgfGRlG0C3AicG3a56dmShEREcm1dmym3AN4OYqi+f5x7wCOwlYOikXA2v5yb+CttA+qypiIiIh0GM65kc65usQ2MnHzpsDrietv+H1JFwKnOufewNaxPivtOYVKxvoBs9tw/Ahgk8T1BcD62Z2OiIiIVCrnXGZbFEWjoigakthGtfF0TgJGR1G0GfBF4O/OuVT5VF4qYyNonIy1hppYRUREOgCX4b8WvAlsnri+md+X9A1gLEAURU8DXUlZQAqZjHUCbgOeB8YB3YELgMlY1WwU4IDhwBB/7HSgm7//WcBUYBYNi4xfCPwdeNL/7Af8F5gJPArEk8A0tX80cB3wDDAfGAbc6M9xtD+m1l+e7R/7RyW/AiIiIlJJJgP9nXNbOee6YB30xxcc8xpwEIBzbjssGUs1qVvIZGwANsJgO+Aj4LvAn4HdgUFY0nUklqjVAacAg4Fl/v7vA7tiydM5ibjbAwdjZcKrgZuBnbBk7ip/TFP7AdYB9saSrPHAlcAOwI7+8Qdj7cOD/L6bUrwGIiIiklKWzZTNiaJoFfA94CGsUDM2iqI5zrmLnXNf9of9H/At59wM4HZgRBRFUZrnFzIZex2rYAHcCgwFDgCexSpOB2JJUFPu9j+nYJWu2HgaEra9gX/4y3/3j9HcfoB/YiMhZgHv+J/1wBz/OPOBrbGE7jAskWwk2fnvjtF3NvMUREREJK32mtoCIIqiB6Io2jaKom2iKPqN33dBFEXj/eW5URTtG0XRzlEUDY6i6OG0zy9kv6vCLDHCKmVDsETtQqy015TP/M/VND7PT1OeVxy3PnE5vt4JWATsDHwBOAM4Hvh6MoDv7DcK4KUlc1JlwyIiItKxhayMbYFVqABOBp7wl98HemJ9xWIfA71KeIynsPZcsGbOx1vY3xrrY6/LXdjEbruWcF4iIiKSkRrnMtvyKGRlbB5wJtZBfi7W92sdrGP821gnudho4Hqs+XFvWu8srE/Xj7HOc6e3sL81NvX3jRPVn7XhviIiIpKxal+bMlQytoCGEZBJ5/ut0F1+i/VLXK7DRj2CNW0mvYr1PSvU1P4RBec4qInbVA0TERGRdqG5ukRERCTXVBkTERERKaMqz8VyMwO/iIiISIekypiIiIjkmpoppVmro9XBYn+6Ku2UasWdMODQIHG7nF8bJO41vx4TJC7A98e1ZaBt62219lZB4k568+kgcQGGbrJnkLirolVB4r63/J0gcQH6dOkdJO5bS18PEneD7qmWxWvWe8tSrfLSpC16bhkk7tZrbxMkLsDsD2cHidu/d7HxbunVvfdckLgAu6wX5v2iKdWejKmZUkRERKSMVBkTERGRXKv2ypiSMREREcm1ak/G1EwpIiIiUkaqjImIiEiuVXlhLJPK2Cf+5ybAuBaO/TJwbgaPKSIiIh2Ecy6zLY+yrIy9BQxv4ZjxfstCLRBuXgkRERGRdpBln7F+QDwJyzPADonbJgJDsMW4/+z3jQauAp4C5tOQyNUA1wIvAI8ADyRuWwD8DpgKHAecBMzyj/u7xOM1tf8T4HJgDvAfYA9/bvOxqh3+vJ8DpgMzgf6tefIiIiISRrVXxkJ14B8DHO8vb+y3uiLHbQwMBY4ELvX7voIldtsDXwX2LrjPB8CuwCQs0ToQGAzsDhyNNZcW2w/QA/gvlnB9DPwaOAQ4BrjYH3MG8Cd/3yHAG6190iIiIpK9Gucy2/IoVDI2loZq1vE03ZfsXqAemAv09fuGAnf6/W8DEwruE0/HvjtW1XoPWAXcBuzfzH6AFcCD/vIs4DFgpb/cz+9/Gvg58FNgS2BZ4Uk750Y65+qcc3VjR7fUTU5ERETScC67LY9CjaZ8E6tg7QScgFWbivkscbm1L1GaNYJWApG/XJ94/HoaXot/AM8CR2BNpN/Gqmn/XxRFo4BRAC8snhkhIiIiUqKQ84yNAX4C9Mb6XrXWk8Cx2Ln1BYY1cdxzwOeB9bHO/Cdhla6m9rfW1lgfsquA+7CEUkRERMqk2vuMhZxnbBzW9+pXbbzfXcBBWNPl61hn/SVFjluITZMxAauq/QtLnmhmf2scj/VVW4k1k/62jecvIiIiGXKtbjyrTFkkYz39zwXAoMT+d4rEH+03sJGVxeLUA+dgIx/Xwypds/xt/Qruc7vfCjW1v2fi8oVN3HYpDYMJRERERILK6wz89wN9gC5YZe3tsp6NiIiIlE1emxezktdkbFi5T0BERETyodqTMS0ULiIiIlJGea2MiYiIiAD5nR8sK0rGUooIN83YkhWLg8Tdcb3BQeJu22dgkLjfH3d6kLgAA4YfFiTunDvvDxL385vtEyQuQI2rDRJ3xgdTg8Rd8lmxQdbZ2LNvmNf5+UWzWz6oBPtuNDRIXICFS98KErfPWusEibts1RrzdGdmi56bB4n72erlQeKus1afIHHLQc2UIiIiIhKMKmMiIiKSa9VeGVMyJiIiIrlW7cmYmilFREREykiVMREREcm1Ki+M5bYy1g8oHHY0BFu8G2xS2JaGOxWLISIiIhVGC4XnR53fwJKxT4CnynY2IiIiIhnIa2UsaWtgGvBjbM3KfsAZwI+A6cB+QF/gHmCG3+KqWS3wV2AO8DDQze/fBngQmAI8DsQTZI3Gqm9PAfOB4YGek4iIiLRStVfG8p6MDQDuAkYAk/2+BcD1wJXAYCyZugp4DNgZ2BVLvgD6A9cAOwCLgWP9/lHAWcBuwDnAtYnH3BgYChwJXJrx8xEREZE2UjJWPhsA9wGnYNWu5hwIXOcvrwbiqblfwapnYFWwfkBPrHJ2p7/tL1gCFrsXqAfmYhW3NTjnRjrn6pxzdWNHj2vl0xERERFZU577jC0BXsOqVHNLjPFZ4vJqrJmyBquSDW7FfYqm0FEUjcKqazy/eEa49ZBEREREoynLaAVwDPA14OSC2z4GeiWuPwp8x1+uBXo3E/cjrGJ2nL/usOZNERERySE1U5bXp1jfrR8Bayf2/xNL1KZjHfh/ABwAzMKaI7dvIe4pwDew5s85wFFZnrSIiIhIa+W1mXIBMMhfXgzs7i+P9z9fBHYquE+xhGpQ4vIVicuvAIcVOX5EwfWezZ+miIiIhJbXilZW8pqMiYiIiADVn4zlvZlSREREpKqpMiYiIiK5VuWFMSVjIiIikm/V3kypZCylFfUrgsUetG6YGTceX/hYkLgrV4d5LbZae6sgcQHm3Hl/kLg7HHdkkLi3X/ebIHEBPlm5NEjcgetsGyTuht03DBIXYMp7k1s+qARb9NoiSNx7598bJC7ArhsODhL35SUvBonbo3O4cVdLVixp+aASfLLy0yBxu9auFSSuZE/JmIiIiOSbKmMiIiIi5VPtzZQaTSkiIiJSRqqMiYiISK5VeWFMyZiIiIjkm5opRURERDoI59xhzrl5zrmXnXPnNnHM8c65uc65Oc65f6R9zGqtjHUCVpX7JERERCS99qqMOedqgWuAQ4A3gMnOufFRFM1NHNMf+BmwbxRFi5xzqefZyXsy9gvgVOA94HVgCrAEGAl0AV4GvgosBUYDy4FdgCeBO4A/AV2BZcDpwDyguz92kL++CXAmUAccClwErAX8z9/nk8DPUURERJrRjs2UewAvR1E03z/uHcBRwNzEMd8CromiaBFAFEXvpn3QPDdT7g4cC+wMHA4M8fvv9rftDDwPfCNxn82AfYCzgReA/bDk7ALgt/6Y7wKLgO2xZG83v3994HzgYGBXLDk7O/unJSIiIuXinBvpnKtLbCMTN2+KFX9ib/h9SdsC2zrnnnTOPeOcOyztOeW5MrYvcB9W7VoO/NPvHwT8GugD9AQeStznTmC1v9wbuBnoD0RAZ79/KFYxA5gNzPSX98IStCf99S7A08VOzP/HjQQ4/w8/Y/hpx5Tw9ERERKQ1siyMRVE0ChiVIkQnLLcYhhWBJjnndoyiaHGagJVmNHA0MAMYgb0YseSaEr8CJgDHAP2AiS3EdcAjwEktnUDyP3LGh5Ojlk9ZREREStWOzZRvApsnrm/m9yW9ATwbRdFK4BXn3ItYclbyOmp5bqZ8EvgS1uerJxAv9tcLWIhVuk5p5v69aXgBRxTEPd5f3h7Y0V9+BqvGfc5f74GVIkVERKRjmAz0d85t5ZzrApwIjC845l58Icg5tz6WK8xP86B5TsYmYy/ATODfwCys8/4vgGexpOqFZu5/GXAJMI3GFcBrgQ2wzni/Bub4uO9hSdvt/jGfBgZm9WRERESkNM65zLbmRFG0Cvge1gXqeWBsFEVznHMXO+e+7A97CPjAOTcXa4H7cRRFH6R5fnlvprwCuBAbATkJG005FbiuyLEjCq4/TePK1vn+53JshOZyYBvgP8Cr/rb/YoMDREREJCfac9LXKIoeAB4o2HdB4nKEDfDLbJBf3pOxUVhTYlesM/7UDGJ2xzLZzlg/se8CKzKIKyIiItJmeU/GTg4Q82MapskQERGRnKv25ZDynoyJiIhIB1fluViuO/CLiIiIVD1VxlJaWb8yWOx/v/ZAyweVYI8Nw4xRmPb+tCBxJ71ZdO7dTHx+s32CxL39ut8EiXvSd84LEhfgkt+dGSTuJpttFiRu3bslT+nTok16bBwkriPM1/tNe24SJC7Ah8sXBYm7x4Z7B4k744MsuhYXt+izxUHi7rL+rkHijnnpriBxAfbuOyxY7GLUTCkiIiJSRtWejKmZUkRERKSMVBkTERGRXKv2ypiSMREREcm1Ks/F1EwpIiIiUk5ZVsYuBD7BljBKOgNYCtyS4WOJiIhIB6FmyvTxr88w1qoMjhEREZFKUuXJWNpmyvOAF4EngAF+30Tgj0Ad8AOsYnYOMBB4LnHffsAsf3k34DFsIfCHgHiSn8JYxYzGEr5ngcuAwcAzwEzgHmAdf1xT+ycCV/rHeB5bKPxu4CXg1809eREREQnPOZfZlkdpkrHdgBOxJOeLWBIT64Kt//j7xL4X/P6t/PUTgDHYgt1XA8N9zBuB5IyZxWIV2gzYB1tB/Rbgp8BOWLL3S39MU/vBFgofgiV19wFnAoOAEcB6zTyuiIiISCppkrH9sArTUuAjYHzitjFN3GcsloRBQzI2AEt8HgGmA+djyVVLsZLuBFYDvYE+WJUN4GZg/2b2x+JznwXMARYCnwHzgc0LH8w5N9I5V+ecq7v7lvtacXoiIiJSqhqX3ZZHofqMfdrE/jFY4nQ3EGFNgTtiCVBTa2M0FautxzTnM/+zPnE5vr7GaxRF0ShgFEDd+09FKR9bREREmpHX5sWspKmMTQKOBroBvYAvteI+/8MqWL+goeI1D9iAhmSsM7BDiee0BFiEVe0AvopVw5raLyIiIlJWaSpjU7GEagbwLtDaVXvHAJfT0HdsBdZf7CqsObET1ml/TonndRrW96s71sx4egv7RUREJMdqqrwylraZ8jc07mwPa84zdmGR2wuPmU7jPlyxYa04hxFFYu1V5Lim9icfY6Lf2vL4IiIiEpCaKUVEREQkmEpam/I84LiCfXeyZmVOREREqki1V44qKRkr1iQqIiIiVa7a+4xVe7IpIiIikmuVVBnLpd6deweLvWmPjVs+qASvfvxqkLjvL1sUJO7QTfYMEhegxtUGifvJyqVB4l7yuzODxAX42U+vCRL3kNuHBYm7dFWY1xigPqoPErdvtzB/0+8ueydIXIBenXsFibt4xYdB4s798IUgcQEGrtM/SNxV9SuDxN2m9xpzllesau/Ar2RMREREck3NlCIiIiISjCpjIiIikmtqphQREREpo2pvxqv25yciIiKSa3lKxoZg61MWswBYv/1ORURERPKixrnMtjzKUzNlnd/ScH4LMy5dRERE2l219xnLujLWD3gBGA28CNwGHAw8CbwE7OG3p4FpwFPAAH/fYcD9/vJ6wMPAHOAGLMFq7jHnAbcAs4HNgcv95VnACf4418T+YcBjwH3AfOBS4BTgOX/cNq1/+iIiIiJtE6KZ8nPA74GBfjsZGAqcA/wcS9b2A3YBLgB+WyTGL4EngB2Ae4AtWnjM/sC1/vghwGBgZywRvBzYGPhKE/vx+84AtgO+CmyLJY03AGe19omLiIhI9qq9mTJEMvYKVlGqxypbjwKR39cP6I0t8D0buBJLoArtD9zqL/8LaGlq91eBZ/zlocDtwGrgHazqtXsz+wEmAwuBz4D/YVU5EufciHNupHOuzjlXd8foO1s4NREREUnDZbjlUYg+Y58lLtcnrtf7x/sVMAE4Bkt0JmbwmJ+mvH9L59xIFEWjgFEALy2ZE6V8bBEREenAyjGasjfwpr88ooljJmHNmwCHA+u0If7jWH+wWmADrMr2XDP7RUREJMeqvZmyHKMpLwNuBs7HmiCLuQhrUpyDdfJ/rQ3x7wH2BmZgzaM/Ad5uZv/ANj8DERERaTd5TaKyknUytgAYlLg+oonbtk3sP9//nEhDk+UHwKElPmYE/NhvtGJ/8nHBRlc2dZuIiIhIpvI0z5iIiIjIGqp9nrFKSsbWw0ZmFjoIq6SJiIhIFVIzZX58gM0TJiIiIlI1KikZExERkQ6ouutiSsZEREQk59RMKc1aFa0KFnuHdXYMEnfp6qVB4u7dd98gcUO+xjM+mBok7sB1tm35oBJsstlmQeICHHL7sCBxh5x0XJC4l172vSBxAfbdKMzv8piXxwaJu89GewSJC9C9c48gcXt06hkk7tFbHxUkLsCCj+cHibuifkWQuKH+7yR7SsZEREQk11QZExERESmjap/aohzLIYmIiIiIp8qYiIiI5Fq1N1O2d2Xs+8DzwG0ZxLoYOLiZ20cDw1PEvxA4J8X9RUREJAMuwy2P2rsy9l0sgXqjFcfGr1t9E7dfkNVJiYiIiJRLe1bGrge2Bv4NLKFx1Wk20M9v84Bb/L79sEraX4E5wMNAN3+f0TRUvi4F5gIzgSsScfcHngLm07hK9mNgsj/+osT+84AXgSeAASU9SxEREclUjXOZbXnUnpWxM4DDgAOA5iYI6g+cBjyDJWf9gZOAbwFjgWOBWxPHrwccAwwEIqBP4raNgaH+tvHAOOBQH3MPrPI2HkvaPgVOxJZc6gRMBaaU8kRFREQkO3lNorKSx9GUr2KJWOwVYLq/PAVL0JKWAMuBvwFfAZIzmt6LNXPOBfr6fYf6bRqWcA3EkrP9gHv8/T/CkrSinHMjnXN1zrm6saPHteW5iYiIiDRSrmRsVcFjd01c/rTg2M8Sl1ezZjVvFVblGgccCTzYxH1d4uclWAVsMPA5LJFrtSiKRkVRNCSKoiHHj0gzRkBERERa4pzLbGvFYx3mnJvnnHvZOXduM8cd65yLnHND0j6/ciVjC4Bd/eVdga1SxOoJ9AYeAH4E7NzC8Q8BX/f3A9gU2BCYBByN9UnrBXwpxTmJiIhIRmoy3JrjnKsFrgEOB7YHTnLObV/kuF7AD4BnUz41oHzzjN0FfA3rlP8s1mm+VL2A+7DqmgPObuH4h4HtgKf99U+AU7EmyzHADOBdrIO/iIiIdBx7AC9HUTQfwDl3B3AU1t0p6VfA77ABgam1dzLWL3H50CaOGZS4vKDgenKk5IjE5WKr5I4ouJ5clfZPfiv0G7+JiIhITmS5HJJzbiQwMrFrVBRFo/zlTYHXE7e9AexZcP9dgc2jKPqXc64ikzERERGRNslyNKVPvEa1eGARzrka4A+sWfBJJY+jKUVERETK4U1g88T1zfy+WC+sxW6ic24BsBcwPm0nflXGREREJNfacZ6xyUB/59xWWBJ2InByfGMURUuA9ePrzrmJwDlRFNWleVAlYyIiIpJrWfYZa04URaucc9/DZl6oBW6MomiOc+5ioC6KoibnIE1DyZiIiIiIF0XRA9h0Wcl9RdfDjqJoWBaPqWQspdXR6mCx3162MEjc/msPDBL3veXvVFRcgCWfLQkSd8PuGwaJW/duuBlXlq5a2vJBJbj0suZWPyvduT/5c5C4AIfcMSxI3B6du7V8UAnW7xbm9w1g3uIXgsTt7DoHifvaJ68GiQvQq0uvIHG37b3GNFaZeOzNJ4LELYcaqns5JCVjIiIikmvt1UxZLhpNKSIiIlJGqoyJiIhIrrXjaMqyUDImIiIiuebUZ0xERESkfNRnTERERESC6ejJ2L3AFGAODYuGHgZMBWYAj5bntERERCRW41xmWx519GbKrwMfAt2wJRDuA/4K7A+8AqxbvlMTERERAFfltaPqfnYt+z5WAXsGWxh0JDAJS8TAErU1OOdGOufqnHN1d46+u11OVERERKpTR66MDQMOBvYGlgITgelAi9PTR1E0ChgFMHvR1CjUCYqIiIimtqhmvYFFWCI2ENgL6Io1UW5FQzNl0eqYiIiItI9qH03ZkZOxB4EzgOeBeVhT5XtYU+XdWBPuu8Ah5TpBERERqX4dORn7DDi8idv+3Z4nIiIiIk3TpK8iIiIiZVTtfcY6+mhKERERkbJSZUxERERyTR34RURERMqopsob8qr72YmIiIjknCpjKXVy4V7Cnmv1ChL3tpduDRK3V5ceQeL26dI7SFyAPfvuEyTulPcmB4m7SY+Ng8QFqI/qg8Tdd6N9g8Q95I5hQeIC7Hbi8CBxX7lnQpC4k999LkhcgI269w0S9+1lC4PE3ah7uL+RhUvfChL3lnmjg8Q9dIuDgsQtBzVTioiIiJRRtSdjaqYUERERKSNVxkRERCTXajTpq4iIiEj5qJmyY7scmON/ioiIiGSuI1XGnN/aMmRsJLAusDrIGYmIiEiLtBxSZesHzANuAWYDf/M/ZwEn+GMcVvkq3D8e6AlMSewTERGRduYy/JdHHaEy1h84DdgUOAPYGVgfmAxMAvYBBhfZ/2XgE3+biIiISBDVXhkDeBV4BhgK3I41Ob4DPAbs3sz+JjnnRjrn6pxzdWNHjwt46iIiIlLjajLb8qgjVMY+zTpgFEWjgFEALyyeGWUdX0RERBpoNGX1eBzr+1ULbADsDzzXzH4RERGR4DpCZSx2D7A3MAOIgJ8AbzezX0RERHIgrx3vs1LtydgCYJC/HAE/9ltSU/vBRlOKiIhIGWlqCxEREREJptorYyIiIlLh1EwpIiIiUkZqphQRERGRYFQZExERkVxzOZ2sNStKxlJatnpZsNg9O/cKEve0AacHibuqfmWQuG8tfT1IXIDnF80OEneLXlsEiRuy30TfbhsHiTvm5bFB4vbo3C1IXIBX7pkQJO5WxxwQJO6MMfcGiQsw4/0ZQeLutP5OQeJ+Vv9ZkLgAW/bsFyTu4PV2CxL3Hy/dHiQuwIAddwwWu5hq7zNW3ammiIiISM6pMiYiIiK5Vu0d+JWMiYiISK5pbUoRERERCUbJWPMmAkPKfRIiIiIdWQ0usy2P1EwpIiIiuaZmysrUD3gBuA14HhgHdAcOAqYBs4AbgbX88U3tFxEREQmqWpMxgAHAtcB2wEfA2cBo4ARgR6wq+B2gaxP7RUREJAecq8lsy6N8nlU2Xgee9JdvxapfrwAv+n03A/tjSVux/U1yzo10ztU55+ruuvnejE9bREREktRnrHJFBdcXA+tlEjiKRgGjAKZ98Gzh44iIiIi0WjVXxrYA9vaXTwbqsL5kn/P7vgo8BsxrYr+IiIjkgHMusy2PqjkZmweciXXgXwe4EjgduBPrqF8PXA8sb2K/iIiI5IDL8F8eVXMz5Srg1IJ9jwK7FDm2qf3DMj4nERERkUaqORkTERGRKpDX5sWsVGsz5QJgULlPQkRERNJrz9GUzrnDnHPznHMvO+fOLXL72c65uc65mc65R51zW6Z/fiIiIiKCc64WuAY4HNgeOMk5t33BYdOAIVEU7YRNKn9Z2sdVMiYiIiK51o6Tvu4BvBxF0fwoilYAdwBHJQ+IomhCFEVL/dVngM3SPj8lYyIiIpJrWY6mTE7c7reRiYfaFJs0PvaG39eUbwD/Tvv81IE/pVpXGyz2u8vfCRJ3wpv/DRL305VLWz6oBBt0Xz9IXIB9NxoaJO698+8NEnfTnpsEiQvw7rIwv2/7bLRHkLjrd9swSFyAye8+FyTujDH3Bom78wlHB4kLMPn2sUHiLvx0YZC4fdbqHSQuQK/uqQsgRT22cEKQuLtssGOQuJUuOXF7Gs65U4EhwOfTxlIyJiIiIrnWjqMp3wQ2T1zfzO8rPJ+DgfOAz0dR9FnaB1UyJiIiIrnWjpO1Tgb6O+e2wpKwE7FVfBrOxbldgL8Ah0VR9G4WD6pkTERERHKtvSpjURStcs59D3gIqAVujKJojnPuYqAuiqLxwOVAT+BOf16vRVH05TSPq2RMRERExIui6AHggYJ9FyQuH5z1Y5ZjNOX3sfUib0sZpx8FpcOMTcQ65omIiEgZteekr+VQjsrYd4GDseGiyfNY1cY4/bBk7B8ZnFMpjy8iIiLtQMshZet6YGtsTo4lwN+BJ/3PfsB/gZnYwt1b+PuMBq4CngLmA8P9/kuB/YDpwI+AScDgxGM9AeyMTeD2NDZj7lPAAH/7CGC8f8xHgW7Y5G7PA/f46yIiIiJBtXdl7AzgMOAA4HvAl4ChwDLgn8DNfvs6loAd7e+3sT9uIJZAjQPOBc4BjvTHfIglWD8EtgW6AjOAtbGkbRVWkfstcKy/z67ATv6+ZwNLge38vqkZPm8REREpkavyOerL/ezGY4kYwN40NDn+HUu+YvcC9cBcoG8Tse7EErPOWDI32u/v7W+bDVwJ7JC4zyNYIgawP3CrvzzTb0UlZ+8dd/PdTT45ERERSc85l9mWR+UeTflpK49LTqjW1Cu5FEuujgKOB3bz+38FTACOwZpCJ5bw+I0kZ++d+WFdVEoMERERESh/ZSzpKWxyNYBTgMdbOP5joFfBvhuw5s3JwCK/rzcNs+eOaCbeJBpGZw7CmipFRESkzLJcmzKP8pSMnQWcjjUPfhX4QQvHzwRWY/3CfuT3TQE+Am5KHHcZcAnWgb+5SuB12CRuzwMX+1giIiJSZjXOZbblUTmaKfv5nxcW7H8VOLDI8SMKrvf0P1cWOX4TLMF8OLHvaaxDf+x8/3M0Df3KwPqunYiIiIhIO8pTZSytrwHPYgt31pf5XERERCQj1d5MWe4O/Fm6xW8iIiJSRfI6CjIr1VQZExEREak41VQZExERkSpU7ZO+KhkTERGRXKv2ZkolYymF7Ay4qn5lkLh79d0rSNyPVn4UJO57y94LEhdg4dK3gsTddcPBQeJ+uHxRyweVqFfnwmn7stG9c48gcectfiFIXICNuje10Ec6M96fESTu5NvHBokLsPtJxweJO/fOfwWJu3z18iBxARYufbPlg0qw47o7Bon79DvPBIkLsN9GwUJ3SErGREREJNdqcjoKMitKxkRERCTXqr2Zsrp7xImIiIjknCpjIiIikmt5naw1K+1RGesHzG6Hx8lSPxoWDRcREZEycs5ltuWRmimL64eSMREREWkH7ZWMdQJuA54HxgHdgQuAyVjVbBT8/xrk94G5wEzgDr+vB3Aj8BwwDTjK7x8B3As8AiwAvgec7Y95BljXH7cN8CAwBXgcGOj3jwauAp4C5gPD/f5Lgf2A6cCP0jxxERERScdRk9mWR+11VgOAa4HtgI+A7wJ/BnYHBgHdgCP9secCuwA7AWf4fecB/wX2AA4ALscSNPz9v+Jj/QZY6u//NLZ4OFiydxawG3COP5fYxsBQ//iXJs7hcWAwcGWqZy4iIiKp1DiX2ZZH7ZWMvQ486S/fiiU/BwDPArOAA4Ed/O0zsSraqcAqv+9QLEGaDkwEugJb+NsmAB8D7wFLgH/6/bOw5saewD7Anf7+f8ESsNi9QD1WjWvVTI/OuZHOuTrnXN24m+9uzV1EREREimqv0ZRRkevXAkOwRO1CLMECOALYH/gSVhHbEWvCPBaYVxBnT+CzxPX6xPV67PnVAIuxKlcxyfu3KmWOomgUVm1j1odTCp+biIiIZEijKbOxBbC3v3wy8IS//D5WuYr7atUAm2PVrp8Cvf3tD2HNjPH/xi5teOyPgFeA4/x1B+zcwn0+BsKsDSMiIiJtotGU2ZgHnIl14F8HuA74K9Z5/yGsIz9ALdaMOQvrhH8VVtX6FdAZa8Kc46+3xSnAN4AZ/v5HNX84M4HV/nh14BcREZFg2qOZcgENoxeTzvdboaFF9i0Dvl1k/2i/xfo1cdsrwGFF7j+i4HpP/3Ml1o9NREREyqzamyk1A7+IiIjkWl6bF7OSzwk3RERERDoIVcZEREQk12qqvHakZExERERyTc2UIiIiIhKMKmMpdantEiz2NmtvGyTunEUzgsR9f/n7QeJu0XPLIHEB+qy1TpC4Ly95MUjcPTbcu+WDSrR4xYdB4vbo1LPlg0rQ2XUOEhfg7WULg8Tdaf2dgsRd+GmY8wWYe+e/gsTd/rgjgsR9+rbbgsQFWL/rhkHidqkJ8znyxS3CvMbloNGUIiIiImWkZkoRERERCUaVMREREck1NVOKiIiIlFG1J2OV2Ex5IXBOiff9JMPzEBEREUlNlTERERHJN3Xgz4XzgBeBJ4ABft9EYIi/vD62IDnY4t/3+dtfAn7ZRMwfA5OBmcBFft8xwKOAAzb2j7lRFk9ARERESuMy/JdHlVAZ2w04ERiMne9UYEoL99kDGAQsxRKufwF1idsPBfr74xwwHtgfuAc4FjgTOAxL5N7O5mmIiIiIrKkSKmP7YUnSUuAjLHFqySPAB8Ay4G5gaMHth/ptGpbcDcSSM4CzgJ8BnwG3FwvunBvpnKtzztWNGT2uTU9GRERE2sY5l9mWR5VQGWvKKhqSya4Ft0UtXHfAJcBfisTdDKgH+vr49YUHRFE0ChgFMG/JrMLYIiIikqG8Ni9mpRIqY5OAo4FuQC/gS37/AqwJE2B4wX0OAdb19zkaeLLg9oeArwPxOi2bAhtiyemNwEnA88DZmTwDERERkSZUQmVsKjAGmAG8i/UBA7gCGAuMxPqEJT0H3IVVuW6lcX8xgIeB7YCn/fVPgFOBM4DHsYECM2job/Z8Zs9GRERE2qTaK2OVkIwB/MZvhZKr7p6fuPwGVhErlFyx+E9+S7o4cfljrC+ZiIiIlFFe+3plpRKaKUVERESqVqVUxtpitN9ERESkCqiZUkRERKSMqj0ZUzOliIiISBmpMiYiIiK5Vu0d+JWMpbSqflWw2HMWzQgSd+mqpUHivrvs/SBxt157myBxAZatWhYkbo/OPVs+qAQzPpgaJC7A3A9fCBL36K2PChL3tU9eDRIXYKPuGweJ+1n9Z0Hi9lmrd5C4AMtXLw8S9+nbbgsSd+9TTgkSF2DOnfcHidulpkuQuPMWzw0SF2CDjcL8jTSlPZspnXOHYbMt1AI3RFF0acHtawG3YHOdfgCcEEXRgjSPqWZKERERybX2Wg7JOVcLXAMcDmwPnOSc277gsG8Ai6Io+hxwJfC7tM9PyZiIiIiI2QN4OYqi+VEUrQDuAArL+0cBN/vL44CDXMp2VCVjIiIikmsuy3/OjXTO1SW2kYmH2hR4PXH9Db+PYsdEUbQKWAKsl+b5qc+YiIiI5FqWfcaiKBoFjMosYAaqrTL2Q6B7K467AWsLFhEREYm9CWyeuL6Z31f0GOdcJ6A31pG/ZB01GfsmUGyYSW2mZyMiIiKptVcHfmAy0N85t5VzrgtwIjC+4JjxwGn+8nDgv1EURWmeXyUnYz2AfwEzgNnAL4FNgAl+A7gOqAPmABcl7jsRGOIvfwL83sfZG7gUS9RmAleEfAIiIiLSsiz7jDXH9wH7HvAQ8DwwNoqiOc65i51zX/aH/Q1Yzzn3MnA2cG7a51fJfcYOA94CjvDXewOnAwcA8YRX5wEfYhWvR4GdsCQrqQfwLPB/WAe8vwEDgQjoE+zsRUREJHeiKHoAeKBg3wWJy8uB47J8zEqujM0CDsHm99gPG81Q6HhgKjAN2IHi/cRWA3f5y0uA5VhC9hWg6OyoyZEYd46+q9ghIiIikpH2qoyVSyVXxl4EdgW+CPwaq3wlbQWcA+wOLAJGA12LxFmOJWQAq7A5Rg7C2oG/BxxYeIfkSIw5i6alaicWERGR5mk5pPzaBGuCvBVYjHXK/xjohTVTrg18ilW7+mKz6U5sIWZPbADAA8CTwPzsT1tERESkQSUnYzsClwP1wErgO1gH/AexvmQHYM2TL2CTsz3Zipi9gPuwCprDOuaJiIhIWakyllcP+S2pDrg6cX1EE/cdlricXNF5IdZMKSIiIjlR7c2UldyBX0RERKTiVXJlTERERDqAvI6CzIqSMREREcm1ak/G1EwpIiIiUkaqjImIiEiuVXsHfpdybcsOb+7i6cFewJ6degWJu3Bp4QL02Vi+enmQuO8v/yBIXIAtem4eJO6SFcUWhEhv0WeLg8QFWHetdYLE7dqp2FzL6XWu6RwkLsBHKz4KEnfLnv2CxO3VpXeQuBDu/aJX57WDxF1R/1mQuAA7HHdkkLiT/j46SNyutWH+9gB232Bou2ZHr37ycmaftVv2/FzuMjs1U4qIiIiUkZopRUREJNeqvQO/kjERERHJtWrvM6ZmShEREZEyynsytgBYP+OYP884noiIiATkMvyXR3lPxkJoazLm6Jivk4iISC445zLb8ihPScapwHPAdOAvQG0rbj8DuDxxzAjgz/7yvcAUYA4w0u+7FOjmY9zm950NzPbbD/2+fsA84Ba/P8z8ByIiItLh5SUZ2w44AdgXGAysBk5pxe13AcckjjsBuMNf/jqwGzAE+D6wHnAusMzHOMXffjqwJ7AX8C1gF3///sC1wA7Aq5k8SxEREWkzNVO2j4OwxGgyVrU6CNi6Fbe/B8zHEqn1gIHAk/4+3wdmAM9gla3+RR53KHAP8CnwCXA3sJ+/7VV/3zU450Y65+qcc3VjR9/V1ucqIiIibeIy3PInL1NbOOBm4GcF+0e0cDtYJex44AUssYqAYcDBwN7AUmAi0NapiD9t6oYoikYBoyDsDPwiIiJS/fJSGXsUGA5s6K+vC2zZytvvAY4CTqKhibI3sAhLxAZilbPYSiBeR+Vx4GigO9ADa/J8PIPnIyIiIhmp7rpYfipjc4HzgYexBHElcGYrbn8VS7qeB7bHOvgDPIh17n8e64ifbG4cBcwEpmL9xkYn7ncDMA3rwC8iIiI5kNdRkFnJSzIGMMZvSf1auD1WuHrrZ8DhTRz7U7/F/uC3pAXAoCbuLyIiIpKZPCVjIiIiIkWoMiYiIiJSNtWdiuWnA7+IiIhIh6TKmIiIiORcddfGlIyJiIhIrmk0pTSrPqoPFnvJisVB4k5886kgcQ/f8uAgcfv3HhgkLsBnq5cHifvJyibnDE5ll/V3DRIXYFX9yiBxV9SvCBJ3297bB4kLcMu80UHiDl5vtyBxH1s4IUhcgB3X3TFI3C41XSoqLsCkv48OEnf/r44IEnfBPRODxJXsqc+YiIiISBmpMiYiIiK5ltcFvrOiypiIiIhIGakyJiIiIrmmylhY38fWj1wEnJtRzGHA/RnFEhEREQmq3JWx7wIHA280cXsnYFX7nY6IiIhI+ypnZex6YGvg38CPgD/7/aP9bc8ClwHbAA8CU4DHgYEFx9UBL7LmYuEAewBPA9OAp4ABfn8tcAUwG5gJnOX37wY85h/rIWDjlM9RREREUnLOZbblUTkrY2cAhwEHsGYitRmwD7AaeNQf+xKwJ3AtcKA/rh+WcG0DTAA+VxDnBWA/rLp2MPBb4FhgpL/vYH/bukBn4GrgKOA94ATgN8DX0z5RERERkaaUu5myKXdiiVhPLCm7M3HbWonLY4F6LFGbT0PVLNYbuBnoD0RYwgWWmF1PQxPoh8Agvz3i99UCC4udnHNuJJbQccEfzuO4EV9p05MTERERieU1GYunL68BFmMVrGKiFq7/CquYHYNVwiY285gOmAPs3dLJRVE0ChgFMHvR1MLHFBERkQxpNGV5fQS8Ahznrztg58Ttx2HPYRus/9m8gvv3Bt70l0ck9j8CfJuGZHRdf98NaEjGOgM7pH0CIiIikpbLcMufvCdjAKcA3wBmYJWroxK3vQY8hw0COAMoXGjwMuASrAN/sgp4g7/vTB/3ZGAFMBz4nd83HWsiFREREQmm3M2U/fzP0X6DxhUssMrYYU3c/z9YEpY0kYbmyKeBbRO3ne9/rgLO9lvSdGD/pk9XRERE2ls+61nZKXcyJiIiItKsvE5JkZVKTsZGlPsERERERNKq5GRMREREOgRVxkRERETKprpTMSVjIiIiknvVnY65KNKcpWnUvf9UsBdwwUcLgsTds+9eQeK+v/y9IHFf/+T1IHEB1lmrT5C4nVyY7zn/feOJIHEBtum9eZC43Tv3CBL31Y/eCBIX4NAtDgoS96HX/hMk7i4b7BgkLsD8QO9DX9ziiCBx5y2eGyQuwFq1a7V8UAk27LZRkLj9jhkWJC5A9Mgb7ZodLVnxYWaftb27rJu7zE6VMREREcm1ah9NWQmTvoqIiIhULSVjIiIiImWkZkoRERHJNS0UXl0uBg4u90mIiIhIW+RjoXDn3LrOuUeccy/5n+sUOWawc+5p59wc59xM59wJLcXtSMlYLXABtp6liIiISFudCzwaRVF/4FF/vdBS4GtRFO2Ara39R+dcn+aCVksy1g94AbgNeB4YB3QHFgC/A6YCx2GLkQ/399kdeAqYATwH9MIStsuBycBM4Nvtc/oiIiLSlHzUxQA4CrjZX74ZOLrwgCiKXoyi6CV/+S3gXWCD5oJWU5+xAcA3gCeBG4Hv+v0fALv6y4f5n12AMcAJWOK1NrDM338Jlqit5WM9DLwS/vRFRESkmCyntnDOjQRGJnaNiqJoVCvv3jeKooX+8ttA3xYeaw8s5/hfc8dVS2UM4HUseQK4FRjqL48pcuwAYCGWiAF8BKwCDgW+BkwHngXWA/oX3tk5N9I5V+ecq7v7lvuyOn8REREJLIqiUVEUDUlsjRIx59x/nHOzi2xHFcSJgCYno3XObQz8HTg9iqL65s6pmipjhS9IfP3TNsRwwFnAQ80+kP3HjYKwM/CLiIgItOdySFEUNTnQzzn3jnNu4yiKFvpk690mjlsb+BdwXhRFz7T0mNVUGdsC2NtfPhlobt2YecDGWHMkWH+xTlgS9h2gs9+/LRBmLRcRERFplRz1GRsPnOYvnwas0TzmnOsC3APcEkXRuNYEraZkbB5wJtaBfx3gumaOXYH1F7sa68D/CNAVuAGYi3X4nw38heqqHoqIiEjpLgUOcc69hE2VdSmAc26Ic+4Gf8zxwP7ACOfcdL8Nbi5oNSUaq4BTC/b1K7g+InF5MlBsxeyf+01ERERyIR+TvkZR9AFwUJH9dcA3/eVbsb7rrVZNyZiIiIhUIS0UXhkWAIPKfRIiIiIibVUtyZiIiIhIRVIzpYiIiOSaFgoXERERkXCiKNLWThswstJiV1rcSjxnvRZ6LfRaVFfcSjznkK+FtpY3Vcba18iWD8ld7EqLGzJ2pcUNGbvS4oaMXWlxQ8ZW3PCxKy2utIKSMREREZEyUjImIiIiUkZKxtrXqJYPyV3sSosbMnalxQ0Zu9LihoxdaXFDxlbc8LErLa60gvMd90RERESkDFQZExERESkjJWMiIiIiZaRkTERERKSMlIyJiLTe7/zP48p6Fvnyg1bua6sNi+wbkEHcEByweblPQiqXOvCH1xf4LbAJcDiwPbA38LcMYg8F+gM3ARsAPYFXMoh7GfBrYBnwILAT8CPg1pRxf4Cd68fADcAuwLnAwynjAmwDvAF8BgzDzvkWYHEGsUPoDvwfsAXwLez/cQBwf0bx18E+HJLrz05NGXMr4CygX0HcL5cY7+wWbv9DiXFjj2BJ02J/fR3gDuALKWLOwn63pgC7pjm5Ai3FKvX/LlTcwhiFjzMN+/tOYx7wC2Csv/5/wDew99A0Qr2/zQJ2TBmjmJCfIQBbYu8//wG6YX/bH2cUW1pJyVh4/8YSkPOAnbFf9Gmk/6P9JTAE+wDfFvtDvRPYN2VcgOnAYOAY4EjsQ3MSdv5pzPAxvgB8G3uj/TvZfKhNx16PfsADwH3ADsAXU8b9ClYN2RD79uuACFg7Zdwx2Af614BBWHL2FPa6p/UrYATwP+xc8T8PTBl3BvYBMAuoT+x/rMR4v/Q/BwC7A+P99S8BzwGnlhg3ViwhSJskXI4lzz2BpTT8PqT9vZjQzG1p/u/iuF2xv48Z2LnuBNRhH+qlOgk4GftS+Hhify/s9+OgFLEBNsamW1iOJSTPYwnZJynjTifM+9vNwJ+BySnjFAr1GQL2uzwSWBf7QtsfuJ70/3fSRp1aPkRSWh/7Zvczf30VsDqDuMdgHyrxN9u3sDfBLMS/F0dgCd6SjOI6//OLWBI2J7EvrXrstT0GuNpv0zKIexmWHDyfQaykbYATsA80aPhgz8LxPv6KjOLFlgNXZRjvIv9zEpaQx9/GLwT+lUH8eqzy+Jq/3o+G5LRUP/bbfcBRKWMlHZBhrGJx78Ze41n++iDsdU7jKWAh9h73+8T+j4GZKWPjYz+IvXfWY1X0tIkYQGf/M+v3tz2BU4BXgU9pSNB3Shk31GcIwJnAHsCz/vpLFG8elsCUjIX3KbAeDR8Ce5HNH/8KHzOO2yODmLH7gRewMv53sCbQ5RnEnYI1SW6FvbHE36CzsBJLbE7DkidoeNNN4x2yT8TA/v+60fD/tw3WxJqF2UAf4N2M4sX+hFWzHqbxuaZt6upL48Rxhd+X1nnAE1jlzgH7kd36e0dh57i7v/4s8F4GcTtjf3P7++sTgb9gv99pDKAhEQP7HdkuZcxX/Zamutac/2BfMgdhTe5/wxL3c1LGHU+Y97c0zd/NCfUZAvZ3nPzb60T6LyxSAjVThrcbVk0YhL0BboD1Y5mRMu45WEn5EOAS4OvAP7CKUBbWxf7gV2NNaGsDb6eMWYM1D8zH+vGsB2xKNt+itwfOAJ4GbscSvuNp6HBdqj8BGwH30jgBuTtl3EOA87HzfhhrXh6BffimNQSr3Mym8TmX2rcrdgnwVaz5M06is2j+PA/7v7rHXz8aqwT8NmVcsG/5I7EqaTcsQZ2UQdzjgCuw/6840fsxMC5l3BuwhOxmf/2r2N/gN1PGvQOrKsX9ok7BmlpPavIerReqKf9o7O8uVgv8HGuGL1UNlsy8QMP7Ww/si2Ha9zewZsT9/OXHSf8+D1bRvJrGnyHDyeZ98zLsvfhrWH/Q7wJzsb9JaUdKxtpHJ+ybqcM6pab9lhs7BDjUx30I67CchVqshN+PxtXTtB2qwUr2hXHTJjYh3VRkX4Qlv2mth30wOOAZ4P0MYoI1//6F7Pp2xV7Gksesmz/BPnDiD7FJZNPE/E1s0MhmWD+hvbBkPW3yCPYhewgN1ccNsEpOVv0qW9rXVl1pXHGbBFxHNhWhlwnTlA+NBymtjyVNaQcpZTG4oJgfYH2w4vezY7A+b1l8QQ71GVKDDYpIfo7cgKpj7U7JWHj/wzr9Xp/Ydz/WcTSvHsDepAs/zC8qfnir3YglY3NoXFnJIrE5EvvGvCX2xpXVt/NQig1aWII1+6xKGXsyDc1nWboXqzJl3fwJYUYGz8Jeh2ewiuxArNr2lZRx49jJDtQ1WNKUtlP1VKzq9j9/fWus2pZmkEstliiG6pf2JNkMHCoUapDSFVhSfjfZJh0zsSbbT/31Hv5x0vYZOxO4jcajgk8Crk0ZF+wcl9PQB60WWAvrwyrtSH3GwluJvQnuiY0gXIE1zaX1MWu+kSzBRkj9H9YUWKrNSP8GUsxepB+W3pQ/Yh+ys8j2DXZbrILQF2sm2Alr7vt1yrjXYh+wM7HEcRCWpPbGKhhppvt4HGtSHE+2fbv6YM07k8m2+TP5oXsT1kx3K+k/dJfTUPlZCzv3rOapehCrItzur5+AfYlJ68fYCMj52O/FlsDpKWOuxr789Ca7vkZJddjo4HvJtik/1CClb2MjKFdhvx9ZfXFzNO5Yv5psBuV8C7gmcX2R35dFMvYocDANAyO6Ye89+2QQW9pAyVh4S7E36p9gH5LHkU2y8EdsXq1/YH/wJ2KdwKdiFahhKWL/GytbZzH/V9LTWDI2N+O4AK9j/SmyLvX+FfuA/Iu/PhN7zdMmY29hzQNz/PXtgYux35O7Sffax00weyX2ZdG365ctH1KSUB+6b2AJ5L1YE/4irPKYhR9jyf9Qf30UDX3e0niUhjnnwJqkshjY8Qn2ReURGio3AN/PIPba2PvcoYl9EemTsVCDlLIadV7oJmwgR7Lv440ZxK2lIWGMr3fJIC5Y83VyhOonWB9haWdKxsKLvxldhn3YPIx1jk/ryzTuRzIK6xfzU6yTaxrPYG8oNVhlL6tvjrdgCdnb2AdMVkO/wZKYB7B+UckPr7T93Lpjc14lpW1GBKu4zUlcn4s1o6WpaMZCNUc9RuMRhM+RTZNlqA/dY/zPC7FqU2+sopWVJ7G/j4g1f0dK1Rmr3GQ9mvJuwvXNTFu5a8pY7Ln3wSpBX8e+HJVqIFYdbarJN23l+A/Y/1ecoJ9ONn0fH8Qqj/EXwm+T3e/xp9jrET/33bBRptLOlIyFd0Hi8n+w4c+nZRB3KTYCLR69NZyGJpm01aE/YH0fsm7y+xs2OqywL1oWfoN9q+tKdt8awTrVb0PD6zAcm/8orTlY8+cd/voJWEK2Fuk/eHtjVaz4A/0xrOqWtonqeKz/40Qskb6abEYQZv2hW0zawQuFQr0W12EJWdwE9VW/L+1oyptbPqRkoZryr8AGSXyEVQovIN0gpbOxPo+/L3JbFpXjv2P/X1OL7Evjp1gC9h1//RGsk30Wfoj1w3sL+z3eCHsvknamDvzhhP4WtjU27cLe2BvJM9iSHm9i326eSBF7EtbMmXXC9DTh5iSajX0QZG1rrOq4D9bM9Qo2M/yClHG7YcPI42/RT2IfwMuxalyayS3vwl6P5PQIO5O+43qoEYQQbmRwKJU2mrI/1o9we+wLS2zrlHHBEt24KT9uIg/195hnhctC1WJfPEP1k81KZxo3i2c1UlPaQJWxcIp9C0tmvmm/hc2nYXLTQmkSsTj2RKzvWJZNftOw/lb/JNuOvmBNlCH6uc3HOrj2wJpts1qzbRn2u1HsW3raWca3AY5NXL8Ia8JOq4bGzZIf+H1ZeIT8J2BJoV6L1dj/X3I0ZRazrd+EVUuvxJqxTye7/7usm/KLDU6CbEdID2LNxPSWEmP9DOsa0g2r4sVdU1ZgX+TSCpFIHwj8lzW/oG3rf+Z5uqGqpGQsnHim7+uw9v2PsLUYdyXdpIWxrlgH8B1o/AeaxTQRr/itC9k2+XXDkrCsO/qClfDPwd4A4292Wbxxr4UlNv1o/Pdyccq4ISsVy7CKW5yU70s2/UBCjSAMNWloKA4bURp6NCXY710WfbK6YYMDHDaI4UJsRYwLmrlPa2XdlB+qg33sl1jlf3vs/+xw7G+l1GTsksT2sxaOLUWIRPrzWDJW7At9Vu/J0gZqpgxvJtaHYiiWhF2BvQHumTLunVgz6MlYYnAKNuniD1LGTerpf2axHlylehDrazWFxhWKYhWttniChjfYL9HwBpvFh+NgrImyN/bh+yHWTzGLGbuTIwgfJ5sRhCEnDQ1lNvZ/lfVr0RWbmuYgbF6pydjvSNrJWZ/CznUc9iH8JnAp2Uz1EaopH+zL61AsQXiCbDrEz8Kafaf5n32xqVQOySD2OtgXreQXrLQrPkzBup4k57aL96VRgyXOY1PGkQwoGQsvnu35EuyP6R9kMwN0HCNO9jpjHwh7NXenVhqEdTyNR32+jy2XMafJe7TOZlhH53j+qMex5PGNlHFjX6bxKLT7M4gZqu9LqDfYpLiy9FGGMftiCwvHIwizGE0ZatLQkG4G/owlS1kai/1/3eavn4wNbDguZdzdsWS3D/alcG1sAMIzKeMmZd2UfwH2vOMqzdHYl9C0AwOew36Hp2CVpo+x12ZgyrihVnwImUjXYXP8SZmpmTK8N7GOrYdgTTFrkU1fjbgpbjGWLLyNNfNkYRTW522Cvz4MG92WdiLAm7BkNP5gOdXvy+Ib6aXYB078IfYD7AM+bbPBU1iyNKulA9voM+z34CXge9jvSc9m79F6lTKaMu6vEmrS0JD2xKrRr9J43q6007TEfZliE8hmXr7lWIX7E7KfiqIP9mWtH40/U9LOYXYKVrmKq4KXYklO2mSsDjvnv2IJ2SdY0pTWD2hY8eEAGlZ8yCJud+z1/BWW3GUxIh9s0Mk52N9f8vf4w4ziSyupMhZed+Aw7MP8JWBj7MM9bUfzb2Kj5nYERmMf5L+gYS6aNEKN6JqONaG1tK8UM32ceARoLVY9LPXDMZ7WoxPW7DCfbOdGC1mpqJTRlDc1c1tWy2SFsmUT+9NOKnsrVnGLfw/2xJbD+VrKuI9jXwRHY19YspyJ/ynsfAunrEk7ncYEbK64xf56HyxBz2Jt0Vg/7G8viyb8eBmy6dj/22dYa8IOGcQO5RWKD5bIou+qtIGSsep1GqW/Gd6DDdP+u79+KtZ8dkyT92idR7EP4LjT80nYt/SDUsYFezMdRsM3unWxCk6pSVNTH7axNB+6tViV9JwUMZoznTBJb6j1GKXB81jz02v++hbYdAOrSP8loD+W4B6HJQ43ks0I1sIpHbJyL5bcPII990OwJsa4W0OplbdHWfM9p9i+troHez/7IZYwLsK6j3yxxHj/pPl5HtMuQwaNp9iJsKT9ejTxa7tTMla90rxBroNNh5DsnHwh9uaSxpZY01Y819iT2Bvqa03eo/VOwpoxJmDVq/2Bc7Hyexp7Yd9u434wawPbYcuepPEM2fTvK+ZprPkwOZryCtLP8XY5lgwkRxDOxCalTOMyrOlpGTZgYidszrxbU8atRCG/BIB9ETgauIqGaRh+Trom4R9hTX3307iZOW1TV0tNcW39stkVa6mYgH1xi6egWBv7vUvbZyzp8zSs+LAiRYzmZDGRcbE+ir2xLgnSjpSMVa8sBgn0wr4tVcpoyo1pvFTP2xnEnIYltfEfSg3W5yRtJeA6bMH4O2ncVyOLflI7Y8P0e/vri0g/mtJhHZN3J/sRhNOxqt0xwJFYf8VJZDOZrJidsKrNEVil6W/YF7ZNsOS9pSSwOWdiK2AspuHvJCJ/TV0/wKpWm2B9NOMuBx9j/WSvafKerXMVtqLGUynjFNMFSxYjrFJaaoJXaC5rTkpbbJ8Epg781StNlr0j9mGeHE15GtYPKY3Qoyl3p6HTeoSV+dNKLtAL1icmi7+brthEocn+L1nM71NLQx+xLEdTRticTDuSfcf6+PU8AktOs+zPJOZqbAmdn9O4Ceot4PyUsf8P+Bz2PpGlrPsz/clvFwB/pPHcj1l04J+CvZYDsC8pd2Bf3NI6Ams6/B/2frQVtjzSvzOIPRWr0Cf7KGZxztJGSsaql2v5kCb9hTVHU8bzCKXRnqMpv481y6VdNH2+j3Wdv/5dslnMO9TiyqtpqFxlOaUF2Bv37mQ/ncP92Jx5y7DJezcg/bxa0tg9NPQBjf0AS04K97fVy9hauVlLTrnQFXvfWLeJY9tiODa6eCj2ZegK7O877dyPN/ttXWyi6N9hff76p4z7e2x05sv++jbAv8gmGdsNq+QV9lGMBzClHagkraRmyspVS/PLpPwZmzKhFBpN2WBDrPnhQOzN6VHsQ+y9lHFDrqAQqgn0BawCEk/nkNXIUrAPsCXY73R3rKqXRTOzmGJ9SLPoygCW6O2AfXlL9hlLO7VFMVnMxRdq7sfYHlh/yqOwARlNLVvXWvEozZjDumHsXvzwNgndR1FaSZWxyvUSNoXBTRSfh6jURAys8vMLGo+mzKIa9IGPlRxN+UEGcWN9aOg03LuZ49qiP3Biwb59SZ+M/R1Lbr5A4xUUshCqCfQLLdy+Dm0b5NHU+nixPM8zVilOwjplbwWMT+zvRXZzSd3rt6wlk8carFKWxWdWqLkfL8P6Pf4Pa6L8FQ3TcqRRh3URGIv9HcejYeO/mzR/J0q2ckKVscrVC0sS4mV0bsTeALJomkqOpoyHO19EtqMpI6w8ntVoyhOxN9asR1MWqyhkMZQ/5AoKLfkZVhXIWltfl4uwyWmLzTeW93nGKsWWWCJ2Cfb3EPsY+91Ls6B3UjcamriyMoGGPmOrsOWVrgBeTBk31NyP38a+IGfdd66S5+OTVlIyVh0+j5Xa+2Czof+Khv4FbVWLTeR5QCZn1jjuLVgFKGvxGmuPk91oyr2xPnI/xNYGjK2NfftN22QbL8kyCeuH9rbf1x4j0ELNC5VlU49Uji9hSVIXLPEbjFV7S50H62z/M24Gj/u/xh9Wfygxbmg1WBVya+z5bwFshP1dizRLzZSVqxYbZXM6Nov077HO6/thJe1tS4y7Gut31ZtsR7Wtxr6ldyG7YdmxeuAnWBl/fAvHtlYXbFWDTlgVMvYRlvilNQqrQJ6PnXO8gkJ7SDO4ozmlfrNbC+vw3I/G70kXpz0h+f++glWON8T+/+NEZ+3m7tRKF2JfLCb669NJ96Ui/nsbgH25ug873y+R78TmGuy96EDsd/djrFKWtm/Xtlg/0L7Yclk7YYlu2mWhJEeUjFWul7Ay/uU0ntdmHA3TO5TqE6yE/wiNO4Cn7ZA7H5vodXxB3Cy+6Wa9xtpjfhtNmH4VvWkYURnPb7QKqypMD/B4SXkrh9+HJf5TaNwBXLJzGZbMZNUvMWkla35xqy92YCtd5H9Owiq48YTLF2KjCPNqT+x8p/nri7AvdWn9FZvEOV7qbibWEqJkrIooGatcX6NhhvXYvjTMap/G3YTpPP0/v9XQuNqUhRP8zzMT+9JMPPlHrInyzxRPXtIuRbIb1iE5ngvtSOxN9gxsFORlKeM3J1RlrNS4m2F9eCScdwiTiIGtUHEyVq3vj73/ZDHxaV8aV9FX+H15tRJ7DeL3iw1Il5TGurNmRTCrvn6SE0rGKtdVrNnv5+oi+0qRdoHfplzU8iEl2yrjePFI0sdYc16tLBLJzbD/q3h1g19i3/r3xypEpSZjtdiH4ZXNHHNnG2O2NLdTXH0sdW2/p7AO1LNKvL+0rA6rGt9L4+pjFl+6zgLO83FvBx7C+q2mdQuWhMSrPByNVarz6irsXDfEViQYTvoJdcEGBGxDQ5I3HFiYQVzJEXXgrzwhO5bHE/01Je18UttiTYn9aPxF4MCiR7dNsekRlmDP6d0UcadiVch49YGTsNc+7QSRL2AJyEp/fS1sLreBpO8IHw8OyEo8E7rDOiUv8pf7YCNh0ybCc7H5y17BPtCznL9MTHuNWK0FepDdhMO7Yv1gwZotpzVzbB4MxL6UOGxOwiyqkVvTMOn2Iuzv5BQ0LUVVUWWs8oTsWH6k/xk39SXnGcsia78TW9bjBpqfsLYU38AS1eSqAVOwROFiSp9lfDjWD+9k7EPha8ChaU7Uuw1bbPw+f/1LWD+QHhSfN64tnsSaVwv7z00tMV6cbP0V++b/gL9+OFatSMNhTbP6YAkr1IoPYL+3Z2B/05OxL4Z/wvqzpjWV0n9v20uycvwuDfMoxrelmc+tFhttfTD23lBDQx86qSKqjFWmWmzk4LGB4herzGQxHUIWs2c35SEsUXrHX++LNXOchH2jHpQi9rZY885rWPVxWbNHt94QGtbpfJLs1oSbUGRfRPoK5CysmtfSviziSrZCrgs7HRt4cgr2HnEu9rfeUSqbycpx8gM1vp52uppnaJ/5B6WMVBmrTKuBTQLGdzQMBgArj6eZoTr+5vhP7FvePTTut5LFTOCb05CIgX1D3dzHXln0Hs0rbLJdF0uCn/XXs/igqSPMorxZzxEXixeVvtVfP8XvSyvUmpfSIOS6sJ39djRWkV1J/kbshhRXjmuwv4m4Gr8FNqFsWtOwEehZL28mOaLKWOUKtf4gWPXqRhqWFFqM9S0ptbkg+c2xUBbfHAGuxd784s7px2Lf+n+MLUTd1gSlktds6wv8FkvYDwe2x5pw/5Yy7rrYQIN46pRJ2KCMtMl0yDUvxUwn3Lqw3wd+ivV5PAL7O7yVhr5eHcV1NMwzth02j+DDpJ9nTCtUdABKxipXe/yBxslYVpO/dgWWt2JfKRyWgCWb/e6iY31Dj/0b+/04DxvQ0Qn7dp3XpsCmEt88J7yV5lHsdyK5LuzplD4CtiWd6HjTL8RdOZLdPGaQfrUO6QDUTFm5QnbIDVVZeYo1+50V21eKCOtoPy6DWJVufaxP4c/89VWkGzDxR2wE6T8JM+daR0yY29vXsT5jV9KwLmyW7yFHADtgX65iHW0FhaznGfsJNsXN1RT/G0k7n6TkiJKxyhVyiYzRNFRWwBbmHUPpydhGWJNqN+wbY9xcuTY2oWEWQi73Umk+Bdaj4Q18L9JVN+ORqFekOalm/IuGZuyuWJ+bediHu6RXi325Sps0N+V67O/4AGyk9HDyvWxRKFnPM/ZTLBn7HzalhVQxNVNWrsdoWCIjLonPJt2owdhkrJ9Dstw+ndL7l5wGjMBGDyY7rH+MJX5Z9HN7mXDLvVSa3bAPhkHY78QG2AfDzHKeVBvsig30+Ga5T6SKPIH1Zcp6XViw36udEj97Yk3lHa3PGGQ7z9hcbEqLf2NT9RT2uc1i4JPkhCpjlSvkEhlZV1Zu9tuxWD+uEEIu91JppgCfxxZadliVqZQRpYX6A5dgzdbJ5qgsBmAkTSX9pLrSWMh1YeOpXpZiXRs+IJtRhJXoBb9l4Tosodsa+5uOZTVlhuSIkrHKFXKJjLOxN+2tsTfwuLKS1l2E61sScrmXSjMTuAN7Pf6XYdybsNGUV2JNUqeTbsqT2NmJyzVYZS+LKTPEmpi/ijVRXkmYdWHvx1ZjuIyGpOGGjB+jI7rab9cB3ynzuUhgaqasXCGXyOgKfA/4AtaU+DT2ppB21GNTfUu+kTIuaPh30pbYwuknYB2Ix2Ad+l9LGTeetDc5SWuaiXzjRGExDUt7rQIWYIl7FqNsO7q4qetBrKmrUBZNXd2wZGE/7G/ucSyB0P+fSCspGat8IZbIGIstr3Sbv34y9s33uKbu0ErqW9L++gO/wBL12pSxngKGYiNW/wu8CVyKNYeWoj0ShY7u+1iitBWNq41ZNnWNxd5/4smAT8amxTk+g9giHYKSscq1HtZkNBR7U30Ca+77IIPYc7F+QS3ta6tnsb5Az2CjHz8A5mATfpZKw7+LS1bHVmPVsd+njLk71i+vD/ArbKTqZTSsStBW7ZEoiAnZ1BXq/UKkw1Cfscp1BzYDerw+5SnYB+7BGcSeinXaf8Zf35Nslu0J0bck7rQfYlmhSvUstjzNnVg1c35GcSOsaXFLHx9s8fBSZ8q/ym/qExNeyNc31PuFSIehyljlKjaNRdoFl+P1GDtjTU+v+etbYiOE0n7TDdm3ZFdKX66p2gzARlBmbR42ncosGk9mqZnyO6bQ7xciHYaSscr1B6zz+1h/fTiwB3BOipih12MM2bdkAja57DisQjg7g5iV5lTstT27idvTTmPwBNYsLgKVvX6rSK4oGatcH2Od9+MKRQ0N8wfldeb50H1LNsISuxOw5z+GbFYkqBTfxiYB/mUTt1+UMv5B2JqGj6LpQ0REMqNkTNrTrcCfady35Ezgaxk/zo5Yx/4TgC4Zx867Wqxj/JUtHViCW7EZxufQ8CWgo04fIiKSGSVjle3LwP7+8kSsg3wetUffku2w5OtYbJTmGGyuqncziF1pnsOarLM2j9KnsRARkSYoGatcl2JTDcRzgZ2EjWD6WdnOqGnt0bfkaRomN+3os7dfiSW+Y2i89E3aAQ43AZdjTcsiIpIRJWOVaya2cHfcXFSLLexd6jQDUj0m+J/xH3c8b9eBKeM+jy3B9QrWZyyOq985EZEUNM9YZetDwyzlvct4HuU0Fuu0HzeFxjpiohCPorwfe+4ucVsW37oOyyCGiIgUUDJWuX6LVcImYB+6+wPnlvWMyuMH/ueRZT2LfIgXgB6ANWHfh/1ufAnrR5aWpioQEQlAzZSVqQabV+xx7EMX7MP27bKdkeTJJOAIGtYr7QX8i4bBHiIikiNKxipXHTCk3CeRAx9TvAkubqbM43xroc3DmmfjucDWwvoYaiSkiEgOqZmycv0Hm22/cMTch8UPr1q9Wj6kw7kFq5Te468fDYwu18mIiEjzVBmrXK9QvCK0dXufiOTSrtgaoGDNltPKeC4iItIMJWOVqxvwXWytwHjR7euBZeU8KREREWkbJWOVayzwEQ2Tvma56LaIiIi0EyVjlSv0otsiIiLSDmrKfQJSsqnAXonre2IjLEVERKSCqDJWuZ6nYdFtgC2wKQ1W0fFmnhcREalYSsYqV3ssvi0iIiKBKRkTERERKSP1GRMREREpIyVjIiIiImWkZExERESkjJSMiYiIiJTR/wOp69ta5nToLgAAAABJRU5ErkJggg==",
      "text/plain": [
       "<Figure size 720x504 with 2 Axes>"
      ]
     },
     "metadata": {},
     "output_type": "display_data"
    }
   ],
   "source": [
    "corr = data.corr()\n",
    "fig, ax = plt.subplots(figsize=(10,7))\n",
    "sns.heatmap(ax=ax, data= data.corr(), cmap=\"Greens\");\n",
    "for tick in ax.get_yticklabels():\n",
    "    tick.set_color(\"white\")\n",
    "for tick in ax.get_xticklabels():\n",
    "    tick.set_color(\"white\")"
   ]
  },
  {
   "cell_type": "markdown",
   "metadata": {},
   "source": [
    "There is around +0.5 correlation between the number of livingrooms and bathrooms, as long as bedrooms and bathrooms\n",
    "We also see that the features that contribute the most to the price are `driver_room`, `ac`, `pool` and `basement`"
   ]
  },
  {
   "cell_type": "code",
   "execution_count": 98,
   "metadata": {},
   "outputs": [
    {
     "data": {
      "image/png": "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",
      "text/plain": [
       "<Figure size 1080x720 with 4 Axes>"
      ]
     },
     "metadata": {
      "needs_background": "light"
     },
     "output_type": "display_data"
    }
   ],
   "source": [
    "# see how great the above 4 feature affect the price\n",
    "# creating the canvas\n",
    "fig, ((ax1,ax2), (ax3,ax4)) = plt.subplots(2,2, figsize=(15,10))\n",
    "\n",
    "# plotting ax1 data: `driver_room`\n",
    "ax1 = sns.barplot(ax=ax1, y=data[\"price\"], x=data[\"driver_room\"] ,data=data)\n",
    "\n",
    "# configure the plot\n",
    "ax1.set_title(\"Effect of Driver's room on price\")\n",
    "ax1.set_xlabel(\"\")\n",
    "labels = [item.get_text() for item in ax1.get_xticklabels()]\n",
    "labels[0] = \"Without Driver Room\"\n",
    "labels[1] = \"With Driver Room\"\n",
    "ax1.set_xticklabels(labels)\n",
    "ax1.set_ylabel(\"Price\")\n",
    "\n",
    "\n",
    "# plotting ax2 data: `ac`\n",
    "ax2 = sns.barplot(ax=ax2, y=data[\"price\"], x=data[\"ac\"] ,data=data)\n",
    "\n",
    "# configure the plot\n",
    "ax2.set_title(\"Effect of AC on price\")\n",
    "ax2.set_xlabel(\"\")\n",
    "labels = [item.get_text() for item in ax2.get_xticklabels()]\n",
    "labels[0] = \"Without AC\"\n",
    "labels[1] = \"With AC\"\n",
    "ax2.set_xticklabels(labels)\n",
    "ax2.set_ylabel(\"Price\")\n",
    "\n",
    "\n",
    "# plotting ax3 data: `pool`\n",
    "ax3 = sns.barplot(ax=ax3, y=data[\"price\"], x=data[\"pool\"] ,data=data)\n",
    "\n",
    "# configure the plot\n",
    "ax3.set_title(\"Effect of Pool on price\")\n",
    "ax3.set_xlabel(\"\")\n",
    "labels = [item.get_text() for item in ax3.get_xticklabels()]\n",
    "labels[0] = \"Without Pool\"\n",
    "labels[1] = \"With Pool\"\n",
    "ax3.set_xticklabels(labels)\n",
    "ax3.set_ylabel(\"Price\")\n",
    "\n",
    "# plotting ax4 data: `basement`\n",
    "ax4 = sns.barplot(ax=ax4,y=data[\"price\"], x=data[\"basement\"] ,data=data)\n",
    "\n",
    "# configure the plot\n",
    "ax4.set_title(\"Effect of Basement on price\")\n",
    "ax4.set_xlabel(\"\")\n",
    "labels = [item.get_text() for item in ax4.get_xticklabels()]\n",
    "labels[0] = \"Without Basement\"\n",
    "labels[1] = \"With Basement\"\n",
    "ax4.set_xticklabels(labels)\n",
    "ax4.set_ylabel(\"Price\");\n",
    "\n"
   ]
  },
  {
   "cell_type": "markdown",
   "metadata": {},
   "source": [
    "Lana"
   ]
  },
  {
   "cell_type": "markdown",
   "metadata": {},
   "source": [
    "what frontage appears the most"
   ]
  },
  {
   "cell_type": "code",
   "execution_count": null,
   "metadata": {},
   "outputs": [],
   "source": [
    "plt.subplots(figsize=(10,7))\n",
    "data['front'].value_counts().plot(kind='barh')\n",
    "plt.show()"
   ]
  },
  {
   "cell_type": "markdown",
   "metadata": {},
   "source": [
    "The ratio of bedrooms to bathrooms"
   ]
  },
  {
   "cell_type": "code",
   "execution_count": null,
   "metadata": {},
   "outputs": [],
   "source": [
    "ratio = data[['bedrooms', 'bathrooms']].apply(lambda data: (data['bedrooms']/data['bathrooms']), axis=1)\n",
    "ratio = ratio.mean()\n",
    "ratio"
   ]
  },
  {
   "cell_type": "markdown",
   "metadata": {},
   "source": [
    "we invastaged the houses without a kitchen"
   ]
  },
  {
   "cell_type": "code",
   "execution_count": null,
   "metadata": {},
   "outputs": [],
   "source": [
    "nokit = data.groupby(['kitchen']).get_group(0)\n",
    "nokit\n",
    "\n",
    "sns.histplot(data=nokit, x=\"bathrooms\", kde=True)"
   ]
  },
  {
   "cell_type": "code",
   "execution_count": null,
   "metadata": {},
   "outputs": [],
   "source": [
    "sns.histplot(data=nokit, x=\"bedrooms\", kde=True)"
   ]
  }
 ],
 "metadata": {
  "kernelspec": {
<<<<<<< HEAD
   "display_name": "Python 3.9.13 64-bit",
=======
   "display_name": "Python 3.8.8 ('base')",
>>>>>>> refs/remotes/origin/main
   "language": "python",
   "name": "python3"
  },
  "language_info": {
   "codemirror_mode": {
    "name": "ipython",
    "version": 3
   },
   "file_extension": ".py",
   "mimetype": "text/x-python",
   "name": "python",
   "nbconvert_exporter": "python",
   "pygments_lexer": "ipython3",
<<<<<<< HEAD
   "version": "3.9.13"
=======
   "version": "3.8.8"
>>>>>>> refs/remotes/origin/main
  },
  "vscode": {
   "interpreter": {
<<<<<<< HEAD
    "hash": "aee8b7b246df8f9039afb4144a1f6fd8d2ca17a180786b69acc140d282b71a49"
=======
    "hash": "f377678b927e69392be3d32c4a144c48b4fcf75b53b3b6aab14c8f5b0aeaa57a"
>>>>>>> refs/remotes/origin/main
   }
  }
 },
 "nbformat": 4,
 "nbformat_minor": 2
}
