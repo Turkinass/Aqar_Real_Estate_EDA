{
 "cells": [
  {
   "cell_type": "markdown",
   "metadata": {},
   "source": [
    "\n",
    "# Aqar Real Estate EDA\n",
    "\n",
    "\n",
    "By: Turki Alsaedi, Yousef Alotaibi, Ahmed Almohammed, Lana Almorabah, Mohammed Alsalamah\n",
    "\n",
    "---\n",
    "*Short description here*\n",
    "\n"
   ]
  },
  {
   "cell_type": "code",
   "execution_count": 1,
   "metadata": {},
   "outputs": [],
   "source": [
    "import pandas as pd\n",
    "import numpy as np\n",
    "import matplotlib.pyplot as plt\n",
    "import seaborn as sns\n",
    "\n",
    "# support arabic plotting\n",
    "import arabic_reshaper # pip install arabic-reshaper\n",
    "from bidi.algorithm import get_display # pip install python-bidi\n"
   ]
  },
  {
   "cell_type": "code",
   "execution_count": 2,
   "metadata": {},
   "outputs": [],
   "source": [
    "# read in the dataset\n",
    "data = pd.read_csv(\"SA_Aqar.csv\")"
   ]
  },
  {
   "cell_type": "code",
   "execution_count": 3,
   "metadata": {},
   "outputs": [
    {
     "data": {
      "text/html": [
       "<div>\n",
       "<style scoped>\n",
       "    .dataframe tbody tr th:only-of-type {\n",
       "        vertical-align: middle;\n",
       "    }\n",
       "\n",
       "    .dataframe tbody tr th {\n",
       "        vertical-align: top;\n",
       "    }\n",
       "\n",
       "    .dataframe thead th {\n",
       "        text-align: right;\n",
       "    }\n",
       "</style>\n",
       "<table border=\"1\" class=\"dataframe\">\n",
       "  <thead>\n",
       "    <tr style=\"text-align: right;\">\n",
       "      <th></th>\n",
       "      <th>city</th>\n",
       "      <th>district</th>\n",
       "      <th>front</th>\n",
       "      <th>size</th>\n",
       "      <th>property_age</th>\n",
       "      <th>bedrooms</th>\n",
       "      <th>bathrooms</th>\n",
       "      <th>livingrooms</th>\n",
       "      <th>kitchen</th>\n",
       "      <th>garage</th>\n",
       "      <th>...</th>\n",
       "      <th>roof</th>\n",
       "      <th>pool</th>\n",
       "      <th>frontyard</th>\n",
       "      <th>basement</th>\n",
       "      <th>duplex</th>\n",
       "      <th>stairs</th>\n",
       "      <th>elevator</th>\n",
       "      <th>fireplace</th>\n",
       "      <th>price</th>\n",
       "      <th>details</th>\n",
       "    </tr>\n",
       "  </thead>\n",
       "  <tbody>\n",
       "    <tr>\n",
       "      <th>0</th>\n",
       "      <td>الرياض</td>\n",
       "      <td>حي العارض</td>\n",
       "      <td>شمال</td>\n",
       "      <td>250</td>\n",
       "      <td>0</td>\n",
       "      <td>5</td>\n",
       "      <td>5</td>\n",
       "      <td>1</td>\n",
       "      <td>1</td>\n",
       "      <td>1</td>\n",
       "      <td>...</td>\n",
       "      <td>0</td>\n",
       "      <td>0</td>\n",
       "      <td>1</td>\n",
       "      <td>0</td>\n",
       "      <td>1</td>\n",
       "      <td>1</td>\n",
       "      <td>0</td>\n",
       "      <td>0</td>\n",
       "      <td>80000</td>\n",
       "      <td>للايجار فيلا دبلكس في موقع ممتاز جدا بالقرب من...</td>\n",
       "    </tr>\n",
       "    <tr>\n",
       "      <th>1</th>\n",
       "      <td>الرياض</td>\n",
       "      <td>حي القادسية</td>\n",
       "      <td>جنوب</td>\n",
       "      <td>370</td>\n",
       "      <td>0</td>\n",
       "      <td>4</td>\n",
       "      <td>5</td>\n",
       "      <td>2</td>\n",
       "      <td>1</td>\n",
       "      <td>1</td>\n",
       "      <td>...</td>\n",
       "      <td>0</td>\n",
       "      <td>0</td>\n",
       "      <td>1</td>\n",
       "      <td>0</td>\n",
       "      <td>0</td>\n",
       "      <td>1</td>\n",
       "      <td>0</td>\n",
       "      <td>0</td>\n",
       "      <td>60000</td>\n",
       "      <td>*** فيلا درج مع الصالة جديدة ***\\n\\nعبارة عن م...</td>\n",
       "    </tr>\n",
       "    <tr>\n",
       "      <th>2</th>\n",
       "      <td>الرياض</td>\n",
       "      <td>حي القادسية</td>\n",
       "      <td>جنوب</td>\n",
       "      <td>380</td>\n",
       "      <td>0</td>\n",
       "      <td>4</td>\n",
       "      <td>5</td>\n",
       "      <td>1</td>\n",
       "      <td>1</td>\n",
       "      <td>1</td>\n",
       "      <td>...</td>\n",
       "      <td>1</td>\n",
       "      <td>0</td>\n",
       "      <td>1</td>\n",
       "      <td>0</td>\n",
       "      <td>0</td>\n",
       "      <td>1</td>\n",
       "      <td>0</td>\n",
       "      <td>0</td>\n",
       "      <td>60000</td>\n",
       "      <td>فيلا للايجار درج داخلي مشب خارجي مجلس مقلط وصا...</td>\n",
       "    </tr>\n",
       "    <tr>\n",
       "      <th>3</th>\n",
       "      <td>الرياض</td>\n",
       "      <td>حي المعيزلة</td>\n",
       "      <td>غرب</td>\n",
       "      <td>250</td>\n",
       "      <td>0</td>\n",
       "      <td>5</td>\n",
       "      <td>5</td>\n",
       "      <td>3</td>\n",
       "      <td>0</td>\n",
       "      <td>1</td>\n",
       "      <td>...</td>\n",
       "      <td>0</td>\n",
       "      <td>0</td>\n",
       "      <td>1</td>\n",
       "      <td>0</td>\n",
       "      <td>0</td>\n",
       "      <td>0</td>\n",
       "      <td>0</td>\n",
       "      <td>0</td>\n",
       "      <td>55000</td>\n",
       "      <td>فيلا للايجار        جديده لن تستخدم          ش...</td>\n",
       "    </tr>\n",
       "    <tr>\n",
       "      <th>4</th>\n",
       "      <td>الرياض</td>\n",
       "      <td>حي العليا</td>\n",
       "      <td>غرب</td>\n",
       "      <td>400</td>\n",
       "      <td>11</td>\n",
       "      <td>7</td>\n",
       "      <td>5</td>\n",
       "      <td>2</td>\n",
       "      <td>1</td>\n",
       "      <td>1</td>\n",
       "      <td>...</td>\n",
       "      <td>1</td>\n",
       "      <td>0</td>\n",
       "      <td>1</td>\n",
       "      <td>0</td>\n",
       "      <td>1</td>\n",
       "      <td>1</td>\n",
       "      <td>0</td>\n",
       "      <td>0</td>\n",
       "      <td>70000</td>\n",
       "      <td>فيلا للايجار حي العليا \\n\\nالارضي مجالس وغرفتي...</td>\n",
       "    </tr>\n",
       "  </tbody>\n",
       "</table>\n",
       "<p>5 rows × 24 columns</p>\n",
       "</div>"
      ],
      "text/plain": [
       "      city         district front  size  property_age  bedrooms  bathrooms  \\\n",
       "0   الرياض       حي العارض   شمال   250             0         5          5   \n",
       "1   الرياض     حي القادسية   جنوب   370             0         4          5   \n",
       "2   الرياض     حي القادسية   جنوب   380             0         4          5   \n",
       "3   الرياض     حي المعيزلة    غرب   250             0         5          5   \n",
       "4   الرياض       حي العليا    غرب   400            11         7          5   \n",
       "\n",
       "   livingrooms  kitchen  garage  ...  roof  pool  frontyard  basement  duplex  \\\n",
       "0            1        1       1  ...     0     0          1         0       1   \n",
       "1            2        1       1  ...     0     0          1         0       0   \n",
       "2            1        1       1  ...     1     0          1         0       0   \n",
       "3            3        0       1  ...     0     0          1         0       0   \n",
       "4            2        1       1  ...     1     0          1         0       1   \n",
       "\n",
       "   stairs  elevator  fireplace  price  \\\n",
       "0       1         0          0  80000   \n",
       "1       1         0          0  60000   \n",
       "2       1         0          0  60000   \n",
       "3       0         0          0  55000   \n",
       "4       1         0          0  70000   \n",
       "\n",
       "                                             details  \n",
       "0  للايجار فيلا دبلكس في موقع ممتاز جدا بالقرب من...  \n",
       "1  *** فيلا درج مع الصالة جديدة ***\\n\\nعبارة عن م...  \n",
       "2  فيلا للايجار درج داخلي مشب خارجي مجلس مقلط وصا...  \n",
       "3  فيلا للايجار        جديده لن تستخدم          ش...  \n",
       "4  فيلا للايجار حي العليا \\n\\nالارضي مجالس وغرفتي...  \n",
       "\n",
       "[5 rows x 24 columns]"
      ]
     },
     "execution_count": 3,
     "metadata": {},
     "output_type": "execute_result"
    }
   ],
   "source": [
    "# look at the head\n",
    "data.head()"
   ]
  },
  {
   "cell_type": "code",
   "execution_count": 4,
   "metadata": {},
   "outputs": [
    {
     "data": {
      "text/html": [
       "<div>\n",
       "<style scoped>\n",
       "    .dataframe tbody tr th:only-of-type {\n",
       "        vertical-align: middle;\n",
       "    }\n",
       "\n",
       "    .dataframe tbody tr th {\n",
       "        vertical-align: top;\n",
       "    }\n",
       "\n",
       "    .dataframe thead th {\n",
       "        text-align: right;\n",
       "    }\n",
       "</style>\n",
       "<table border=\"1\" class=\"dataframe\">\n",
       "  <thead>\n",
       "    <tr style=\"text-align: right;\">\n",
       "      <th></th>\n",
       "      <th>size</th>\n",
       "      <th>property_age</th>\n",
       "      <th>bedrooms</th>\n",
       "      <th>bathrooms</th>\n",
       "      <th>livingrooms</th>\n",
       "      <th>kitchen</th>\n",
       "      <th>garage</th>\n",
       "      <th>driver_room</th>\n",
       "      <th>maid_room</th>\n",
       "      <th>furnished</th>\n",
       "      <th>ac</th>\n",
       "      <th>roof</th>\n",
       "      <th>pool</th>\n",
       "      <th>frontyard</th>\n",
       "      <th>basement</th>\n",
       "      <th>duplex</th>\n",
       "      <th>stairs</th>\n",
       "      <th>elevator</th>\n",
       "      <th>fireplace</th>\n",
       "      <th>price</th>\n",
       "    </tr>\n",
       "  </thead>\n",
       "  <tbody>\n",
       "    <tr>\n",
       "      <th>count</th>\n",
       "      <td>3718.000000</td>\n",
       "      <td>3718.000000</td>\n",
       "      <td>3718.000000</td>\n",
       "      <td>3718.000000</td>\n",
       "      <td>3718.000000</td>\n",
       "      <td>3718.000000</td>\n",
       "      <td>3718.000000</td>\n",
       "      <td>3718.000000</td>\n",
       "      <td>3718.000000</td>\n",
       "      <td>3718.000000</td>\n",
       "      <td>3718.000000</td>\n",
       "      <td>3718.000000</td>\n",
       "      <td>3718.000000</td>\n",
       "      <td>3718.000000</td>\n",
       "      <td>3718.000000</td>\n",
       "      <td>3718.000000</td>\n",
       "      <td>3718.000000</td>\n",
       "      <td>3718.000000</td>\n",
       "      <td>3718.000000</td>\n",
       "      <td>3.718000e+03</td>\n",
       "    </tr>\n",
       "    <tr>\n",
       "      <th>mean</th>\n",
       "      <td>390.968531</td>\n",
       "      <td>5.064820</td>\n",
       "      <td>5.083916</td>\n",
       "      <td>4.606509</td>\n",
       "      <td>2.243948</td>\n",
       "      <td>0.909360</td>\n",
       "      <td>0.802044</td>\n",
       "      <td>0.495697</td>\n",
       "      <td>0.795320</td>\n",
       "      <td>0.123453</td>\n",
       "      <td>0.560785</td>\n",
       "      <td>0.521517</td>\n",
       "      <td>0.162453</td>\n",
       "      <td>0.802582</td>\n",
       "      <td>0.034158</td>\n",
       "      <td>0.499462</td>\n",
       "      <td>0.814416</td>\n",
       "      <td>0.080958</td>\n",
       "      <td>0.181280</td>\n",
       "      <td>8.738797e+04</td>\n",
       "    </tr>\n",
       "    <tr>\n",
       "      <th>std</th>\n",
       "      <td>1565.056135</td>\n",
       "      <td>7.590427</td>\n",
       "      <td>1.230040</td>\n",
       "      <td>0.703449</td>\n",
       "      <td>0.916436</td>\n",
       "      <td>0.287135</td>\n",
       "      <td>0.398512</td>\n",
       "      <td>0.500049</td>\n",
       "      <td>0.403522</td>\n",
       "      <td>0.329001</td>\n",
       "      <td>0.496358</td>\n",
       "      <td>0.499604</td>\n",
       "      <td>0.368915</td>\n",
       "      <td>0.398104</td>\n",
       "      <td>0.181660</td>\n",
       "      <td>0.500067</td>\n",
       "      <td>0.388823</td>\n",
       "      <td>0.272807</td>\n",
       "      <td>0.385302</td>\n",
       "      <td>7.063470e+04</td>\n",
       "    </tr>\n",
       "    <tr>\n",
       "      <th>min</th>\n",
       "      <td>1.000000</td>\n",
       "      <td>0.000000</td>\n",
       "      <td>1.000000</td>\n",
       "      <td>1.000000</td>\n",
       "      <td>1.000000</td>\n",
       "      <td>0.000000</td>\n",
       "      <td>0.000000</td>\n",
       "      <td>0.000000</td>\n",
       "      <td>0.000000</td>\n",
       "      <td>0.000000</td>\n",
       "      <td>0.000000</td>\n",
       "      <td>0.000000</td>\n",
       "      <td>0.000000</td>\n",
       "      <td>0.000000</td>\n",
       "      <td>0.000000</td>\n",
       "      <td>0.000000</td>\n",
       "      <td>0.000000</td>\n",
       "      <td>0.000000</td>\n",
       "      <td>0.000000</td>\n",
       "      <td>1.000000e+03</td>\n",
       "    </tr>\n",
       "    <tr>\n",
       "      <th>25%</th>\n",
       "      <td>280.000000</td>\n",
       "      <td>0.000000</td>\n",
       "      <td>4.000000</td>\n",
       "      <td>4.000000</td>\n",
       "      <td>2.000000</td>\n",
       "      <td>1.000000</td>\n",
       "      <td>1.000000</td>\n",
       "      <td>0.000000</td>\n",
       "      <td>1.000000</td>\n",
       "      <td>0.000000</td>\n",
       "      <td>0.000000</td>\n",
       "      <td>0.000000</td>\n",
       "      <td>0.000000</td>\n",
       "      <td>1.000000</td>\n",
       "      <td>0.000000</td>\n",
       "      <td>0.000000</td>\n",
       "      <td>1.000000</td>\n",
       "      <td>0.000000</td>\n",
       "      <td>0.000000</td>\n",
       "      <td>5.500000e+04</td>\n",
       "    </tr>\n",
       "    <tr>\n",
       "      <th>50%</th>\n",
       "      <td>330.000000</td>\n",
       "      <td>2.000000</td>\n",
       "      <td>5.000000</td>\n",
       "      <td>5.000000</td>\n",
       "      <td>2.000000</td>\n",
       "      <td>1.000000</td>\n",
       "      <td>1.000000</td>\n",
       "      <td>0.000000</td>\n",
       "      <td>1.000000</td>\n",
       "      <td>0.000000</td>\n",
       "      <td>1.000000</td>\n",
       "      <td>1.000000</td>\n",
       "      <td>0.000000</td>\n",
       "      <td>1.000000</td>\n",
       "      <td>0.000000</td>\n",
       "      <td>0.000000</td>\n",
       "      <td>1.000000</td>\n",
       "      <td>0.000000</td>\n",
       "      <td>0.000000</td>\n",
       "      <td>7.000000e+04</td>\n",
       "    </tr>\n",
       "    <tr>\n",
       "      <th>75%</th>\n",
       "      <td>400.000000</td>\n",
       "      <td>7.000000</td>\n",
       "      <td>6.000000</td>\n",
       "      <td>5.000000</td>\n",
       "      <td>3.000000</td>\n",
       "      <td>1.000000</td>\n",
       "      <td>1.000000</td>\n",
       "      <td>1.000000</td>\n",
       "      <td>1.000000</td>\n",
       "      <td>0.000000</td>\n",
       "      <td>1.000000</td>\n",
       "      <td>1.000000</td>\n",
       "      <td>0.000000</td>\n",
       "      <td>1.000000</td>\n",
       "      <td>0.000000</td>\n",
       "      <td>1.000000</td>\n",
       "      <td>1.000000</td>\n",
       "      <td>0.000000</td>\n",
       "      <td>0.000000</td>\n",
       "      <td>1.000000e+05</td>\n",
       "    </tr>\n",
       "    <tr>\n",
       "      <th>max</th>\n",
       "      <td>95000.000000</td>\n",
       "      <td>36.000000</td>\n",
       "      <td>7.000000</td>\n",
       "      <td>5.000000</td>\n",
       "      <td>5.000000</td>\n",
       "      <td>1.000000</td>\n",
       "      <td>1.000000</td>\n",
       "      <td>1.000000</td>\n",
       "      <td>1.000000</td>\n",
       "      <td>1.000000</td>\n",
       "      <td>1.000000</td>\n",
       "      <td>1.000000</td>\n",
       "      <td>1.000000</td>\n",
       "      <td>1.000000</td>\n",
       "      <td>1.000000</td>\n",
       "      <td>1.000000</td>\n",
       "      <td>1.000000</td>\n",
       "      <td>1.000000</td>\n",
       "      <td>1.000000</td>\n",
       "      <td>1.700000e+06</td>\n",
       "    </tr>\n",
       "  </tbody>\n",
       "</table>\n",
       "</div>"
      ],
      "text/plain": [
       "               size  property_age     bedrooms    bathrooms  livingrooms  \\\n",
       "count   3718.000000   3718.000000  3718.000000  3718.000000  3718.000000   \n",
       "mean     390.968531      5.064820     5.083916     4.606509     2.243948   \n",
       "std     1565.056135      7.590427     1.230040     0.703449     0.916436   \n",
       "min        1.000000      0.000000     1.000000     1.000000     1.000000   \n",
       "25%      280.000000      0.000000     4.000000     4.000000     2.000000   \n",
       "50%      330.000000      2.000000     5.000000     5.000000     2.000000   \n",
       "75%      400.000000      7.000000     6.000000     5.000000     3.000000   \n",
       "max    95000.000000     36.000000     7.000000     5.000000     5.000000   \n",
       "\n",
       "           kitchen       garage  driver_room    maid_room    furnished  \\\n",
       "count  3718.000000  3718.000000  3718.000000  3718.000000  3718.000000   \n",
       "mean      0.909360     0.802044     0.495697     0.795320     0.123453   \n",
       "std       0.287135     0.398512     0.500049     0.403522     0.329001   \n",
       "min       0.000000     0.000000     0.000000     0.000000     0.000000   \n",
       "25%       1.000000     1.000000     0.000000     1.000000     0.000000   \n",
       "50%       1.000000     1.000000     0.000000     1.000000     0.000000   \n",
       "75%       1.000000     1.000000     1.000000     1.000000     0.000000   \n",
       "max       1.000000     1.000000     1.000000     1.000000     1.000000   \n",
       "\n",
       "                ac         roof         pool    frontyard     basement  \\\n",
       "count  3718.000000  3718.000000  3718.000000  3718.000000  3718.000000   \n",
       "mean      0.560785     0.521517     0.162453     0.802582     0.034158   \n",
       "std       0.496358     0.499604     0.368915     0.398104     0.181660   \n",
       "min       0.000000     0.000000     0.000000     0.000000     0.000000   \n",
       "25%       0.000000     0.000000     0.000000     1.000000     0.000000   \n",
       "50%       1.000000     1.000000     0.000000     1.000000     0.000000   \n",
       "75%       1.000000     1.000000     0.000000     1.000000     0.000000   \n",
       "max       1.000000     1.000000     1.000000     1.000000     1.000000   \n",
       "\n",
       "            duplex       stairs     elevator    fireplace         price  \n",
       "count  3718.000000  3718.000000  3718.000000  3718.000000  3.718000e+03  \n",
       "mean      0.499462     0.814416     0.080958     0.181280  8.738797e+04  \n",
       "std       0.500067     0.388823     0.272807     0.385302  7.063470e+04  \n",
       "min       0.000000     0.000000     0.000000     0.000000  1.000000e+03  \n",
       "25%       0.000000     1.000000     0.000000     0.000000  5.500000e+04  \n",
       "50%       0.000000     1.000000     0.000000     0.000000  7.000000e+04  \n",
       "75%       1.000000     1.000000     0.000000     0.000000  1.000000e+05  \n",
       "max       1.000000     1.000000     1.000000     1.000000  1.700000e+06  "
      ]
     },
     "execution_count": 4,
     "metadata": {},
     "output_type": "execute_result"
    }
   ],
   "source": [
    "data.describe()\n",
    "# how come there are apratements with size = 1"
   ]
  },
  {
   "cell_type": "code",
   "execution_count": 5,
   "metadata": {},
   "outputs": [
    {
     "data": {
      "text/plain": [
       "array(['   حي العارض ', '   حي القادسية ', '   حي المعيزلة ',\n",
       "       '   حي العليا ', '   حي الازدهار ', '   حي المهدية ',\n",
       "       '   حي الحزم ', '   حي الصحافة ', '   حي بنبان ',\n",
       "       '   حي النسيم الغربي ', '   حي النرجس ', '   حي الملز ',\n",
       "       '   حي الياسمين ', '   حي المونسية ', '   حي السليمانية ',\n",
       "       '   حي العقيق ', '   حي المرسلات ', '   حي الرحمانية ',\n",
       "       '   حي الرمال ', '   حي طويق ', '   حي الملقا ', '   حي النزهة ',\n",
       "       '   حي الربيع ', '   حي ظهرة لبن ', '   حي الروضة ', '   حي عكاظ ',\n",
       "       '   حي الورود ', '   حي الفيحاء ', '   حي النموذجية ',\n",
       "       '   حي الربوة ', '   حي القيروان ', '   حي عليشة ',\n",
       "       '   حي الملك فيصل ', '   حي حطين ', '   حي المناخ ',\n",
       "       '   حي البديعة ', '   حي الشهداء ', '   حي قرطبة ',\n",
       "       '   حي العريجاء الغربية ', '   حي النفل ', '   حي القدس ',\n",
       "       '   حي الملك فهد ', '   حي العزيزية ', '   حي الواحة ',\n",
       "       '   حي النسيم الشرقي ', '   حي المصيف ', '   حي الزهرة ',\n",
       "       '   حي اليرموك ', '   حي الملك عبدالله ', '   حي المحمدية ',\n",
       "       '   حي ام سليم ', '   حي الاندلس ', '   حي المروج ',\n",
       "       '   حي المؤتمرات ', '   حي الرائد ', '   حي الروابي ',\n",
       "       '   حي اشبيلية ', '   حي الوشام ', '   حي الخليج ', '   حي الشرق ',\n",
       "       '   حي الجزيرة ', '   حي عرقة ', '   حي المنار ', '   حي النخيل ',\n",
       "       '   حي الوادي ', '   حي التعاون ', '   حي غرناطة ',\n",
       "       '   حي العريجاء الوسطى ', '   حي الدار البيضاء ', '   حي الهدا ',\n",
       "       '   حي السويدي ', '   حي الندى ', '   حي ام الحمام الشرقي ',\n",
       "       '   حي ظهرة البديعة ', '   حي السفارات ', '   حي الجنادرية ',\n",
       "       '   حي جرير ', '   حي السعادة ', '   حي أحد ',\n",
       "       '   حي السويدي الغربي ', '   حي ام الحمام الغربي ',\n",
       "       '   حي مطار الملك خالد الدولي ', '   حي الصفا ', '   حي بدر ',\n",
       "       '   حي النظيم ', '   حي ديراب ', '   حي النهضة ', '   حي الشفا ',\n",
       "       '   حي شبرا ', '   حي الضباط ', '   حي منفوحة الجديدة ',\n",
       "       '   حي الخزامى ', '   حي الحمراء ', '   حي لبن ', '   حي السلام ',\n",
       "       '   حي سلطانة ', '   حي الملك عبدالعزيز ', '   حي الاسكان ',\n",
       "       '   حي الخالدية ', '   حي الرفيعة ', '   حي العريجاء ',\n",
       "       '   حي غبيرة ', '   حي الوزارات ',\n",
       "       '   حي المدينة الصناعية الجديدة ', '   حي الفلاح ',\n",
       "       '   حي الحائر ', '   حي المنصورة ', '   حي طيبة ', '   حي الزمرد ',\n",
       "       '   حي الياقوت ', '   حي البساتين ', '   حي الزهراء ',\n",
       "       '   حي بريمان ', '   حي الشاطئ ', '   حي ابحر الشمالية ',\n",
       "       '   حي النعيم ', '   حي الصالحية ', '   حي المنتزه ',\n",
       "       '   حي الرياض ', '   حي الصوارى ', '   حي ابحر الجنوبية ',\n",
       "       '   حي المرجان ', '   حي السامر ', '   حي السلامة ',\n",
       "       '   حي ام حبلين ', '   حي الرحاب ', '   حي المروة ',\n",
       "       '   حي مشرفة ', '   حي الفيصلية ', '   حي الاجاويد ',\n",
       "       '   حي الكوثر ', '   حي الفردوس ', '   حي الامواج ',\n",
       "       '   حي الشراع ', '   حي الرويس ', '   حي البوادي ',\n",
       "       '   حي الريان ', '   حي بني مالك ', '   حي الحمدانية ',\n",
       "       '   حي اللؤلؤ ', '   حي الاصالة ', '   حي البغدادية الشرقية ',\n",
       "       '   حي الجامعة ', '   حي مريخ ', '   حي الامير فواز الشمالي ',\n",
       "       '   حي ضاحية الملك فهد ', '   حي السيف ', '   حي الشعلة ',\n",
       "       '   حي الخالدية الشمالية ', '   حي الفرسان ', '   حي الاثير ',\n",
       "       '   حي المدينة الصناعية الثانية ', '   حي الجوهرة ',\n",
       "       '   حي الشاطئ الغربي ', '   حي الشاطئ الشرقي ', '   حي الأمل ',\n",
       "       '   حي الانوار ', '   حي النورس ', '   حي المزروعية ',\n",
       "       '   حي جامعة الدمام ', '   حي الحزام الاخضر ', '   حي الصواري ',\n",
       "       '   حي الراكة الجنوبية ', '   حي التحلية ', '   حي البحيرة ',\n",
       "       '   حي مدينة العمال ', '   حي الكورنيش ',\n",
       "       '   حي المدينة الرياضية ', '   حي الجسر ', '   حي السفن ',\n",
       "       '   حي الحزام الذهبي ', '   حي العقربية ', '   حي الخبر الشمالية ',\n",
       "       '   حي الثقبة '], dtype=object)"
      ]
     },
     "execution_count": 5,
     "metadata": {},
     "output_type": "execute_result"
    }
   ],
   "source": [
    "data[\"district\"].unique()"
   ]
  },
  {
   "cell_type": "code",
   "execution_count": 6,
   "metadata": {},
   "outputs": [
    {
     "data": {
      "text/plain": [
       "city             0\n",
       "district         0\n",
       "front            0\n",
       "size             0\n",
       "property_age     0\n",
       "bedrooms         0\n",
       "bathrooms        0\n",
       "livingrooms      0\n",
       "kitchen          0\n",
       "garage           0\n",
       "driver_room      0\n",
       "maid_room        0\n",
       "furnished        0\n",
       "ac               0\n",
       "roof             0\n",
       "pool             0\n",
       "frontyard        0\n",
       "basement         0\n",
       "duplex           0\n",
       "stairs           0\n",
       "elevator         0\n",
       "fireplace        0\n",
       "price            0\n",
       "details         80\n",
       "dtype: int64"
      ]
     },
     "execution_count": 6,
     "metadata": {},
     "output_type": "execute_result"
    }
   ],
   "source": [
    "data.isna().sum()"
   ]
  },
  {
   "cell_type": "code",
   "execution_count": 7,
   "metadata": {},
   "outputs": [
    {
     "data": {
      "text/plain": [
       "(24,\n",
       " {'city': (4, [' الرياض', ' جدة', ' الدمام', ' الخبر']),\n",
       "  'district': 174,\n",
       "  'front': 10,\n",
       "  'size': 199,\n",
       "  'property_age': 36,\n",
       "  'bedrooms': 7,\n",
       "  'bathrooms': (5, [5, 4, 3, 2, 1]),\n",
       "  'livingrooms': (5, [1, 2, 3, 4, 5]),\n",
       "  'kitchen': (2, [1, 0]),\n",
       "  'garage': (2, [1, 0]),\n",
       "  'driver_room': (2, [0, 1]),\n",
       "  'maid_room': (2, [1, 0]),\n",
       "  'furnished': (2, [0, 1]),\n",
       "  'ac': (2, [0, 1]),\n",
       "  'roof': (2, [0, 1]),\n",
       "  'pool': (2, [0, 1]),\n",
       "  'frontyard': (2, [1, 0]),\n",
       "  'basement': (2, [0, 1]),\n",
       "  'duplex': (2, [1, 0]),\n",
       "  'stairs': (2, [1, 0]),\n",
       "  'elevator': (2, [0, 1]),\n",
       "  'fireplace': (2, [0, 1]),\n",
       "  'price': 113,\n",
       "  'details': 1429})"
      ]
     },
     "execution_count": 7,
     "metadata": {},
     "output_type": "execute_result"
    }
   ],
   "source": [
    "# a closer look at the features of the dataset\n",
    "data_columns = {}\n",
    "for column in data.columns:\n",
    "  key = column\n",
    "  if data[column].nunique() > 5:\n",
    "    value = data[column].nunique()\n",
    "  else:\n",
    "    value = (data[column].nunique(), list(data[column].unique()))\n",
    "  data_columns[key] = value\n",
    "\n",
    "len(data_columns), data_columns"
   ]
  },
  {
   "cell_type": "markdown",
   "metadata": {},
   "source": [
    "### Questions to ask:\n",
    "\n",
    "* Which city has the highest rent rate?\n",
    "* Does the district within a city play a role in increasing the rent rate?\n",
    "* Do the number of various features within a house increase its rent rate?\n",
    "* Which has a higher impact on the rent price: location or features?"
   ]
  },
  {
   "cell_type": "code",
   "execution_count": 8,
   "metadata": {},
   "outputs": [
    {
     "data": {
      "text/plain": [
       "(array([' الرياض', ' الرياض', ' الرياض', ..., ' الخبر', ' الخبر', ' الخبر'],\n",
       "       dtype=object),\n",
       " array(['   حي العارض ', '   حي القادسية ', '   حي القادسية ', ...,\n",
       "        '   حي اللؤلؤ ', '   حي الكورنيش ', '   حي الامواج '], dtype=object),\n",
       " array(['شمال', 'جنوب', 'جنوب', ..., 'غرب', 'جنوب', 'غرب'], dtype=object))"
      ]
     },
     "execution_count": 8,
     "metadata": {},
     "output_type": "execute_result"
    }
   ],
   "source": [
    "data[\"city\"].values, data[\"district\"].values, data[\"front\"].values"
   ]
  },
  {
   "cell_type": "code",
   "execution_count": 9,
   "metadata": {},
   "outputs": [
    {
     "name": "stdout",
     "output_type": "stream",
     "text": [
      "Number of observations with (الرياض ): 960\n",
      "Number of observations with ( حي العليا): 80\n",
      "Number of observations with (غرب): 771\n"
     ]
    }
   ],
   "source": [
    "# this works because we added the space in the words\n",
    "\n",
    "# city\n",
    "print(f'Number of observations with (الرياض ): {len(data[data[\"city\"] == \" الرياض\"])}')\n",
    "# district\n",
    "print(f'Number of observations with ( حي العليا): {len(data[data[\"district\"] == \"   حي العليا \"])}')\n",
    "# front\n",
    "print(f'Number of observations with (غرب): {len(data[data[\"front\"] == \"غرب\"])}')\n"
   ]
  },
  {
   "cell_type": "code",
   "execution_count": 10,
   "metadata": {},
   "outputs": [
    {
     "name": "stdout",
     "output_type": "stream",
     "text": [
      "Number of observations with (الرياض): 0\n",
      "Number of observations with (حي العليا): 0\n",
      "Number of observations with (غرب): 771\n"
     ]
    }
   ],
   "source": [
    "# but this doesnt work for some because we didnt add the space\n",
    "\n",
    "# city\n",
    "print(f'Number of observations with (الرياض): {len(data[data[\"city\"] == \"الرياض\"])}')\n",
    "# district\n",
    "\n",
    "print(f'Number of observations with (حي العليا): {len(data[data[\"district\"] == \"حي العليا\"])}')\n",
    "# front\n",
    "print(f'Number of observations with (غرب): {len(data[data[\"front\"] == \"غرب\"])}')"
   ]
  },
  {
   "cell_type": "code",
   "execution_count": 11,
   "metadata": {},
   "outputs": [],
   "source": [
    "# fix the space surrounding the words\n",
    "nonnumeric_columns = [\"city\", \"district\", \"front\"]\n",
    "\n",
    "for column in nonnumeric_columns:\n",
    "    data[column] = data[column].apply(lambda x: x.strip())"
   ]
  },
  {
   "cell_type": "code",
   "execution_count": 12,
   "metadata": {},
   "outputs": [
    {
     "name": "stdout",
     "output_type": "stream",
     "text": [
      "Number of observations with (الرياض): 960\n",
      "Number of observations with (حي العليا): 80\n",
      "Number of observations with (غرب): 771\n"
     ]
    }
   ],
   "source": [
    "# check if stripping the space worked\n",
    "\n",
    "# city\n",
    "print(f'Number of observations with (الرياض): {len(data[data[\"city\"] == \"الرياض\"])}')\n",
    "# district\n",
    "print(f'Number of observations with (حي العليا): {len(data[data[\"district\"] == \"حي العليا\"])}')\n",
    "# front\n",
    "print(f'Number of observations with (غرب): {len(data[data[\"front\"] == \"غرب\"])}')"
   ]
  },
  {
   "cell_type": "markdown",
   "metadata": {},
   "source": [
    "Great now we continue with exploring the data, lets study the effect a city has on its rent prices"
   ]
  },
  {
   "cell_type": "code",
   "execution_count": 13,
   "metadata": {},
   "outputs": [],
   "source": [
    "# make a function to plot arabic labels\n",
    "def plot_arabic(labelsSeries: pd.Series):\n",
    "    \"\"\"\n",
    "    A function that plots arabic literals in their required format instead of just floating letters\n",
    "    \\nArgs:\n",
    "     - labelsSeries: a series of arabic labels \n",
    "    \\nReturns:\n",
    "     - result: a list of properly formatted arabic labels\n",
    "    \"\"\"\n",
    "\n",
    "    # apply the reshaping method\n",
    "    arabicLabels = labelsSeries.apply(arabic_reshaper.reshape)\n",
    "\n",
    "    # initiate the formatting process\n",
    "    result = []\n",
    "    for label in arabicLabels:\n",
    "        result.append(get_display(label))\n",
    "    \n",
    "    # return the formatted labels as a list if there are more than one value\n",
    "    if len(result) == 1:\n",
    "        return result[0]\n",
    "    else:\n",
    "        return result"
   ]
  },
  {
   "cell_type": "code",
   "execution_count": 14,
   "metadata": {},
   "outputs": [
    {
     "data": {
      "image/png": "[encoded data removed]",
      "text/plain": [
       "<Figure size 360x360 with 1 Axes>"
      ]
     },
     "metadata": {
      "needs_background": "light"
     },
     "output_type": "display_data"
    }
   ],
   "source": [
    "# catplot\n",
    "sns.catplot(y=\"price\", x=plot_arabic(data[\"city\"]), data=data, alpha=0.2)\n",
    "plt.ylabel(plot_arabic(pd.Series(\"الأسعار (ر. س.)\")))\n",
    "plt.xlabel(plot_arabic(pd.Series(\"المدن\")))\n",
    "plt.title(plot_arabic(pd.Series(\"توزيع أسعار الأجار حسب المدينة\")))\n",
    "plt.ticklabel_format(style='plain', axis='y')"
   ]
  },
  {
   "cell_type": "code",
   "execution_count": 15,
   "metadata": {},
   "outputs": [
    {
     "data": {
      "image/png": "[encoded data removed]",
      "text/plain": [
       "<Figure size 360x360 with 1 Axes>"
      ]
     },
     "metadata": {
      "needs_background": "light"
     },
     "output_type": "display_data"
    }
   ],
   "source": [
    "# catplot for prices < 250,000 SR\n",
    "d = data[data[\"price\"] < 250000]\n",
    "sns.catplot(y=\"price\", x=plot_arabic(d[\"city\"]), data=d, alpha=0.2)\n",
    "plt.ylabel(plot_arabic(pd.Series(\"الأسعار (ر. س.)\")))\n",
    "plt.xlabel(plot_arabic(pd.Series(\"المدن\")))\n",
    "plt.title(plot_arabic(pd.Series(\"توزيع أسعار الأجار حسب المدينة\")))\n",
    "plt.ticklabel_format(style='plain', axis='y')"
   ]
  },
  {
   "cell_type": "code",
   "execution_count": 16,
   "metadata": {},
   "outputs": [
    {
     "data": {
      "image/png": "[encoded data removed]",
      "text/plain": [
       "<Figure size 432x288 with 1 Axes>"
      ]
     },
     "metadata": {
      "needs_background": "light"
     },
     "output_type": "display_data"
    }
   ],
   "source": [
    "# scatter plt\n",
    "plt.title(plot_arabic(pd.Series(\"متوسط أسعار الأجار حسب المدينة\")))\n",
    "sns.barplot(y = \"price\", x=plot_arabic(data[\"city\"]), data=data)\n",
    "plt.ylabel(plot_arabic(pd.Series(\"الأسعار\")))\n",
    "plt.xlabel(plot_arabic(pd.Series(\"المدن\")));\n"
   ]
  },
  {
   "cell_type": "code",
   "execution_count": null,
   "metadata": {},
   "outputs": [],
   "source": []
  },
  {
   "cell_type": "markdown",
   "metadata": {},
   "source": [
    "Mohammed"
   ]
  },
  {
   "cell_type": "code",
   "execution_count": 17,
   "metadata": {},
   "outputs": [],
   "source": [
    "# handeling spacial data\n",
    "import geopandas as gpd\n",
    "import geopy\n",
    "from geopy.geocoders import Nominatim\n",
    "from geopy.extra.rate_limiter import RateLimiter\n",
    "import folium\n",
    "from folium.plugins import FastMarkerCluster"
   ]
  },
  {
   "cell_type": "code",
   "execution_count": 18,
   "metadata": {},
   "outputs": [],
   "source": [
    "data_mohammed = pd.read_csv(\"SA_Aqar.csv\", encoding=\"UTF-8\")\n",
    "\n",
    "categorical = ['city', 'front', 'kitchen', 'garage',  'driver_room', 'maid_room',  'furnished',   \n",
    "'ac', 'roof', 'pool', 'frontyard',  'basement', 'duplex',  'stairs',  'elevator', 'fireplace']"
   ]
  },
  {
   "cell_type": "code",
   "execution_count": 19,
   "metadata": {},
   "outputs": [],
   "source": [
    "# strip the string attributes from white space\n",
    "data_mohammed[\"city\"] = data_mohammed[\"city\"].apply(lambda city: city.strip())\n",
    "data_mohammed[\"district\"] = data_mohammed[\"district\"].apply(lambda city: city.strip())\n",
    "data_mohammed[\"front\"] = data_mohammed[\"front\"].apply(lambda city: city.strip())"
   ]
  },
  {
   "cell_type": "code",
   "execution_count": 20,
   "metadata": {},
   "outputs": [
    {
     "data": {
      "image/png": "[encoded data removed]",
      "text/plain": [
       "<Figure size 432x288 with 1 Axes>"
      ]
     },
     "metadata": {
      "needs_background": "light"
     },
     "output_type": "display_data"
    }
   ],
   "source": [
    "# scatter plt\n",
    "plt.title(plot_arabic(pd.Series(\"الأسعار حسب المدينة\")))\n",
    "sns.boxplot(y = \"price\", x=plot_arabic(data_mohammed[\"city\"]), data=data_mohammed)\n",
    "plt.ylabel(plot_arabic(pd.Series(\"الأسعار\")))\n",
    "plt.xlabel(plot_arabic(pd.Series(\"المدن\")))\n",
    "plt.ylim(top=0.5e6)\n",
    "plt.show();"
   ]
  },
  {
   "cell_type": "code",
   "execution_count": 21,
   "metadata": {},
   "outputs": [
    {
     "data": {
      "text/html": [
       "<div>\n",
       "<style scoped>\n",
       "    .dataframe tbody tr th:only-of-type {\n",
       "        vertical-align: middle;\n",
       "    }\n",
       "\n",
       "    .dataframe tbody tr th {\n",
       "        vertical-align: top;\n",
       "    }\n",
       "\n",
       "    .dataframe thead th {\n",
       "        text-align: right;\n",
       "    }\n",
       "</style>\n",
       "<table border=\"1\" class=\"dataframe\">\n",
       "  <thead>\n",
       "    <tr style=\"text-align: right;\">\n",
       "      <th></th>\n",
       "      <th>avg_price</th>\n",
       "      <th>prop_to_max</th>\n",
       "    </tr>\n",
       "    <tr>\n",
       "      <th>city</th>\n",
       "      <th></th>\n",
       "      <th></th>\n",
       "    </tr>\n",
       "  </thead>\n",
       "  <tbody>\n",
       "    <tr>\n",
       "      <th>الدمام</th>\n",
       "      <td>63282.438479</td>\n",
       "      <td>0.560608</td>\n",
       "    </tr>\n",
       "    <tr>\n",
       "      <th>الخبر</th>\n",
       "      <td>79482.530738</td>\n",
       "      <td>0.704121</td>\n",
       "    </tr>\n",
       "    <tr>\n",
       "      <th>الرياض</th>\n",
       "      <td>94291.596875</td>\n",
       "      <td>0.835312</td>\n",
       "    </tr>\n",
       "    <tr>\n",
       "      <th>جدة</th>\n",
       "      <td>112881.875000</td>\n",
       "      <td>1.000000</td>\n",
       "    </tr>\n",
       "  </tbody>\n",
       "</table>\n",
       "</div>"
      ],
      "text/plain": [
       "            avg_price  prop_to_max\n",
       "city                              \n",
       "الدمام   63282.438479     0.560608\n",
       "الخبر    79482.530738     0.704121\n",
       "الرياض   94291.596875     0.835312\n",
       "جدة     112881.875000     1.000000"
      ]
     },
     "execution_count": 21,
     "metadata": {},
     "output_type": "execute_result"
    }
   ],
   "source": [
    "# create a dataframe to understand the average price in different cities\n",
    "avg_city = data_mohammed.groupby([\"city\"])[\"price\"].mean().sort_values().to_numpy()\n",
    "\n",
    "prop_city = (avg_city / avg_city.max())\n",
    "cities_by_price = data.groupby([\"city\"])[\"price\"].mean().sort_values().index\n",
    "\n",
    "df_mohammed = pd.DataFrame({\"avg_price\": avg_city, \"prop_to_max\": prop_city}, index=cities_by_price)\n",
    "df_mohammed"
   ]
  },
  {
   "cell_type": "code",
   "execution_count": 22,
   "metadata": {},
   "outputs": [
    {
     "data": {
      "text/plain": [
       "(-83950.0, 300000.0)"
      ]
     },
     "execution_count": 22,
     "metadata": {},
     "output_type": "execute_result"
    },
    {
     "data": {
      "image/png": "[encoded data removed]",
      "text/plain": [
       "<Figure size 432x288 with 1 Axes>"
      ]
     },
     "metadata": {
      "needs_background": "light"
     },
     "output_type": "display_data"
    }
   ],
   "source": [
    "# this plot leads me to question the quality of the data \n",
    "# in the attribute \"livingrooms\" \n",
    "\n",
    "sns.boxplot(data=data_mohammed,x=\"livingrooms\",y=\"price\")\n",
    "plt.title(plot_arabic(pd.Series(\"تأثير غرف المعيشة على السعر\")))\n",
    "plt.xlabel(plot_arabic(pd.Series(\"عدد غرف المعيشة\")))\n",
    "plt.ylabel(plot_arabic(pd.Series(\"متوسط السعر\")))\n",
    "plt.ylim(top=0.3e6)\n",
    "# plt.\n",
    "# plt.show()"
   ]
  },
  {
   "cell_type": "code",
   "execution_count": 23,
   "metadata": {},
   "outputs": [],
   "source": [
    "numerical = ['size', 'property_age', 'bedrooms', 'bathrooms', 'livingrooms', 'price']\n",
    "num_data = data_mohammed[numerical]\n",
    "\n",
    "num_mean = num_data.mean()\n",
    "num_median = num_data.median()\n",
    "num_mode = num_data.mode()\n",
    "num_std = num_data.std()"
   ]
  },
  {
   "cell_type": "code",
   "execution_count": 24,
   "metadata": {},
   "outputs": [
    {
     "ename": "NameError",
     "evalue": "name 'summary_statistics' is not defined",
     "output_type": "error",
     "traceback": [
      "\u001b[0;31m---------------------------------------------------------------------------\u001b[0m",
      "\u001b[0;31mNameError\u001b[0m                                 Traceback (most recent call last)",
      "\u001b[0;32m<ipython-input-24-8d31d5379b57>\u001b[0m in \u001b[0;36m<module>\u001b[0;34m\u001b[0m\n\u001b[0;32m----> 1\u001b[0;31m \u001b[0msummary_statistics\u001b[0m\u001b[0;34m\u001b[0m\u001b[0;34m\u001b[0m\u001b[0m\n\u001b[0m",
      "\u001b[0;31mNameError\u001b[0m: name 'summary_statistics' is not defined"
     ]
    }
   ],
   "source": [
    "summary_statistics"
   ]
  },
  {
   "cell_type": "code",
   "execution_count": null,
   "metadata": {},
   "outputs": [
    {
     "ename": "",
     "evalue": "",
     "output_type": "error",
     "traceback": [
      "\u001b[1;31mRunning cells with 'Python 3.7.9 64-bit' requires ipykernel package.\n",
      "Run the following command to install 'ipykernel' into the Python environment. \n",
      "Command: '/usr/local/bin/python3 -m pip install ipykernel -U --user --force-reinstall'"
     ]
    }
   ],
   "source": [
    "# # using the geopy and geopandas packages to process the 'district'\n",
    "# # column and produce latitude and longitude columns. \n",
    "\n",
    "# # 0 - create a locator instance\n",
    "# locator = Nominatim(user_agent=\"myGeocoder\")\n",
    "# # 1 - conveneint function to delay between geocoding calls\n",
    "# geocode = RateLimiter(locator.geocode, min_delay_seconds=0.1)\n",
    "# # 2- - create location column\n",
    "# data_mohammed['location'] = data_mohammed['district'].apply(geocode)\n",
    "# # 3 - create longitude, laatitude and altitude from location column (returns tuple)\n",
    "# data_mohammed['point'] = data_mohammed['location'].apply(lambda loc: tuple(loc.point) if loc else None)\n",
    "# # 4 - split point column into latitude, longitude and altitude columns\n",
    "# data_mohammed[['latitude', 'longitude', 'altitude']] = pd.DataFrame(data_mohammed['point'].tolist(), index=data_mohammed.index)\n",
    "\n",
    "# # running the above lines takes about an hour to finish. To save your time, you can find \n",
    "# # the resulting columns appended to the original dataframe at \"SA_Aqar_Added_Attributes.csv\""
   ]
  },
  {
   "cell_type": "code",
   "execution_count": null,
   "metadata": {},
   "outputs": [
    {
     "ename": "",
     "evalue": "",
     "output_type": "error",
     "traceback": [
      "\u001b[1;31mRunning cells with 'Python 3.7.9 64-bit' requires ipykernel package.\n",
      "Run the following command to install 'ipykernel' into the Python environment. \n",
      "Command: '/usr/local/bin/python3 -m pip install ipykernel -U --user --force-reinstall'"
     ]
    }
   ],
   "source": [
    "def convert_coord(latitude: pd.Series, longitude: pd.Series, cities: pd.Series):\n",
    "    \"\"\" given a latitude and longitude and cities, returns a single \n",
    "        attribute that encodes which part of the city a (latitude, longitude) \n",
    "        pair belongs to (e.g., north_east)\"\"\"\n",
    "\n",
    "    middles = middle_of_cities(latitude, longitude, cities)\n",
    "    part_of_city = assign_location(latitude, longitude, cities, middles)\n",
    "\n",
    "    return part_of_city\n",
    "\n",
    "\n",
    "\n",
    "\n",
    "# returns a series containing four tuples where each tuple is (latitude, longitude) \n",
    "# of the middle of one of the cities in the order (Riyadh, Jeddah, Damam, Khobar)\n",
    "\n",
    "# the \"middle of the city\" is the median\n",
    "\n",
    "def middle_of_cities(latitude: pd.Series, longitude: pd.Series, cities: pd.Series):\n",
    "    \"\"\"returns a dictionary containing four tuples where each tuple is \n",
    "        (latitude, longitude) of the middle of one of the cities \"\"\"\n",
    "\n",
    "    #store the produced middle values \n",
    "    middles = {}\n",
    "\n",
    "    for city in cities.unique():\n",
    "        indicies = cities == city\n",
    "        relevent_city = cities.loc[indicies]\n",
    "        relevent_latitude = latitude.loc[indicies]\n",
    "        relevent_longitude = longitude.loc[indicies]\n",
    "\n",
    "        # consider taking the trimmed median instead\n",
    "        middle_latitude = relevent_latitude.median()\n",
    "        middle_longitude = relevent_longitude.median()\n",
    "\n",
    "        middles[city] = (middle_latitude, middle_longitude)\n",
    "\n",
    "    return middles\n",
    "\n",
    "\n",
    "#\n",
    "def assign_location(latitude: pd.Series, longitude: pd.Series, cities: pd.Series, middle_of_cities: dict):\n",
    "    \"\"\" creates a series of the same length as the original dataframe assigning each instance one of\n",
    "        north_east, north_west, south_east, south_west depending on where the latitude and longitude lie\n",
    "        relative to the relevent middle of city\"\"\"\n",
    "\n",
    "    location_4 = []\n",
    "   \n",
    "    for i in range(len(latitude)):\n",
    "        if latitude[i] is None:\n",
    "            location_4.append(None)\n",
    "            continue\n",
    "\n",
    "        relevent_city_middle = middle_of_cities[cities[i]]\n",
    "\n",
    "        if latitude[i] > relevent_city_middle[0]:\n",
    "            # north\n",
    "            if longitude[i] > relevent_city_middle[1]:\n",
    "                # east\n",
    "                location_4.append(\"شمال شرق\")\n",
    "            else:\n",
    "                location_4.append(\"شمال غرب\")\n",
    "        else:\n",
    "            # south\n",
    "            if longitude[i] > relevent_city_middle[1]:\n",
    "                # east\n",
    "                location_4.append(\"جنوب شرق\")\n",
    "            else:\n",
    "                location_4.append(\"جنوب غرب\")\n",
    "\n",
    "    return pd.Series(location_4)\n"
   ]
  },
  {
   "cell_type": "code",
   "execution_count": null,
   "metadata": {},
   "outputs": [
    {
     "ename": "",
     "evalue": "",
     "output_type": "error",
     "traceback": [
      "\u001b[1;31mRunning cells with 'Python 3.7.9 64-bit' requires ipykernel package.\n",
      "Run the following command to install 'ipykernel' into the Python environment. \n",
      "Command: '/usr/local/bin/python3 -m pip install ipykernel -U --user --force-reinstall'"
     ]
    }
   ],
   "source": [
    "# running the above functions and creating a new attribute\n",
    "# data_mohammed['part_of_city'] = convert_coord(data_mohammed.latitude, data_mohammed.longitude, data_mohammed.city)"
   ]
  },
  {
   "cell_type": "code",
   "execution_count": null,
   "metadata": {},
   "outputs": [
    {
     "ename": "",
     "evalue": "",
     "output_type": "error",
     "traceback": [
      "\u001b[1;31mRunning cells with 'Python 3.7.9 64-bit' requires ipykernel package.\n",
      "Run the following command to install 'ipykernel' into the Python environment. \n",
      "Command: '/usr/local/bin/python3 -m pip install ipykernel -U --user --force-reinstall'"
     ]
    }
   ],
   "source": [
    "data_mohammed = pd.read_csv(\"SA_Aqar_Added_Attributes.csv\")"
   ]
  },
  {
   "cell_type": "code",
   "execution_count": null,
   "metadata": {},
   "outputs": [
    {
     "ename": "",
     "evalue": "",
     "output_type": "error",
     "traceback": [
      "\u001b[1;31mRunning cells with 'Python 3.7.9 64-bit' requires ipykernel package.\n",
      "Run the following command to install 'ipykernel' into the Python environment. \n",
      "Command: '/usr/local/bin/python3 -m pip install ipykernel -U --user --force-reinstall'"
     ]
    }
   ],
   "source": [
    "grouped_city = data_mohammed.groupby('city')\n",
    "# grouped_city.get_group('الرياض')\n",
    "# grouped_city.get_group('الخبر')\n",
    "# grouped_city.get_group('الدمام')\n",
    "# grouped_city.get_group('جدة')\n",
    "parts_order = pd.Series(['شمال شرق', 'شمال غرب', 'جنوب شرق', 'جنوب غرب'])\n",
    "\n",
    "fig, ((ax1,ax2), (ax3,ax4)) = plt.subplots(2,2, figsize=(10,6))\n",
    "\n",
    "\n",
    "\n",
    "sns.barplot(ax=ax1, data=grouped_city.get_group('الرياض'), x=plot_arabic(grouped_city.get_group('الرياض')['part_of_city']), \n",
    "  y=grouped_city.get_group('الرياض')['price'], order=plot_arabic(parts_order))\n",
    "ax1.set_title(\"Riyadh\")\n",
    "\n",
    "sns.barplot(ax=ax2, data=grouped_city.get_group('الخبر'), x=plot_arabic(grouped_city.get_group('الخبر')['part_of_city']), \n",
    "    y=grouped_city.get_group('الخبر')['price'], order=plot_arabic(parts_order))\n",
    "ax2.set_title('Khubar')\n",
    "\n",
    "sns.barplot(ax=ax3, data=grouped_city.get_group('الدمام'), x=plot_arabic(grouped_city.get_group('الدمام')['part_of_city']), \n",
    "  y=grouped_city.get_group('الدمام')['price'], order=plot_arabic(parts_order))\n",
    "ax3.set_title('Dammam')\n",
    "\n",
    "sns.barplot(ax=ax4, data=grouped_city.get_group('جدة'), x=plot_arabic(grouped_city.get_group('جدة')['part_of_city']), \n",
    "  y=grouped_city.get_group('جدة')['price'], order=plot_arabic(parts_order))\n",
    "ax4.set_title('Jeddah')\n",
    "\n"
   ]
  },
  {
   "cell_type": "code",
   "execution_count": null,
   "metadata": {},
   "outputs": [
    {
     "ename": "",
     "evalue": "",
     "output_type": "error",
     "traceback": [
      "\u001b[1;31mRunning cells with 'Python 3.7.9 64-bit' requires ipykernel package.\n",
      "Run the following command to install 'ipykernel' into the Python environment. \n",
      "Command: '/usr/local/bin/python3 -m pip install ipykernel -U --user --force-reinstall'"
     ]
    }
   ],
   "source": [
    "avg_size_part_of_city = pd.DataFrame()"
   ]
  },
  {
   "cell_type": "markdown",
   "metadata": {},
   "source": [
    "Yousef"
   ]
  },
  {
   "cell_type": "code",
   "execution_count": 124,
   "metadata": {},
   "outputs": [],
   "source": [
    "d_yousef = data[data['size'] < 80000]"
   ]
  },
  {
   "cell_type": "code",
   "execution_count": 125,
   "metadata": {},
   "outputs": [
    {
     "data": {
      "text/html": [
       "<div>\n",
       "<style scoped>\n",
       "    .dataframe tbody tr th:only-of-type {\n",
       "        vertical-align: middle;\n",
       "    }\n",
       "\n",
       "    .dataframe tbody tr th {\n",
       "        vertical-align: top;\n",
       "    }\n",
       "\n",
       "    .dataframe thead th {\n",
       "        text-align: right;\n",
       "    }\n",
       "</style>\n",
       "<table border=\"1\" class=\"dataframe\">\n",
       "  <thead>\n",
       "    <tr style=\"text-align: right;\">\n",
       "      <th></th>\n",
       "      <th>price</th>\n",
       "    </tr>\n",
       "    <tr>\n",
       "      <th>city</th>\n",
       "      <th></th>\n",
       "    </tr>\n",
       "  </thead>\n",
       "  <tbody>\n",
       "    <tr>\n",
       "      <th>الدمام</th>\n",
       "      <td>63282.438479</td>\n",
       "    </tr>\n",
       "    <tr>\n",
       "      <th>الخبر</th>\n",
       "      <td>79482.530738</td>\n",
       "    </tr>\n",
       "    <tr>\n",
       "      <th>الرياض</th>\n",
       "      <td>94291.596875</td>\n",
       "    </tr>\n",
       "    <tr>\n",
       "      <th>جدة</th>\n",
       "      <td>112902.034949</td>\n",
       "    </tr>\n",
       "  </tbody>\n",
       "</table>\n",
       "</div>"
      ],
      "text/plain": [
       "                price\n",
       "city                 \n",
       "الدمام   63282.438479\n",
       "الخبر    79482.530738\n",
       "الرياض   94291.596875\n",
       "جدة     112902.034949"
      ]
     },
     "execution_count": 125,
     "metadata": {},
     "output_type": "execute_result"
    }
   ],
   "source": [
    "d_yousef.groupby(data['city'])['price'].mean().sort_values().to_frame()\n",
    "# why is jeddah and riyadh the highest ?"
   ]
  },
  {
   "cell_type": "code",
   "execution_count": 126,
   "metadata": {},
   "outputs": [
    {
     "data": {
      "text/plain": [
       "<matplotlib.legend.Legend at 0x7fb55ac0fbb0>"
      ]
     },
     "execution_count": 126,
     "metadata": {},
     "output_type": "execute_result"
    },
    {
     "data": {
      "image/png": "[encoded data removed]",
      "text/plain": [
       "<Figure size 640x480 with 2 Axes>"
      ]
     },
     "metadata": {},
     "output_type": "display_data"
    }
   ],
   "source": [
    "city_avg = d_yousef.groupby(plot_arabic(d_yousef['city'])).mean().sort_values('price', ascending = False)\n",
    "\n",
    "# Line Chart using matplotlib & twinx method for y-axis for each line.\n",
    "\n",
    "ax1 = plt.subplot()\n",
    "l1, = ax1.plot(city_avg['price'], color='red')\n",
    "plt.ylabel(plot_arabic(pd.Series(\"السعر\")))\n",
    "ax2 = ax1.twinx()\n",
    "l2, = ax2.plot(city_avg['size'], color='orange')\n",
    "\n",
    "plt.ylabel(plot_arabic(pd.Series(\"المساحة\")))\n",
    "plt.legend([l1, l2], plot_arabic(pd.Series([\"السعر\", \"المساحة\"])))"
   ]
  },
  {
   "cell_type": "markdown",
   "metadata": {},
   "source": [
    "<p>An explanation for Jeddah and Riyadh being the highest avg prices is that that they have a high avg of house size, but we need to dig in more and find out what other reason can be behind this.\n",
    "<p>"
   ]
  },
  {
   "cell_type": "code",
   "execution_count": 127,
   "metadata": {},
   "outputs": [],
   "source": [
    "s = d_yousef.district.value_counts()\n",
    "repeated = set(s[s > 30].index.values)\n",
    "d_district = d_yousef[d_yousef.district.isin(repeated)]\n"
   ]
  },
  {
   "cell_type": "code",
   "execution_count": 128,
   "metadata": {},
   "outputs": [
    {
     "data": {
      "image/png": "[encoded data removed]",
      "text/plain": [
       "<Figure size 1000x1000 with 4 Axes>"
      ]
     },
     "metadata": {},
     "output_type": "display_data"
    }
   ],
   "source": [
    "avg_size_dist = d_district.groupby(['city', 'district'])[['size', 'price']].mean().reset_index().sort_values('price')\n",
    "riyadh = avg_size_dist.query(\"city == 'الرياض' & size < 600\")\n",
    "jeddah = avg_size_dist.query(\"city == 'جدة' & price < 160000 & size < 600\")\n",
    "\n",
    "plt.figure(figsize=(10,10))\n",
    "\n",
    "# RIYADH\n",
    "x = np.arange(len(riyadh))\n",
    "ax1 = plt.subplot(2,2,1)\n",
    "w = 0.3\n",
    "plt.title(plot_arabic(pd.Series('الرياض')))\n",
    "plt.xticks(x + w /2, plot_arabic(riyadh['district']), rotation='60')\n",
    "P =ax1.bar(x, riyadh['price'], width=w, color='r', align='center')\n",
    "plt.ylabel(plot_arabic(pd.Series(\"السعر\")))\n",
    "ax2 = ax1.twinx()\n",
    "S =ax2.bar(x + w, riyadh['size'], width=w,color='y',align='center')\n",
    "\n",
    "plt.legend([P, S], plot_arabic(pd.Series(['متوسط السعر', 'متوسط المساحة'])))\n",
    "\n",
    "\n",
    "# JEDDAH\n",
    "x = np.arange(len(jeddah))\n",
    "ax1 = plt.subplot(2,2,2)\n",
    "w = 0.3\n",
    "plt.title(plot_arabic(pd.Series('جدة')))\n",
    "plt.xticks(x + w /2, plot_arabic(jeddah['district']), rotation='60')\n",
    "P =ax1.bar(x, jeddah['price'], width=w, color='r', align='center')\n",
    "\n",
    "ax2 = ax1.twinx()\n",
    "S =ax2.bar(x + w, jeddah['size'], width=w,color='y',align='center')\n",
    "plt.ylabel(plot_arabic(pd.Series(\"المساحة\")))\n",
    "plt.legend([P, S], plot_arabic(pd.Series(['متوسط السعر', 'متوسط المساحة'])))\n",
    "\n",
    "plt.tight_layout()\n",
    "plt.show()"
   ]
  },
  {
   "cell_type": "markdown",
   "metadata": {},
   "source": [
    "<P>It's fair too say that Riyadh districts tend to have high avg house sizes compared to it's price, as for Jeddah districts with high avg house sizes have a high avg price<P>"
   ]
  },
  {
   "cell_type": "code",
   "execution_count": 103,
   "metadata": {},
   "outputs": [
    {
     "data": {
      "text/html": [
       "<div>\n",
       "<style scoped>\n",
       "    .dataframe tbody tr th:only-of-type {\n",
       "        vertical-align: middle;\n",
       "    }\n",
       "\n",
       "    .dataframe tbody tr th {\n",
       "        vertical-align: top;\n",
       "    }\n",
       "\n",
       "    .dataframe thead th {\n",
       "        text-align: right;\n",
       "    }\n",
       "</style>\n",
       "<table border=\"1\" class=\"dataframe\">\n",
       "  <thead>\n",
       "    <tr style=\"text-align: right;\">\n",
       "      <th></th>\n",
       "      <th>city</th>\n",
       "      <th>district</th>\n",
       "      <th>price</th>\n",
       "    </tr>\n",
       "  </thead>\n",
       "  <tbody>\n",
       "    <tr>\n",
       "      <th>0</th>\n",
       "      <td>جدة</td>\n",
       "      <td>حي الزهراء</td>\n",
       "      <td>160714.285714</td>\n",
       "    </tr>\n",
       "    <tr>\n",
       "      <th>1</th>\n",
       "      <td>الخبر</td>\n",
       "      <td>حي الحزام الاخضر</td>\n",
       "      <td>160000.000000</td>\n",
       "    </tr>\n",
       "    <tr>\n",
       "      <th>2</th>\n",
       "      <td>جدة</td>\n",
       "      <td>حي الشاطئ</td>\n",
       "      <td>140761.904762</td>\n",
       "    </tr>\n",
       "    <tr>\n",
       "      <th>3</th>\n",
       "      <td>الدمام</td>\n",
       "      <td>حي المنتزه</td>\n",
       "      <td>140000.000000</td>\n",
       "    </tr>\n",
       "    <tr>\n",
       "      <th>4</th>\n",
       "      <td>جدة</td>\n",
       "      <td>حي الحمراء</td>\n",
       "      <td>128333.333333</td>\n",
       "    </tr>\n",
       "    <tr>\n",
       "      <th>5</th>\n",
       "      <td>الرياض</td>\n",
       "      <td>حي المحمدية</td>\n",
       "      <td>125000.000000</td>\n",
       "    </tr>\n",
       "    <tr>\n",
       "      <th>6</th>\n",
       "      <td>الرياض</td>\n",
       "      <td>حي الملقا</td>\n",
       "      <td>123378.378378</td>\n",
       "    </tr>\n",
       "    <tr>\n",
       "      <th>7</th>\n",
       "      <td>الرياض</td>\n",
       "      <td>حي الحمراء</td>\n",
       "      <td>123333.333333</td>\n",
       "    </tr>\n",
       "    <tr>\n",
       "      <th>8</th>\n",
       "      <td>الخبر</td>\n",
       "      <td>حي الكورنيش</td>\n",
       "      <td>120000.000000</td>\n",
       "    </tr>\n",
       "    <tr>\n",
       "      <th>9</th>\n",
       "      <td>جدة</td>\n",
       "      <td>حي الزمرد</td>\n",
       "      <td>117020.512821</td>\n",
       "    </tr>\n",
       "  </tbody>\n",
       "</table>\n",
       "</div>"
      ],
      "text/plain": [
       "     city          district          price\n",
       "0     جدة        حي الزهراء  160714.285714\n",
       "1   الخبر  حي الحزام الاخضر  160000.000000\n",
       "2     جدة         حي الشاطئ  140761.904762\n",
       "3  الدمام        حي المنتزه  140000.000000\n",
       "4     جدة        حي الحمراء  128333.333333\n",
       "5  الرياض       حي المحمدية  125000.000000\n",
       "6  الرياض         حي الملقا  123378.378378\n",
       "7  الرياض        حي الحمراء  123333.333333\n",
       "8   الخبر       حي الكورنيش  120000.000000\n",
       "9     جدة         حي الزمرد  117020.512821"
      ]
     },
     "execution_count": 103,
     "metadata": {},
     "output_type": "execute_result"
    }
   ],
   "source": [
    "\n",
    "d_district.groupby(['city','district'])['price'].mean().sort_values(ascending=False).to_frame().reset_index().head(10)"
   ]
  },
  {
   "cell_type": "markdown",
   "metadata": {},
   "source": [
    "Turki"
   ]
  },
  {
   "cell_type": "code",
   "execution_count": null,
   "metadata": {},
   "outputs": [
    {
     "ename": "",
     "evalue": "",
     "output_type": "error",
     "traceback": [
      "\u001b[1;31mRunning cells with 'Python 3.7.9 64-bit' requires ipykernel package.\n",
      "Run the following command to install 'ipykernel' into the Python environment. \n",
      "Command: '/usr/local/bin/python3 -m pip install ipykernel -U --user --force-reinstall'"
     ]
    }
   ],
   "source": []
  },
  {
   "cell_type": "markdown",
   "metadata": {},
   "source": [
    "Ahmed"
   ]
  },
  {
   "cell_type": "code",
   "execution_count": null,
   "metadata": {},
   "outputs": [
    {
     "ename": "",
     "evalue": "",
     "output_type": "error",
     "traceback": [
      "\u001b[1;31mRunning cells with 'Python 3.7.9 64-bit' requires ipykernel package.\n",
      "Run the following command to install 'ipykernel' into the Python environment. \n",
      "Command: '/usr/local/bin/python3 -m pip install ipykernel -U --user --force-reinstall'"
     ]
    }
   ],
   "source": [
    "# Question: What is the factor that when present increases the price the most?\n",
    "# Question: Do the number of various features within a house increase its rent rate?\n",
    "# Question: Which has a higher impact on the rent prices: location or features?\n",
    "# What attributes have the greatest covariance with each other?"
   ]
  },
  {
   "cell_type": "code",
   "execution_count": null,
   "metadata": {},
   "outputs": [
    {
     "data": {
      "image/png": "[encoded data removed]",
      "text/plain": [
       "<Figure size 720x504 with 1 Axes>"
      ]
     },
     "metadata": {
      "needs_background": "light"
     },
     "output_type": "display_data"
    },
    {
     "ename": "",
     "evalue": "",
     "output_type": "error",
     "traceback": [
      "\u001b[1;31mRunning cells with 'Python 3.7.9 64-bit' requires ipykernel package.\n",
      "Run the following command to install 'ipykernel' into the Python environment. \n",
      "Command: '/usr/local/bin/python3 -m pip install ipykernel -U --user --force-reinstall'"
     ]
    }
   ],
   "source": [
    "# find the price range in the 4 major cities\n",
    "# create the canva\n",
    "fig, ax = plt.subplots(figsize=(10,7))\n",
    "\n",
    "# plot the data\n",
    "sns.barplot(ax=ax ,y = \"price\", x=plot_arabic(data[\"city\"]), data=data)\n",
    "\n",
    "# configure the plot    \n",
    "ax.set_title(plot_arabic(pd.Series(\"متوسط أسعار الأجار حسب المدينة\")))\n",
    "ax.set_ylabel(plot_arabic(pd.Series(\"الأسعار\")))\n",
    "ax.set_xlabel(plot_arabic(pd.Series(\"المدن\")));"
   ]
  },
  {
   "cell_type": "code",
   "execution_count": null,
   "metadata": {},
   "outputs": [
    {
     "data": {
      "text/plain": [
       "{'city': (4, [' الرياض', ' جدة', ' الدمام', ' الخبر']),\n",
       " 'district': 174,\n",
       " 'front': 10,\n",
       " 'size': 199,\n",
       " 'property_age': 36,\n",
       " 'bedrooms': 7,\n",
       " 'bathrooms': (5, [5, 4, 3, 2, 1]),\n",
       " 'livingrooms': (5, [1, 2, 3, 4, 5]),\n",
       " 'kitchen': (2, [1, 0]),\n",
       " 'garage': (2, [1, 0]),\n",
       " 'driver_room': (2, [0, 1]),\n",
       " 'maid_room': (2, [1, 0]),\n",
       " 'furnished': (2, [0, 1]),\n",
       " 'ac': (2, [0, 1]),\n",
       " 'roof': (2, [0, 1]),\n",
       " 'pool': (2, [0, 1]),\n",
       " 'frontyard': (2, [1, 0]),\n",
       " 'basement': (2, [0, 1]),\n",
       " 'duplex': (2, [1, 0]),\n",
       " 'stairs': (2, [1, 0]),\n",
       " 'elevator': (2, [0, 1]),\n",
       " 'fireplace': (2, [0, 1]),\n",
       " 'price': 113,\n",
       " 'details': 1429}"
      ]
     },
     "execution_count": 96,
     "metadata": {},
     "output_type": "execute_result"
    },
    {
     "ename": "",
     "evalue": "",
     "output_type": "error",
     "traceback": [
      "\u001b[1;31mRunning cells with 'Python 3.7.9 64-bit' requires ipykernel package.\n",
      "Run the following command to install 'ipykernel' into the Python environment. \n",
      "Command: '/usr/local/bin/python3 -m pip install ipykernel -U --user --force-reinstall'"
     ]
    }
   ],
   "source": [
    "data_columns"
   ]
  },
  {
   "cell_type": "code",
   "execution_count": null,
   "metadata": {},
   "outputs": [
    {
     "data": {
      "image/png": "[encoded data removed]",
      "text/plain": [
       "<Figure size 720x504 with 2 Axes>"
      ]
     },
     "metadata": {},
     "output_type": "display_data"
    },
    {
     "ename": "",
     "evalue": "",
     "output_type": "error",
     "traceback": [
      "\u001b[1;31mRunning cells with 'Python 3.7.9 64-bit' requires ipykernel package.\n",
      "Run the following command to install 'ipykernel' into the Python environment. \n",
      "Command: '/usr/local/bin/python3 -m pip install ipykernel -U --user --force-reinstall'"
     ]
    }
   ],
   "source": [
    "corr = data.corr()\n",
    "fig, ax = plt.subplots(figsize=(10,7))\n",
    "sns.heatmap(ax=ax, data= data.corr(), cmap=\"Greens\");\n",
    "for tick in ax.get_yticklabels():\n",
    "    tick.set_color(\"white\")\n",
    "for tick in ax.get_xticklabels():\n",
    "    tick.set_color(\"white\")"
   ]
  },
  {
   "cell_type": "markdown",
   "metadata": {},
   "source": [
    "There is around +0.5 correlation between the number of livingrooms and bathrooms, as long as bedrooms and bathrooms\n",
    "We also see that the features that contribute the most to the price are `driver_room`, `ac`, `pool` and `basement`"
   ]
  },
  {
   "cell_type": "code",
   "execution_count": null,
   "metadata": {},
   "outputs": [
    {
     "data": {
      "image/png": "[encoded data removed]",
      "text/plain": [
       "<Figure size 1080x720 with 4 Axes>"
      ]
     },
     "metadata": {
      "needs_background": "light"
     },
     "output_type": "display_data"
    },
    {
     "ename": "",
     "evalue": "",
     "output_type": "error",
     "traceback": [
      "\u001b[1;31mRunning cells with 'Python 3.7.9 64-bit' requires ipykernel package.\n",
      "Run the following command to install 'ipykernel' into the Python environment. \n",
      "Command: '/usr/local/bin/python3 -m pip install ipykernel -U --user --force-reinstall'"
     ]
    }
   ],
   "source": [
    "# see how great the above 4 feature affect the price\n",
    "# creating the canvas\n",
    "fig, ((ax1,ax2), (ax3,ax4)) = plt.subplots(2,2, figsize=(15,10))\n",
    "\n",
    "# plotting ax1 data: `driver_room`\n",
    "ax1 = sns.barplot(ax=ax1, y=data[\"price\"], x=data[\"driver_room\"] ,data=data)\n",
    "\n",
    "# configure the plot\n",
    "ax1.set_title(\"Effect of Driver's room on price\")\n",
    "ax1.set_xlabel(\"\")\n",
    "labels = [item.get_text() for item in ax1.get_xticklabels()]\n",
    "labels[0] = \"Without Driver Room\"\n",
    "labels[1] = \"With Driver Room\"\n",
    "ax1.set_xticklabels(labels)\n",
    "ax1.set_ylabel(\"Price\")\n",
    "\n",
    "\n",
    "# plotting ax2 data: `ac`\n",
    "ax2 = sns.barplot(ax=ax2, y=data[\"price\"], x=data[\"ac\"] ,data=data)\n",
    "\n",
    "# configure the plot\n",
    "ax2.set_title(\"Effect of AC on price\")\n",
    "ax2.set_xlabel(\"\")\n",
    "labels = [item.get_text() for item in ax2.get_xticklabels()]\n",
    "labels[0] = \"Without AC\"\n",
    "labels[1] = \"With AC\"\n",
    "ax2.set_xticklabels(labels)\n",
    "ax2.set_ylabel(\"Price\")\n",
    "\n",
    "\n",
    "# plotting ax3 data: `pool`\n",
    "ax3 = sns.barplot(ax=ax3, y=data[\"price\"], x=data[\"pool\"] ,data=data)\n",
    "\n",
    "# configure the plot\n",
    "ax3.set_title(\"Effect of Pool on price\")\n",
    "ax3.set_xlabel(\"\")\n",
    "labels = [item.get_text() for item in ax3.get_xticklabels()]\n",
    "labels[0] = \"Without Pool\"\n",
    "labels[1] = \"With Pool\"\n",
    "ax3.set_xticklabels(labels)\n",
    "ax3.set_ylabel(\"Price\")\n",
    "\n",
    "# plotting ax4 data: `basement`\n",
    "ax4 = sns.barplot(ax=ax4,y=data[\"price\"], x=data[\"basement\"] ,data=data)\n",
    "\n",
    "# configure the plot\n",
    "ax4.set_title(\"Effect of Basement on price\")\n",
    "ax4.set_xlabel(\"\")\n",
    "labels = [item.get_text() for item in ax4.get_xticklabels()]\n",
    "labels[0] = \"Without Basement\"\n",
    "labels[1] = \"With Basement\"\n",
    "ax4.set_xticklabels(labels)\n",
    "ax4.set_ylabel(\"Price\");\n",
    "\n"
   ]
  },
  {
   "cell_type": "markdown",
   "metadata": {},
   "source": [
    "Lana"
   ]
  },
  {
   "cell_type": "markdown",
   "metadata": {},
   "source": [
    "what frontage appears the most"
   ]
  },
  {
   "cell_type": "code",
   "execution_count": null,
   "metadata": {},
   "outputs": [
    {
     "ename": "",
     "evalue": "",
     "output_type": "error",
     "traceback": [
      "\u001b[1;31mRunning cells with 'Python 3.7.9 64-bit' requires ipykernel package.\n",
      "Run the following command to install 'ipykernel' into the Python environment. \n",
      "Command: '/usr/local/bin/python3 -m pip install ipykernel -U --user --force-reinstall'"
     ]
    }
   ],
   "source": [
    "plt.subplots(figsize=(10,7))\n",
    "data['front'].value_counts().plot(kind='barh')\n",
    "plt.show()"
   ]
  },
  {
   "cell_type": "markdown",
   "metadata": {},
   "source": [
    "The ratio of bedrooms to bathrooms"
   ]
  },
  {
   "cell_type": "code",
   "execution_count": null,
   "metadata": {},
   "outputs": [
    {
     "ename": "",
     "evalue": "",
     "output_type": "error",
     "traceback": [
      "\u001b[1;31mRunning cells with 'Python 3.7.9 64-bit' requires ipykernel package.\n",
      "Run the following command to install 'ipykernel' into the Python environment. \n",
      "Command: '/usr/local/bin/python3 -m pip install ipykernel -U --user --force-reinstall'"
     ]
    }
   ],
   "source": [
    "ratio = data[['bedrooms', 'bathrooms']].apply(lambda data: (data['bedrooms']/data['bathrooms']), axis=1)\n",
    "ratio = ratio.mean()\n",
    "ratio"
   ]
  },
  {
   "cell_type": "markdown",
   "metadata": {},
   "source": [
    "we invastaged the houses without a kitchen"
   ]
  },
  {
   "cell_type": "code",
   "execution_count": null,
   "metadata": {},
   "outputs": [
    {
     "ename": "",
     "evalue": "",
     "output_type": "error",
     "traceback": [
      "\u001b[1;31mRunning cells with 'Python 3.7.9 64-bit' requires ipykernel package.\n",
      "Run the following command to install 'ipykernel' into the Python environment. \n",
      "Command: '/usr/local/bin/python3 -m pip install ipykernel -U --user --force-reinstall'"
     ]
    }
   ],
   "source": [
    "nokit = data.groupby(['kitchen']).get_group(0)\n",
    "nokit\n",
    "\n",
    "sns.histplot(data=nokit, x=\"bathrooms\", kde=True)"
   ]
  },
  {
   "cell_type": "code",
   "execution_count": null,
   "metadata": {},
   "outputs": [
    {
     "ename": "",
     "evalue": "",
     "output_type": "error",
     "traceback": [
      "\u001b[1;31mRunning cells with 'Python 3.7.9 64-bit' requires ipykernel package.\n",
      "Run the following command to install 'ipykernel' into the Python environment. \n",
      "Command: '/usr/local/bin/python3 -m pip install ipykernel -U --user --force-reinstall'"
     ]
    }
   ],
   "source": [
    "sns.histplot(data=nokit, x=\"bedrooms\", kde=True)"
   ]
  }
 ],
 "metadata": {
  "kernelspec": {
   "display_name": "Python 3.8.8 ('base')",
   "language": "python",
   "name": "python3"
  },
  "language_info": {
   "codemirror_mode": {
    "name": "ipython",
    "version": 3
   },
   "file_extension": ".py",
   "mimetype": "text/x-python",
   "name": "python",
   "nbconvert_exporter": "python",
   "pygments_lexer": "ipython3",
   "version": "3.8.8"
  },
  "orig_nbformat": 4,
  "vscode": {
   "interpreter": {
    "hash": "f377678b927e69392be3d32c4a144c48b4fcf75b53b3b6aab14c8f5b0aeaa57a"
   }
  }
 },
 "nbformat": 4,
 "nbformat_minor": 2
}
